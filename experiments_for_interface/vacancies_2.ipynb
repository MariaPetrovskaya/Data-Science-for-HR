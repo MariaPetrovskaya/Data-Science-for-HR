{
  "nbformat": 4,
  "nbformat_minor": 0,
  "metadata": {
    "colab": {
      "provenance": [],
      "gpuType": "T4"
    },
    "kernelspec": {
      "name": "python3",
      "display_name": "Python 3"
    },
    "language_info": {
      "name": "python"
    },
    "widgets": {
      "application/vnd.jupyter.widget-state+json": {
        "d7f74c93cca248d992b13a10c6bed7e4": {
          "model_module": "@jupyter-widgets/controls",
          "model_name": "HBoxModel",
          "model_module_version": "1.5.0",
          "state": {
            "_dom_classes": [],
            "_model_module": "@jupyter-widgets/controls",
            "_model_module_version": "1.5.0",
            "_model_name": "HBoxModel",
            "_view_count": null,
            "_view_module": "@jupyter-widgets/controls",
            "_view_module_version": "1.5.0",
            "_view_name": "HBoxView",
            "box_style": "",
            "children": [
              "IPY_MODEL_dc2e0a202c55438abb5faf6c352c1b93",
              "IPY_MODEL_8b2e2614c61e44f4a05b915a8b971bdf",
              "IPY_MODEL_49e9c91b61d34ca79df9cac4e5c4597a"
            ],
            "layout": "IPY_MODEL_098db51cd509421d92f4ed74c3af1a90"
          }
        },
        "dc2e0a202c55438abb5faf6c352c1b93": {
          "model_module": "@jupyter-widgets/controls",
          "model_name": "HTMLModel",
          "model_module_version": "1.5.0",
          "state": {
            "_dom_classes": [],
            "_model_module": "@jupyter-widgets/controls",
            "_model_module_version": "1.5.0",
            "_model_name": "HTMLModel",
            "_view_count": null,
            "_view_module": "@jupyter-widgets/controls",
            "_view_module_version": "1.5.0",
            "_view_name": "HTMLView",
            "description": "",
            "description_tooltip": null,
            "layout": "IPY_MODEL_3264d532ff194d09b7d76273e864b3bd",
            "placeholder": "​",
            "style": "IPY_MODEL_1433657df2ed4a92ba0fd9ffd02441e3",
            "value": "tokenizer_config.json: 100%"
          }
        },
        "8b2e2614c61e44f4a05b915a8b971bdf": {
          "model_module": "@jupyter-widgets/controls",
          "model_name": "FloatProgressModel",
          "model_module_version": "1.5.0",
          "state": {
            "_dom_classes": [],
            "_model_module": "@jupyter-widgets/controls",
            "_model_module_version": "1.5.0",
            "_model_name": "FloatProgressModel",
            "_view_count": null,
            "_view_module": "@jupyter-widgets/controls",
            "_view_module_version": "1.5.0",
            "_view_name": "ProgressView",
            "bar_style": "success",
            "description": "",
            "description_tooltip": null,
            "layout": "IPY_MODEL_dfad691e99b04b61954e8b059827fbe4",
            "max": 341,
            "min": 0,
            "orientation": "horizontal",
            "style": "IPY_MODEL_3daca96662c64c4983e265117e1ad284",
            "value": 341
          }
        },
        "49e9c91b61d34ca79df9cac4e5c4597a": {
          "model_module": "@jupyter-widgets/controls",
          "model_name": "HTMLModel",
          "model_module_version": "1.5.0",
          "state": {
            "_dom_classes": [],
            "_model_module": "@jupyter-widgets/controls",
            "_model_module_version": "1.5.0",
            "_model_name": "HTMLModel",
            "_view_count": null,
            "_view_module": "@jupyter-widgets/controls",
            "_view_module_version": "1.5.0",
            "_view_name": "HTMLView",
            "description": "",
            "description_tooltip": null,
            "layout": "IPY_MODEL_13a97aa261ac4d3aa8a753a8ecb673cd",
            "placeholder": "​",
            "style": "IPY_MODEL_5a592dae311a4b4ab26cf25375c782d7",
            "value": " 341/341 [00:00&lt;00:00, 4.33kB/s]"
          }
        },
        "098db51cd509421d92f4ed74c3af1a90": {
          "model_module": "@jupyter-widgets/base",
          "model_name": "LayoutModel",
          "model_module_version": "1.2.0",
          "state": {
            "_model_module": "@jupyter-widgets/base",
            "_model_module_version": "1.2.0",
            "_model_name": "LayoutModel",
            "_view_count": null,
            "_view_module": "@jupyter-widgets/base",
            "_view_module_version": "1.2.0",
            "_view_name": "LayoutView",
            "align_content": null,
            "align_items": null,
            "align_self": null,
            "border": null,
            "bottom": null,
            "display": null,
            "flex": null,
            "flex_flow": null,
            "grid_area": null,
            "grid_auto_columns": null,
            "grid_auto_flow": null,
            "grid_auto_rows": null,
            "grid_column": null,
            "grid_gap": null,
            "grid_row": null,
            "grid_template_areas": null,
            "grid_template_columns": null,
            "grid_template_rows": null,
            "height": null,
            "justify_content": null,
            "justify_items": null,
            "left": null,
            "margin": null,
            "max_height": null,
            "max_width": null,
            "min_height": null,
            "min_width": null,
            "object_fit": null,
            "object_position": null,
            "order": null,
            "overflow": null,
            "overflow_x": null,
            "overflow_y": null,
            "padding": null,
            "right": null,
            "top": null,
            "visibility": null,
            "width": null
          }
        },
        "3264d532ff194d09b7d76273e864b3bd": {
          "model_module": "@jupyter-widgets/base",
          "model_name": "LayoutModel",
          "model_module_version": "1.2.0",
          "state": {
            "_model_module": "@jupyter-widgets/base",
            "_model_module_version": "1.2.0",
            "_model_name": "LayoutModel",
            "_view_count": null,
            "_view_module": "@jupyter-widgets/base",
            "_view_module_version": "1.2.0",
            "_view_name": "LayoutView",
            "align_content": null,
            "align_items": null,
            "align_self": null,
            "border": null,
            "bottom": null,
            "display": null,
            "flex": null,
            "flex_flow": null,
            "grid_area": null,
            "grid_auto_columns": null,
            "grid_auto_flow": null,
            "grid_auto_rows": null,
            "grid_column": null,
            "grid_gap": null,
            "grid_row": null,
            "grid_template_areas": null,
            "grid_template_columns": null,
            "grid_template_rows": null,
            "height": null,
            "justify_content": null,
            "justify_items": null,
            "left": null,
            "margin": null,
            "max_height": null,
            "max_width": null,
            "min_height": null,
            "min_width": null,
            "object_fit": null,
            "object_position": null,
            "order": null,
            "overflow": null,
            "overflow_x": null,
            "overflow_y": null,
            "padding": null,
            "right": null,
            "top": null,
            "visibility": null,
            "width": null
          }
        },
        "1433657df2ed4a92ba0fd9ffd02441e3": {
          "model_module": "@jupyter-widgets/controls",
          "model_name": "DescriptionStyleModel",
          "model_module_version": "1.5.0",
          "state": {
            "_model_module": "@jupyter-widgets/controls",
            "_model_module_version": "1.5.0",
            "_model_name": "DescriptionStyleModel",
            "_view_count": null,
            "_view_module": "@jupyter-widgets/base",
            "_view_module_version": "1.2.0",
            "_view_name": "StyleView",
            "description_width": ""
          }
        },
        "dfad691e99b04b61954e8b059827fbe4": {
          "model_module": "@jupyter-widgets/base",
          "model_name": "LayoutModel",
          "model_module_version": "1.2.0",
          "state": {
            "_model_module": "@jupyter-widgets/base",
            "_model_module_version": "1.2.0",
            "_model_name": "LayoutModel",
            "_view_count": null,
            "_view_module": "@jupyter-widgets/base",
            "_view_module_version": "1.2.0",
            "_view_name": "LayoutView",
            "align_content": null,
            "align_items": null,
            "align_self": null,
            "border": null,
            "bottom": null,
            "display": null,
            "flex": null,
            "flex_flow": null,
            "grid_area": null,
            "grid_auto_columns": null,
            "grid_auto_flow": null,
            "grid_auto_rows": null,
            "grid_column": null,
            "grid_gap": null,
            "grid_row": null,
            "grid_template_areas": null,
            "grid_template_columns": null,
            "grid_template_rows": null,
            "height": null,
            "justify_content": null,
            "justify_items": null,
            "left": null,
            "margin": null,
            "max_height": null,
            "max_width": null,
            "min_height": null,
            "min_width": null,
            "object_fit": null,
            "object_position": null,
            "order": null,
            "overflow": null,
            "overflow_x": null,
            "overflow_y": null,
            "padding": null,
            "right": null,
            "top": null,
            "visibility": null,
            "width": null
          }
        },
        "3daca96662c64c4983e265117e1ad284": {
          "model_module": "@jupyter-widgets/controls",
          "model_name": "ProgressStyleModel",
          "model_module_version": "1.5.0",
          "state": {
            "_model_module": "@jupyter-widgets/controls",
            "_model_module_version": "1.5.0",
            "_model_name": "ProgressStyleModel",
            "_view_count": null,
            "_view_module": "@jupyter-widgets/base",
            "_view_module_version": "1.2.0",
            "_view_name": "StyleView",
            "bar_color": null,
            "description_width": ""
          }
        },
        "13a97aa261ac4d3aa8a753a8ecb673cd": {
          "model_module": "@jupyter-widgets/base",
          "model_name": "LayoutModel",
          "model_module_version": "1.2.0",
          "state": {
            "_model_module": "@jupyter-widgets/base",
            "_model_module_version": "1.2.0",
            "_model_name": "LayoutModel",
            "_view_count": null,
            "_view_module": "@jupyter-widgets/base",
            "_view_module_version": "1.2.0",
            "_view_name": "LayoutView",
            "align_content": null,
            "align_items": null,
            "align_self": null,
            "border": null,
            "bottom": null,
            "display": null,
            "flex": null,
            "flex_flow": null,
            "grid_area": null,
            "grid_auto_columns": null,
            "grid_auto_flow": null,
            "grid_auto_rows": null,
            "grid_column": null,
            "grid_gap": null,
            "grid_row": null,
            "grid_template_areas": null,
            "grid_template_columns": null,
            "grid_template_rows": null,
            "height": null,
            "justify_content": null,
            "justify_items": null,
            "left": null,
            "margin": null,
            "max_height": null,
            "max_width": null,
            "min_height": null,
            "min_width": null,
            "object_fit": null,
            "object_position": null,
            "order": null,
            "overflow": null,
            "overflow_x": null,
            "overflow_y": null,
            "padding": null,
            "right": null,
            "top": null,
            "visibility": null,
            "width": null
          }
        },
        "5a592dae311a4b4ab26cf25375c782d7": {
          "model_module": "@jupyter-widgets/controls",
          "model_name": "DescriptionStyleModel",
          "model_module_version": "1.5.0",
          "state": {
            "_model_module": "@jupyter-widgets/controls",
            "_model_module_version": "1.5.0",
            "_model_name": "DescriptionStyleModel",
            "_view_count": null,
            "_view_module": "@jupyter-widgets/base",
            "_view_module_version": "1.2.0",
            "_view_name": "StyleView",
            "description_width": ""
          }
        },
        "174c634c37874eeebd0cc088d7c702fa": {
          "model_module": "@jupyter-widgets/controls",
          "model_name": "HBoxModel",
          "model_module_version": "1.5.0",
          "state": {
            "_dom_classes": [],
            "_model_module": "@jupyter-widgets/controls",
            "_model_module_version": "1.5.0",
            "_model_name": "HBoxModel",
            "_view_count": null,
            "_view_module": "@jupyter-widgets/controls",
            "_view_module_version": "1.5.0",
            "_view_name": "HBoxView",
            "box_style": "",
            "children": [
              "IPY_MODEL_a38d0ca7cdbf454aa78498ca23671527",
              "IPY_MODEL_82eb3525d240473894309a928936c995",
              "IPY_MODEL_2a95007c75c8482eb8f05319ac836cf6"
            ],
            "layout": "IPY_MODEL_bc1aebaf5e7f41bf807813d8bc3c646a"
          }
        },
        "a38d0ca7cdbf454aa78498ca23671527": {
          "model_module": "@jupyter-widgets/controls",
          "model_name": "HTMLModel",
          "model_module_version": "1.5.0",
          "state": {
            "_dom_classes": [],
            "_model_module": "@jupyter-widgets/controls",
            "_model_module_version": "1.5.0",
            "_model_name": "HTMLModel",
            "_view_count": null,
            "_view_module": "@jupyter-widgets/controls",
            "_view_module_version": "1.5.0",
            "_view_name": "HTMLView",
            "description": "",
            "description_tooltip": null,
            "layout": "IPY_MODEL_20d232aa11dc49c6b7c8a30da568eb84",
            "placeholder": "​",
            "style": "IPY_MODEL_8e9258bbb22d4fbfa38cb0f3a8f2d2b2",
            "value": "config.json: 100%"
          }
        },
        "82eb3525d240473894309a928936c995": {
          "model_module": "@jupyter-widgets/controls",
          "model_name": "FloatProgressModel",
          "model_module_version": "1.5.0",
          "state": {
            "_dom_classes": [],
            "_model_module": "@jupyter-widgets/controls",
            "_model_module_version": "1.5.0",
            "_model_name": "FloatProgressModel",
            "_view_count": null,
            "_view_module": "@jupyter-widgets/controls",
            "_view_module_version": "1.5.0",
            "_view_name": "ProgressView",
            "bar_style": "success",
            "description": "",
            "description_tooltip": null,
            "layout": "IPY_MODEL_869833db9aa244fb8b77731a1c733b67",
            "max": 632,
            "min": 0,
            "orientation": "horizontal",
            "style": "IPY_MODEL_aa4d2ca115cc439eb0c4e944b19befdc",
            "value": 632
          }
        },
        "2a95007c75c8482eb8f05319ac836cf6": {
          "model_module": "@jupyter-widgets/controls",
          "model_name": "HTMLModel",
          "model_module_version": "1.5.0",
          "state": {
            "_dom_classes": [],
            "_model_module": "@jupyter-widgets/controls",
            "_model_module_version": "1.5.0",
            "_model_name": "HTMLModel",
            "_view_count": null,
            "_view_module": "@jupyter-widgets/controls",
            "_view_module_version": "1.5.0",
            "_view_name": "HTMLView",
            "description": "",
            "description_tooltip": null,
            "layout": "IPY_MODEL_f95785fb79d94b4fabf8375e49ebe5fe",
            "placeholder": "​",
            "style": "IPY_MODEL_aff26d7489244213bb71f9a47be903b7",
            "value": " 632/632 [00:00&lt;00:00, 6.70kB/s]"
          }
        },
        "bc1aebaf5e7f41bf807813d8bc3c646a": {
          "model_module": "@jupyter-widgets/base",
          "model_name": "LayoutModel",
          "model_module_version": "1.2.0",
          "state": {
            "_model_module": "@jupyter-widgets/base",
            "_model_module_version": "1.2.0",
            "_model_name": "LayoutModel",
            "_view_count": null,
            "_view_module": "@jupyter-widgets/base",
            "_view_module_version": "1.2.0",
            "_view_name": "LayoutView",
            "align_content": null,
            "align_items": null,
            "align_self": null,
            "border": null,
            "bottom": null,
            "display": null,
            "flex": null,
            "flex_flow": null,
            "grid_area": null,
            "grid_auto_columns": null,
            "grid_auto_flow": null,
            "grid_auto_rows": null,
            "grid_column": null,
            "grid_gap": null,
            "grid_row": null,
            "grid_template_areas": null,
            "grid_template_columns": null,
            "grid_template_rows": null,
            "height": null,
            "justify_content": null,
            "justify_items": null,
            "left": null,
            "margin": null,
            "max_height": null,
            "max_width": null,
            "min_height": null,
            "min_width": null,
            "object_fit": null,
            "object_position": null,
            "order": null,
            "overflow": null,
            "overflow_x": null,
            "overflow_y": null,
            "padding": null,
            "right": null,
            "top": null,
            "visibility": null,
            "width": null
          }
        },
        "20d232aa11dc49c6b7c8a30da568eb84": {
          "model_module": "@jupyter-widgets/base",
          "model_name": "LayoutModel",
          "model_module_version": "1.2.0",
          "state": {
            "_model_module": "@jupyter-widgets/base",
            "_model_module_version": "1.2.0",
            "_model_name": "LayoutModel",
            "_view_count": null,
            "_view_module": "@jupyter-widgets/base",
            "_view_module_version": "1.2.0",
            "_view_name": "LayoutView",
            "align_content": null,
            "align_items": null,
            "align_self": null,
            "border": null,
            "bottom": null,
            "display": null,
            "flex": null,
            "flex_flow": null,
            "grid_area": null,
            "grid_auto_columns": null,
            "grid_auto_flow": null,
            "grid_auto_rows": null,
            "grid_column": null,
            "grid_gap": null,
            "grid_row": null,
            "grid_template_areas": null,
            "grid_template_columns": null,
            "grid_template_rows": null,
            "height": null,
            "justify_content": null,
            "justify_items": null,
            "left": null,
            "margin": null,
            "max_height": null,
            "max_width": null,
            "min_height": null,
            "min_width": null,
            "object_fit": null,
            "object_position": null,
            "order": null,
            "overflow": null,
            "overflow_x": null,
            "overflow_y": null,
            "padding": null,
            "right": null,
            "top": null,
            "visibility": null,
            "width": null
          }
        },
        "8e9258bbb22d4fbfa38cb0f3a8f2d2b2": {
          "model_module": "@jupyter-widgets/controls",
          "model_name": "DescriptionStyleModel",
          "model_module_version": "1.5.0",
          "state": {
            "_model_module": "@jupyter-widgets/controls",
            "_model_module_version": "1.5.0",
            "_model_name": "DescriptionStyleModel",
            "_view_count": null,
            "_view_module": "@jupyter-widgets/base",
            "_view_module_version": "1.2.0",
            "_view_name": "StyleView",
            "description_width": ""
          }
        },
        "869833db9aa244fb8b77731a1c733b67": {
          "model_module": "@jupyter-widgets/base",
          "model_name": "LayoutModel",
          "model_module_version": "1.2.0",
          "state": {
            "_model_module": "@jupyter-widgets/base",
            "_model_module_version": "1.2.0",
            "_model_name": "LayoutModel",
            "_view_count": null,
            "_view_module": "@jupyter-widgets/base",
            "_view_module_version": "1.2.0",
            "_view_name": "LayoutView",
            "align_content": null,
            "align_items": null,
            "align_self": null,
            "border": null,
            "bottom": null,
            "display": null,
            "flex": null,
            "flex_flow": null,
            "grid_area": null,
            "grid_auto_columns": null,
            "grid_auto_flow": null,
            "grid_auto_rows": null,
            "grid_column": null,
            "grid_gap": null,
            "grid_row": null,
            "grid_template_areas": null,
            "grid_template_columns": null,
            "grid_template_rows": null,
            "height": null,
            "justify_content": null,
            "justify_items": null,
            "left": null,
            "margin": null,
            "max_height": null,
            "max_width": null,
            "min_height": null,
            "min_width": null,
            "object_fit": null,
            "object_position": null,
            "order": null,
            "overflow": null,
            "overflow_x": null,
            "overflow_y": null,
            "padding": null,
            "right": null,
            "top": null,
            "visibility": null,
            "width": null
          }
        },
        "aa4d2ca115cc439eb0c4e944b19befdc": {
          "model_module": "@jupyter-widgets/controls",
          "model_name": "ProgressStyleModel",
          "model_module_version": "1.5.0",
          "state": {
            "_model_module": "@jupyter-widgets/controls",
            "_model_module_version": "1.5.0",
            "_model_name": "ProgressStyleModel",
            "_view_count": null,
            "_view_module": "@jupyter-widgets/base",
            "_view_module_version": "1.2.0",
            "_view_name": "StyleView",
            "bar_color": null,
            "description_width": ""
          }
        },
        "f95785fb79d94b4fabf8375e49ebe5fe": {
          "model_module": "@jupyter-widgets/base",
          "model_name": "LayoutModel",
          "model_module_version": "1.2.0",
          "state": {
            "_model_module": "@jupyter-widgets/base",
            "_model_module_version": "1.2.0",
            "_model_name": "LayoutModel",
            "_view_count": null,
            "_view_module": "@jupyter-widgets/base",
            "_view_module_version": "1.2.0",
            "_view_name": "LayoutView",
            "align_content": null,
            "align_items": null,
            "align_self": null,
            "border": null,
            "bottom": null,
            "display": null,
            "flex": null,
            "flex_flow": null,
            "grid_area": null,
            "grid_auto_columns": null,
            "grid_auto_flow": null,
            "grid_auto_rows": null,
            "grid_column": null,
            "grid_gap": null,
            "grid_row": null,
            "grid_template_areas": null,
            "grid_template_columns": null,
            "grid_template_rows": null,
            "height": null,
            "justify_content": null,
            "justify_items": null,
            "left": null,
            "margin": null,
            "max_height": null,
            "max_width": null,
            "min_height": null,
            "min_width": null,
            "object_fit": null,
            "object_position": null,
            "order": null,
            "overflow": null,
            "overflow_x": null,
            "overflow_y": null,
            "padding": null,
            "right": null,
            "top": null,
            "visibility": null,
            "width": null
          }
        },
        "aff26d7489244213bb71f9a47be903b7": {
          "model_module": "@jupyter-widgets/controls",
          "model_name": "DescriptionStyleModel",
          "model_module_version": "1.5.0",
          "state": {
            "_model_module": "@jupyter-widgets/controls",
            "_model_module_version": "1.5.0",
            "_model_name": "DescriptionStyleModel",
            "_view_count": null,
            "_view_module": "@jupyter-widgets/base",
            "_view_module_version": "1.2.0",
            "_view_name": "StyleView",
            "description_width": ""
          }
        },
        "116ef43ae97f45e1b61cbb492254cb72": {
          "model_module": "@jupyter-widgets/controls",
          "model_name": "HBoxModel",
          "model_module_version": "1.5.0",
          "state": {
            "_dom_classes": [],
            "_model_module": "@jupyter-widgets/controls",
            "_model_module_version": "1.5.0",
            "_model_name": "HBoxModel",
            "_view_count": null,
            "_view_module": "@jupyter-widgets/controls",
            "_view_module_version": "1.5.0",
            "_view_name": "HBoxView",
            "box_style": "",
            "children": [
              "IPY_MODEL_717d134c7a984e6f96d8a8d77a710ca7",
              "IPY_MODEL_024ef8fa0a4942b7889df5d52a259570",
              "IPY_MODEL_0c0e53bdfd0444b3a961819117b56c17"
            ],
            "layout": "IPY_MODEL_acf88cdc438c40f7b5bc71d2624b6360"
          }
        },
        "717d134c7a984e6f96d8a8d77a710ca7": {
          "model_module": "@jupyter-widgets/controls",
          "model_name": "HTMLModel",
          "model_module_version": "1.5.0",
          "state": {
            "_dom_classes": [],
            "_model_module": "@jupyter-widgets/controls",
            "_model_module_version": "1.5.0",
            "_model_name": "HTMLModel",
            "_view_count": null,
            "_view_module": "@jupyter-widgets/controls",
            "_view_module_version": "1.5.0",
            "_view_name": "HTMLView",
            "description": "",
            "description_tooltip": null,
            "layout": "IPY_MODEL_9a7faa917a934cc4af764fb79d79ab53",
            "placeholder": "​",
            "style": "IPY_MODEL_6aa509ab4698430dbfe138de82e74c14",
            "value": "vocab.txt: 100%"
          }
        },
        "024ef8fa0a4942b7889df5d52a259570": {
          "model_module": "@jupyter-widgets/controls",
          "model_name": "FloatProgressModel",
          "model_module_version": "1.5.0",
          "state": {
            "_dom_classes": [],
            "_model_module": "@jupyter-widgets/controls",
            "_model_module_version": "1.5.0",
            "_model_name": "FloatProgressModel",
            "_view_count": null,
            "_view_module": "@jupyter-widgets/controls",
            "_view_module_version": "1.5.0",
            "_view_name": "ProgressView",
            "bar_style": "success",
            "description": "",
            "description_tooltip": null,
            "layout": "IPY_MODEL_7f16f221fcd54150ab92dab59cff3d39",
            "max": 241082,
            "min": 0,
            "orientation": "horizontal",
            "style": "IPY_MODEL_311eb2d70dcd493fba2db7e25986ade9",
            "value": 241082
          }
        },
        "0c0e53bdfd0444b3a961819117b56c17": {
          "model_module": "@jupyter-widgets/controls",
          "model_name": "HTMLModel",
          "model_module_version": "1.5.0",
          "state": {
            "_dom_classes": [],
            "_model_module": "@jupyter-widgets/controls",
            "_model_module_version": "1.5.0",
            "_model_name": "HTMLModel",
            "_view_count": null,
            "_view_module": "@jupyter-widgets/controls",
            "_view_module_version": "1.5.0",
            "_view_name": "HTMLView",
            "description": "",
            "description_tooltip": null,
            "layout": "IPY_MODEL_05c1798b332541269a783052cb0ea555",
            "placeholder": "​",
            "style": "IPY_MODEL_8f6e002aeef34157a20ca0adc347cc4a",
            "value": " 241k/241k [00:00&lt;00:00, 2.12MB/s]"
          }
        },
        "acf88cdc438c40f7b5bc71d2624b6360": {
          "model_module": "@jupyter-widgets/base",
          "model_name": "LayoutModel",
          "model_module_version": "1.2.0",
          "state": {
            "_model_module": "@jupyter-widgets/base",
            "_model_module_version": "1.2.0",
            "_model_name": "LayoutModel",
            "_view_count": null,
            "_view_module": "@jupyter-widgets/base",
            "_view_module_version": "1.2.0",
            "_view_name": "LayoutView",
            "align_content": null,
            "align_items": null,
            "align_self": null,
            "border": null,
            "bottom": null,
            "display": null,
            "flex": null,
            "flex_flow": null,
            "grid_area": null,
            "grid_auto_columns": null,
            "grid_auto_flow": null,
            "grid_auto_rows": null,
            "grid_column": null,
            "grid_gap": null,
            "grid_row": null,
            "grid_template_areas": null,
            "grid_template_columns": null,
            "grid_template_rows": null,
            "height": null,
            "justify_content": null,
            "justify_items": null,
            "left": null,
            "margin": null,
            "max_height": null,
            "max_width": null,
            "min_height": null,
            "min_width": null,
            "object_fit": null,
            "object_position": null,
            "order": null,
            "overflow": null,
            "overflow_x": null,
            "overflow_y": null,
            "padding": null,
            "right": null,
            "top": null,
            "visibility": null,
            "width": null
          }
        },
        "9a7faa917a934cc4af764fb79d79ab53": {
          "model_module": "@jupyter-widgets/base",
          "model_name": "LayoutModel",
          "model_module_version": "1.2.0",
          "state": {
            "_model_module": "@jupyter-widgets/base",
            "_model_module_version": "1.2.0",
            "_model_name": "LayoutModel",
            "_view_count": null,
            "_view_module": "@jupyter-widgets/base",
            "_view_module_version": "1.2.0",
            "_view_name": "LayoutView",
            "align_content": null,
            "align_items": null,
            "align_self": null,
            "border": null,
            "bottom": null,
            "display": null,
            "flex": null,
            "flex_flow": null,
            "grid_area": null,
            "grid_auto_columns": null,
            "grid_auto_flow": null,
            "grid_auto_rows": null,
            "grid_column": null,
            "grid_gap": null,
            "grid_row": null,
            "grid_template_areas": null,
            "grid_template_columns": null,
            "grid_template_rows": null,
            "height": null,
            "justify_content": null,
            "justify_items": null,
            "left": null,
            "margin": null,
            "max_height": null,
            "max_width": null,
            "min_height": null,
            "min_width": null,
            "object_fit": null,
            "object_position": null,
            "order": null,
            "overflow": null,
            "overflow_x": null,
            "overflow_y": null,
            "padding": null,
            "right": null,
            "top": null,
            "visibility": null,
            "width": null
          }
        },
        "6aa509ab4698430dbfe138de82e74c14": {
          "model_module": "@jupyter-widgets/controls",
          "model_name": "DescriptionStyleModel",
          "model_module_version": "1.5.0",
          "state": {
            "_model_module": "@jupyter-widgets/controls",
            "_model_module_version": "1.5.0",
            "_model_name": "DescriptionStyleModel",
            "_view_count": null,
            "_view_module": "@jupyter-widgets/base",
            "_view_module_version": "1.2.0",
            "_view_name": "StyleView",
            "description_width": ""
          }
        },
        "7f16f221fcd54150ab92dab59cff3d39": {
          "model_module": "@jupyter-widgets/base",
          "model_name": "LayoutModel",
          "model_module_version": "1.2.0",
          "state": {
            "_model_module": "@jupyter-widgets/base",
            "_model_module_version": "1.2.0",
            "_model_name": "LayoutModel",
            "_view_count": null,
            "_view_module": "@jupyter-widgets/base",
            "_view_module_version": "1.2.0",
            "_view_name": "LayoutView",
            "align_content": null,
            "align_items": null,
            "align_self": null,
            "border": null,
            "bottom": null,
            "display": null,
            "flex": null,
            "flex_flow": null,
            "grid_area": null,
            "grid_auto_columns": null,
            "grid_auto_flow": null,
            "grid_auto_rows": null,
            "grid_column": null,
            "grid_gap": null,
            "grid_row": null,
            "grid_template_areas": null,
            "grid_template_columns": null,
            "grid_template_rows": null,
            "height": null,
            "justify_content": null,
            "justify_items": null,
            "left": null,
            "margin": null,
            "max_height": null,
            "max_width": null,
            "min_height": null,
            "min_width": null,
            "object_fit": null,
            "object_position": null,
            "order": null,
            "overflow": null,
            "overflow_x": null,
            "overflow_y": null,
            "padding": null,
            "right": null,
            "top": null,
            "visibility": null,
            "width": null
          }
        },
        "311eb2d70dcd493fba2db7e25986ade9": {
          "model_module": "@jupyter-widgets/controls",
          "model_name": "ProgressStyleModel",
          "model_module_version": "1.5.0",
          "state": {
            "_model_module": "@jupyter-widgets/controls",
            "_model_module_version": "1.5.0",
            "_model_name": "ProgressStyleModel",
            "_view_count": null,
            "_view_module": "@jupyter-widgets/base",
            "_view_module_version": "1.2.0",
            "_view_name": "StyleView",
            "bar_color": null,
            "description_width": ""
          }
        },
        "05c1798b332541269a783052cb0ea555": {
          "model_module": "@jupyter-widgets/base",
          "model_name": "LayoutModel",
          "model_module_version": "1.2.0",
          "state": {
            "_model_module": "@jupyter-widgets/base",
            "_model_module_version": "1.2.0",
            "_model_name": "LayoutModel",
            "_view_count": null,
            "_view_module": "@jupyter-widgets/base",
            "_view_module_version": "1.2.0",
            "_view_name": "LayoutView",
            "align_content": null,
            "align_items": null,
            "align_self": null,
            "border": null,
            "bottom": null,
            "display": null,
            "flex": null,
            "flex_flow": null,
            "grid_area": null,
            "grid_auto_columns": null,
            "grid_auto_flow": null,
            "grid_auto_rows": null,
            "grid_column": null,
            "grid_gap": null,
            "grid_row": null,
            "grid_template_areas": null,
            "grid_template_columns": null,
            "grid_template_rows": null,
            "height": null,
            "justify_content": null,
            "justify_items": null,
            "left": null,
            "margin": null,
            "max_height": null,
            "max_width": null,
            "min_height": null,
            "min_width": null,
            "object_fit": null,
            "object_position": null,
            "order": null,
            "overflow": null,
            "overflow_x": null,
            "overflow_y": null,
            "padding": null,
            "right": null,
            "top": null,
            "visibility": null,
            "width": null
          }
        },
        "8f6e002aeef34157a20ca0adc347cc4a": {
          "model_module": "@jupyter-widgets/controls",
          "model_name": "DescriptionStyleModel",
          "model_module_version": "1.5.0",
          "state": {
            "_model_module": "@jupyter-widgets/controls",
            "_model_module_version": "1.5.0",
            "_model_name": "DescriptionStyleModel",
            "_view_count": null,
            "_view_module": "@jupyter-widgets/base",
            "_view_module_version": "1.2.0",
            "_view_name": "StyleView",
            "description_width": ""
          }
        },
        "f121ec917b4d4045ac89fbcfdeb90506": {
          "model_module": "@jupyter-widgets/controls",
          "model_name": "HBoxModel",
          "model_module_version": "1.5.0",
          "state": {
            "_dom_classes": [],
            "_model_module": "@jupyter-widgets/controls",
            "_model_module_version": "1.5.0",
            "_model_name": "HBoxModel",
            "_view_count": null,
            "_view_module": "@jupyter-widgets/controls",
            "_view_module_version": "1.5.0",
            "_view_name": "HBoxView",
            "box_style": "",
            "children": [
              "IPY_MODEL_780a11f5b35444abafa151e20a343880",
              "IPY_MODEL_dd3f65513aa24c38bfa0a525f48f02d8",
              "IPY_MODEL_467a298341cb40ccb505fce90823e383"
            ],
            "layout": "IPY_MODEL_bec40849448d45ef98394a8db68e4740"
          }
        },
        "780a11f5b35444abafa151e20a343880": {
          "model_module": "@jupyter-widgets/controls",
          "model_name": "HTMLModel",
          "model_module_version": "1.5.0",
          "state": {
            "_dom_classes": [],
            "_model_module": "@jupyter-widgets/controls",
            "_model_module_version": "1.5.0",
            "_model_name": "HTMLModel",
            "_view_count": null,
            "_view_module": "@jupyter-widgets/controls",
            "_view_module_version": "1.5.0",
            "_view_name": "HTMLView",
            "description": "",
            "description_tooltip": null,
            "layout": "IPY_MODEL_4263be2ccc8f4a5190fb911dc4ca5b8e",
            "placeholder": "​",
            "style": "IPY_MODEL_2ba85c63f85a4041a82b5ca03522daf2",
            "value": "tokenizer.json: 100%"
          }
        },
        "dd3f65513aa24c38bfa0a525f48f02d8": {
          "model_module": "@jupyter-widgets/controls",
          "model_name": "FloatProgressModel",
          "model_module_version": "1.5.0",
          "state": {
            "_dom_classes": [],
            "_model_module": "@jupyter-widgets/controls",
            "_model_module_version": "1.5.0",
            "_model_name": "FloatProgressModel",
            "_view_count": null,
            "_view_module": "@jupyter-widgets/controls",
            "_view_module_version": "1.5.0",
            "_view_name": "ProgressView",
            "bar_style": "success",
            "description": "",
            "description_tooltip": null,
            "layout": "IPY_MODEL_2b2733465ccc495c8b01284c5250d903",
            "max": 468145,
            "min": 0,
            "orientation": "horizontal",
            "style": "IPY_MODEL_147b55fe34fe48c09bb69b7cb21f8a1d",
            "value": 468145
          }
        },
        "467a298341cb40ccb505fce90823e383": {
          "model_module": "@jupyter-widgets/controls",
          "model_name": "HTMLModel",
          "model_module_version": "1.5.0",
          "state": {
            "_dom_classes": [],
            "_model_module": "@jupyter-widgets/controls",
            "_model_module_version": "1.5.0",
            "_model_name": "HTMLModel",
            "_view_count": null,
            "_view_module": "@jupyter-widgets/controls",
            "_view_module_version": "1.5.0",
            "_view_name": "HTMLView",
            "description": "",
            "description_tooltip": null,
            "layout": "IPY_MODEL_924a49e4f787421ead6a19f38a552f00",
            "placeholder": "​",
            "style": "IPY_MODEL_c817825f6a0e4ca89771c3e56edf5347",
            "value": " 468k/468k [00:00&lt;00:00, 4.99MB/s]"
          }
        },
        "bec40849448d45ef98394a8db68e4740": {
          "model_module": "@jupyter-widgets/base",
          "model_name": "LayoutModel",
          "model_module_version": "1.2.0",
          "state": {
            "_model_module": "@jupyter-widgets/base",
            "_model_module_version": "1.2.0",
            "_model_name": "LayoutModel",
            "_view_count": null,
            "_view_module": "@jupyter-widgets/base",
            "_view_module_version": "1.2.0",
            "_view_name": "LayoutView",
            "align_content": null,
            "align_items": null,
            "align_self": null,
            "border": null,
            "bottom": null,
            "display": null,
            "flex": null,
            "flex_flow": null,
            "grid_area": null,
            "grid_auto_columns": null,
            "grid_auto_flow": null,
            "grid_auto_rows": null,
            "grid_column": null,
            "grid_gap": null,
            "grid_row": null,
            "grid_template_areas": null,
            "grid_template_columns": null,
            "grid_template_rows": null,
            "height": null,
            "justify_content": null,
            "justify_items": null,
            "left": null,
            "margin": null,
            "max_height": null,
            "max_width": null,
            "min_height": null,
            "min_width": null,
            "object_fit": null,
            "object_position": null,
            "order": null,
            "overflow": null,
            "overflow_x": null,
            "overflow_y": null,
            "padding": null,
            "right": null,
            "top": null,
            "visibility": null,
            "width": null
          }
        },
        "4263be2ccc8f4a5190fb911dc4ca5b8e": {
          "model_module": "@jupyter-widgets/base",
          "model_name": "LayoutModel",
          "model_module_version": "1.2.0",
          "state": {
            "_model_module": "@jupyter-widgets/base",
            "_model_module_version": "1.2.0",
            "_model_name": "LayoutModel",
            "_view_count": null,
            "_view_module": "@jupyter-widgets/base",
            "_view_module_version": "1.2.0",
            "_view_name": "LayoutView",
            "align_content": null,
            "align_items": null,
            "align_self": null,
            "border": null,
            "bottom": null,
            "display": null,
            "flex": null,
            "flex_flow": null,
            "grid_area": null,
            "grid_auto_columns": null,
            "grid_auto_flow": null,
            "grid_auto_rows": null,
            "grid_column": null,
            "grid_gap": null,
            "grid_row": null,
            "grid_template_areas": null,
            "grid_template_columns": null,
            "grid_template_rows": null,
            "height": null,
            "justify_content": null,
            "justify_items": null,
            "left": null,
            "margin": null,
            "max_height": null,
            "max_width": null,
            "min_height": null,
            "min_width": null,
            "object_fit": null,
            "object_position": null,
            "order": null,
            "overflow": null,
            "overflow_x": null,
            "overflow_y": null,
            "padding": null,
            "right": null,
            "top": null,
            "visibility": null,
            "width": null
          }
        },
        "2ba85c63f85a4041a82b5ca03522daf2": {
          "model_module": "@jupyter-widgets/controls",
          "model_name": "DescriptionStyleModel",
          "model_module_version": "1.5.0",
          "state": {
            "_model_module": "@jupyter-widgets/controls",
            "_model_module_version": "1.5.0",
            "_model_name": "DescriptionStyleModel",
            "_view_count": null,
            "_view_module": "@jupyter-widgets/base",
            "_view_module_version": "1.2.0",
            "_view_name": "StyleView",
            "description_width": ""
          }
        },
        "2b2733465ccc495c8b01284c5250d903": {
          "model_module": "@jupyter-widgets/base",
          "model_name": "LayoutModel",
          "model_module_version": "1.2.0",
          "state": {
            "_model_module": "@jupyter-widgets/base",
            "_model_module_version": "1.2.0",
            "_model_name": "LayoutModel",
            "_view_count": null,
            "_view_module": "@jupyter-widgets/base",
            "_view_module_version": "1.2.0",
            "_view_name": "LayoutView",
            "align_content": null,
            "align_items": null,
            "align_self": null,
            "border": null,
            "bottom": null,
            "display": null,
            "flex": null,
            "flex_flow": null,
            "grid_area": null,
            "grid_auto_columns": null,
            "grid_auto_flow": null,
            "grid_auto_rows": null,
            "grid_column": null,
            "grid_gap": null,
            "grid_row": null,
            "grid_template_areas": null,
            "grid_template_columns": null,
            "grid_template_rows": null,
            "height": null,
            "justify_content": null,
            "justify_items": null,
            "left": null,
            "margin": null,
            "max_height": null,
            "max_width": null,
            "min_height": null,
            "min_width": null,
            "object_fit": null,
            "object_position": null,
            "order": null,
            "overflow": null,
            "overflow_x": null,
            "overflow_y": null,
            "padding": null,
            "right": null,
            "top": null,
            "visibility": null,
            "width": null
          }
        },
        "147b55fe34fe48c09bb69b7cb21f8a1d": {
          "model_module": "@jupyter-widgets/controls",
          "model_name": "ProgressStyleModel",
          "model_module_version": "1.5.0",
          "state": {
            "_model_module": "@jupyter-widgets/controls",
            "_model_module_version": "1.5.0",
            "_model_name": "ProgressStyleModel",
            "_view_count": null,
            "_view_module": "@jupyter-widgets/base",
            "_view_module_version": "1.2.0",
            "_view_name": "StyleView",
            "bar_color": null,
            "description_width": ""
          }
        },
        "924a49e4f787421ead6a19f38a552f00": {
          "model_module": "@jupyter-widgets/base",
          "model_name": "LayoutModel",
          "model_module_version": "1.2.0",
          "state": {
            "_model_module": "@jupyter-widgets/base",
            "_model_module_version": "1.2.0",
            "_model_name": "LayoutModel",
            "_view_count": null,
            "_view_module": "@jupyter-widgets/base",
            "_view_module_version": "1.2.0",
            "_view_name": "LayoutView",
            "align_content": null,
            "align_items": null,
            "align_self": null,
            "border": null,
            "bottom": null,
            "display": null,
            "flex": null,
            "flex_flow": null,
            "grid_area": null,
            "grid_auto_columns": null,
            "grid_auto_flow": null,
            "grid_auto_rows": null,
            "grid_column": null,
            "grid_gap": null,
            "grid_row": null,
            "grid_template_areas": null,
            "grid_template_columns": null,
            "grid_template_rows": null,
            "height": null,
            "justify_content": null,
            "justify_items": null,
            "left": null,
            "margin": null,
            "max_height": null,
            "max_width": null,
            "min_height": null,
            "min_width": null,
            "object_fit": null,
            "object_position": null,
            "order": null,
            "overflow": null,
            "overflow_x": null,
            "overflow_y": null,
            "padding": null,
            "right": null,
            "top": null,
            "visibility": null,
            "width": null
          }
        },
        "c817825f6a0e4ca89771c3e56edf5347": {
          "model_module": "@jupyter-widgets/controls",
          "model_name": "DescriptionStyleModel",
          "model_module_version": "1.5.0",
          "state": {
            "_model_module": "@jupyter-widgets/controls",
            "_model_module_version": "1.5.0",
            "_model_name": "DescriptionStyleModel",
            "_view_count": null,
            "_view_module": "@jupyter-widgets/base",
            "_view_module_version": "1.2.0",
            "_view_name": "StyleView",
            "description_width": ""
          }
        },
        "96904e0c883e4996b84b0b3296fc3ea1": {
          "model_module": "@jupyter-widgets/controls",
          "model_name": "HBoxModel",
          "model_module_version": "1.5.0",
          "state": {
            "_dom_classes": [],
            "_model_module": "@jupyter-widgets/controls",
            "_model_module_version": "1.5.0",
            "_model_name": "HBoxModel",
            "_view_count": null,
            "_view_module": "@jupyter-widgets/controls",
            "_view_module_version": "1.5.0",
            "_view_name": "HBoxView",
            "box_style": "",
            "children": [
              "IPY_MODEL_85780108387f4966983452a3848c54ef",
              "IPY_MODEL_69ef4520f1f549259abc49db8d3b2242",
              "IPY_MODEL_5ab8863257fb4e8ba2031990ea0abbd6"
            ],
            "layout": "IPY_MODEL_7a5b6b55bbc449ed8a87c1e089f5ea06"
          }
        },
        "85780108387f4966983452a3848c54ef": {
          "model_module": "@jupyter-widgets/controls",
          "model_name": "HTMLModel",
          "model_module_version": "1.5.0",
          "state": {
            "_dom_classes": [],
            "_model_module": "@jupyter-widgets/controls",
            "_model_module_version": "1.5.0",
            "_model_name": "HTMLModel",
            "_view_count": null,
            "_view_module": "@jupyter-widgets/controls",
            "_view_module_version": "1.5.0",
            "_view_name": "HTMLView",
            "description": "",
            "description_tooltip": null,
            "layout": "IPY_MODEL_0b3bd7f84eda4814a864191ed1db9e04",
            "placeholder": "​",
            "style": "IPY_MODEL_b6ff96f7ec4a43c7a765e5ca2caeb8f2",
            "value": "special_tokens_map.json: 100%"
          }
        },
        "69ef4520f1f549259abc49db8d3b2242": {
          "model_module": "@jupyter-widgets/controls",
          "model_name": "FloatProgressModel",
          "model_module_version": "1.5.0",
          "state": {
            "_dom_classes": [],
            "_model_module": "@jupyter-widgets/controls",
            "_model_module_version": "1.5.0",
            "_model_name": "FloatProgressModel",
            "_view_count": null,
            "_view_module": "@jupyter-widgets/controls",
            "_view_module_version": "1.5.0",
            "_view_name": "ProgressView",
            "bar_style": "success",
            "description": "",
            "description_tooltip": null,
            "layout": "IPY_MODEL_6a94517eb90548a79e48f6b4dd78cc87",
            "max": 112,
            "min": 0,
            "orientation": "horizontal",
            "style": "IPY_MODEL_f6282bfd98174982b360e8e376b07503",
            "value": 112
          }
        },
        "5ab8863257fb4e8ba2031990ea0abbd6": {
          "model_module": "@jupyter-widgets/controls",
          "model_name": "HTMLModel",
          "model_module_version": "1.5.0",
          "state": {
            "_dom_classes": [],
            "_model_module": "@jupyter-widgets/controls",
            "_model_module_version": "1.5.0",
            "_model_name": "HTMLModel",
            "_view_count": null,
            "_view_module": "@jupyter-widgets/controls",
            "_view_module_version": "1.5.0",
            "_view_name": "HTMLView",
            "description": "",
            "description_tooltip": null,
            "layout": "IPY_MODEL_e05f37952160433f8fdb9491d6e7e391",
            "placeholder": "​",
            "style": "IPY_MODEL_12d2f69a85604cbe9d3b08f1ed6fdb46",
            "value": " 112/112 [00:00&lt;00:00, 2.38kB/s]"
          }
        },
        "7a5b6b55bbc449ed8a87c1e089f5ea06": {
          "model_module": "@jupyter-widgets/base",
          "model_name": "LayoutModel",
          "model_module_version": "1.2.0",
          "state": {
            "_model_module": "@jupyter-widgets/base",
            "_model_module_version": "1.2.0",
            "_model_name": "LayoutModel",
            "_view_count": null,
            "_view_module": "@jupyter-widgets/base",
            "_view_module_version": "1.2.0",
            "_view_name": "LayoutView",
            "align_content": null,
            "align_items": null,
            "align_self": null,
            "border": null,
            "bottom": null,
            "display": null,
            "flex": null,
            "flex_flow": null,
            "grid_area": null,
            "grid_auto_columns": null,
            "grid_auto_flow": null,
            "grid_auto_rows": null,
            "grid_column": null,
            "grid_gap": null,
            "grid_row": null,
            "grid_template_areas": null,
            "grid_template_columns": null,
            "grid_template_rows": null,
            "height": null,
            "justify_content": null,
            "justify_items": null,
            "left": null,
            "margin": null,
            "max_height": null,
            "max_width": null,
            "min_height": null,
            "min_width": null,
            "object_fit": null,
            "object_position": null,
            "order": null,
            "overflow": null,
            "overflow_x": null,
            "overflow_y": null,
            "padding": null,
            "right": null,
            "top": null,
            "visibility": null,
            "width": null
          }
        },
        "0b3bd7f84eda4814a864191ed1db9e04": {
          "model_module": "@jupyter-widgets/base",
          "model_name": "LayoutModel",
          "model_module_version": "1.2.0",
          "state": {
            "_model_module": "@jupyter-widgets/base",
            "_model_module_version": "1.2.0",
            "_model_name": "LayoutModel",
            "_view_count": null,
            "_view_module": "@jupyter-widgets/base",
            "_view_module_version": "1.2.0",
            "_view_name": "LayoutView",
            "align_content": null,
            "align_items": null,
            "align_self": null,
            "border": null,
            "bottom": null,
            "display": null,
            "flex": null,
            "flex_flow": null,
            "grid_area": null,
            "grid_auto_columns": null,
            "grid_auto_flow": null,
            "grid_auto_rows": null,
            "grid_column": null,
            "grid_gap": null,
            "grid_row": null,
            "grid_template_areas": null,
            "grid_template_columns": null,
            "grid_template_rows": null,
            "height": null,
            "justify_content": null,
            "justify_items": null,
            "left": null,
            "margin": null,
            "max_height": null,
            "max_width": null,
            "min_height": null,
            "min_width": null,
            "object_fit": null,
            "object_position": null,
            "order": null,
            "overflow": null,
            "overflow_x": null,
            "overflow_y": null,
            "padding": null,
            "right": null,
            "top": null,
            "visibility": null,
            "width": null
          }
        },
        "b6ff96f7ec4a43c7a765e5ca2caeb8f2": {
          "model_module": "@jupyter-widgets/controls",
          "model_name": "DescriptionStyleModel",
          "model_module_version": "1.5.0",
          "state": {
            "_model_module": "@jupyter-widgets/controls",
            "_model_module_version": "1.5.0",
            "_model_name": "DescriptionStyleModel",
            "_view_count": null,
            "_view_module": "@jupyter-widgets/base",
            "_view_module_version": "1.2.0",
            "_view_name": "StyleView",
            "description_width": ""
          }
        },
        "6a94517eb90548a79e48f6b4dd78cc87": {
          "model_module": "@jupyter-widgets/base",
          "model_name": "LayoutModel",
          "model_module_version": "1.2.0",
          "state": {
            "_model_module": "@jupyter-widgets/base",
            "_model_module_version": "1.2.0",
            "_model_name": "LayoutModel",
            "_view_count": null,
            "_view_module": "@jupyter-widgets/base",
            "_view_module_version": "1.2.0",
            "_view_name": "LayoutView",
            "align_content": null,
            "align_items": null,
            "align_self": null,
            "border": null,
            "bottom": null,
            "display": null,
            "flex": null,
            "flex_flow": null,
            "grid_area": null,
            "grid_auto_columns": null,
            "grid_auto_flow": null,
            "grid_auto_rows": null,
            "grid_column": null,
            "grid_gap": null,
            "grid_row": null,
            "grid_template_areas": null,
            "grid_template_columns": null,
            "grid_template_rows": null,
            "height": null,
            "justify_content": null,
            "justify_items": null,
            "left": null,
            "margin": null,
            "max_height": null,
            "max_width": null,
            "min_height": null,
            "min_width": null,
            "object_fit": null,
            "object_position": null,
            "order": null,
            "overflow": null,
            "overflow_x": null,
            "overflow_y": null,
            "padding": null,
            "right": null,
            "top": null,
            "visibility": null,
            "width": null
          }
        },
        "f6282bfd98174982b360e8e376b07503": {
          "model_module": "@jupyter-widgets/controls",
          "model_name": "ProgressStyleModel",
          "model_module_version": "1.5.0",
          "state": {
            "_model_module": "@jupyter-widgets/controls",
            "_model_module_version": "1.5.0",
            "_model_name": "ProgressStyleModel",
            "_view_count": null,
            "_view_module": "@jupyter-widgets/base",
            "_view_module_version": "1.2.0",
            "_view_name": "StyleView",
            "bar_color": null,
            "description_width": ""
          }
        },
        "e05f37952160433f8fdb9491d6e7e391": {
          "model_module": "@jupyter-widgets/base",
          "model_name": "LayoutModel",
          "model_module_version": "1.2.0",
          "state": {
            "_model_module": "@jupyter-widgets/base",
            "_model_module_version": "1.2.0",
            "_model_name": "LayoutModel",
            "_view_count": null,
            "_view_module": "@jupyter-widgets/base",
            "_view_module_version": "1.2.0",
            "_view_name": "LayoutView",
            "align_content": null,
            "align_items": null,
            "align_self": null,
            "border": null,
            "bottom": null,
            "display": null,
            "flex": null,
            "flex_flow": null,
            "grid_area": null,
            "grid_auto_columns": null,
            "grid_auto_flow": null,
            "grid_auto_rows": null,
            "grid_column": null,
            "grid_gap": null,
            "grid_row": null,
            "grid_template_areas": null,
            "grid_template_columns": null,
            "grid_template_rows": null,
            "height": null,
            "justify_content": null,
            "justify_items": null,
            "left": null,
            "margin": null,
            "max_height": null,
            "max_width": null,
            "min_height": null,
            "min_width": null,
            "object_fit": null,
            "object_position": null,
            "order": null,
            "overflow": null,
            "overflow_x": null,
            "overflow_y": null,
            "padding": null,
            "right": null,
            "top": null,
            "visibility": null,
            "width": null
          }
        },
        "12d2f69a85604cbe9d3b08f1ed6fdb46": {
          "model_module": "@jupyter-widgets/controls",
          "model_name": "DescriptionStyleModel",
          "model_module_version": "1.5.0",
          "state": {
            "_model_module": "@jupyter-widgets/controls",
            "_model_module_version": "1.5.0",
            "_model_name": "DescriptionStyleModel",
            "_view_count": null,
            "_view_module": "@jupyter-widgets/base",
            "_view_module_version": "1.2.0",
            "_view_name": "StyleView",
            "description_width": ""
          }
        },
        "4f840a582c2d4a8fa10e90a46ee36dee": {
          "model_module": "@jupyter-widgets/controls",
          "model_name": "HBoxModel",
          "model_module_version": "1.5.0",
          "state": {
            "_dom_classes": [],
            "_model_module": "@jupyter-widgets/controls",
            "_model_module_version": "1.5.0",
            "_model_name": "HBoxModel",
            "_view_count": null,
            "_view_module": "@jupyter-widgets/controls",
            "_view_module_version": "1.5.0",
            "_view_name": "HBoxView",
            "box_style": "",
            "children": [
              "IPY_MODEL_88e1267b14cf42d188f75a5c117a53bb",
              "IPY_MODEL_b5773c8873d34c92b07cf8797ed1b7bd",
              "IPY_MODEL_f3daf41910fd4d57a7fbe6aa0e846fb0"
            ],
            "layout": "IPY_MODEL_dc130a3b4b994cffbc458b4fa4fef4a9"
          }
        },
        "88e1267b14cf42d188f75a5c117a53bb": {
          "model_module": "@jupyter-widgets/controls",
          "model_name": "HTMLModel",
          "model_module_version": "1.5.0",
          "state": {
            "_dom_classes": [],
            "_model_module": "@jupyter-widgets/controls",
            "_model_module_version": "1.5.0",
            "_model_name": "HTMLModel",
            "_view_count": null,
            "_view_module": "@jupyter-widgets/controls",
            "_view_module_version": "1.5.0",
            "_view_name": "HTMLView",
            "description": "",
            "description_tooltip": null,
            "layout": "IPY_MODEL_dded5710663f4e6398d52f53182dc2d2",
            "placeholder": "​",
            "style": "IPY_MODEL_d0d2511109ab4fa699e92b7e0e4204b9",
            "value": "model.safetensors: 100%"
          }
        },
        "b5773c8873d34c92b07cf8797ed1b7bd": {
          "model_module": "@jupyter-widgets/controls",
          "model_name": "FloatProgressModel",
          "model_module_version": "1.5.0",
          "state": {
            "_dom_classes": [],
            "_model_module": "@jupyter-widgets/controls",
            "_model_module_version": "1.5.0",
            "_model_name": "FloatProgressModel",
            "_view_count": null,
            "_view_module": "@jupyter-widgets/controls",
            "_view_module_version": "1.5.0",
            "_view_name": "ProgressView",
            "bar_style": "success",
            "description": "",
            "description_tooltip": null,
            "layout": "IPY_MODEL_b22daa85369e4ffe87a5a1899a7aec90",
            "max": 47661730,
            "min": 0,
            "orientation": "horizontal",
            "style": "IPY_MODEL_4cde0c9332e8416a8afdc4866093d5ce",
            "value": 47661730
          }
        },
        "f3daf41910fd4d57a7fbe6aa0e846fb0": {
          "model_module": "@jupyter-widgets/controls",
          "model_name": "HTMLModel",
          "model_module_version": "1.5.0",
          "state": {
            "_dom_classes": [],
            "_model_module": "@jupyter-widgets/controls",
            "_model_module_version": "1.5.0",
            "_model_name": "HTMLModel",
            "_view_count": null,
            "_view_module": "@jupyter-widgets/controls",
            "_view_module_version": "1.5.0",
            "_view_name": "HTMLView",
            "description": "",
            "description_tooltip": null,
            "layout": "IPY_MODEL_dc4cfe40f5674252b9fc5d0b06925263",
            "placeholder": "​",
            "style": "IPY_MODEL_b6bf1486eaf149ab816b00f486f95d3c",
            "value": " 47.7M/47.7M [00:00&lt;00:00, 115MB/s]"
          }
        },
        "dc130a3b4b994cffbc458b4fa4fef4a9": {
          "model_module": "@jupyter-widgets/base",
          "model_name": "LayoutModel",
          "model_module_version": "1.2.0",
          "state": {
            "_model_module": "@jupyter-widgets/base",
            "_model_module_version": "1.2.0",
            "_model_name": "LayoutModel",
            "_view_count": null,
            "_view_module": "@jupyter-widgets/base",
            "_view_module_version": "1.2.0",
            "_view_name": "LayoutView",
            "align_content": null,
            "align_items": null,
            "align_self": null,
            "border": null,
            "bottom": null,
            "display": null,
            "flex": null,
            "flex_flow": null,
            "grid_area": null,
            "grid_auto_columns": null,
            "grid_auto_flow": null,
            "grid_auto_rows": null,
            "grid_column": null,
            "grid_gap": null,
            "grid_row": null,
            "grid_template_areas": null,
            "grid_template_columns": null,
            "grid_template_rows": null,
            "height": null,
            "justify_content": null,
            "justify_items": null,
            "left": null,
            "margin": null,
            "max_height": null,
            "max_width": null,
            "min_height": null,
            "min_width": null,
            "object_fit": null,
            "object_position": null,
            "order": null,
            "overflow": null,
            "overflow_x": null,
            "overflow_y": null,
            "padding": null,
            "right": null,
            "top": null,
            "visibility": null,
            "width": null
          }
        },
        "dded5710663f4e6398d52f53182dc2d2": {
          "model_module": "@jupyter-widgets/base",
          "model_name": "LayoutModel",
          "model_module_version": "1.2.0",
          "state": {
            "_model_module": "@jupyter-widgets/base",
            "_model_module_version": "1.2.0",
            "_model_name": "LayoutModel",
            "_view_count": null,
            "_view_module": "@jupyter-widgets/base",
            "_view_module_version": "1.2.0",
            "_view_name": "LayoutView",
            "align_content": null,
            "align_items": null,
            "align_self": null,
            "border": null,
            "bottom": null,
            "display": null,
            "flex": null,
            "flex_flow": null,
            "grid_area": null,
            "grid_auto_columns": null,
            "grid_auto_flow": null,
            "grid_auto_rows": null,
            "grid_column": null,
            "grid_gap": null,
            "grid_row": null,
            "grid_template_areas": null,
            "grid_template_columns": null,
            "grid_template_rows": null,
            "height": null,
            "justify_content": null,
            "justify_items": null,
            "left": null,
            "margin": null,
            "max_height": null,
            "max_width": null,
            "min_height": null,
            "min_width": null,
            "object_fit": null,
            "object_position": null,
            "order": null,
            "overflow": null,
            "overflow_x": null,
            "overflow_y": null,
            "padding": null,
            "right": null,
            "top": null,
            "visibility": null,
            "width": null
          }
        },
        "d0d2511109ab4fa699e92b7e0e4204b9": {
          "model_module": "@jupyter-widgets/controls",
          "model_name": "DescriptionStyleModel",
          "model_module_version": "1.5.0",
          "state": {
            "_model_module": "@jupyter-widgets/controls",
            "_model_module_version": "1.5.0",
            "_model_name": "DescriptionStyleModel",
            "_view_count": null,
            "_view_module": "@jupyter-widgets/base",
            "_view_module_version": "1.2.0",
            "_view_name": "StyleView",
            "description_width": ""
          }
        },
        "b22daa85369e4ffe87a5a1899a7aec90": {
          "model_module": "@jupyter-widgets/base",
          "model_name": "LayoutModel",
          "model_module_version": "1.2.0",
          "state": {
            "_model_module": "@jupyter-widgets/base",
            "_model_module_version": "1.2.0",
            "_model_name": "LayoutModel",
            "_view_count": null,
            "_view_module": "@jupyter-widgets/base",
            "_view_module_version": "1.2.0",
            "_view_name": "LayoutView",
            "align_content": null,
            "align_items": null,
            "align_self": null,
            "border": null,
            "bottom": null,
            "display": null,
            "flex": null,
            "flex_flow": null,
            "grid_area": null,
            "grid_auto_columns": null,
            "grid_auto_flow": null,
            "grid_auto_rows": null,
            "grid_column": null,
            "grid_gap": null,
            "grid_row": null,
            "grid_template_areas": null,
            "grid_template_columns": null,
            "grid_template_rows": null,
            "height": null,
            "justify_content": null,
            "justify_items": null,
            "left": null,
            "margin": null,
            "max_height": null,
            "max_width": null,
            "min_height": null,
            "min_width": null,
            "object_fit": null,
            "object_position": null,
            "order": null,
            "overflow": null,
            "overflow_x": null,
            "overflow_y": null,
            "padding": null,
            "right": null,
            "top": null,
            "visibility": null,
            "width": null
          }
        },
        "4cde0c9332e8416a8afdc4866093d5ce": {
          "model_module": "@jupyter-widgets/controls",
          "model_name": "ProgressStyleModel",
          "model_module_version": "1.5.0",
          "state": {
            "_model_module": "@jupyter-widgets/controls",
            "_model_module_version": "1.5.0",
            "_model_name": "ProgressStyleModel",
            "_view_count": null,
            "_view_module": "@jupyter-widgets/base",
            "_view_module_version": "1.2.0",
            "_view_name": "StyleView",
            "bar_color": null,
            "description_width": ""
          }
        },
        "dc4cfe40f5674252b9fc5d0b06925263": {
          "model_module": "@jupyter-widgets/base",
          "model_name": "LayoutModel",
          "model_module_version": "1.2.0",
          "state": {
            "_model_module": "@jupyter-widgets/base",
            "_model_module_version": "1.2.0",
            "_model_name": "LayoutModel",
            "_view_count": null,
            "_view_module": "@jupyter-widgets/base",
            "_view_module_version": "1.2.0",
            "_view_name": "LayoutView",
            "align_content": null,
            "align_items": null,
            "align_self": null,
            "border": null,
            "bottom": null,
            "display": null,
            "flex": null,
            "flex_flow": null,
            "grid_area": null,
            "grid_auto_columns": null,
            "grid_auto_flow": null,
            "grid_auto_rows": null,
            "grid_column": null,
            "grid_gap": null,
            "grid_row": null,
            "grid_template_areas": null,
            "grid_template_columns": null,
            "grid_template_rows": null,
            "height": null,
            "justify_content": null,
            "justify_items": null,
            "left": null,
            "margin": null,
            "max_height": null,
            "max_width": null,
            "min_height": null,
            "min_width": null,
            "object_fit": null,
            "object_position": null,
            "order": null,
            "overflow": null,
            "overflow_x": null,
            "overflow_y": null,
            "padding": null,
            "right": null,
            "top": null,
            "visibility": null,
            "width": null
          }
        },
        "b6bf1486eaf149ab816b00f486f95d3c": {
          "model_module": "@jupyter-widgets/controls",
          "model_name": "DescriptionStyleModel",
          "model_module_version": "1.5.0",
          "state": {
            "_model_module": "@jupyter-widgets/controls",
            "_model_module_version": "1.5.0",
            "_model_name": "DescriptionStyleModel",
            "_view_count": null,
            "_view_module": "@jupyter-widgets/base",
            "_view_module_version": "1.2.0",
            "_view_name": "StyleView",
            "description_width": ""
          }
        },
        "afb1922ecdb949ba8ccc411743ffb575": {
          "model_module": "@jupyter-widgets/controls",
          "model_name": "HBoxModel",
          "model_module_version": "1.5.0",
          "state": {
            "_dom_classes": [],
            "_model_module": "@jupyter-widgets/controls",
            "_model_module_version": "1.5.0",
            "_model_name": "HBoxModel",
            "_view_count": null,
            "_view_module": "@jupyter-widgets/controls",
            "_view_module_version": "1.5.0",
            "_view_name": "HBoxView",
            "box_style": "",
            "children": [
              "IPY_MODEL_d2bb7b9ff0484d4c8c28b608d560d336",
              "IPY_MODEL_8d05edafcd044019804087aa5d2080af",
              "IPY_MODEL_19a4b345d5064ce999e173ae4ac11530"
            ],
            "layout": "IPY_MODEL_7fd535fab8bb4e738efcad54fec61774"
          }
        },
        "d2bb7b9ff0484d4c8c28b608d560d336": {
          "model_module": "@jupyter-widgets/controls",
          "model_name": "HTMLModel",
          "model_module_version": "1.5.0",
          "state": {
            "_dom_classes": [],
            "_model_module": "@jupyter-widgets/controls",
            "_model_module_version": "1.5.0",
            "_model_name": "HTMLModel",
            "_view_count": null,
            "_view_module": "@jupyter-widgets/controls",
            "_view_module_version": "1.5.0",
            "_view_name": "HTMLView",
            "description": "",
            "description_tooltip": null,
            "layout": "IPY_MODEL_3d7f3952a50b42ac9dff6c829c6b9ac9",
            "placeholder": "​",
            "style": "IPY_MODEL_dc9dfe294bdf4ea786151f6abbd8b4e5",
            "value": "tokenizer_config.json: 100%"
          }
        },
        "8d05edafcd044019804087aa5d2080af": {
          "model_module": "@jupyter-widgets/controls",
          "model_name": "FloatProgressModel",
          "model_module_version": "1.5.0",
          "state": {
            "_dom_classes": [],
            "_model_module": "@jupyter-widgets/controls",
            "_model_module_version": "1.5.0",
            "_model_name": "FloatProgressModel",
            "_view_count": null,
            "_view_module": "@jupyter-widgets/controls",
            "_view_module_version": "1.5.0",
            "_view_name": "ProgressView",
            "bar_style": "success",
            "description": "",
            "description_tooltip": null,
            "layout": "IPY_MODEL_df6395cdd0184eaa8e7588d1f9edbcad",
            "max": 401,
            "min": 0,
            "orientation": "horizontal",
            "style": "IPY_MODEL_940c50f240ed4211badf3fb29160e0b1",
            "value": 401
          }
        },
        "19a4b345d5064ce999e173ae4ac11530": {
          "model_module": "@jupyter-widgets/controls",
          "model_name": "HTMLModel",
          "model_module_version": "1.5.0",
          "state": {
            "_dom_classes": [],
            "_model_module": "@jupyter-widgets/controls",
            "_model_module_version": "1.5.0",
            "_model_name": "HTMLModel",
            "_view_count": null,
            "_view_module": "@jupyter-widgets/controls",
            "_view_module_version": "1.5.0",
            "_view_name": "HTMLView",
            "description": "",
            "description_tooltip": null,
            "layout": "IPY_MODEL_e036f3d78efe465b98700e691507b21c",
            "placeholder": "​",
            "style": "IPY_MODEL_e39190b21b77448fb017f56b9f58342e",
            "value": " 401/401 [00:00&lt;00:00, 6.02kB/s]"
          }
        },
        "7fd535fab8bb4e738efcad54fec61774": {
          "model_module": "@jupyter-widgets/base",
          "model_name": "LayoutModel",
          "model_module_version": "1.2.0",
          "state": {
            "_model_module": "@jupyter-widgets/base",
            "_model_module_version": "1.2.0",
            "_model_name": "LayoutModel",
            "_view_count": null,
            "_view_module": "@jupyter-widgets/base",
            "_view_module_version": "1.2.0",
            "_view_name": "LayoutView",
            "align_content": null,
            "align_items": null,
            "align_self": null,
            "border": null,
            "bottom": null,
            "display": null,
            "flex": null,
            "flex_flow": null,
            "grid_area": null,
            "grid_auto_columns": null,
            "grid_auto_flow": null,
            "grid_auto_rows": null,
            "grid_column": null,
            "grid_gap": null,
            "grid_row": null,
            "grid_template_areas": null,
            "grid_template_columns": null,
            "grid_template_rows": null,
            "height": null,
            "justify_content": null,
            "justify_items": null,
            "left": null,
            "margin": null,
            "max_height": null,
            "max_width": null,
            "min_height": null,
            "min_width": null,
            "object_fit": null,
            "object_position": null,
            "order": null,
            "overflow": null,
            "overflow_x": null,
            "overflow_y": null,
            "padding": null,
            "right": null,
            "top": null,
            "visibility": null,
            "width": null
          }
        },
        "3d7f3952a50b42ac9dff6c829c6b9ac9": {
          "model_module": "@jupyter-widgets/base",
          "model_name": "LayoutModel",
          "model_module_version": "1.2.0",
          "state": {
            "_model_module": "@jupyter-widgets/base",
            "_model_module_version": "1.2.0",
            "_model_name": "LayoutModel",
            "_view_count": null,
            "_view_module": "@jupyter-widgets/base",
            "_view_module_version": "1.2.0",
            "_view_name": "LayoutView",
            "align_content": null,
            "align_items": null,
            "align_self": null,
            "border": null,
            "bottom": null,
            "display": null,
            "flex": null,
            "flex_flow": null,
            "grid_area": null,
            "grid_auto_columns": null,
            "grid_auto_flow": null,
            "grid_auto_rows": null,
            "grid_column": null,
            "grid_gap": null,
            "grid_row": null,
            "grid_template_areas": null,
            "grid_template_columns": null,
            "grid_template_rows": null,
            "height": null,
            "justify_content": null,
            "justify_items": null,
            "left": null,
            "margin": null,
            "max_height": null,
            "max_width": null,
            "min_height": null,
            "min_width": null,
            "object_fit": null,
            "object_position": null,
            "order": null,
            "overflow": null,
            "overflow_x": null,
            "overflow_y": null,
            "padding": null,
            "right": null,
            "top": null,
            "visibility": null,
            "width": null
          }
        },
        "dc9dfe294bdf4ea786151f6abbd8b4e5": {
          "model_module": "@jupyter-widgets/controls",
          "model_name": "DescriptionStyleModel",
          "model_module_version": "1.5.0",
          "state": {
            "_model_module": "@jupyter-widgets/controls",
            "_model_module_version": "1.5.0",
            "_model_name": "DescriptionStyleModel",
            "_view_count": null,
            "_view_module": "@jupyter-widgets/base",
            "_view_module_version": "1.2.0",
            "_view_name": "StyleView",
            "description_width": ""
          }
        },
        "df6395cdd0184eaa8e7588d1f9edbcad": {
          "model_module": "@jupyter-widgets/base",
          "model_name": "LayoutModel",
          "model_module_version": "1.2.0",
          "state": {
            "_model_module": "@jupyter-widgets/base",
            "_model_module_version": "1.2.0",
            "_model_name": "LayoutModel",
            "_view_count": null,
            "_view_module": "@jupyter-widgets/base",
            "_view_module_version": "1.2.0",
            "_view_name": "LayoutView",
            "align_content": null,
            "align_items": null,
            "align_self": null,
            "border": null,
            "bottom": null,
            "display": null,
            "flex": null,
            "flex_flow": null,
            "grid_area": null,
            "grid_auto_columns": null,
            "grid_auto_flow": null,
            "grid_auto_rows": null,
            "grid_column": null,
            "grid_gap": null,
            "grid_row": null,
            "grid_template_areas": null,
            "grid_template_columns": null,
            "grid_template_rows": null,
            "height": null,
            "justify_content": null,
            "justify_items": null,
            "left": null,
            "margin": null,
            "max_height": null,
            "max_width": null,
            "min_height": null,
            "min_width": null,
            "object_fit": null,
            "object_position": null,
            "order": null,
            "overflow": null,
            "overflow_x": null,
            "overflow_y": null,
            "padding": null,
            "right": null,
            "top": null,
            "visibility": null,
            "width": null
          }
        },
        "940c50f240ed4211badf3fb29160e0b1": {
          "model_module": "@jupyter-widgets/controls",
          "model_name": "ProgressStyleModel",
          "model_module_version": "1.5.0",
          "state": {
            "_model_module": "@jupyter-widgets/controls",
            "_model_module_version": "1.5.0",
            "_model_name": "ProgressStyleModel",
            "_view_count": null,
            "_view_module": "@jupyter-widgets/base",
            "_view_module_version": "1.2.0",
            "_view_name": "StyleView",
            "bar_color": null,
            "description_width": ""
          }
        },
        "e036f3d78efe465b98700e691507b21c": {
          "model_module": "@jupyter-widgets/base",
          "model_name": "LayoutModel",
          "model_module_version": "1.2.0",
          "state": {
            "_model_module": "@jupyter-widgets/base",
            "_model_module_version": "1.2.0",
            "_model_name": "LayoutModel",
            "_view_count": null,
            "_view_module": "@jupyter-widgets/base",
            "_view_module_version": "1.2.0",
            "_view_name": "LayoutView",
            "align_content": null,
            "align_items": null,
            "align_self": null,
            "border": null,
            "bottom": null,
            "display": null,
            "flex": null,
            "flex_flow": null,
            "grid_area": null,
            "grid_auto_columns": null,
            "grid_auto_flow": null,
            "grid_auto_rows": null,
            "grid_column": null,
            "grid_gap": null,
            "grid_row": null,
            "grid_template_areas": null,
            "grid_template_columns": null,
            "grid_template_rows": null,
            "height": null,
            "justify_content": null,
            "justify_items": null,
            "left": null,
            "margin": null,
            "max_height": null,
            "max_width": null,
            "min_height": null,
            "min_width": null,
            "object_fit": null,
            "object_position": null,
            "order": null,
            "overflow": null,
            "overflow_x": null,
            "overflow_y": null,
            "padding": null,
            "right": null,
            "top": null,
            "visibility": null,
            "width": null
          }
        },
        "e39190b21b77448fb017f56b9f58342e": {
          "model_module": "@jupyter-widgets/controls",
          "model_name": "DescriptionStyleModel",
          "model_module_version": "1.5.0",
          "state": {
            "_model_module": "@jupyter-widgets/controls",
            "_model_module_version": "1.5.0",
            "_model_name": "DescriptionStyleModel",
            "_view_count": null,
            "_view_module": "@jupyter-widgets/base",
            "_view_module_version": "1.2.0",
            "_view_name": "StyleView",
            "description_width": ""
          }
        },
        "331e97fadbc14a309f29b2d206484c67": {
          "model_module": "@jupyter-widgets/controls",
          "model_name": "HBoxModel",
          "model_module_version": "1.5.0",
          "state": {
            "_dom_classes": [],
            "_model_module": "@jupyter-widgets/controls",
            "_model_module_version": "1.5.0",
            "_model_name": "HBoxModel",
            "_view_count": null,
            "_view_module": "@jupyter-widgets/controls",
            "_view_module_version": "1.5.0",
            "_view_name": "HBoxView",
            "box_style": "",
            "children": [
              "IPY_MODEL_64d64c5827514c57a3c6b6a048ee7b62",
              "IPY_MODEL_b21f58e14c244602ad21350827c9cd85",
              "IPY_MODEL_048875e91b094277bad6d791cfc7e9aa"
            ],
            "layout": "IPY_MODEL_5086350c3d1d45a7965b71306a490cfc"
          }
        },
        "64d64c5827514c57a3c6b6a048ee7b62": {
          "model_module": "@jupyter-widgets/controls",
          "model_name": "HTMLModel",
          "model_module_version": "1.5.0",
          "state": {
            "_dom_classes": [],
            "_model_module": "@jupyter-widgets/controls",
            "_model_module_version": "1.5.0",
            "_model_name": "HTMLModel",
            "_view_count": null,
            "_view_module": "@jupyter-widgets/controls",
            "_view_module_version": "1.5.0",
            "_view_name": "HTMLView",
            "description": "",
            "description_tooltip": null,
            "layout": "IPY_MODEL_e711d7d74ef846219296d869225b6ea1",
            "placeholder": "​",
            "style": "IPY_MODEL_dc028803655a430b84501480e5d848fc",
            "value": "vocab.txt: 100%"
          }
        },
        "b21f58e14c244602ad21350827c9cd85": {
          "model_module": "@jupyter-widgets/controls",
          "model_name": "FloatProgressModel",
          "model_module_version": "1.5.0",
          "state": {
            "_dom_classes": [],
            "_model_module": "@jupyter-widgets/controls",
            "_model_module_version": "1.5.0",
            "_model_name": "FloatProgressModel",
            "_view_count": null,
            "_view_module": "@jupyter-widgets/controls",
            "_view_module_version": "1.5.0",
            "_view_name": "ProgressView",
            "bar_style": "success",
            "description": "",
            "description_tooltip": null,
            "layout": "IPY_MODEL_ad134f31b75f4ebda06f92447e677537",
            "max": 1080667,
            "min": 0,
            "orientation": "horizontal",
            "style": "IPY_MODEL_c85817066ff34a228dc888de2e73d6d7",
            "value": 1080667
          }
        },
        "048875e91b094277bad6d791cfc7e9aa": {
          "model_module": "@jupyter-widgets/controls",
          "model_name": "HTMLModel",
          "model_module_version": "1.5.0",
          "state": {
            "_dom_classes": [],
            "_model_module": "@jupyter-widgets/controls",
            "_model_module_version": "1.5.0",
            "_model_name": "HTMLModel",
            "_view_count": null,
            "_view_module": "@jupyter-widgets/controls",
            "_view_module_version": "1.5.0",
            "_view_name": "HTMLView",
            "description": "",
            "description_tooltip": null,
            "layout": "IPY_MODEL_e464fe59146e43cfad58ab6f9b5018e2",
            "placeholder": "​",
            "style": "IPY_MODEL_c4e4851375a94594a53665cc94c56c38",
            "value": " 1.08M/1.08M [00:00&lt;00:00, 6.05MB/s]"
          }
        },
        "5086350c3d1d45a7965b71306a490cfc": {
          "model_module": "@jupyter-widgets/base",
          "model_name": "LayoutModel",
          "model_module_version": "1.2.0",
          "state": {
            "_model_module": "@jupyter-widgets/base",
            "_model_module_version": "1.2.0",
            "_model_name": "LayoutModel",
            "_view_count": null,
            "_view_module": "@jupyter-widgets/base",
            "_view_module_version": "1.2.0",
            "_view_name": "LayoutView",
            "align_content": null,
            "align_items": null,
            "align_self": null,
            "border": null,
            "bottom": null,
            "display": null,
            "flex": null,
            "flex_flow": null,
            "grid_area": null,
            "grid_auto_columns": null,
            "grid_auto_flow": null,
            "grid_auto_rows": null,
            "grid_column": null,
            "grid_gap": null,
            "grid_row": null,
            "grid_template_areas": null,
            "grid_template_columns": null,
            "grid_template_rows": null,
            "height": null,
            "justify_content": null,
            "justify_items": null,
            "left": null,
            "margin": null,
            "max_height": null,
            "max_width": null,
            "min_height": null,
            "min_width": null,
            "object_fit": null,
            "object_position": null,
            "order": null,
            "overflow": null,
            "overflow_x": null,
            "overflow_y": null,
            "padding": null,
            "right": null,
            "top": null,
            "visibility": null,
            "width": null
          }
        },
        "e711d7d74ef846219296d869225b6ea1": {
          "model_module": "@jupyter-widgets/base",
          "model_name": "LayoutModel",
          "model_module_version": "1.2.0",
          "state": {
            "_model_module": "@jupyter-widgets/base",
            "_model_module_version": "1.2.0",
            "_model_name": "LayoutModel",
            "_view_count": null,
            "_view_module": "@jupyter-widgets/base",
            "_view_module_version": "1.2.0",
            "_view_name": "LayoutView",
            "align_content": null,
            "align_items": null,
            "align_self": null,
            "border": null,
            "bottom": null,
            "display": null,
            "flex": null,
            "flex_flow": null,
            "grid_area": null,
            "grid_auto_columns": null,
            "grid_auto_flow": null,
            "grid_auto_rows": null,
            "grid_column": null,
            "grid_gap": null,
            "grid_row": null,
            "grid_template_areas": null,
            "grid_template_columns": null,
            "grid_template_rows": null,
            "height": null,
            "justify_content": null,
            "justify_items": null,
            "left": null,
            "margin": null,
            "max_height": null,
            "max_width": null,
            "min_height": null,
            "min_width": null,
            "object_fit": null,
            "object_position": null,
            "order": null,
            "overflow": null,
            "overflow_x": null,
            "overflow_y": null,
            "padding": null,
            "right": null,
            "top": null,
            "visibility": null,
            "width": null
          }
        },
        "dc028803655a430b84501480e5d848fc": {
          "model_module": "@jupyter-widgets/controls",
          "model_name": "DescriptionStyleModel",
          "model_module_version": "1.5.0",
          "state": {
            "_model_module": "@jupyter-widgets/controls",
            "_model_module_version": "1.5.0",
            "_model_name": "DescriptionStyleModel",
            "_view_count": null,
            "_view_module": "@jupyter-widgets/base",
            "_view_module_version": "1.2.0",
            "_view_name": "StyleView",
            "description_width": ""
          }
        },
        "ad134f31b75f4ebda06f92447e677537": {
          "model_module": "@jupyter-widgets/base",
          "model_name": "LayoutModel",
          "model_module_version": "1.2.0",
          "state": {
            "_model_module": "@jupyter-widgets/base",
            "_model_module_version": "1.2.0",
            "_model_name": "LayoutModel",
            "_view_count": null,
            "_view_module": "@jupyter-widgets/base",
            "_view_module_version": "1.2.0",
            "_view_name": "LayoutView",
            "align_content": null,
            "align_items": null,
            "align_self": null,
            "border": null,
            "bottom": null,
            "display": null,
            "flex": null,
            "flex_flow": null,
            "grid_area": null,
            "grid_auto_columns": null,
            "grid_auto_flow": null,
            "grid_auto_rows": null,
            "grid_column": null,
            "grid_gap": null,
            "grid_row": null,
            "grid_template_areas": null,
            "grid_template_columns": null,
            "grid_template_rows": null,
            "height": null,
            "justify_content": null,
            "justify_items": null,
            "left": null,
            "margin": null,
            "max_height": null,
            "max_width": null,
            "min_height": null,
            "min_width": null,
            "object_fit": null,
            "object_position": null,
            "order": null,
            "overflow": null,
            "overflow_x": null,
            "overflow_y": null,
            "padding": null,
            "right": null,
            "top": null,
            "visibility": null,
            "width": null
          }
        },
        "c85817066ff34a228dc888de2e73d6d7": {
          "model_module": "@jupyter-widgets/controls",
          "model_name": "ProgressStyleModel",
          "model_module_version": "1.5.0",
          "state": {
            "_model_module": "@jupyter-widgets/controls",
            "_model_module_version": "1.5.0",
            "_model_name": "ProgressStyleModel",
            "_view_count": null,
            "_view_module": "@jupyter-widgets/base",
            "_view_module_version": "1.2.0",
            "_view_name": "StyleView",
            "bar_color": null,
            "description_width": ""
          }
        },
        "e464fe59146e43cfad58ab6f9b5018e2": {
          "model_module": "@jupyter-widgets/base",
          "model_name": "LayoutModel",
          "model_module_version": "1.2.0",
          "state": {
            "_model_module": "@jupyter-widgets/base",
            "_model_module_version": "1.2.0",
            "_model_name": "LayoutModel",
            "_view_count": null,
            "_view_module": "@jupyter-widgets/base",
            "_view_module_version": "1.2.0",
            "_view_name": "LayoutView",
            "align_content": null,
            "align_items": null,
            "align_self": null,
            "border": null,
            "bottom": null,
            "display": null,
            "flex": null,
            "flex_flow": null,
            "grid_area": null,
            "grid_auto_columns": null,
            "grid_auto_flow": null,
            "grid_auto_rows": null,
            "grid_column": null,
            "grid_gap": null,
            "grid_row": null,
            "grid_template_areas": null,
            "grid_template_columns": null,
            "grid_template_rows": null,
            "height": null,
            "justify_content": null,
            "justify_items": null,
            "left": null,
            "margin": null,
            "max_height": null,
            "max_width": null,
            "min_height": null,
            "min_width": null,
            "object_fit": null,
            "object_position": null,
            "order": null,
            "overflow": null,
            "overflow_x": null,
            "overflow_y": null,
            "padding": null,
            "right": null,
            "top": null,
            "visibility": null,
            "width": null
          }
        },
        "c4e4851375a94594a53665cc94c56c38": {
          "model_module": "@jupyter-widgets/controls",
          "model_name": "DescriptionStyleModel",
          "model_module_version": "1.5.0",
          "state": {
            "_model_module": "@jupyter-widgets/controls",
            "_model_module_version": "1.5.0",
            "_model_name": "DescriptionStyleModel",
            "_view_count": null,
            "_view_module": "@jupyter-widgets/base",
            "_view_module_version": "1.2.0",
            "_view_name": "StyleView",
            "description_width": ""
          }
        },
        "5a83de3900404ccf8edaf748e8c7df86": {
          "model_module": "@jupyter-widgets/controls",
          "model_name": "HBoxModel",
          "model_module_version": "1.5.0",
          "state": {
            "_dom_classes": [],
            "_model_module": "@jupyter-widgets/controls",
            "_model_module_version": "1.5.0",
            "_model_name": "HBoxModel",
            "_view_count": null,
            "_view_module": "@jupyter-widgets/controls",
            "_view_module_version": "1.5.0",
            "_view_name": "HBoxView",
            "box_style": "",
            "children": [
              "IPY_MODEL_d0949647892943daa3ebb112e118d0c3",
              "IPY_MODEL_24efae23004b4446a91378dec41e2dc3",
              "IPY_MODEL_d080dd9987e743ae91e06db71c5a9e10"
            ],
            "layout": "IPY_MODEL_7a06dc391d3349669adbaae1b17368d3"
          }
        },
        "d0949647892943daa3ebb112e118d0c3": {
          "model_module": "@jupyter-widgets/controls",
          "model_name": "HTMLModel",
          "model_module_version": "1.5.0",
          "state": {
            "_dom_classes": [],
            "_model_module": "@jupyter-widgets/controls",
            "_model_module_version": "1.5.0",
            "_model_name": "HTMLModel",
            "_view_count": null,
            "_view_module": "@jupyter-widgets/controls",
            "_view_module_version": "1.5.0",
            "_view_name": "HTMLView",
            "description": "",
            "description_tooltip": null,
            "layout": "IPY_MODEL_48410a7c12394a2fb64659b7c4679af1",
            "placeholder": "​",
            "style": "IPY_MODEL_c0a967a8f851435fa69ecdcdc84a3798",
            "value": "tokenizer.json: 100%"
          }
        },
        "24efae23004b4446a91378dec41e2dc3": {
          "model_module": "@jupyter-widgets/controls",
          "model_name": "FloatProgressModel",
          "model_module_version": "1.5.0",
          "state": {
            "_dom_classes": [],
            "_model_module": "@jupyter-widgets/controls",
            "_model_module_version": "1.5.0",
            "_model_name": "FloatProgressModel",
            "_view_count": null,
            "_view_module": "@jupyter-widgets/controls",
            "_view_module_version": "1.5.0",
            "_view_name": "ProgressView",
            "bar_style": "success",
            "description": "",
            "description_tooltip": null,
            "layout": "IPY_MODEL_53f1ae48c60c4c429d1e26d62532d7ab",
            "max": 1741842,
            "min": 0,
            "orientation": "horizontal",
            "style": "IPY_MODEL_a424bd0885b14700b44004e226652f16",
            "value": 1741842
          }
        },
        "d080dd9987e743ae91e06db71c5a9e10": {
          "model_module": "@jupyter-widgets/controls",
          "model_name": "HTMLModel",
          "model_module_version": "1.5.0",
          "state": {
            "_dom_classes": [],
            "_model_module": "@jupyter-widgets/controls",
            "_model_module_version": "1.5.0",
            "_model_name": "HTMLModel",
            "_view_count": null,
            "_view_module": "@jupyter-widgets/controls",
            "_view_module_version": "1.5.0",
            "_view_name": "HTMLView",
            "description": "",
            "description_tooltip": null,
            "layout": "IPY_MODEL_afb4b9b1fa404416a7b0c89f4f0475ec",
            "placeholder": "​",
            "style": "IPY_MODEL_dcb4eb5f9fb54d2d884a8035812ce661",
            "value": " 1.74M/1.74M [00:00&lt;00:00, 10.1MB/s]"
          }
        },
        "7a06dc391d3349669adbaae1b17368d3": {
          "model_module": "@jupyter-widgets/base",
          "model_name": "LayoutModel",
          "model_module_version": "1.2.0",
          "state": {
            "_model_module": "@jupyter-widgets/base",
            "_model_module_version": "1.2.0",
            "_model_name": "LayoutModel",
            "_view_count": null,
            "_view_module": "@jupyter-widgets/base",
            "_view_module_version": "1.2.0",
            "_view_name": "LayoutView",
            "align_content": null,
            "align_items": null,
            "align_self": null,
            "border": null,
            "bottom": null,
            "display": null,
            "flex": null,
            "flex_flow": null,
            "grid_area": null,
            "grid_auto_columns": null,
            "grid_auto_flow": null,
            "grid_auto_rows": null,
            "grid_column": null,
            "grid_gap": null,
            "grid_row": null,
            "grid_template_areas": null,
            "grid_template_columns": null,
            "grid_template_rows": null,
            "height": null,
            "justify_content": null,
            "justify_items": null,
            "left": null,
            "margin": null,
            "max_height": null,
            "max_width": null,
            "min_height": null,
            "min_width": null,
            "object_fit": null,
            "object_position": null,
            "order": null,
            "overflow": null,
            "overflow_x": null,
            "overflow_y": null,
            "padding": null,
            "right": null,
            "top": null,
            "visibility": null,
            "width": null
          }
        },
        "48410a7c12394a2fb64659b7c4679af1": {
          "model_module": "@jupyter-widgets/base",
          "model_name": "LayoutModel",
          "model_module_version": "1.2.0",
          "state": {
            "_model_module": "@jupyter-widgets/base",
            "_model_module_version": "1.2.0",
            "_model_name": "LayoutModel",
            "_view_count": null,
            "_view_module": "@jupyter-widgets/base",
            "_view_module_version": "1.2.0",
            "_view_name": "LayoutView",
            "align_content": null,
            "align_items": null,
            "align_self": null,
            "border": null,
            "bottom": null,
            "display": null,
            "flex": null,
            "flex_flow": null,
            "grid_area": null,
            "grid_auto_columns": null,
            "grid_auto_flow": null,
            "grid_auto_rows": null,
            "grid_column": null,
            "grid_gap": null,
            "grid_row": null,
            "grid_template_areas": null,
            "grid_template_columns": null,
            "grid_template_rows": null,
            "height": null,
            "justify_content": null,
            "justify_items": null,
            "left": null,
            "margin": null,
            "max_height": null,
            "max_width": null,
            "min_height": null,
            "min_width": null,
            "object_fit": null,
            "object_position": null,
            "order": null,
            "overflow": null,
            "overflow_x": null,
            "overflow_y": null,
            "padding": null,
            "right": null,
            "top": null,
            "visibility": null,
            "width": null
          }
        },
        "c0a967a8f851435fa69ecdcdc84a3798": {
          "model_module": "@jupyter-widgets/controls",
          "model_name": "DescriptionStyleModel",
          "model_module_version": "1.5.0",
          "state": {
            "_model_module": "@jupyter-widgets/controls",
            "_model_module_version": "1.5.0",
            "_model_name": "DescriptionStyleModel",
            "_view_count": null,
            "_view_module": "@jupyter-widgets/base",
            "_view_module_version": "1.2.0",
            "_view_name": "StyleView",
            "description_width": ""
          }
        },
        "53f1ae48c60c4c429d1e26d62532d7ab": {
          "model_module": "@jupyter-widgets/base",
          "model_name": "LayoutModel",
          "model_module_version": "1.2.0",
          "state": {
            "_model_module": "@jupyter-widgets/base",
            "_model_module_version": "1.2.0",
            "_model_name": "LayoutModel",
            "_view_count": null,
            "_view_module": "@jupyter-widgets/base",
            "_view_module_version": "1.2.0",
            "_view_name": "LayoutView",
            "align_content": null,
            "align_items": null,
            "align_self": null,
            "border": null,
            "bottom": null,
            "display": null,
            "flex": null,
            "flex_flow": null,
            "grid_area": null,
            "grid_auto_columns": null,
            "grid_auto_flow": null,
            "grid_auto_rows": null,
            "grid_column": null,
            "grid_gap": null,
            "grid_row": null,
            "grid_template_areas": null,
            "grid_template_columns": null,
            "grid_template_rows": null,
            "height": null,
            "justify_content": null,
            "justify_items": null,
            "left": null,
            "margin": null,
            "max_height": null,
            "max_width": null,
            "min_height": null,
            "min_width": null,
            "object_fit": null,
            "object_position": null,
            "order": null,
            "overflow": null,
            "overflow_x": null,
            "overflow_y": null,
            "padding": null,
            "right": null,
            "top": null,
            "visibility": null,
            "width": null
          }
        },
        "a424bd0885b14700b44004e226652f16": {
          "model_module": "@jupyter-widgets/controls",
          "model_name": "ProgressStyleModel",
          "model_module_version": "1.5.0",
          "state": {
            "_model_module": "@jupyter-widgets/controls",
            "_model_module_version": "1.5.0",
            "_model_name": "ProgressStyleModel",
            "_view_count": null,
            "_view_module": "@jupyter-widgets/base",
            "_view_module_version": "1.2.0",
            "_view_name": "StyleView",
            "bar_color": null,
            "description_width": ""
          }
        },
        "afb4b9b1fa404416a7b0c89f4f0475ec": {
          "model_module": "@jupyter-widgets/base",
          "model_name": "LayoutModel",
          "model_module_version": "1.2.0",
          "state": {
            "_model_module": "@jupyter-widgets/base",
            "_model_module_version": "1.2.0",
            "_model_name": "LayoutModel",
            "_view_count": null,
            "_view_module": "@jupyter-widgets/base",
            "_view_module_version": "1.2.0",
            "_view_name": "LayoutView",
            "align_content": null,
            "align_items": null,
            "align_self": null,
            "border": null,
            "bottom": null,
            "display": null,
            "flex": null,
            "flex_flow": null,
            "grid_area": null,
            "grid_auto_columns": null,
            "grid_auto_flow": null,
            "grid_auto_rows": null,
            "grid_column": null,
            "grid_gap": null,
            "grid_row": null,
            "grid_template_areas": null,
            "grid_template_columns": null,
            "grid_template_rows": null,
            "height": null,
            "justify_content": null,
            "justify_items": null,
            "left": null,
            "margin": null,
            "max_height": null,
            "max_width": null,
            "min_height": null,
            "min_width": null,
            "object_fit": null,
            "object_position": null,
            "order": null,
            "overflow": null,
            "overflow_x": null,
            "overflow_y": null,
            "padding": null,
            "right": null,
            "top": null,
            "visibility": null,
            "width": null
          }
        },
        "dcb4eb5f9fb54d2d884a8035812ce661": {
          "model_module": "@jupyter-widgets/controls",
          "model_name": "DescriptionStyleModel",
          "model_module_version": "1.5.0",
          "state": {
            "_model_module": "@jupyter-widgets/controls",
            "_model_module_version": "1.5.0",
            "_model_name": "DescriptionStyleModel",
            "_view_count": null,
            "_view_module": "@jupyter-widgets/base",
            "_view_module_version": "1.2.0",
            "_view_name": "StyleView",
            "description_width": ""
          }
        },
        "e6b0ddff02e44b5c830741b5e143aa44": {
          "model_module": "@jupyter-widgets/controls",
          "model_name": "HBoxModel",
          "model_module_version": "1.5.0",
          "state": {
            "_dom_classes": [],
            "_model_module": "@jupyter-widgets/controls",
            "_model_module_version": "1.5.0",
            "_model_name": "HBoxModel",
            "_view_count": null,
            "_view_module": "@jupyter-widgets/controls",
            "_view_module_version": "1.5.0",
            "_view_name": "HBoxView",
            "box_style": "",
            "children": [
              "IPY_MODEL_8204d27ba55a4cccb64ec4c36242d8b2",
              "IPY_MODEL_6492be0d3ce547fd9c0ca7ee424ae572",
              "IPY_MODEL_5f9618b3f76943d89b0568a32c55ffd2"
            ],
            "layout": "IPY_MODEL_40e55ee1b1ec45d3b565e18d05a3a648"
          }
        },
        "8204d27ba55a4cccb64ec4c36242d8b2": {
          "model_module": "@jupyter-widgets/controls",
          "model_name": "HTMLModel",
          "model_module_version": "1.5.0",
          "state": {
            "_dom_classes": [],
            "_model_module": "@jupyter-widgets/controls",
            "_model_module_version": "1.5.0",
            "_model_name": "HTMLModel",
            "_view_count": null,
            "_view_module": "@jupyter-widgets/controls",
            "_view_module_version": "1.5.0",
            "_view_name": "HTMLView",
            "description": "",
            "description_tooltip": null,
            "layout": "IPY_MODEL_be5a2f6237034fe5aaceb4c1e23cd6b0",
            "placeholder": "​",
            "style": "IPY_MODEL_006ea230aa2148719ae46a87d2eac2a9",
            "value": "special_tokens_map.json: 100%"
          }
        },
        "6492be0d3ce547fd9c0ca7ee424ae572": {
          "model_module": "@jupyter-widgets/controls",
          "model_name": "FloatProgressModel",
          "model_module_version": "1.5.0",
          "state": {
            "_dom_classes": [],
            "_model_module": "@jupyter-widgets/controls",
            "_model_module_version": "1.5.0",
            "_model_name": "FloatProgressModel",
            "_view_count": null,
            "_view_module": "@jupyter-widgets/controls",
            "_view_module_version": "1.5.0",
            "_view_name": "ProgressView",
            "bar_style": "success",
            "description": "",
            "description_tooltip": null,
            "layout": "IPY_MODEL_3124b4fcf015453f93c24bdb6fd245d8",
            "max": 112,
            "min": 0,
            "orientation": "horizontal",
            "style": "IPY_MODEL_de6e2e0a6b8646f5a7e7a91cabcd8b98",
            "value": 112
          }
        },
        "5f9618b3f76943d89b0568a32c55ffd2": {
          "model_module": "@jupyter-widgets/controls",
          "model_name": "HTMLModel",
          "model_module_version": "1.5.0",
          "state": {
            "_dom_classes": [],
            "_model_module": "@jupyter-widgets/controls",
            "_model_module_version": "1.5.0",
            "_model_name": "HTMLModel",
            "_view_count": null,
            "_view_module": "@jupyter-widgets/controls",
            "_view_module_version": "1.5.0",
            "_view_name": "HTMLView",
            "description": "",
            "description_tooltip": null,
            "layout": "IPY_MODEL_3e6e15256fcd41c3934e232d274ace5b",
            "placeholder": "​",
            "style": "IPY_MODEL_d38029cfb9af40919f747ea04f75c0ce",
            "value": " 112/112 [00:00&lt;00:00, 2.24kB/s]"
          }
        },
        "40e55ee1b1ec45d3b565e18d05a3a648": {
          "model_module": "@jupyter-widgets/base",
          "model_name": "LayoutModel",
          "model_module_version": "1.2.0",
          "state": {
            "_model_module": "@jupyter-widgets/base",
            "_model_module_version": "1.2.0",
            "_model_name": "LayoutModel",
            "_view_count": null,
            "_view_module": "@jupyter-widgets/base",
            "_view_module_version": "1.2.0",
            "_view_name": "LayoutView",
            "align_content": null,
            "align_items": null,
            "align_self": null,
            "border": null,
            "bottom": null,
            "display": null,
            "flex": null,
            "flex_flow": null,
            "grid_area": null,
            "grid_auto_columns": null,
            "grid_auto_flow": null,
            "grid_auto_rows": null,
            "grid_column": null,
            "grid_gap": null,
            "grid_row": null,
            "grid_template_areas": null,
            "grid_template_columns": null,
            "grid_template_rows": null,
            "height": null,
            "justify_content": null,
            "justify_items": null,
            "left": null,
            "margin": null,
            "max_height": null,
            "max_width": null,
            "min_height": null,
            "min_width": null,
            "object_fit": null,
            "object_position": null,
            "order": null,
            "overflow": null,
            "overflow_x": null,
            "overflow_y": null,
            "padding": null,
            "right": null,
            "top": null,
            "visibility": null,
            "width": null
          }
        },
        "be5a2f6237034fe5aaceb4c1e23cd6b0": {
          "model_module": "@jupyter-widgets/base",
          "model_name": "LayoutModel",
          "model_module_version": "1.2.0",
          "state": {
            "_model_module": "@jupyter-widgets/base",
            "_model_module_version": "1.2.0",
            "_model_name": "LayoutModel",
            "_view_count": null,
            "_view_module": "@jupyter-widgets/base",
            "_view_module_version": "1.2.0",
            "_view_name": "LayoutView",
            "align_content": null,
            "align_items": null,
            "align_self": null,
            "border": null,
            "bottom": null,
            "display": null,
            "flex": null,
            "flex_flow": null,
            "grid_area": null,
            "grid_auto_columns": null,
            "grid_auto_flow": null,
            "grid_auto_rows": null,
            "grid_column": null,
            "grid_gap": null,
            "grid_row": null,
            "grid_template_areas": null,
            "grid_template_columns": null,
            "grid_template_rows": null,
            "height": null,
            "justify_content": null,
            "justify_items": null,
            "left": null,
            "margin": null,
            "max_height": null,
            "max_width": null,
            "min_height": null,
            "min_width": null,
            "object_fit": null,
            "object_position": null,
            "order": null,
            "overflow": null,
            "overflow_x": null,
            "overflow_y": null,
            "padding": null,
            "right": null,
            "top": null,
            "visibility": null,
            "width": null
          }
        },
        "006ea230aa2148719ae46a87d2eac2a9": {
          "model_module": "@jupyter-widgets/controls",
          "model_name": "DescriptionStyleModel",
          "model_module_version": "1.5.0",
          "state": {
            "_model_module": "@jupyter-widgets/controls",
            "_model_module_version": "1.5.0",
            "_model_name": "DescriptionStyleModel",
            "_view_count": null,
            "_view_module": "@jupyter-widgets/base",
            "_view_module_version": "1.2.0",
            "_view_name": "StyleView",
            "description_width": ""
          }
        },
        "3124b4fcf015453f93c24bdb6fd245d8": {
          "model_module": "@jupyter-widgets/base",
          "model_name": "LayoutModel",
          "model_module_version": "1.2.0",
          "state": {
            "_model_module": "@jupyter-widgets/base",
            "_model_module_version": "1.2.0",
            "_model_name": "LayoutModel",
            "_view_count": null,
            "_view_module": "@jupyter-widgets/base",
            "_view_module_version": "1.2.0",
            "_view_name": "LayoutView",
            "align_content": null,
            "align_items": null,
            "align_self": null,
            "border": null,
            "bottom": null,
            "display": null,
            "flex": null,
            "flex_flow": null,
            "grid_area": null,
            "grid_auto_columns": null,
            "grid_auto_flow": null,
            "grid_auto_rows": null,
            "grid_column": null,
            "grid_gap": null,
            "grid_row": null,
            "grid_template_areas": null,
            "grid_template_columns": null,
            "grid_template_rows": null,
            "height": null,
            "justify_content": null,
            "justify_items": null,
            "left": null,
            "margin": null,
            "max_height": null,
            "max_width": null,
            "min_height": null,
            "min_width": null,
            "object_fit": null,
            "object_position": null,
            "order": null,
            "overflow": null,
            "overflow_x": null,
            "overflow_y": null,
            "padding": null,
            "right": null,
            "top": null,
            "visibility": null,
            "width": null
          }
        },
        "de6e2e0a6b8646f5a7e7a91cabcd8b98": {
          "model_module": "@jupyter-widgets/controls",
          "model_name": "ProgressStyleModel",
          "model_module_version": "1.5.0",
          "state": {
            "_model_module": "@jupyter-widgets/controls",
            "_model_module_version": "1.5.0",
            "_model_name": "ProgressStyleModel",
            "_view_count": null,
            "_view_module": "@jupyter-widgets/base",
            "_view_module_version": "1.2.0",
            "_view_name": "StyleView",
            "bar_color": null,
            "description_width": ""
          }
        },
        "3e6e15256fcd41c3934e232d274ace5b": {
          "model_module": "@jupyter-widgets/base",
          "model_name": "LayoutModel",
          "model_module_version": "1.2.0",
          "state": {
            "_model_module": "@jupyter-widgets/base",
            "_model_module_version": "1.2.0",
            "_model_name": "LayoutModel",
            "_view_count": null,
            "_view_module": "@jupyter-widgets/base",
            "_view_module_version": "1.2.0",
            "_view_name": "LayoutView",
            "align_content": null,
            "align_items": null,
            "align_self": null,
            "border": null,
            "bottom": null,
            "display": null,
            "flex": null,
            "flex_flow": null,
            "grid_area": null,
            "grid_auto_columns": null,
            "grid_auto_flow": null,
            "grid_auto_rows": null,
            "grid_column": null,
            "grid_gap": null,
            "grid_row": null,
            "grid_template_areas": null,
            "grid_template_columns": null,
            "grid_template_rows": null,
            "height": null,
            "justify_content": null,
            "justify_items": null,
            "left": null,
            "margin": null,
            "max_height": null,
            "max_width": null,
            "min_height": null,
            "min_width": null,
            "object_fit": null,
            "object_position": null,
            "order": null,
            "overflow": null,
            "overflow_x": null,
            "overflow_y": null,
            "padding": null,
            "right": null,
            "top": null,
            "visibility": null,
            "width": null
          }
        },
        "d38029cfb9af40919f747ea04f75c0ce": {
          "model_module": "@jupyter-widgets/controls",
          "model_name": "DescriptionStyleModel",
          "model_module_version": "1.5.0",
          "state": {
            "_model_module": "@jupyter-widgets/controls",
            "_model_module_version": "1.5.0",
            "_model_name": "DescriptionStyleModel",
            "_view_count": null,
            "_view_module": "@jupyter-widgets/base",
            "_view_module_version": "1.2.0",
            "_view_name": "StyleView",
            "description_width": ""
          }
        },
        "b5abac6b64b44c95adcc7c8f07b0b1ce": {
          "model_module": "@jupyter-widgets/controls",
          "model_name": "HBoxModel",
          "model_module_version": "1.5.0",
          "state": {
            "_dom_classes": [],
            "_model_module": "@jupyter-widgets/controls",
            "_model_module_version": "1.5.0",
            "_model_name": "HBoxModel",
            "_view_count": null,
            "_view_module": "@jupyter-widgets/controls",
            "_view_module_version": "1.5.0",
            "_view_name": "HBoxView",
            "box_style": "",
            "children": [
              "IPY_MODEL_2b8df672aa454c0785f313c0d170da7f",
              "IPY_MODEL_8c8d84f01b214def90a725f625741a48",
              "IPY_MODEL_312cd5f7401b45088d5750607df08c0d"
            ],
            "layout": "IPY_MODEL_07da5129e7824c8bbed2948c22d5d03e"
          }
        },
        "2b8df672aa454c0785f313c0d170da7f": {
          "model_module": "@jupyter-widgets/controls",
          "model_name": "HTMLModel",
          "model_module_version": "1.5.0",
          "state": {
            "_dom_classes": [],
            "_model_module": "@jupyter-widgets/controls",
            "_model_module_version": "1.5.0",
            "_model_name": "HTMLModel",
            "_view_count": null,
            "_view_module": "@jupyter-widgets/controls",
            "_view_module_version": "1.5.0",
            "_view_name": "HTMLView",
            "description": "",
            "description_tooltip": null,
            "layout": "IPY_MODEL_a8befe4d72be44a580ebf7dcb6f2819f",
            "placeholder": "​",
            "style": "IPY_MODEL_82955682aa59463f9420a2eda69883a0",
            "value": "config.json: 100%"
          }
        },
        "8c8d84f01b214def90a725f625741a48": {
          "model_module": "@jupyter-widgets/controls",
          "model_name": "FloatProgressModel",
          "model_module_version": "1.5.0",
          "state": {
            "_dom_classes": [],
            "_model_module": "@jupyter-widgets/controls",
            "_model_module_version": "1.5.0",
            "_model_name": "FloatProgressModel",
            "_view_count": null,
            "_view_module": "@jupyter-widgets/controls",
            "_view_module_version": "1.5.0",
            "_view_name": "ProgressView",
            "bar_style": "success",
            "description": "",
            "description_tooltip": null,
            "layout": "IPY_MODEL_28e500f736b74b0788d66ea807bf7e17",
            "max": 693,
            "min": 0,
            "orientation": "horizontal",
            "style": "IPY_MODEL_f63b163542044714941256e09be915d1",
            "value": 693
          }
        },
        "312cd5f7401b45088d5750607df08c0d": {
          "model_module": "@jupyter-widgets/controls",
          "model_name": "HTMLModel",
          "model_module_version": "1.5.0",
          "state": {
            "_dom_classes": [],
            "_model_module": "@jupyter-widgets/controls",
            "_model_module_version": "1.5.0",
            "_model_name": "HTMLModel",
            "_view_count": null,
            "_view_module": "@jupyter-widgets/controls",
            "_view_module_version": "1.5.0",
            "_view_name": "HTMLView",
            "description": "",
            "description_tooltip": null,
            "layout": "IPY_MODEL_27cac251dfbc4f5ab07f1fa6ccebcffa",
            "placeholder": "​",
            "style": "IPY_MODEL_f92558541fce41de9dd16d14c1c2421d",
            "value": " 693/693 [00:00&lt;00:00, 14.4kB/s]"
          }
        },
        "07da5129e7824c8bbed2948c22d5d03e": {
          "model_module": "@jupyter-widgets/base",
          "model_name": "LayoutModel",
          "model_module_version": "1.2.0",
          "state": {
            "_model_module": "@jupyter-widgets/base",
            "_model_module_version": "1.2.0",
            "_model_name": "LayoutModel",
            "_view_count": null,
            "_view_module": "@jupyter-widgets/base",
            "_view_module_version": "1.2.0",
            "_view_name": "LayoutView",
            "align_content": null,
            "align_items": null,
            "align_self": null,
            "border": null,
            "bottom": null,
            "display": null,
            "flex": null,
            "flex_flow": null,
            "grid_area": null,
            "grid_auto_columns": null,
            "grid_auto_flow": null,
            "grid_auto_rows": null,
            "grid_column": null,
            "grid_gap": null,
            "grid_row": null,
            "grid_template_areas": null,
            "grid_template_columns": null,
            "grid_template_rows": null,
            "height": null,
            "justify_content": null,
            "justify_items": null,
            "left": null,
            "margin": null,
            "max_height": null,
            "max_width": null,
            "min_height": null,
            "min_width": null,
            "object_fit": null,
            "object_position": null,
            "order": null,
            "overflow": null,
            "overflow_x": null,
            "overflow_y": null,
            "padding": null,
            "right": null,
            "top": null,
            "visibility": null,
            "width": null
          }
        },
        "a8befe4d72be44a580ebf7dcb6f2819f": {
          "model_module": "@jupyter-widgets/base",
          "model_name": "LayoutModel",
          "model_module_version": "1.2.0",
          "state": {
            "_model_module": "@jupyter-widgets/base",
            "_model_module_version": "1.2.0",
            "_model_name": "LayoutModel",
            "_view_count": null,
            "_view_module": "@jupyter-widgets/base",
            "_view_module_version": "1.2.0",
            "_view_name": "LayoutView",
            "align_content": null,
            "align_items": null,
            "align_self": null,
            "border": null,
            "bottom": null,
            "display": null,
            "flex": null,
            "flex_flow": null,
            "grid_area": null,
            "grid_auto_columns": null,
            "grid_auto_flow": null,
            "grid_auto_rows": null,
            "grid_column": null,
            "grid_gap": null,
            "grid_row": null,
            "grid_template_areas": null,
            "grid_template_columns": null,
            "grid_template_rows": null,
            "height": null,
            "justify_content": null,
            "justify_items": null,
            "left": null,
            "margin": null,
            "max_height": null,
            "max_width": null,
            "min_height": null,
            "min_width": null,
            "object_fit": null,
            "object_position": null,
            "order": null,
            "overflow": null,
            "overflow_x": null,
            "overflow_y": null,
            "padding": null,
            "right": null,
            "top": null,
            "visibility": null,
            "width": null
          }
        },
        "82955682aa59463f9420a2eda69883a0": {
          "model_module": "@jupyter-widgets/controls",
          "model_name": "DescriptionStyleModel",
          "model_module_version": "1.5.0",
          "state": {
            "_model_module": "@jupyter-widgets/controls",
            "_model_module_version": "1.5.0",
            "_model_name": "DescriptionStyleModel",
            "_view_count": null,
            "_view_module": "@jupyter-widgets/base",
            "_view_module_version": "1.2.0",
            "_view_name": "StyleView",
            "description_width": ""
          }
        },
        "28e500f736b74b0788d66ea807bf7e17": {
          "model_module": "@jupyter-widgets/base",
          "model_name": "LayoutModel",
          "model_module_version": "1.2.0",
          "state": {
            "_model_module": "@jupyter-widgets/base",
            "_model_module_version": "1.2.0",
            "_model_name": "LayoutModel",
            "_view_count": null,
            "_view_module": "@jupyter-widgets/base",
            "_view_module_version": "1.2.0",
            "_view_name": "LayoutView",
            "align_content": null,
            "align_items": null,
            "align_self": null,
            "border": null,
            "bottom": null,
            "display": null,
            "flex": null,
            "flex_flow": null,
            "grid_area": null,
            "grid_auto_columns": null,
            "grid_auto_flow": null,
            "grid_auto_rows": null,
            "grid_column": null,
            "grid_gap": null,
            "grid_row": null,
            "grid_template_areas": null,
            "grid_template_columns": null,
            "grid_template_rows": null,
            "height": null,
            "justify_content": null,
            "justify_items": null,
            "left": null,
            "margin": null,
            "max_height": null,
            "max_width": null,
            "min_height": null,
            "min_width": null,
            "object_fit": null,
            "object_position": null,
            "order": null,
            "overflow": null,
            "overflow_x": null,
            "overflow_y": null,
            "padding": null,
            "right": null,
            "top": null,
            "visibility": null,
            "width": null
          }
        },
        "f63b163542044714941256e09be915d1": {
          "model_module": "@jupyter-widgets/controls",
          "model_name": "ProgressStyleModel",
          "model_module_version": "1.5.0",
          "state": {
            "_model_module": "@jupyter-widgets/controls",
            "_model_module_version": "1.5.0",
            "_model_name": "ProgressStyleModel",
            "_view_count": null,
            "_view_module": "@jupyter-widgets/base",
            "_view_module_version": "1.2.0",
            "_view_name": "StyleView",
            "bar_color": null,
            "description_width": ""
          }
        },
        "27cac251dfbc4f5ab07f1fa6ccebcffa": {
          "model_module": "@jupyter-widgets/base",
          "model_name": "LayoutModel",
          "model_module_version": "1.2.0",
          "state": {
            "_model_module": "@jupyter-widgets/base",
            "_model_module_version": "1.2.0",
            "_model_name": "LayoutModel",
            "_view_count": null,
            "_view_module": "@jupyter-widgets/base",
            "_view_module_version": "1.2.0",
            "_view_name": "LayoutView",
            "align_content": null,
            "align_items": null,
            "align_self": null,
            "border": null,
            "bottom": null,
            "display": null,
            "flex": null,
            "flex_flow": null,
            "grid_area": null,
            "grid_auto_columns": null,
            "grid_auto_flow": null,
            "grid_auto_rows": null,
            "grid_column": null,
            "grid_gap": null,
            "grid_row": null,
            "grid_template_areas": null,
            "grid_template_columns": null,
            "grid_template_rows": null,
            "height": null,
            "justify_content": null,
            "justify_items": null,
            "left": null,
            "margin": null,
            "max_height": null,
            "max_width": null,
            "min_height": null,
            "min_width": null,
            "object_fit": null,
            "object_position": null,
            "order": null,
            "overflow": null,
            "overflow_x": null,
            "overflow_y": null,
            "padding": null,
            "right": null,
            "top": null,
            "visibility": null,
            "width": null
          }
        },
        "f92558541fce41de9dd16d14c1c2421d": {
          "model_module": "@jupyter-widgets/controls",
          "model_name": "DescriptionStyleModel",
          "model_module_version": "1.5.0",
          "state": {
            "_model_module": "@jupyter-widgets/controls",
            "_model_module_version": "1.5.0",
            "_model_name": "DescriptionStyleModel",
            "_view_count": null,
            "_view_module": "@jupyter-widgets/base",
            "_view_module_version": "1.2.0",
            "_view_name": "StyleView",
            "description_width": ""
          }
        }
      }
    },
    "accelerator": "GPU"
  },
  "cells": [
    {
      "cell_type": "markdown",
      "source": [
        "## 🐬 Описание проекта"
      ],
      "metadata": {
        "id": "6tA89UxDgnqc"
      }
    },
    {
      "cell_type": "markdown",
      "source": [
        "\n",
        "*   Исследование проводилось для кадрового агентства, предоставившего данные по закрытию вакансий за период 2023 - начало 2024 года.\n",
        "*   Цель (формулировка в ТЗ)\n",
        "Выявить признаки вакансий, привлекающих наибольшее внимание кандидатов и успешно закрывающихся силами агентства. В рамках выполнения данной задачи можно использовать любые методы и средства, даже если они не описаны в ТЗ.\n",
        "\n",
        "\n",
        "\n",
        "\n",
        "\n"
      ],
      "metadata": {
        "id": "pfazyor3gwXq"
      }
    },
    {
      "cell_type": "markdown",
      "source": [
        "## 🪼В этом ноутбуке продолжение [исследований](https://docs.google.com/spreadsheets/d/1HjNH6JRjQz9TJ_6DcXCofrh4xAIzBE84/edit?usp=drive_link&ouid=108036727568364940970&rtpof=true&sd=true), проведенных Марией и попытка немного по-другому обработать категориальные и текстовые признаки\n",
        "\n",
        "Основные отличия:\n",
        "- мультилейбл для типа занятости, образования, опыта и формата работы\n",
        "- уменьшение числа уникальных значений для городов\n",
        "- убрать курсы из признаков (насколько можно понять - это служебная информация, которую кандидат не видит)\n",
        "- tiny bert  вместо bert. В дальнейшем можно попробовать прикрутить суммаризацию, чтобы исключить повторы\n",
        "- тестовое задание - есть/нет\n",
        "- для названия позиции введена дополнительная фича - грейд\n",
        "- метод кластеризации по профессиям -  оставлен ручной с небольшими модификациями\n",
        "- города - разделены на наиболее крупные и все остальные, исключены неявные дубликаты"
      ],
      "metadata": {
        "id": "FXpJ_EJE25DQ"
      }
    },
    {
      "cell_type": "code",
      "source": [
        "from google.colab import drive\n",
        "drive.mount('/content/drive')"
      ],
      "metadata": {
        "colab": {
          "base_uri": "https://localhost:8080/"
        },
        "id": "cfoSmDGuzVZk",
        "outputId": "5137c6a6-05b9-4140-8dde-e0355ed0a22a"
      },
      "execution_count": 1,
      "outputs": [
        {
          "output_type": "stream",
          "name": "stdout",
          "text": [
            "Mounted at /content/drive\n"
          ]
        }
      ]
    },
    {
      "cell_type": "code",
      "source": [
        "!pip -q install catboost"
      ],
      "metadata": {
        "colab": {
          "base_uri": "https://localhost:8080/"
        },
        "id": "wMLc0px8KBrI",
        "outputId": "9f68722b-f021-4cd1-e6fd-f9c178136aa5"
      },
      "execution_count": 2,
      "outputs": [
        {
          "output_type": "stream",
          "name": "stdout",
          "text": [
            "\u001b[2K     \u001b[90m━━━━━━━━━━━━━━━━━━━━━━━━━━━━━━━━━━━━━━━━\u001b[0m \u001b[32m98.2/98.2 MB\u001b[0m \u001b[31m5.3 MB/s\u001b[0m eta \u001b[36m0:00:00\u001b[0m\n",
            "\u001b[?25h"
          ]
        }
      ]
    },
    {
      "cell_type": "code",
      "source": [
        "# !pip -q install pymorphy2"
      ],
      "metadata": {
        "id": "AslyxK_60IEN"
      },
      "execution_count": 3,
      "outputs": []
    },
    {
      "cell_type": "code",
      "execution_count": 4,
      "metadata": {
        "id": "e96e7632"
      },
      "outputs": [],
      "source": [
        "import pandas as pd\n",
        "import warnings\n",
        "import copy\n",
        "import re\n",
        "import os\n",
        "import numpy as np\n",
        "import torch\n",
        "from tqdm import tqdm\n",
        "import plotly.express as px\n",
        "import seaborn as sns\n",
        "import matplotlib.pyplot as plt\n",
        "from datetime import datetime, timedelta, date\n",
        "# import pymorphy2\n",
        "# from pymorphy2 import MorphAnalyzer\n",
        "from transformers import AutoTokenizer, AutoModelForSequenceClassification, AutoModel, BertConfig\n",
        "from sklearn.model_selection import train_test_split\n",
        "from sklearn.metrics import r2_score, mean_squared_error, mean_absolute_percentage_error\n",
        "from sklearn.metrics import confusion_matrix\n",
        "from sklearn.preprocessing import label_binarize\n",
        "from sklearn.metrics import roc_auc_score\n",
        "from sklearn.metrics import roc_curve, auc\n",
        "\n",
        "import joblib\n",
        "from catboost import CatBoostRegressor, Pool\n",
        "from sklearn.preprocessing import StandardScaler\n",
        "from sklearn.feature_extraction.text import TfidfVectorizer\n",
        "from sklearn.cluster import KMeans\n",
        "from pymystem3 import Mystem\n",
        "\n",
        "\n",
        "import torch.nn as nn\n",
        "from torch.utils.data import DataLoader, Dataset\n",
        "import torch.optim as optim\n",
        "from torch.optim.lr_scheduler import StepLR\n",
        "\n",
        "\n",
        "RANDOM_STATE = 2004\n",
        "pd.options.mode.chained_assignment = None\n",
        "pd.set_option('display.max_columns', None)\n",
        "warnings.simplefilter('ignore')\n",
        "\n",
        "sns.set(style='darkgrid', font_scale=1.2)"
      ]
    },
    {
      "cell_type": "code",
      "source": [
        "# import nltk\n",
        "# nltk.download('punkt')\n",
        "# from nltk.tokenize import word_tokenize\n",
        "\n",
        "# nltk.download('stopwords')\n",
        "# from nltk.corpus import names, stopwords, words\n",
        "# from wordcloud import WordCloud, STOPWORDS\n",
        "# STOPWORDS = set(stopwords.words('russian'))\n",
        "# nltk.download('wordnet')\n",
        "# from nltk.stem import WordNetLemmatizer"
      ],
      "metadata": {
        "id": "PwR9l8jMZFjT"
      },
      "execution_count": 5,
      "outputs": []
    },
    {
      "cell_type": "markdown",
      "source": [
        "## 🐚 Загрузка данных"
      ],
      "metadata": {
        "id": "yk8jOFf63vXL"
      }
    },
    {
      "cell_type": "code",
      "source": [
        "df = pd.read_excel('/content/drive/MyDrive/Colab Notebooks/vacancies/vacancy_statistics_2023.xlsx', index_col=False)"
      ],
      "metadata": {
        "id": "J_bhd4j80AnI"
      },
      "execution_count": 6,
      "outputs": []
    },
    {
      "cell_type": "code",
      "execution_count": 7,
      "metadata": {
        "id": "c716fe94",
        "outputId": "d11d3a5d-157d-4e4b-bed8-5feb707513f4",
        "colab": {
          "base_uri": "https://localhost:8080/",
          "height": 695
        }
      },
      "outputs": [
        {
          "output_type": "execute_result",
          "data": {
            "text/plain": [
              "        id       Статус    Источник лида      Менеджер Дата публикации  \\\n",
              "851   1465        Архив        Повторная     Фаткуллин      2023-08-15   \n",
              "1209  1954  Акселерация  Входящая заявка     Фаткуллин      2023-11-20   \n",
              "712   1256        Архив        Повторная     Фаткуллин      2023-07-19   \n",
              "542   1005        Архив          Сорсинг  Селиверстова      2023-06-09   \n",
              "290    651        Архив      Реферальная     Игнатенко      2023-04-05   \n",
              "\n",
              "     Дата закрытия  Количество просмотров  Количество откликов  \\\n",
              "851     2023-09-28                     26                    6   \n",
              "1209           NaN                     12                    4   \n",
              "712     2023-08-25                      9                    1   \n",
              "542     2023-10-27                     31                    4   \n",
              "290     2023-04-12                     33                   21   \n",
              "\n",
              "                Компания                         Позиция  \\\n",
              "851         ООО Лигал ДД              Python-разработчик   \n",
              "1209       Фонд Сколково  Младший менеджер по маркетингу   \n",
              "712                #IZUM             Интернет-маркетолог   \n",
              "542          ПроКонтекст             Интернет-маркетолог   \n",
              "290   Локальная компания    Frontend-разработчик (React)   \n",
              "\n",
              "                                               Курсы ЯП  Зарплата от  \\\n",
              "851         Python-разработчик плюс, Python-Разработчик          NaN   \n",
              "1209               Трафик-менеджер, Интернет маркетолог          NaN   \n",
              "712                Трафик-менеджер, Интернет маркетолог      40000.0   \n",
              "542   Трафик-менеджер, Специалист по контекстной рек...      40000.0   \n",
              "290   Web Bootcamp, React-разработчик, Веб-Разработч...          NaN   \n",
              "\n",
              "      Зарплата до            Город  \\\n",
              "851           NaN           Москва   \n",
              "1209          NaN           Москва   \n",
              "712      140000.0           Москва   \n",
              "542       40000.0           Москва   \n",
              "290           NaN  Санкт-Петербург   \n",
              "\n",
              "                                      Формат оформления  \\\n",
              "851                                       Самозанятость   \n",
              "1209  ИП, ГПХ, Самозанятость, Контракт, Трудовой дог...   \n",
              "712                                    Трудовой договор   \n",
              "542                                    Трудовой договор   \n",
              "290   ИП, ГПХ, Самозанятость, Контракт, Трудовой дог...   \n",
              "\n",
              "               Формат работы  \\\n",
              "851                 Удаленка   \n",
              "1209            Офис, Гибрид   \n",
              "712             Офис, Гибрид   \n",
              "542           Офис, Удаленка   \n",
              "290   Офис, Гибрид, Удаленка   \n",
              "\n",
              "                                                   Опыт  \\\n",
              "851   Около-релевантный (Pet-проекты, open-source, в...   \n",
              "1209  Около-релевантный (Pet-проекты, open-source, в...   \n",
              "712   Около-релевантный (Pet-проекты, open-source, в...   \n",
              "542   Около-релевантный (Pet-проекты, open-source, в...   \n",
              "290   Около-релевантный (Pet-проекты, open-source, в...   \n",
              "\n",
              "                                            Образование Ссылка на тестовое  \\\n",
              "851   Другое, Около-релевантное (например, техническ...                NaN   \n",
              "1209  Другое, Около-релевантное (например, техническ...                NaN   \n",
              "712   Другое, Около-релевантное (например, техническ...                NaN   \n",
              "542   Другое, Около-релевантное (например, техническ...                NaN   \n",
              "290   Другое, Около-релевантное (например, техническ...                NaN   \n",
              "\n",
              "                                              Занятость  \\\n",
              "851                               Стажировка, Проектная   \n",
              "1209                                             Полная   \n",
              "712                                   Частичная, Полная   \n",
              "542                                              Полная   \n",
              "290   Волонтерство, Проектная, Частичная, Стажировка...   \n",
              "\n",
              "                                Обязательные требования  \\\n",
              "851   Python _x000D_\\nRest API _x000D_\\nDjangoP Djan...   \n",
              "1209  Знание и опыт в разработке стратегии продукта,...   \n",
              "712   Обладаете образованием и/или проходили соответ...   \n",
              "542   - высшее образование (важен факт наличия дипло...   \n",
              "290    - хорошее знание React_x000D_\\n- желание учиться   \n",
              "\n",
              "                              Дополнительный требования  \\\n",
              "851                                                 NaN   \n",
              "1209                                                NaN   \n",
              "712           Готовность брать ответственность на себя.   \n",
              "542   - высшее образование в технической сфере;_x000...   \n",
              "290                - знание Vue, если не знаете, научим   \n",
              "\n",
              "                                           Этапы отбора  \\\n",
              "851   1. Скрининг резюме _x000D_\\n2. Собеседование с...   \n",
              "1209       1. Скрининг резюме _x000D_\\n2. Собеседование   \n",
              "712   1. Телефонное интервью._x000D_\\n2. Собеседован...   \n",
              "542   1. Отклик в Карьерном Трекере. _x000D_\\n2. Скр...   \n",
              "290                       - скрининг_x000D_\\n- интервью   \n",
              "\n",
              "                                                Условия  \n",
              "851   Удаленка_x000D_\\nПрактика для опыта _x000D_\\nП...  \n",
              "1209  Трудоустройство в соответствии с ТК РФ;_x000D_...  \n",
              "712   Работа в офисе полный день будет преимуществом...  \n",
              "542   - официальное оформление по ТК РФ;_x000D_\\n- р...  \n",
              "290   - можно на полную или частичную занятость_x000...  "
            ],
            "text/html": [
              "\n",
              "  <div id=\"df-a057ddf4-f86e-4cc4-9f34-2d1ab6b93f7e\" class=\"colab-df-container\">\n",
              "    <div>\n",
              "<style scoped>\n",
              "    .dataframe tbody tr th:only-of-type {\n",
              "        vertical-align: middle;\n",
              "    }\n",
              "\n",
              "    .dataframe tbody tr th {\n",
              "        vertical-align: top;\n",
              "    }\n",
              "\n",
              "    .dataframe thead th {\n",
              "        text-align: right;\n",
              "    }\n",
              "</style>\n",
              "<table border=\"1\" class=\"dataframe\">\n",
              "  <thead>\n",
              "    <tr style=\"text-align: right;\">\n",
              "      <th></th>\n",
              "      <th>id</th>\n",
              "      <th>Статус</th>\n",
              "      <th>Источник лида</th>\n",
              "      <th>Менеджер</th>\n",
              "      <th>Дата публикации</th>\n",
              "      <th>Дата закрытия</th>\n",
              "      <th>Количество просмотров</th>\n",
              "      <th>Количество откликов</th>\n",
              "      <th>Компания</th>\n",
              "      <th>Позиция</th>\n",
              "      <th>Курсы ЯП</th>\n",
              "      <th>Зарплата от</th>\n",
              "      <th>Зарплата до</th>\n",
              "      <th>Город</th>\n",
              "      <th>Формат оформления</th>\n",
              "      <th>Формат работы</th>\n",
              "      <th>Опыт</th>\n",
              "      <th>Образование</th>\n",
              "      <th>Ссылка на тестовое</th>\n",
              "      <th>Занятость</th>\n",
              "      <th>Обязательные требования</th>\n",
              "      <th>Дополнительный требования</th>\n",
              "      <th>Этапы отбора</th>\n",
              "      <th>Условия</th>\n",
              "    </tr>\n",
              "  </thead>\n",
              "  <tbody>\n",
              "    <tr>\n",
              "      <th>851</th>\n",
              "      <td>1465</td>\n",
              "      <td>Архив</td>\n",
              "      <td>Повторная</td>\n",
              "      <td>Фаткуллин</td>\n",
              "      <td>2023-08-15</td>\n",
              "      <td>2023-09-28</td>\n",
              "      <td>26</td>\n",
              "      <td>6</td>\n",
              "      <td>ООО Лигал ДД</td>\n",
              "      <td>Python-разработчик</td>\n",
              "      <td>Python-разработчик плюс, Python-Разработчик</td>\n",
              "      <td>NaN</td>\n",
              "      <td>NaN</td>\n",
              "      <td>Москва</td>\n",
              "      <td>Самозанятость</td>\n",
              "      <td>Удаленка</td>\n",
              "      <td>Около-релевантный (Pet-проекты, open-source, в...</td>\n",
              "      <td>Другое, Около-релевантное (например, техническ...</td>\n",
              "      <td>NaN</td>\n",
              "      <td>Стажировка, Проектная</td>\n",
              "      <td>Python _x000D_\\nRest API _x000D_\\nDjangoP Djan...</td>\n",
              "      <td>NaN</td>\n",
              "      <td>1. Скрининг резюме _x000D_\\n2. Собеседование с...</td>\n",
              "      <td>Удаленка_x000D_\\nПрактика для опыта _x000D_\\nП...</td>\n",
              "    </tr>\n",
              "    <tr>\n",
              "      <th>1209</th>\n",
              "      <td>1954</td>\n",
              "      <td>Акселерация</td>\n",
              "      <td>Входящая заявка</td>\n",
              "      <td>Фаткуллин</td>\n",
              "      <td>2023-11-20</td>\n",
              "      <td>NaN</td>\n",
              "      <td>12</td>\n",
              "      <td>4</td>\n",
              "      <td>Фонд Сколково</td>\n",
              "      <td>Младший менеджер по маркетингу</td>\n",
              "      <td>Трафик-менеджер, Интернет маркетолог</td>\n",
              "      <td>NaN</td>\n",
              "      <td>NaN</td>\n",
              "      <td>Москва</td>\n",
              "      <td>ИП, ГПХ, Самозанятость, Контракт, Трудовой дог...</td>\n",
              "      <td>Офис, Гибрид</td>\n",
              "      <td>Около-релевантный (Pet-проекты, open-source, в...</td>\n",
              "      <td>Другое, Около-релевантное (например, техническ...</td>\n",
              "      <td>NaN</td>\n",
              "      <td>Полная</td>\n",
              "      <td>Знание и опыт в разработке стратегии продукта,...</td>\n",
              "      <td>NaN</td>\n",
              "      <td>1. Скрининг резюме _x000D_\\n2. Собеседование</td>\n",
              "      <td>Трудоустройство в соответствии с ТК РФ;_x000D_...</td>\n",
              "    </tr>\n",
              "    <tr>\n",
              "      <th>712</th>\n",
              "      <td>1256</td>\n",
              "      <td>Архив</td>\n",
              "      <td>Повторная</td>\n",
              "      <td>Фаткуллин</td>\n",
              "      <td>2023-07-19</td>\n",
              "      <td>2023-08-25</td>\n",
              "      <td>9</td>\n",
              "      <td>1</td>\n",
              "      <td>#IZUM</td>\n",
              "      <td>Интернет-маркетолог</td>\n",
              "      <td>Трафик-менеджер, Интернет маркетолог</td>\n",
              "      <td>40000.0</td>\n",
              "      <td>140000.0</td>\n",
              "      <td>Москва</td>\n",
              "      <td>Трудовой договор</td>\n",
              "      <td>Офис, Гибрид</td>\n",
              "      <td>Около-релевантный (Pet-проекты, open-source, в...</td>\n",
              "      <td>Другое, Около-релевантное (например, техническ...</td>\n",
              "      <td>NaN</td>\n",
              "      <td>Частичная, Полная</td>\n",
              "      <td>Обладаете образованием и/или проходили соответ...</td>\n",
              "      <td>Готовность брать ответственность на себя.</td>\n",
              "      <td>1. Телефонное интервью._x000D_\\n2. Собеседован...</td>\n",
              "      <td>Работа в офисе полный день будет преимуществом...</td>\n",
              "    </tr>\n",
              "    <tr>\n",
              "      <th>542</th>\n",
              "      <td>1005</td>\n",
              "      <td>Архив</td>\n",
              "      <td>Сорсинг</td>\n",
              "      <td>Селиверстова</td>\n",
              "      <td>2023-06-09</td>\n",
              "      <td>2023-10-27</td>\n",
              "      <td>31</td>\n",
              "      <td>4</td>\n",
              "      <td>ПроКонтекст</td>\n",
              "      <td>Интернет-маркетолог</td>\n",
              "      <td>Трафик-менеджер, Специалист по контекстной рек...</td>\n",
              "      <td>40000.0</td>\n",
              "      <td>40000.0</td>\n",
              "      <td>Москва</td>\n",
              "      <td>Трудовой договор</td>\n",
              "      <td>Офис, Удаленка</td>\n",
              "      <td>Около-релевантный (Pet-проекты, open-source, в...</td>\n",
              "      <td>Другое, Около-релевантное (например, техническ...</td>\n",
              "      <td>NaN</td>\n",
              "      <td>Полная</td>\n",
              "      <td>- высшее образование (важен факт наличия дипло...</td>\n",
              "      <td>- высшее образование в технической сфере;_x000...</td>\n",
              "      <td>1. Отклик в Карьерном Трекере. _x000D_\\n2. Скр...</td>\n",
              "      <td>- официальное оформление по ТК РФ;_x000D_\\n- р...</td>\n",
              "    </tr>\n",
              "    <tr>\n",
              "      <th>290</th>\n",
              "      <td>651</td>\n",
              "      <td>Архив</td>\n",
              "      <td>Реферальная</td>\n",
              "      <td>Игнатенко</td>\n",
              "      <td>2023-04-05</td>\n",
              "      <td>2023-04-12</td>\n",
              "      <td>33</td>\n",
              "      <td>21</td>\n",
              "      <td>Локальная компания</td>\n",
              "      <td>Frontend-разработчик (React)</td>\n",
              "      <td>Web Bootcamp, React-разработчик, Веб-Разработч...</td>\n",
              "      <td>NaN</td>\n",
              "      <td>NaN</td>\n",
              "      <td>Санкт-Петербург</td>\n",
              "      <td>ИП, ГПХ, Самозанятость, Контракт, Трудовой дог...</td>\n",
              "      <td>Офис, Гибрид, Удаленка</td>\n",
              "      <td>Около-релевантный (Pet-проекты, open-source, в...</td>\n",
              "      <td>Другое, Около-релевантное (например, техническ...</td>\n",
              "      <td>NaN</td>\n",
              "      <td>Волонтерство, Проектная, Частичная, Стажировка...</td>\n",
              "      <td>- хорошее знание React_x000D_\\n- желание учиться</td>\n",
              "      <td>- знание Vue, если не знаете, научим</td>\n",
              "      <td>- скрининг_x000D_\\n- интервью</td>\n",
              "      <td>- можно на полную или частичную занятость_x000...</td>\n",
              "    </tr>\n",
              "  </tbody>\n",
              "</table>\n",
              "</div>\n",
              "    <div class=\"colab-df-buttons\">\n",
              "\n",
              "  <div class=\"colab-df-container\">\n",
              "    <button class=\"colab-df-convert\" onclick=\"convertToInteractive('df-a057ddf4-f86e-4cc4-9f34-2d1ab6b93f7e')\"\n",
              "            title=\"Convert this dataframe to an interactive table.\"\n",
              "            style=\"display:none;\">\n",
              "\n",
              "  <svg xmlns=\"http://www.w3.org/2000/svg\" height=\"24px\" viewBox=\"0 -960 960 960\">\n",
              "    <path d=\"M120-120v-720h720v720H120Zm60-500h600v-160H180v160Zm220 220h160v-160H400v160Zm0 220h160v-160H400v160ZM180-400h160v-160H180v160Zm440 0h160v-160H620v160ZM180-180h160v-160H180v160Zm440 0h160v-160H620v160Z\"/>\n",
              "  </svg>\n",
              "    </button>\n",
              "\n",
              "  <style>\n",
              "    .colab-df-container {\n",
              "      display:flex;\n",
              "      gap: 12px;\n",
              "    }\n",
              "\n",
              "    .colab-df-convert {\n",
              "      background-color: #E8F0FE;\n",
              "      border: none;\n",
              "      border-radius: 50%;\n",
              "      cursor: pointer;\n",
              "      display: none;\n",
              "      fill: #1967D2;\n",
              "      height: 32px;\n",
              "      padding: 0 0 0 0;\n",
              "      width: 32px;\n",
              "    }\n",
              "\n",
              "    .colab-df-convert:hover {\n",
              "      background-color: #E2EBFA;\n",
              "      box-shadow: 0px 1px 2px rgba(60, 64, 67, 0.3), 0px 1px 3px 1px rgba(60, 64, 67, 0.15);\n",
              "      fill: #174EA6;\n",
              "    }\n",
              "\n",
              "    .colab-df-buttons div {\n",
              "      margin-bottom: 4px;\n",
              "    }\n",
              "\n",
              "    [theme=dark] .colab-df-convert {\n",
              "      background-color: #3B4455;\n",
              "      fill: #D2E3FC;\n",
              "    }\n",
              "\n",
              "    [theme=dark] .colab-df-convert:hover {\n",
              "      background-color: #434B5C;\n",
              "      box-shadow: 0px 1px 3px 1px rgba(0, 0, 0, 0.15);\n",
              "      filter: drop-shadow(0px 1px 2px rgba(0, 0, 0, 0.3));\n",
              "      fill: #FFFFFF;\n",
              "    }\n",
              "  </style>\n",
              "\n",
              "    <script>\n",
              "      const buttonEl =\n",
              "        document.querySelector('#df-a057ddf4-f86e-4cc4-9f34-2d1ab6b93f7e button.colab-df-convert');\n",
              "      buttonEl.style.display =\n",
              "        google.colab.kernel.accessAllowed ? 'block' : 'none';\n",
              "\n",
              "      async function convertToInteractive(key) {\n",
              "        const element = document.querySelector('#df-a057ddf4-f86e-4cc4-9f34-2d1ab6b93f7e');\n",
              "        const dataTable =\n",
              "          await google.colab.kernel.invokeFunction('convertToInteractive',\n",
              "                                                    [key], {});\n",
              "        if (!dataTable) return;\n",
              "\n",
              "        const docLinkHtml = 'Like what you see? Visit the ' +\n",
              "          '<a target=\"_blank\" href=https://colab.research.google.com/notebooks/data_table.ipynb>data table notebook</a>'\n",
              "          + ' to learn more about interactive tables.';\n",
              "        element.innerHTML = '';\n",
              "        dataTable['output_type'] = 'display_data';\n",
              "        await google.colab.output.renderOutput(dataTable, element);\n",
              "        const docLink = document.createElement('div');\n",
              "        docLink.innerHTML = docLinkHtml;\n",
              "        element.appendChild(docLink);\n",
              "      }\n",
              "    </script>\n",
              "  </div>\n",
              "\n",
              "\n",
              "<div id=\"df-dec9fe9b-7905-41db-9b02-2be637813d6d\">\n",
              "  <button class=\"colab-df-quickchart\" onclick=\"quickchart('df-dec9fe9b-7905-41db-9b02-2be637813d6d')\"\n",
              "            title=\"Suggest charts\"\n",
              "            style=\"display:none;\">\n",
              "\n",
              "<svg xmlns=\"http://www.w3.org/2000/svg\" height=\"24px\"viewBox=\"0 0 24 24\"\n",
              "     width=\"24px\">\n",
              "    <g>\n",
              "        <path d=\"M19 3H5c-1.1 0-2 .9-2 2v14c0 1.1.9 2 2 2h14c1.1 0 2-.9 2-2V5c0-1.1-.9-2-2-2zM9 17H7v-7h2v7zm4 0h-2V7h2v10zm4 0h-2v-4h2v4z\"/>\n",
              "    </g>\n",
              "</svg>\n",
              "  </button>\n",
              "\n",
              "<style>\n",
              "  .colab-df-quickchart {\n",
              "      --bg-color: #E8F0FE;\n",
              "      --fill-color: #1967D2;\n",
              "      --hover-bg-color: #E2EBFA;\n",
              "      --hover-fill-color: #174EA6;\n",
              "      --disabled-fill-color: #AAA;\n",
              "      --disabled-bg-color: #DDD;\n",
              "  }\n",
              "\n",
              "  [theme=dark] .colab-df-quickchart {\n",
              "      --bg-color: #3B4455;\n",
              "      --fill-color: #D2E3FC;\n",
              "      --hover-bg-color: #434B5C;\n",
              "      --hover-fill-color: #FFFFFF;\n",
              "      --disabled-bg-color: #3B4455;\n",
              "      --disabled-fill-color: #666;\n",
              "  }\n",
              "\n",
              "  .colab-df-quickchart {\n",
              "    background-color: var(--bg-color);\n",
              "    border: none;\n",
              "    border-radius: 50%;\n",
              "    cursor: pointer;\n",
              "    display: none;\n",
              "    fill: var(--fill-color);\n",
              "    height: 32px;\n",
              "    padding: 0;\n",
              "    width: 32px;\n",
              "  }\n",
              "\n",
              "  .colab-df-quickchart:hover {\n",
              "    background-color: var(--hover-bg-color);\n",
              "    box-shadow: 0 1px 2px rgba(60, 64, 67, 0.3), 0 1px 3px 1px rgba(60, 64, 67, 0.15);\n",
              "    fill: var(--button-hover-fill-color);\n",
              "  }\n",
              "\n",
              "  .colab-df-quickchart-complete:disabled,\n",
              "  .colab-df-quickchart-complete:disabled:hover {\n",
              "    background-color: var(--disabled-bg-color);\n",
              "    fill: var(--disabled-fill-color);\n",
              "    box-shadow: none;\n",
              "  }\n",
              "\n",
              "  .colab-df-spinner {\n",
              "    border: 2px solid var(--fill-color);\n",
              "    border-color: transparent;\n",
              "    border-bottom-color: var(--fill-color);\n",
              "    animation:\n",
              "      spin 1s steps(1) infinite;\n",
              "  }\n",
              "\n",
              "  @keyframes spin {\n",
              "    0% {\n",
              "      border-color: transparent;\n",
              "      border-bottom-color: var(--fill-color);\n",
              "      border-left-color: var(--fill-color);\n",
              "    }\n",
              "    20% {\n",
              "      border-color: transparent;\n",
              "      border-left-color: var(--fill-color);\n",
              "      border-top-color: var(--fill-color);\n",
              "    }\n",
              "    30% {\n",
              "      border-color: transparent;\n",
              "      border-left-color: var(--fill-color);\n",
              "      border-top-color: var(--fill-color);\n",
              "      border-right-color: var(--fill-color);\n",
              "    }\n",
              "    40% {\n",
              "      border-color: transparent;\n",
              "      border-right-color: var(--fill-color);\n",
              "      border-top-color: var(--fill-color);\n",
              "    }\n",
              "    60% {\n",
              "      border-color: transparent;\n",
              "      border-right-color: var(--fill-color);\n",
              "    }\n",
              "    80% {\n",
              "      border-color: transparent;\n",
              "      border-right-color: var(--fill-color);\n",
              "      border-bottom-color: var(--fill-color);\n",
              "    }\n",
              "    90% {\n",
              "      border-color: transparent;\n",
              "      border-bottom-color: var(--fill-color);\n",
              "    }\n",
              "  }\n",
              "</style>\n",
              "\n",
              "  <script>\n",
              "    async function quickchart(key) {\n",
              "      const quickchartButtonEl =\n",
              "        document.querySelector('#' + key + ' button');\n",
              "      quickchartButtonEl.disabled = true;  // To prevent multiple clicks.\n",
              "      quickchartButtonEl.classList.add('colab-df-spinner');\n",
              "      try {\n",
              "        const charts = await google.colab.kernel.invokeFunction(\n",
              "            'suggestCharts', [key], {});\n",
              "      } catch (error) {\n",
              "        console.error('Error during call to suggestCharts:', error);\n",
              "      }\n",
              "      quickchartButtonEl.classList.remove('colab-df-spinner');\n",
              "      quickchartButtonEl.classList.add('colab-df-quickchart-complete');\n",
              "    }\n",
              "    (() => {\n",
              "      let quickchartButtonEl =\n",
              "        document.querySelector('#df-dec9fe9b-7905-41db-9b02-2be637813d6d button');\n",
              "      quickchartButtonEl.style.display =\n",
              "        google.colab.kernel.accessAllowed ? 'block' : 'none';\n",
              "    })();\n",
              "  </script>\n",
              "</div>\n",
              "    </div>\n",
              "  </div>\n"
            ],
            "application/vnd.google.colaboratory.intrinsic+json": {
              "type": "dataframe"
            }
          },
          "metadata": {},
          "execution_count": 7
        }
      ],
      "source": [
        "df.sample(5)"
      ]
    },
    {
      "cell_type": "code",
      "source": [
        "df.info()"
      ],
      "metadata": {
        "colab": {
          "base_uri": "https://localhost:8080/"
        },
        "id": "Uajb7cuneIDT",
        "outputId": "fbfbc57d-7d67-4ae7-b4ef-0fbd94398434"
      },
      "execution_count": 8,
      "outputs": [
        {
          "output_type": "stream",
          "name": "stdout",
          "text": [
            "<class 'pandas.core.frame.DataFrame'>\n",
            "RangeIndex: 1302 entries, 0 to 1301\n",
            "Data columns (total 24 columns):\n",
            " #   Column                     Non-Null Count  Dtype  \n",
            "---  ------                     --------------  -----  \n",
            " 0   id                         1302 non-null   int64  \n",
            " 1   Статус                     1302 non-null   object \n",
            " 2   Источник лида              1292 non-null   object \n",
            " 3   Менеджер                   1209 non-null   object \n",
            " 4   Дата публикации            1302 non-null   object \n",
            " 5   Дата закрытия              1144 non-null   object \n",
            " 6   Количество просмотров      1302 non-null   int64  \n",
            " 7   Количество откликов        1302 non-null   int64  \n",
            " 8   Компания                   1302 non-null   object \n",
            " 9   Позиция                    1302 non-null   object \n",
            " 10  Курсы ЯП                   1302 non-null   object \n",
            " 11  Зарплата от                476 non-null    float64\n",
            " 12  Зарплата до                377 non-null    float64\n",
            " 13  Город                      1302 non-null   object \n",
            " 14  Формат оформления          1302 non-null   object \n",
            " 15  Формат работы              1302 non-null   object \n",
            " 16  Опыт                       1302 non-null   object \n",
            " 17  Образование                1302 non-null   object \n",
            " 18  Ссылка на тестовое         107 non-null    object \n",
            " 19  Занятость                  1302 non-null   object \n",
            " 20  Обязательные требования    1302 non-null   object \n",
            " 21  Дополнительный требования  674 non-null    object \n",
            " 22  Этапы отбора               1302 non-null   object \n",
            " 23  Условия                    1302 non-null   object \n",
            "dtypes: float64(2), int64(3), object(19)\n",
            "memory usage: 244.2+ KB\n"
          ]
        }
      ]
    },
    {
      "cell_type": "code",
      "execution_count": 9,
      "metadata": {
        "id": "RbDU4rLc0QvQ"
      },
      "outputs": [],
      "source": [
        "df=df.rename(columns={'Статус':'status', 'Источник лида':'lead_source', 'Менеджер':'manager', 'Дата публикации':'start_date', 'Дата закрытия':'end_date', 'Количество просмотров':'views',\n",
        "'Количество откликов':'responses', 'Компания':'emp_brand',  'Позиция':'job_title', 'Курсы ЯП':'courses','Зарплата от':'salary_min', 'Зарплата до':'salary_max', 'Город':'city', 'Формат оформления':'contract', 'Формат работы':'format', 'Опыт':'experience', 'Образование':'education', 'Занятость':'employment', 'Ссылка на тестовое':'test_task', 'Обязательные требования':'mandatory', 'Дополнительный требования':'additional', 'Этапы отбора':'comр_stages', 'Условия':'work_conditions'\n",
        "})"
      ]
    },
    {
      "cell_type": "code",
      "source": [
        "df['target'] = df['responses'] / df['views']"
      ],
      "metadata": {
        "id": "xENy0o9G3XKW"
      },
      "execution_count": 10,
      "outputs": []
    },
    {
      "cell_type": "code",
      "source": [
        "df['test_task'] = df['test_task'].apply(lambda x: 1 if (x is not None) else 0)"
      ],
      "metadata": {
        "id": "A_eSOEw4U_YX"
      },
      "execution_count": 11,
      "outputs": []
    },
    {
      "cell_type": "code",
      "source": [
        "df = df.drop(columns=['id','status','lead_source','manager', 'start_date', 'end_date', 'views', 'responses', 'courses'], axis=1)"
      ],
      "metadata": {
        "id": "xS9NQHTL14xU"
      },
      "execution_count": 12,
      "outputs": []
    },
    {
      "cell_type": "code",
      "source": [
        "df['emp_brand'] = df['emp_brand'].apply(lambda x: x.lower().strip())"
      ],
      "metadata": {
        "id": "pzroC3r8FDMa"
      },
      "execution_count": 13,
      "outputs": []
    },
    {
      "cell_type": "code",
      "source": [
        "df.info()"
      ],
      "metadata": {
        "colab": {
          "base_uri": "https://localhost:8080/"
        },
        "id": "LrtkxbU-7o0i",
        "outputId": "a07e4dd6-9e5a-4c72-eced-7e5e8034f0ec"
      },
      "execution_count": 14,
      "outputs": [
        {
          "output_type": "stream",
          "name": "stdout",
          "text": [
            "<class 'pandas.core.frame.DataFrame'>\n",
            "RangeIndex: 1302 entries, 0 to 1301\n",
            "Data columns (total 16 columns):\n",
            " #   Column           Non-Null Count  Dtype  \n",
            "---  ------           --------------  -----  \n",
            " 0   emp_brand        1302 non-null   object \n",
            " 1   job_title        1302 non-null   object \n",
            " 2   salary_min       476 non-null    float64\n",
            " 3   salary_max       377 non-null    float64\n",
            " 4   city             1302 non-null   object \n",
            " 5   contract         1302 non-null   object \n",
            " 6   format           1302 non-null   object \n",
            " 7   experience       1302 non-null   object \n",
            " 8   education        1302 non-null   object \n",
            " 9   test_task        1302 non-null   int64  \n",
            " 10  employment       1302 non-null   object \n",
            " 11  mandatory        1302 non-null   object \n",
            " 12  additional       674 non-null    object \n",
            " 13  comр_stages      1302 non-null   object \n",
            " 14  work_conditions  1302 non-null   object \n",
            " 15  target           1302 non-null   float64\n",
            "dtypes: float64(3), int64(1), object(12)\n",
            "memory usage: 162.9+ KB\n"
          ]
        }
      ]
    },
    {
      "cell_type": "markdown",
      "source": [
        "## 🦈 Профессии и грейды"
      ],
      "metadata": {
        "id": "FD2_u_u8WM5f"
      }
    },
    {
      "cell_type": "code",
      "source": [
        "def grade(txt: str) -> str:\n",
        "    grds = ['intern', 'juniour', 'middle', 'senior', 'lead']\n",
        "    patterns = [['intern', 'интерн', 'стаж', 'ассист', 'помощ'],\n",
        "                ['juni', 'младш', 'джун'],\n",
        "                 ['middle', 'мидл', 'средн'],\n",
        "                 ['senior', 'сеньор', 'старш'],\n",
        "                  ['lead', 'ведущ', 'тимлид']]\n",
        "    result = 'unknown'\n",
        "    for g, p in zip(grds, patterns):\n",
        "        matches = [x for x in p if x in txt.lower()]\n",
        "        if len(matches) != 0:\n",
        "            result = g\n",
        "            pass # first match\n",
        "    return result"
      ],
      "metadata": {
        "id": "4a-dWDK39n5v"
      },
      "execution_count": 15,
      "outputs": []
    },
    {
      "cell_type": "code",
      "source": [
        "df['grade'] = df['job_title'].apply(grade)"
      ],
      "metadata": {
        "id": "tlMS_vmA9npD"
      },
      "execution_count": 16,
      "outputs": []
    },
    {
      "cell_type": "code",
      "source": [
        "df['grade'].hist()"
      ],
      "metadata": {
        "colab": {
          "base_uri": "https://localhost:8080/",
          "height": 454
        },
        "id": "XY9scRHdA1mG",
        "outputId": "9bbc67ed-0d8a-4a96-c9c3-0bf0ac86eb40"
      },
      "execution_count": 17,
      "outputs": [
        {
          "output_type": "execute_result",
          "data": {
            "text/plain": [
              "<Axes: >"
            ]
          },
          "metadata": {},
          "execution_count": 17
        },
        {
          "output_type": "display_data",
          "data": {
            "text/plain": [
              "<Figure size 640x480 with 1 Axes>"
            ],
            "image/png": "[encoded data removed]"
          },
          "metadata": {}
        }
      ]
    },
    {
      "cell_type": "code",
      "source": [
        "def prof(txt: str) -> str:\n",
        "    profs = ['developer', 'devops', 'ds', 'analyst', 'manager',\n",
        "             'tester', 'designer', 'marketolog', 'support', 'hr']\n",
        "    patterns = [['develop', 'разработ', 'программист'],\n",
        "                ['devops', 'ops'],\n",
        "                 ['ds', 'scien', 'саен', 'сайен', 'ml', 'nlp', 'машин'],\n",
        "                 ['аналит', 'analyst', 'данны'],\n",
        "                  ['pm', 'менеджер', 'руководитель', 'manager', 'куратор', 'администр'],\n",
        "                ['качеств', 'тест', 'test', 'qa'],\n",
        "                ['design', 'ux', 'ui', 'дизайн'],\n",
        "                ['таргет', 'market', 'маркет', 'контекст', 'smm', 'seo'],\n",
        "                ['support', 'техподдер', 'поддерж', 'забот'],\n",
        "                ['recruit', 'hr', 'сорсер', 'рекрут', 'ресечер', 'рисерчер']]\n",
        "    result = 'other'\n",
        "    for pr, pt in zip(profs, patterns):\n",
        "        matches = [x for x in pt if x in txt.lower()]\n",
        "        if len(matches) != 0:\n",
        "            result = pr\n",
        "            pass\n",
        "    return result"
      ],
      "metadata": {
        "id": "LanIA9WQLKnt"
      },
      "execution_count": 18,
      "outputs": []
    },
    {
      "cell_type": "code",
      "source": [
        "df['profession'] = df['job_title'].apply(prof)"
      ],
      "metadata": {
        "id": "469UgxamO8HH"
      },
      "execution_count": 19,
      "outputs": []
    },
    {
      "cell_type": "code",
      "source": [
        "df = df.drop(['job_title'], axis=1)"
      ],
      "metadata": {
        "id": "9bc9epu9Pdne"
      },
      "execution_count": 20,
      "outputs": []
    },
    {
      "cell_type": "markdown",
      "source": [
        "## 🐙 Города\n",
        "\n",
        "Строго говоря, сюда надо подтягивать geopandas и geonames. Пока что в качестве временной меры сделаем категории Москва, СПб, Екб и все остальное"
      ],
      "metadata": {
        "id": "1FOf3SzfP4ez"
      }
    },
    {
      "cell_type": "code",
      "source": [
        "def outside_the_mkad(txt: str) -> str:\n",
        "    patterns = [['москв', 'маскв', 'москов'],\n",
        "                ['петерб', 'санкт', 'спб', 'питер'],\n",
        "                ['екб', 'екатеринб']]\n",
        "    cities = ['MOW', 'LED', 'SVX']\n",
        "    result = 'other'\n",
        "    for c, pt in zip(cities, patterns):\n",
        "        matches = [x for x in pt if x in txt.lower()]\n",
        "        if len(matches) != 0:\n",
        "            result = c\n",
        "            pass\n",
        "    return result"
      ],
      "metadata": {
        "id": "5Va1edjkP13A"
      },
      "execution_count": 21,
      "outputs": []
    },
    {
      "cell_type": "code",
      "source": [
        "\n",
        "df['location'] = df['city'].apply(outside_the_mkad)"
      ],
      "metadata": {
        "id": "-8bCQB2APlYt"
      },
      "execution_count": 22,
      "outputs": []
    },
    {
      "cell_type": "code",
      "source": [
        "df['location'].hist()"
      ],
      "metadata": {
        "colab": {
          "base_uri": "https://localhost:8080/",
          "height": 454
        },
        "id": "aU1PMS-mRxMv",
        "outputId": "a62c7dbc-bf28-4009-ad29-d4a6a4331b09"
      },
      "execution_count": 23,
      "outputs": [
        {
          "output_type": "execute_result",
          "data": {
            "text/plain": [
              "<Axes: >"
            ]
          },
          "metadata": {},
          "execution_count": 23
        },
        {
          "output_type": "display_data",
          "data": {
            "text/plain": [
              "<Figure size 640x480 with 1 Axes>"
            ],
            "image/png": "[encoded data removed]"
          },
          "metadata": {}
        }
      ]
    },
    {
      "cell_type": "code",
      "source": [
        "df = df.drop(['city'], axis=1)"
      ],
      "metadata": {
        "id": "T3LKwLdpSEf1"
      },
      "execution_count": 24,
      "outputs": []
    },
    {
      "cell_type": "markdown",
      "source": [
        "## 🪸 Опыт, образования, условия работы"
      ],
      "metadata": {
        "id": "hRjmOMJJWX_u"
      }
    },
    {
      "cell_type": "code",
      "source": [
        "def labels(data: pd.DataFrame, column: str):\n",
        "    vals = data[column].unique()\n",
        "    all_vals = ','.join(list(vals))\n",
        "    all_vals = re.sub(r'\\((.*?)\\)', r'', all_vals).split(',')\n",
        "    all_vals = list(map(lambda x: x.strip(), all_vals))\n",
        "    un_vals = list(set(all_vals))\n",
        "    for u in un_vals:\n",
        "        data[u] = data[column].apply(lambda x: 1 if u in x else 0)"
      ],
      "metadata": {
        "id": "N6I-WxFUWXXS"
      },
      "execution_count": 25,
      "outputs": []
    },
    {
      "cell_type": "code",
      "source": [
        "labels(df, 'experience')"
      ],
      "metadata": {
        "id": "2zxGYN4OX_V_"
      },
      "execution_count": 26,
      "outputs": []
    },
    {
      "cell_type": "code",
      "source": [
        "df = df.rename(columns={'Релевантный': 'relevant_exp',\n",
        "                   'Около-релевантный': 'near_exp',\n",
        "                   'Есть только учебный опыт в Практикуме': 'student_exp'})\n",
        "df = df.drop(['experience'], axis=1)"
      ],
      "metadata": {
        "id": "Q5VvxhrIgbHw"
      },
      "execution_count": 27,
      "outputs": []
    },
    {
      "cell_type": "code",
      "source": [
        "labels(df, 'education')"
      ],
      "metadata": {
        "id": "xmn9jMuXhp5n"
      },
      "execution_count": 28,
      "outputs": []
    },
    {
      "cell_type": "code",
      "source": [
        "df = df.rename(columns={'Профильное': 'relevant_edu',\n",
        "                   'Около-релевантное': 'near_edu',\n",
        "                   'Другое': 'other_edu'})\n",
        "df = df.drop(['education'], axis=1)"
      ],
      "metadata": {
        "id": "AUj4D-A1iNJt"
      },
      "execution_count": 29,
      "outputs": []
    },
    {
      "cell_type": "code",
      "source": [
        "labels(df, 'format')"
      ],
      "metadata": {
        "id": "d7JU9BEIjD5w"
      },
      "execution_count": 30,
      "outputs": []
    },
    {
      "cell_type": "code",
      "source": [
        "labels(df, 'contract')"
      ],
      "metadata": {
        "id": "89nWjjq1jQnm"
      },
      "execution_count": 31,
      "outputs": []
    },
    {
      "cell_type": "code",
      "source": [
        "df = df.rename(columns={'Удаленка': 'remote',\n",
        "                   'Офис': 'office',\n",
        "                   'Гибрид': 'hybrid',\n",
        "                        'ГПХ': 'gph',\n",
        "                        'Контракт': 'temporary',\n",
        "                        'Трудовой договор': 'permanent',\n",
        "                        'Самозанятость': 'self_empl',\n",
        "                        'ИП': 'ind_enterp'})\n",
        "df = df.drop(['format', 'contract'], axis=1)"
      ],
      "metadata": {
        "id": "0FFKXbYcjkIx"
      },
      "execution_count": 32,
      "outputs": []
    },
    {
      "cell_type": "code",
      "source": [
        "labels(df, 'employment')"
      ],
      "metadata": {
        "id": "eD1LdaHcr-EY"
      },
      "execution_count": 33,
      "outputs": []
    },
    {
      "cell_type": "code",
      "source": [
        "df = df.rename(columns={'Проектная': 'project',\n",
        "                   'Частичная': 'part_time',\n",
        "                   'Полная': 'full_time',\n",
        "                        'Стажировка': 'internship',\n",
        "                        'Волонтерство': 'volunteering'})\n",
        "df = df.drop(['employment'], axis=1)"
      ],
      "metadata": {
        "id": "GFAJM0oGsFOU"
      },
      "execution_count": 34,
      "outputs": []
    },
    {
      "cell_type": "markdown",
      "source": [
        "## 🐡 Заполнение пропусков"
      ],
      "metadata": {
        "id": "DIvPb4xNlzFO"
      }
    },
    {
      "cell_type": "code",
      "source": [
        "df['additional']= df['additional'].fillna(' или ')"
      ],
      "metadata": {
        "id": "TW0RN8lYl139"
      },
      "execution_count": 35,
      "outputs": []
    },
    {
      "cell_type": "code",
      "source": [
        "# df['salary_min'] = df.groupby(\"profession\")['salary_min'].transform(lambda x: x.fillna(x.median()))\n",
        "# df['salary_max'] = df.groupby(\"profession\")['salary_max'].transform(lambda x: x.fillna(x.median()))"
      ],
      "metadata": {
        "id": "afQaeWluns3O"
      },
      "execution_count": 36,
      "outputs": []
    },
    {
      "cell_type": "code",
      "source": [
        "df['description'] = df['mandatory'] + df['additional'] + df['comр_stages'] + df['work_conditions']\n",
        "df['emp_brand'] = df['emp_brand'] + ' '\n",
        "df['description_1'] = df['emp_brand'] + df['mandatory'] + df['additional'] + df['comр_stages'] + df['work_conditions']\n",
        "df = df.drop(['mandatory', 'additional', 'comр_stages', 'work_conditions'], axis=1)"
      ],
      "metadata": {
        "id": "D51FrW8PmpB6"
      },
      "execution_count": 37,
      "outputs": []
    },
    {
      "cell_type": "code",
      "source": [
        "df.info()"
      ],
      "metadata": {
        "id": "kh0RN5T2mZUe",
        "colab": {
          "base_uri": "https://localhost:8080/"
        },
        "outputId": "64caabc9-ebad-4f3b-824b-e1c838c50525"
      },
      "execution_count": 38,
      "outputs": [
        {
          "output_type": "stream",
          "name": "stdout",
          "text": [
            "<class 'pandas.core.frame.DataFrame'>\n",
            "RangeIndex: 1302 entries, 0 to 1301\n",
            "Data columns (total 29 columns):\n",
            " #   Column         Non-Null Count  Dtype  \n",
            "---  ------         --------------  -----  \n",
            " 0   emp_brand      1302 non-null   object \n",
            " 1   salary_min     476 non-null    float64\n",
            " 2   salary_max     377 non-null    float64\n",
            " 3   test_task      1302 non-null   int64  \n",
            " 4   target         1302 non-null   float64\n",
            " 5   grade          1302 non-null   object \n",
            " 6   profession     1302 non-null   object \n",
            " 7   location       1302 non-null   object \n",
            " 8   relevant_exp   1302 non-null   int64  \n",
            " 9   near_exp       1302 non-null   int64  \n",
            " 10  student_exp    1302 non-null   int64  \n",
            " 11  relevant_edu   1302 non-null   int64  \n",
            " 12  near_edu       1302 non-null   int64  \n",
            " 13  other_edu      1302 non-null   int64  \n",
            " 14  remote         1302 non-null   int64  \n",
            " 15  office         1302 non-null   int64  \n",
            " 16  hybrid         1302 non-null   int64  \n",
            " 17  ind_enterp     1302 non-null   int64  \n",
            " 18  temporary      1302 non-null   int64  \n",
            " 19  gph            1302 non-null   int64  \n",
            " 20  permanent      1302 non-null   int64  \n",
            " 21  self_empl      1302 non-null   int64  \n",
            " 22  internship     1302 non-null   int64  \n",
            " 23  project        1302 non-null   int64  \n",
            " 24  volunteering   1302 non-null   int64  \n",
            " 25  part_time      1302 non-null   int64  \n",
            " 26  full_time      1302 non-null   int64  \n",
            " 27  description    1302 non-null   object \n",
            " 28  description_1  1302 non-null   object \n",
            "dtypes: float64(3), int64(20), object(6)\n",
            "memory usage: 295.1+ KB\n"
          ]
        }
      ]
    },
    {
      "cell_type": "markdown",
      "source": [
        "## 🦭 Text Processing (Tiny Bert)\n",
        "\n",
        "---\n",
        "\n"
      ],
      "metadata": {
        "id": "F7K7B1sQbPG8"
      }
    },
    {
      "cell_type": "code",
      "source": [
        "def cleaner(txt: str) -> str:\n",
        "    txt = re.sub(r'\\_(.*?)\\_', r'', txt)\n",
        "    txt = re.sub(r'([\\n\\t]*)', r'', txt)\n",
        "    return txt"
      ],
      "metadata": {
        "id": "huxoBrVxq8Zb"
      },
      "execution_count": 39,
      "outputs": []
    },
    {
      "cell_type": "code",
      "source": [
        "example = df['description'][154]\n",
        "print(example)\n",
        "print('_'*50)\n",
        "cleaner(example)"
      ],
      "metadata": {
        "colab": {
          "base_uri": "https://localhost:8080/",
          "height": 405
        },
        "id": "gsc3tOqRs2GN",
        "outputId": "1044e258-d8ab-411d-db2d-f7e772aa1682"
      },
      "execution_count": 40,
      "outputs": [
        {
          "output_type": "stream",
          "name": "stdout",
          "text": [
            "Кого мы ищем:_x000D_\n",
            "_x000D_\n",
            "- Мистера или Мисс Обаяние, самого очаровательного рекрутера;_x000D_\n",
            "- Настойчивого, но ненавязчивого, любящего людей человека;_x000D_\n",
            "- Рекрутера с опытом в подборе ИЛИ кандидата без опыта, жаждущего влиться в новый увлекательный мир IT-подбора;_x000D_\n",
            "- Разговорный английский от B1-B2 обязателен. или - Телефонный созвон с HRD _x000D_\n",
            "- Интервью в zoom с командой_x000D_\n",
            "Если тебя заинтересовала наша вакансия, пожалуйста, расскажи о своем самом большом профессиональном достижении в сопроводительном письме.- Мы не берем в работу неконкурентоспособные вакансии. - Никаких зарплат ниже рынка, скучных задач и мертвых стеков. _x000D_\n",
            "- Удаленка, оплата в долларах, релокейт - мы выбираем только такие позиции;_x000D_\n",
            "- Возможность познакомиться с системами подбора лучших компаний мира;_x000D_\n",
            "- Мы обучаем сами и привлекаем спикеров со стороны, чтобы усилить скиллы наших рекрутеров;_x000D_\n",
            "- Мы достойно оплачиваем работу: рекрутер получает оклад, а также от 10 до 25% от оклада нанятого разработчика;_x000D_\n",
            "- Полностью удаленная работа;_x000D_\n",
            "- Мы веселые и экологичные, притягивающие таких же приятных людей, клиентов и соискателей.\n",
            "__________________________________________________\n"
          ]
        },
        {
          "output_type": "execute_result",
          "data": {
            "text/plain": [
              "'Кого мы ищем:- Мистера или Мисс Обаяние, самого очаровательного рекрутера;- Настойчивого, но ненавязчивого, любящего людей человека;- Рекрутера с опытом в подборе ИЛИ кандидата без опыта, жаждущего влиться в новый увлекательный мир IT-подбора;- Разговорный английский от B1-B2 обязателен. или - Телефонный созвон с HRD - Интервью в zoom с командойЕсли тебя заинтересовала наша вакансия, пожалуйста, расскажи о своем самом большом профессиональном достижении в сопроводительном письме.- Мы не берем в работу неконкурентоспособные вакансии. - Никаких зарплат ниже рынка, скучных задач и мертвых стеков. - Удаленка, оплата в долларах, релокейт - мы выбираем только такие позиции;- Возможность познакомиться с системами подбора лучших компаний мира;- Мы обучаем сами и привлекаем спикеров со стороны, чтобы усилить скиллы наших рекрутеров;- Мы достойно оплачиваем работу: рекрутер получает оклад, а также от 10 до 25% от оклада нанятого разработчика;- Полностью удаленная работа;- Мы веселые и экологичные, притягивающие таких же приятных людей, клиентов и соискателей.'"
            ],
            "application/vnd.google.colaboratory.intrinsic+json": {
              "type": "string"
            }
          },
          "metadata": {},
          "execution_count": 40
        }
      ]
    },
    {
      "cell_type": "code",
      "source": [
        "df['description'] = df['description'].apply(cleaner)"
      ],
      "metadata": {
        "id": "TixF6hV9t2VO"
      },
      "execution_count": 41,
      "outputs": []
    },
    {
      "cell_type": "code",
      "source": [
        "df['description_1'] = df['description_1'].apply(cleaner)"
      ],
      "metadata": {
        "id": "a_EZ8mGfQHcP"
      },
      "execution_count": 42,
      "outputs": []
    },
    {
      "cell_type": "code",
      "source": [
        "df['seqlen'] = df['description'].apply(lambda x: len(x))\n",
        "q1 = df['seqlen'].quantile(.05)\n",
        "q2 = df['seqlen'].quantile(.95)\n",
        "df = df.loc[(df['seqlen'] > q1) & (df['seqlen'] < q2)]\n",
        "df['seqlen'].describe()"
      ],
      "metadata": {
        "colab": {
          "base_uri": "https://localhost:8080/"
        },
        "id": "W9YTtS8Kt99e",
        "outputId": "07074bb1-d407-4096-b86d-1511e4a99934"
      },
      "execution_count": 43,
      "outputs": [
        {
          "output_type": "execute_result",
          "data": {
            "text/plain": [
              "count    1170.000000\n",
              "mean      823.358974\n",
              "std       297.216041\n",
              "min       307.000000\n",
              "25%       583.000000\n",
              "50%       796.000000\n",
              "75%      1054.000000\n",
              "max      1488.000000\n",
              "Name: seqlen, dtype: float64"
            ]
          },
          "metadata": {},
          "execution_count": 43
        }
      ]
    },
    {
      "cell_type": "code",
      "source": [
        "df = df.drop(['seqlen'], axis=1)\n",
        "df.info()"
      ],
      "metadata": {
        "colab": {
          "base_uri": "https://localhost:8080/"
        },
        "id": "LpW8ABbDuKo5",
        "outputId": "f6797c6d-de7b-4da3-cc5c-9f010e7866c4"
      },
      "execution_count": 44,
      "outputs": [
        {
          "output_type": "stream",
          "name": "stdout",
          "text": [
            "<class 'pandas.core.frame.DataFrame'>\n",
            "Index: 1170 entries, 0 to 1301\n",
            "Data columns (total 29 columns):\n",
            " #   Column         Non-Null Count  Dtype  \n",
            "---  ------         --------------  -----  \n",
            " 0   emp_brand      1170 non-null   object \n",
            " 1   salary_min     425 non-null    float64\n",
            " 2   salary_max     337 non-null    float64\n",
            " 3   test_task      1170 non-null   int64  \n",
            " 4   target         1170 non-null   float64\n",
            " 5   grade          1170 non-null   object \n",
            " 6   profession     1170 non-null   object \n",
            " 7   location       1170 non-null   object \n",
            " 8   relevant_exp   1170 non-null   int64  \n",
            " 9   near_exp       1170 non-null   int64  \n",
            " 10  student_exp    1170 non-null   int64  \n",
            " 11  relevant_edu   1170 non-null   int64  \n",
            " 12  near_edu       1170 non-null   int64  \n",
            " 13  other_edu      1170 non-null   int64  \n",
            " 14  remote         1170 non-null   int64  \n",
            " 15  office         1170 non-null   int64  \n",
            " 16  hybrid         1170 non-null   int64  \n",
            " 17  ind_enterp     1170 non-null   int64  \n",
            " 18  temporary      1170 non-null   int64  \n",
            " 19  gph            1170 non-null   int64  \n",
            " 20  permanent      1170 non-null   int64  \n",
            " 21  self_empl      1170 non-null   int64  \n",
            " 22  internship     1170 non-null   int64  \n",
            " 23  project        1170 non-null   int64  \n",
            " 24  volunteering   1170 non-null   int64  \n",
            " 25  part_time      1170 non-null   int64  \n",
            " 26  full_time      1170 non-null   int64  \n",
            " 27  description    1170 non-null   object \n",
            " 28  description_1  1170 non-null   object \n",
            "dtypes: float64(3), int64(20), object(6)\n",
            "memory usage: 274.2+ KB\n"
          ]
        }
      ]
    },
    {
      "cell_type": "code",
      "source": [
        "tokenizer = AutoTokenizer.from_pretrained(\"cointegrated/rubert-tiny\")\n",
        "model = AutoModel.from_pretrained(\"cointegrated/rubert-tiny\")\n",
        "\n",
        "def embed_bert_cls(text):\n",
        "    t = tokenizer(text, padding=True, truncation=True, return_tensors='pt')\n",
        "    with torch.no_grad():\n",
        "        model_output = model(**{k: v.to(model.device) for k, v in t.items()})\n",
        "    embeddings = model_output.last_hidden_state[:, 0, :]\n",
        "    embeddings = torch.nn.functional.normalize(embeddings)\n",
        "    return embeddings[0].cpu().numpy()\n",
        "\n",
        "print(embed_bert_cls(example).shape)"
      ],
      "metadata": {
        "colab": {
          "base_uri": "https://localhost:8080/",
          "height": 226,
          "referenced_widgets": [
            "d7f74c93cca248d992b13a10c6bed7e4",
            "dc2e0a202c55438abb5faf6c352c1b93",
            "8b2e2614c61e44f4a05b915a8b971bdf",
            "49e9c91b61d34ca79df9cac4e5c4597a",
            "098db51cd509421d92f4ed74c3af1a90",
            "3264d532ff194d09b7d76273e864b3bd",
            "1433657df2ed4a92ba0fd9ffd02441e3",
            "dfad691e99b04b61954e8b059827fbe4",
            "3daca96662c64c4983e265117e1ad284",
            "13a97aa261ac4d3aa8a753a8ecb673cd",
            "5a592dae311a4b4ab26cf25375c782d7",
            "174c634c37874eeebd0cc088d7c702fa",
            "a38d0ca7cdbf454aa78498ca23671527",
            "82eb3525d240473894309a928936c995",
            "2a95007c75c8482eb8f05319ac836cf6",
            "bc1aebaf5e7f41bf807813d8bc3c646a",
            "20d232aa11dc49c6b7c8a30da568eb84",
            "8e9258bbb22d4fbfa38cb0f3a8f2d2b2",
            "869833db9aa244fb8b77731a1c733b67",
            "aa4d2ca115cc439eb0c4e944b19befdc",
            "f95785fb79d94b4fabf8375e49ebe5fe",
            "aff26d7489244213bb71f9a47be903b7",
            "116ef43ae97f45e1b61cbb492254cb72",
            "717d134c7a984e6f96d8a8d77a710ca7",
            "024ef8fa0a4942b7889df5d52a259570",
            "0c0e53bdfd0444b3a961819117b56c17",
            "acf88cdc438c40f7b5bc71d2624b6360",
            "9a7faa917a934cc4af764fb79d79ab53",
            "6aa509ab4698430dbfe138de82e74c14",
            "7f16f221fcd54150ab92dab59cff3d39",
            "311eb2d70dcd493fba2db7e25986ade9",
            "05c1798b332541269a783052cb0ea555",
            "8f6e002aeef34157a20ca0adc347cc4a",
            "f121ec917b4d4045ac89fbcfdeb90506",
            "780a11f5b35444abafa151e20a343880",
            "dd3f65513aa24c38bfa0a525f48f02d8",
            "467a298341cb40ccb505fce90823e383",
            "bec40849448d45ef98394a8db68e4740",
            "4263be2ccc8f4a5190fb911dc4ca5b8e",
            "2ba85c63f85a4041a82b5ca03522daf2",
            "2b2733465ccc495c8b01284c5250d903",
            "147b55fe34fe48c09bb69b7cb21f8a1d",
            "924a49e4f787421ead6a19f38a552f00",
            "c817825f6a0e4ca89771c3e56edf5347",
            "96904e0c883e4996b84b0b3296fc3ea1",
            "85780108387f4966983452a3848c54ef",
            "69ef4520f1f549259abc49db8d3b2242",
            "5ab8863257fb4e8ba2031990ea0abbd6",
            "7a5b6b55bbc449ed8a87c1e089f5ea06",
            "0b3bd7f84eda4814a864191ed1db9e04",
            "b6ff96f7ec4a43c7a765e5ca2caeb8f2",
            "6a94517eb90548a79e48f6b4dd78cc87",
            "f6282bfd98174982b360e8e376b07503",
            "e05f37952160433f8fdb9491d6e7e391",
            "12d2f69a85604cbe9d3b08f1ed6fdb46",
            "4f840a582c2d4a8fa10e90a46ee36dee",
            "88e1267b14cf42d188f75a5c117a53bb",
            "b5773c8873d34c92b07cf8797ed1b7bd",
            "f3daf41910fd4d57a7fbe6aa0e846fb0",
            "dc130a3b4b994cffbc458b4fa4fef4a9",
            "dded5710663f4e6398d52f53182dc2d2",
            "d0d2511109ab4fa699e92b7e0e4204b9",
            "b22daa85369e4ffe87a5a1899a7aec90",
            "4cde0c9332e8416a8afdc4866093d5ce",
            "dc4cfe40f5674252b9fc5d0b06925263",
            "b6bf1486eaf149ab816b00f486f95d3c"
          ]
        },
        "id": "4J5yFYHJvC52",
        "outputId": "b1fabf29-109f-4eea-ada3-b86ddb34318a"
      },
      "execution_count": 45,
      "outputs": [
        {
          "output_type": "display_data",
          "data": {
            "text/plain": [
              "tokenizer_config.json:   0%|          | 0.00/341 [00:00<?, ?B/s]"
            ],
            "application/vnd.jupyter.widget-view+json": {
              "version_major": 2,
              "version_minor": 0,
              "model_id": "d7f74c93cca248d992b13a10c6bed7e4"
            }
          },
          "metadata": {}
        },
        {
          "output_type": "display_data",
          "data": {
            "text/plain": [
              "config.json:   0%|          | 0.00/632 [00:00<?, ?B/s]"
            ],
            "application/vnd.jupyter.widget-view+json": {
              "version_major": 2,
              "version_minor": 0,
              "model_id": "174c634c37874eeebd0cc088d7c702fa"
            }
          },
          "metadata": {}
        },
        {
          "output_type": "display_data",
          "data": {
            "text/plain": [
              "vocab.txt:   0%|          | 0.00/241k [00:00<?, ?B/s]"
            ],
            "application/vnd.jupyter.widget-view+json": {
              "version_major": 2,
              "version_minor": 0,
              "model_id": "116ef43ae97f45e1b61cbb492254cb72"
            }
          },
          "metadata": {}
        },
        {
          "output_type": "display_data",
          "data": {
            "text/plain": [
              "tokenizer.json:   0%|          | 0.00/468k [00:00<?, ?B/s]"
            ],
            "application/vnd.jupyter.widget-view+json": {
              "version_major": 2,
              "version_minor": 0,
              "model_id": "f121ec917b4d4045ac89fbcfdeb90506"
            }
          },
          "metadata": {}
        },
        {
          "output_type": "display_data",
          "data": {
            "text/plain": [
              "special_tokens_map.json:   0%|          | 0.00/112 [00:00<?, ?B/s]"
            ],
            "application/vnd.jupyter.widget-view+json": {
              "version_major": 2,
              "version_minor": 0,
              "model_id": "96904e0c883e4996b84b0b3296fc3ea1"
            }
          },
          "metadata": {}
        },
        {
          "output_type": "display_data",
          "data": {
            "text/plain": [
              "model.safetensors:   0%|          | 0.00/47.7M [00:00<?, ?B/s]"
            ],
            "application/vnd.jupyter.widget-view+json": {
              "version_major": 2,
              "version_minor": 0,
              "model_id": "4f840a582c2d4a8fa10e90a46ee36dee"
            }
          },
          "metadata": {}
        },
        {
          "output_type": "stream",
          "name": "stdout",
          "text": [
            "(312,)\n"
          ]
        }
      ]
    },
    {
      "cell_type": "code",
      "source": [
        "# emb_result = np.array(list(map(lambda x: 'emb_' + str(x), range(312))))\n",
        "# emb_result = np.expand_dims(emb_result, axis=0)\n",
        "# for data in tqdm(df['description'].values, desc='Creating embeddings'):\n",
        "#     res = np.expand_dims(embed_bert_cls(data), axis=0)\n",
        "#     emb_result = np.concatenate((emb_result, res), axis=0)"
      ],
      "metadata": {
        "id": "439SAgPjviZr"
      },
      "execution_count": 46,
      "outputs": []
    },
    {
      "cell_type": "code",
      "source": [
        "# emb_result.shape"
      ],
      "metadata": {
        "id": "8xAefA9ozKv3"
      },
      "execution_count": 47,
      "outputs": []
    },
    {
      "cell_type": "code",
      "source": [
        "# dfe = pd.DataFrame(data=emb_result[1:,:], columns=emb_result[0,:])\n",
        "# dfe.head()"
      ],
      "metadata": {
        "id": "OfvQx0KMyueV"
      },
      "execution_count": 48,
      "outputs": []
    },
    {
      "cell_type": "code",
      "source": [
        "class VacClass(Dataset):\n",
        "    def __init__(self, annotations, thr: list):\n",
        "        self.annotations = annotations\n",
        "        self.threshold = thr\n",
        "\n",
        "    def __getitem__(self, idx):\n",
        "        txt_ = self.annotations['description_1'].values[idx]\n",
        "        target = self.annotations['target'].values[idx]\n",
        "        if target < self.threshold[0]:\n",
        "            target = 0\n",
        "        elif self.threshold[0] < target < self.threshold[1]:\n",
        "            target = 1\n",
        "        else:\n",
        "            target = 2\n",
        "        return [txt_], torch.tensor(target)\n",
        "\n",
        "    def __len__(self):\n",
        "        return len(self.annotations)"
      ],
      "metadata": {
        "id": "iSYA2DBQ65vI"
      },
      "execution_count": 49,
      "outputs": []
    },
    {
      "cell_type": "code",
      "source": [
        "df['target'].hist(bins=50)"
      ],
      "metadata": {
        "colab": {
          "base_uri": "https://localhost:8080/",
          "height": 454
        },
        "id": "UGfrfnsL4OEK",
        "outputId": "9bab865c-cf0d-4a03-8c5a-07bf36c408e8"
      },
      "execution_count": 50,
      "outputs": [
        {
          "output_type": "execute_result",
          "data": {
            "text/plain": [
              "<Axes: >"
            ]
          },
          "metadata": {},
          "execution_count": 50
        },
        {
          "output_type": "display_data",
          "data": {
            "text/plain": [
              "<Figure size 640x480 with 1 Axes>"
            ],
            "image/png": "[encoded data removed]"
          },
          "metadata": {}
        }
      ]
    },
    {
      "cell_type": "code",
      "source": [
        "def cl(score: float):\n",
        "    if score < .2:\n",
        "        return 0\n",
        "    elif .2 < score < .4:\n",
        "        return 1\n",
        "    else:\n",
        "        return 2\n",
        "df['classes'] = df['target'].apply(cl)\n",
        "w = []\n",
        "for c in df['classes'].unique():\n",
        "    w.append(len(df.loc[df['classes'] == c]) / len(df))\n",
        "\n",
        "weights = torch.FloatTensor(w)\n",
        "weights"
      ],
      "metadata": {
        "colab": {
          "base_uri": "https://localhost:8080/"
        },
        "id": "Q3TixGthErfY",
        "outputId": "7b5d731d-04cd-41cf-9000-772ba009ccde"
      },
      "execution_count": 51,
      "outputs": [
        {
          "output_type": "execute_result",
          "data": {
            "text/plain": [
              "tensor([0.3530, 0.2641, 0.3829])"
            ]
          },
          "metadata": {},
          "execution_count": 51
        }
      ]
    },
    {
      "cell_type": "code",
      "source": [
        "device = torch.device('cuda') if torch.cuda.is_available() else torch.device('cpu')\n",
        "print('device:', device)\n",
        "SEED = torch.Generator().manual_seed(RANDOM_STATE)\n",
        "BATCH_SIZE = 32"
      ],
      "metadata": {
        "colab": {
          "base_uri": "https://localhost:8080/"
        },
        "id": "81mFH7Dj77uB",
        "outputId": "d3c96bc2-2f45-499f-8141-1158b1020f7a"
      },
      "execution_count": 52,
      "outputs": [
        {
          "output_type": "stream",
          "name": "stdout",
          "text": [
            "device: cpu\n"
          ]
        }
      ]
    },
    {
      "cell_type": "code",
      "source": [
        "vac = VacClass(df, [.22, .66])\n",
        "train_ru, valid_ru = torch.utils.data.random_split(vac, [.8, .2], generator=SEED)\n",
        "train_dataloader_ru = torch.utils.data.DataLoader(train_ru, batch_size=BATCH_SIZE, shuffle=True, num_workers=0)\n",
        "valid_dataloader_ru = torch.utils.data.DataLoader(valid_ru, batch_size=BATCH_SIZE, shuffle=False, num_workers=0)"
      ],
      "metadata": {
        "id": "VLK3UWzy7pjB"
      },
      "execution_count": 53,
      "outputs": []
    },
    {
      "cell_type": "code",
      "source": [
        "class TransformerRegrModel(nn.Module):\n",
        "    def __init__(self, base_transformer_model: str, num_classes: int):\n",
        "        super().__init__()\n",
        "        self.tr_model = base_transformer_model\n",
        "        self.num = num_classes\n",
        "\n",
        "        if self.tr_model not in  ['rubert', 'base']:\n",
        "            raise Exception('unknown model')\n",
        "        elif self.tr_model == 'rubert':\n",
        "            self.tokenizer = AutoTokenizer.from_pretrained(\"cointegrated/rubert-tiny2\")\n",
        "            self.config = BertConfig.from_pretrained(\"cointegrated/rubert-tiny2\", output_hidden_states=True, output_attentions=True)\n",
        "        elif self.tr_model == 'base':\n",
        "            self.tokenizer = AutoTokenizer.from_pretrained(\"ai-forever/ruBert-base\", model_max_length=512)\n",
        "            self.config = BertConfig.from_pretrained(\"ai-forever/ruBert-base\", output_hidden_states=True, output_attentions=True)\n",
        "        self.model = AutoModel.from_config(self.config)\n",
        "        self.a1 = nn.ReLU()\n",
        "        self.classifier_1 = nn.Linear(self.model.pooler.dense.out_features, 128)\n",
        "        self.classifier_dropout = nn.Dropout(p=0.2)\n",
        "        self.classifier_2 = nn.Linear(128, self.num)\n",
        "\n",
        "    def forward(self, inputs):\n",
        "        t = self.tokenizer(inputs, padding=True, truncation=True, return_tensors='pt')\n",
        "        tokens = self.tokenizer.convert_ids_to_tokens(t['input_ids'][0])\n",
        "        model_output = self.model(**{k: v.to(device) for k, v in t.items()})\n",
        "        attentions = torch.cat(model_output['attentions']).to('cpu')\n",
        "        embeddings = model_output.last_hidden_state[:, 0, :]\n",
        "        embeddings = torch.nn.functional.normalize(embeddings)\n",
        "        outputs = self.a1(embeddings)\n",
        "        outputs = self.classifier_1(outputs)\n",
        "        outputs = self.classifier_dropout(outputs)\n",
        "        outputs = self.a1(outputs)\n",
        "        outputs = self.classifier_dropout(outputs)\n",
        "        outputs = self.classifier_2(outputs)\n",
        "\n",
        "        return outputs, tokens, attentions"
      ],
      "metadata": {
        "id": "jJ_Avqv18Tqt"
      },
      "execution_count": 54,
      "outputs": []
    },
    {
      "cell_type": "code",
      "source": [
        "rubert = TransformerRegrModel('rubert', 3)"
      ],
      "metadata": {
        "id": "nr2-Xs5D9v-c",
        "colab": {
          "base_uri": "https://localhost:8080/",
          "height": 177,
          "referenced_widgets": [
            "afb1922ecdb949ba8ccc411743ffb575",
            "d2bb7b9ff0484d4c8c28b608d560d336",
            "8d05edafcd044019804087aa5d2080af",
            "19a4b345d5064ce999e173ae4ac11530",
            "7fd535fab8bb4e738efcad54fec61774",
            "3d7f3952a50b42ac9dff6c829c6b9ac9",
            "dc9dfe294bdf4ea786151f6abbd8b4e5",
            "df6395cdd0184eaa8e7588d1f9edbcad",
            "940c50f240ed4211badf3fb29160e0b1",
            "e036f3d78efe465b98700e691507b21c",
            "e39190b21b77448fb017f56b9f58342e",
            "331e97fadbc14a309f29b2d206484c67",
            "64d64c5827514c57a3c6b6a048ee7b62",
            "b21f58e14c244602ad21350827c9cd85",
            "048875e91b094277bad6d791cfc7e9aa",
            "5086350c3d1d45a7965b71306a490cfc",
            "e711d7d74ef846219296d869225b6ea1",
            "dc028803655a430b84501480e5d848fc",
            "ad134f31b75f4ebda06f92447e677537",
            "c85817066ff34a228dc888de2e73d6d7",
            "e464fe59146e43cfad58ab6f9b5018e2",
            "c4e4851375a94594a53665cc94c56c38",
            "5a83de3900404ccf8edaf748e8c7df86",
            "d0949647892943daa3ebb112e118d0c3",
            "24efae23004b4446a91378dec41e2dc3",
            "d080dd9987e743ae91e06db71c5a9e10",
            "7a06dc391d3349669adbaae1b17368d3",
            "48410a7c12394a2fb64659b7c4679af1",
            "c0a967a8f851435fa69ecdcdc84a3798",
            "53f1ae48c60c4c429d1e26d62532d7ab",
            "a424bd0885b14700b44004e226652f16",
            "afb4b9b1fa404416a7b0c89f4f0475ec",
            "dcb4eb5f9fb54d2d884a8035812ce661",
            "e6b0ddff02e44b5c830741b5e143aa44",
            "8204d27ba55a4cccb64ec4c36242d8b2",
            "6492be0d3ce547fd9c0ca7ee424ae572",
            "5f9618b3f76943d89b0568a32c55ffd2",
            "40e55ee1b1ec45d3b565e18d05a3a648",
            "be5a2f6237034fe5aaceb4c1e23cd6b0",
            "006ea230aa2148719ae46a87d2eac2a9",
            "3124b4fcf015453f93c24bdb6fd245d8",
            "de6e2e0a6b8646f5a7e7a91cabcd8b98",
            "3e6e15256fcd41c3934e232d274ace5b",
            "d38029cfb9af40919f747ea04f75c0ce",
            "b5abac6b64b44c95adcc7c8f07b0b1ce",
            "2b8df672aa454c0785f313c0d170da7f",
            "8c8d84f01b214def90a725f625741a48",
            "312cd5f7401b45088d5750607df08c0d",
            "07da5129e7824c8bbed2948c22d5d03e",
            "a8befe4d72be44a580ebf7dcb6f2819f",
            "82955682aa59463f9420a2eda69883a0",
            "28e500f736b74b0788d66ea807bf7e17",
            "f63b163542044714941256e09be915d1",
            "27cac251dfbc4f5ab07f1fa6ccebcffa",
            "f92558541fce41de9dd16d14c1c2421d"
          ]
        },
        "outputId": "98fbdbb4-5176-4958-91d3-20012b2f5752"
      },
      "execution_count": 55,
      "outputs": [
        {
          "output_type": "display_data",
          "data": {
            "text/plain": [
              "tokenizer_config.json:   0%|          | 0.00/401 [00:00<?, ?B/s]"
            ],
            "application/vnd.jupyter.widget-view+json": {
              "version_major": 2,
              "version_minor": 0,
              "model_id": "afb1922ecdb949ba8ccc411743ffb575"
            }
          },
          "metadata": {}
        },
        {
          "output_type": "display_data",
          "data": {
            "text/plain": [
              "vocab.txt:   0%|          | 0.00/1.08M [00:00<?, ?B/s]"
            ],
            "application/vnd.jupyter.widget-view+json": {
              "version_major": 2,
              "version_minor": 0,
              "model_id": "331e97fadbc14a309f29b2d206484c67"
            }
          },
          "metadata": {}
        },
        {
          "output_type": "display_data",
          "data": {
            "text/plain": [
              "tokenizer.json:   0%|          | 0.00/1.74M [00:00<?, ?B/s]"
            ],
            "application/vnd.jupyter.widget-view+json": {
              "version_major": 2,
              "version_minor": 0,
              "model_id": "5a83de3900404ccf8edaf748e8c7df86"
            }
          },
          "metadata": {}
        },
        {
          "output_type": "display_data",
          "data": {
            "text/plain": [
              "special_tokens_map.json:   0%|          | 0.00/112 [00:00<?, ?B/s]"
            ],
            "application/vnd.jupyter.widget-view+json": {
              "version_major": 2,
              "version_minor": 0,
              "model_id": "e6b0ddff02e44b5c830741b5e143aa44"
            }
          },
          "metadata": {}
        },
        {
          "output_type": "display_data",
          "data": {
            "text/plain": [
              "config.json:   0%|          | 0.00/693 [00:00<?, ?B/s]"
            ],
            "application/vnd.jupyter.widget-view+json": {
              "version_major": 2,
              "version_minor": 0,
              "model_id": "b5abac6b64b44c95adcc7c8f07b0b1ce"
            }
          },
          "metadata": {}
        }
      ]
    },
    {
      "cell_type": "code",
      "source": [
        "txts, labels = next(iter(train_dataloader_ru))\n",
        "rubert.to(device)\n",
        "rubert.eval()\n",
        "res, tokens, attentions = rubert(txts[0])\n",
        "res"
      ],
      "metadata": {
        "colab": {
          "base_uri": "https://localhost:8080/"
        },
        "id": "DJUulE8y9_Dn",
        "outputId": "7ae4f37c-9858-4454-e096-5ed0728bc7f8"
      },
      "execution_count": 56,
      "outputs": [
        {
          "output_type": "execute_result",
          "data": {
            "text/plain": [
              "tensor([[-0.0301,  0.0471, -0.0218],\n",
              "        [-0.0298,  0.0472, -0.0215],\n",
              "        [-0.0299,  0.0474, -0.0213],\n",
              "        [-0.0300,  0.0471, -0.0213],\n",
              "        [-0.0302,  0.0473, -0.0213],\n",
              "        [-0.0299,  0.0471, -0.0216],\n",
              "        [-0.0299,  0.0472, -0.0214],\n",
              "        [-0.0299,  0.0471, -0.0214],\n",
              "        [-0.0300,  0.0472, -0.0214],\n",
              "        [-0.0299,  0.0474, -0.0214],\n",
              "        [-0.0300,  0.0470, -0.0215],\n",
              "        [-0.0299,  0.0472, -0.0214],\n",
              "        [-0.0301,  0.0473, -0.0212],\n",
              "        [-0.0301,  0.0472, -0.0213],\n",
              "        [-0.0299,  0.0471, -0.0215],\n",
              "        [-0.0300,  0.0471, -0.0214],\n",
              "        [-0.0300,  0.0472, -0.0213],\n",
              "        [-0.0300,  0.0473, -0.0212],\n",
              "        [-0.0298,  0.0474, -0.0213],\n",
              "        [-0.0301,  0.0470, -0.0215],\n",
              "        [-0.0298,  0.0471, -0.0212],\n",
              "        [-0.0300,  0.0472, -0.0212],\n",
              "        [-0.0300,  0.0472, -0.0213],\n",
              "        [-0.0301,  0.0472, -0.0214],\n",
              "        [-0.0299,  0.0473, -0.0215],\n",
              "        [-0.0301,  0.0474, -0.0215],\n",
              "        [-0.0300,  0.0471, -0.0215],\n",
              "        [-0.0298,  0.0472, -0.0215],\n",
              "        [-0.0299,  0.0472, -0.0215],\n",
              "        [-0.0298,  0.0474, -0.0213],\n",
              "        [-0.0300,  0.0471, -0.0215],\n",
              "        [-0.0299,  0.0473, -0.0212]], grad_fn=<AddmmBackward0>)"
            ]
          },
          "metadata": {},
          "execution_count": 56
        }
      ]
    },
    {
      "cell_type": "code",
      "source": [
        "def fit_epoch(model, train_loader, criterion, optimizer, scheduler_down, scheduler_up):\n",
        "    model.train()\n",
        "    running_loss = 0.0\n",
        "    running_corrects = 0\n",
        "    processed_data = 0\n",
        "\n",
        "    for inputs, labels in train_loader:\n",
        "\n",
        "        # inputs = inputs[0].to(device)\n",
        "        labels = labels.to(device)\n",
        "        optimizer.zero_grad()\n",
        "\n",
        "        outputs, _, _ = model(inputs[0])\n",
        "        loss = criterion(outputs, labels)\n",
        "        loss.backward()\n",
        "        optimizer.step()\n",
        "        preds = torch.argmax(outputs, 1)\n",
        "        running_loss += loss.item() * len(inputs[0])\n",
        "        running_corrects += torch.sum(preds == labels.data)\n",
        "        processed_data += len(inputs[0])\n",
        "\n",
        "    scheduler_down.step()\n",
        "    # scheduler_up.step()\n",
        "    train_loss = running_loss / processed_data\n",
        "    train_acc = running_corrects.cpu().numpy() / processed_data\n",
        "    rate = optimizer.param_groups[0][\"lr\"]\n",
        "    return train_loss, train_acc, rate\n"
      ],
      "metadata": {
        "id": "gdbvIO-q8ES5"
      },
      "execution_count": 57,
      "outputs": []
    },
    {
      "cell_type": "code",
      "source": [
        "def eval_epoch(model, val_loader, criterion):\n",
        "    model.eval()\n",
        "    running_loss = 0.0\n",
        "    running_corrects = 0\n",
        "    processed_size = 0\n",
        "\n",
        "    for inputs, labels in val_loader:\n",
        "        # inputs = inputs[0].to(device)\n",
        "        labels = labels.to(device)\n",
        "\n",
        "        with torch.set_grad_enabled(False):\n",
        "            outputs, _, _ = model(inputs[0])\n",
        "            loss = criterion(outputs, labels)\n",
        "            preds = torch.argmax(outputs, 1)\n",
        "\n",
        "        running_loss += loss.item() * len(inputs[0])\n",
        "        running_corrects += torch.sum(preds == labels.data)\n",
        "        processed_size += len(inputs[0])\n",
        "    val_loss = running_loss / processed_size\n",
        "    val_acc = running_corrects.cpu().numpy() / processed_size\n",
        "    return val_loss, val_acc"
      ],
      "metadata": {
        "id": "eSGW6OMc-e_J"
      },
      "execution_count": 58,
      "outputs": []
    },
    {
      "cell_type": "code",
      "source": [
        "def predict(model, test_loader):\n",
        "    running_corrects = 0\n",
        "    processed_size = 0\n",
        "    with torch.no_grad():\n",
        "        logits = []\n",
        "        preds = []\n",
        "        answers = []\n",
        "\n",
        "        for inputs, labels in test_loader:\n",
        "            labels = labels.to(device)\n",
        "            model.eval()\n",
        "            outputs, _, _ = model(inputs[0])\n",
        "            logits.append(outputs.cpu())\n",
        "            preds.append(torch.argmax(outputs, 1).cpu())\n",
        "            answers.append(labels.cpu())\n",
        "            running_corrects += torch.sum(torch.argmax(outputs, 1) == labels.data)\n",
        "            processed_size += len(inputs[0])\n",
        "\n",
        "    probs = nn.functional.softmax(torch.cat(logits), dim=-1).numpy()\n",
        "    preds = torch.cat(preds, dim=-1).numpy()\n",
        "    answers = torch.cat(answers, dim=-1).numpy()\n",
        "    test_acc = running_corrects.cpu().numpy() / processed_size\n",
        "    return answers, preds, probs, test_acc"
      ],
      "metadata": {
        "id": "buD7EJ24oa06"
      },
      "execution_count": 59,
      "outputs": []
    },
    {
      "cell_type": "code",
      "source": [
        "def vizualize(h, model):\n",
        "    loss, acc, val_loss, val_acc, rate = zip(*h)\n",
        "    plt.figure(figsize=(15, 9))\n",
        "    plt.plot(loss, label=\"train_loss\")\n",
        "    plt.plot(val_loss, label=\"val_loss\")\n",
        "    plt.legend(loc='best')\n",
        "    plt.xlabel(\"epochs\")\n",
        "    plt.ylabel(\"loss\")\n",
        "    plt.show()\n",
        "    plt.plot(acc, label=\"train_accuracy\")\n",
        "    plt.plot(val_acc, label=\"validation_accuracy\")\n",
        "    plt.legend(loc='best')\n",
        "    plt.xlabel(\"epochs\")\n",
        "    plt.ylabel(\"accuracy\")\n",
        "    plt.show()\n",
        "    plt.plot(np.log(rate), label=\"learning_rate\", color='green')\n",
        "    plt.legend(loc='best')\n",
        "    plt.xlabel(\"epochs\")\n",
        "    plt.ylabel(\"learning rate (log scale)\")\n",
        "    plt.show()"
      ],
      "metadata": {
        "id": "KC2F6Ftr-o0U"
      },
      "execution_count": 60,
      "outputs": []
    },
    {
      "cell_type": "code",
      "source": [
        "def freeze_model(model):\n",
        "    for name, param in model.named_parameters():\n",
        "        if 'classifier' not in name:\n",
        "            param.requires_grad = False\n",
        "    return model"
      ],
      "metadata": {
        "id": "jw-V4cY8VKzA"
      },
      "execution_count": 61,
      "outputs": []
    },
    {
      "cell_type": "code",
      "source": [
        "def train_transformer(train, val, model, epochs, rate, criterion, freeze):\n",
        "    model_ = copy.copy(model)\n",
        "    if freeze:\n",
        "        model_ = freeze_model(model_)\n",
        "    history = []\n",
        "    log_template = \"\\nEpoch {ep:03d} train_loss: {t_loss:0.4f} \\\n",
        "    val_loss {v_loss:0.4f} train_acc {t_acc:0.4f} val_acc {v_acc:0.4f}, learning rate {r}\"\n",
        "\n",
        "    with tqdm(desc=\"epoch\", total=epochs) as pbar_outer:\n",
        "        opt = torch.optim.Adam(model_.parameters(), lr=rate)\n",
        "        # sch = StepLR(opt, step_size=5, gamma=0.1)\n",
        "        sch_down = StepLR(opt, step_size=25, gamma=0.2)\n",
        "        sch_up = StepLR(opt, step_size=10, gamma=200)\n",
        "\n",
        "        val_acc_p = 0\n",
        "\n",
        "        for epoch in range(epochs):\n",
        "            train_loss, train_acc, rate = fit_epoch(model_, train, criterion, opt, sch_down, sch_up)\n",
        "\n",
        "            val_loss, val_acc = eval_epoch(model_, val, criterion)\n",
        "            if val_acc > val_acc_p and epoch != 0:\n",
        "                torch.save(model_.state_dict(), \"/content/drive/MyDrive/Colab Notebooks/vacancies/tiny.pt\")\n",
        "                print(f'save best model for {epoch} epoch')\n",
        "                val_acc_p = val_acc\n",
        "            history.append((train_loss, train_acc, val_loss, val_acc, rate))\n",
        "\n",
        "            pbar_outer.update(1)\n",
        "            tqdm.write(log_template.format(ep=epoch+1, t_loss=train_loss,\\\n",
        "                                           v_loss=val_loss, t_acc=train_acc, v_acc=val_acc, r=rate))\n",
        "\n",
        "    return history, model_"
      ],
      "metadata": {
        "id": "4KszFUrE-wUN"
      },
      "execution_count": 62,
      "outputs": []
    },
    {
      "cell_type": "code",
      "source": [
        "bce = nn.CrossEntropyLoss(weight=weights.to(device))\n",
        "lr = 3e-4"
      ],
      "metadata": {
        "id": "umwRxP5C-_s5"
      },
      "execution_count": 63,
      "outputs": []
    },
    {
      "cell_type": "code",
      "source": [
        "rubert = rubert.to(device)\n",
        "graphs, trained_model = train_transformer(train_dataloader_ru, valid_dataloader_ru,\n",
        "                                                                rubert, epochs=75,\n",
        "                                                                rate=lr, criterion=bce, freeze=False)"
      ],
      "metadata": {
        "colab": {
          "base_uri": "https://localhost:8080/"
        },
        "id": "kCFvlrrS_md2",
        "outputId": "84e6c750-a124-4c8c-d99c-7dd49f1662f1"
      },
      "execution_count": null,
      "outputs": [
        {
          "output_type": "stream",
          "name": "stderr",
          "text": [
            "epoch:   2%|▏         | 1/45 [00:20<14:52, 20.29s/it]"
          ]
        },
        {
          "output_type": "stream",
          "name": "stdout",
          "text": [
            "\n",
            "Epoch 001 train_loss: 1.0341     val_loss 0.9952 train_acc 0.4893 val_acc 0.6282, learning rate 0.0003\n"
          ]
        },
        {
          "output_type": "stream",
          "name": "stderr",
          "text": [
            "epoch:   4%|▍         | 2/45 [00:39<14:04, 19.63s/it]"
          ]
        },
        {
          "output_type": "stream",
          "name": "stdout",
          "text": [
            "save best model for 1 epoch\n",
            "\n",
            "Epoch 002 train_loss: 0.9894     val_loss 0.9505 train_acc 0.6068 val_acc 0.6282, learning rate 0.0003\n"
          ]
        },
        {
          "output_type": "stream",
          "name": "stderr",
          "text": [
            "epoch:   7%|▋         | 3/45 [00:58<13:27, 19.23s/it]"
          ]
        },
        {
          "output_type": "stream",
          "name": "stdout",
          "text": [
            "\n",
            "Epoch 003 train_loss: 0.9593     val_loss 0.9213 train_acc 0.6090 val_acc 0.6282, learning rate 0.0003\n"
          ]
        },
        {
          "output_type": "stream",
          "name": "stderr",
          "text": [
            "epoch:   9%|▉         | 4/45 [01:16<12:56, 18.93s/it]"
          ]
        },
        {
          "output_type": "stream",
          "name": "stdout",
          "text": [
            "\n",
            "Epoch 004 train_loss: 0.9458     val_loss 0.9058 train_acc 0.6090 val_acc 0.6282, learning rate 0.0003\n"
          ]
        },
        {
          "output_type": "stream",
          "name": "stderr",
          "text": [
            "epoch:  11%|█         | 5/45 [01:35<12:31, 18.80s/it]"
          ]
        },
        {
          "output_type": "stream",
          "name": "stdout",
          "text": [
            "\n",
            "Epoch 005 train_loss: 0.9386     val_loss 0.8996 train_acc 0.6090 val_acc 0.6282, learning rate 0.0003\n"
          ]
        },
        {
          "output_type": "stream",
          "name": "stderr",
          "text": [
            "epoch:  13%|█▎        | 6/45 [01:53<12:11, 18.76s/it]"
          ]
        },
        {
          "output_type": "stream",
          "name": "stdout",
          "text": [
            "\n",
            "Epoch 006 train_loss: 0.9274     val_loss 0.9371 train_acc 0.6100 val_acc 0.6282, learning rate 0.0003\n"
          ]
        },
        {
          "output_type": "stream",
          "name": "stderr",
          "text": [
            "epoch:  16%|█▌        | 7/45 [02:12<11:48, 18.65s/it]"
          ]
        },
        {
          "output_type": "stream",
          "name": "stdout",
          "text": [
            "\n",
            "Epoch 007 train_loss: 0.8639     val_loss 0.9135 train_acc 0.7382 val_acc 0.5726, learning rate 0.0003\n"
          ]
        },
        {
          "output_type": "stream",
          "name": "stderr",
          "text": [
            "epoch:  18%|█▊        | 8/45 [02:30<11:27, 18.59s/it]"
          ]
        },
        {
          "output_type": "stream",
          "name": "stdout",
          "text": [
            "\n",
            "Epoch 008 train_loss: 0.6958     val_loss 0.9960 train_acc 0.8590 val_acc 0.5385, learning rate 0.0003\n"
          ]
        },
        {
          "output_type": "stream",
          "name": "stderr",
          "text": [
            "epoch:  20%|██        | 9/45 [02:49<11:10, 18.63s/it]"
          ]
        },
        {
          "output_type": "stream",
          "name": "stdout",
          "text": [
            "\n",
            "Epoch 009 train_loss: 0.5976     val_loss 1.1364 train_acc 0.8611 val_acc 0.5556, learning rate 0.0003\n"
          ]
        },
        {
          "output_type": "stream",
          "name": "stderr",
          "text": [
            "epoch:  22%|██▏       | 10/45 [03:08<10:50, 18.57s/it]"
          ]
        },
        {
          "output_type": "stream",
          "name": "stdout",
          "text": [
            "\n",
            "Epoch 010 train_loss: 0.5680     val_loss 1.3473 train_acc 0.8643 val_acc 0.4701, learning rate 0.0003\n"
          ]
        },
        {
          "output_type": "stream",
          "name": "stderr",
          "text": [
            "epoch:  24%|██▍       | 11/45 [03:26<10:28, 18.50s/it]"
          ]
        },
        {
          "output_type": "stream",
          "name": "stdout",
          "text": [
            "\n",
            "Epoch 011 train_loss: 0.4991     val_loss 1.2341 train_acc 0.8878 val_acc 0.5855, learning rate 0.0003\n"
          ]
        }
      ]
    },
    {
      "cell_type": "code",
      "source": [
        "vizualize(graphs, 'RuBert')"
      ],
      "metadata": {
        "colab": {
          "base_uri": "https://localhost:8080/",
          "height": 1000
        },
        "id": "d_Cfre6ECLf4",
        "outputId": "1620a6ad-f2ed-45c5-e835-291be0d38c8e"
      },
      "execution_count": 152,
      "outputs": [
        {
          "output_type": "display_data",
          "data": {
            "text/plain": [
              "<Figure size 1500x900 with 1 Axes>"
            ],
            "image/png": "[encoded data removed]"
          },
          "metadata": {}
        },
        {
          "output_type": "display_data",
          "data": {
            "text/plain": [
              "<Figure size 640x480 with 1 Axes>"
            ],
            "image/png": "[encoded data removed]"
          },
          "metadata": {}
        },
        {
          "output_type": "display_data",
          "data": {
            "text/plain": [
              "<Figure size 640x480 with 1 Axes>"
            ],
            "image/png": "[encoded data removed]"
          },
          "metadata": {}
        }
      ]
    },
    {
      "cell_type": "code",
      "source": [
        "tbert = TransformerRegrModel('rubert', 3)\n",
        "model_path = \"/content/drive/MyDrive/Colab Notebooks/vacancies/tiny.pt\"\n",
        "tbert.load_state_dict(torch.load(model_path, map_location=torch.device(device)))\n",
        "tbert.to(device)\n",
        "tbert.eval()\n",
        "result = predict(tbert, valid_dataloader_ru)"
      ],
      "metadata": {
        "id": "Ao-TXeAj3zQ5"
      },
      "execution_count": 153,
      "outputs": []
    },
    {
      "cell_type": "code",
      "source": [
        "CLASSES = {'low': 0,\n",
        "           'middle': 1,\n",
        "           'high': 2\n",
        "}"
      ],
      "metadata": {
        "id": "V_GHCjUxpbXA"
      },
      "execution_count": 154,
      "outputs": []
    },
    {
      "cell_type": "code",
      "source": [
        "conf_mx = pd.DataFrame(confusion_matrix(result[1], result[0]))\n",
        "\n",
        "fig, ax = plt.subplots(figsize=(10,10))\n",
        "ax = sns.heatmap(conf_mx, annot= True , fmt=\"d\",  cmap='YlGnBu', ax=ax)\n",
        "\n",
        "ax.set_title('Confusion Matrix');\n",
        "ax.set_xlabel('Predicted Values')\n",
        "ax.set_ylabel('Actual Values ');\n",
        "\n",
        "ax.xaxis.set_ticklabels(list(CLASSES.keys()))\n",
        "ax.yaxis.set_ticklabels(list(CLASSES.keys()))\n",
        "plt.show()"
      ],
      "metadata": {
        "colab": {
          "base_uri": "https://localhost:8080/",
          "height": 886
        },
        "id": "mux30Nl4pE3V",
        "outputId": "1f923c69-d8b4-4192-c96c-e3cdf04416cb"
      },
      "execution_count": 155,
      "outputs": [
        {
          "output_type": "display_data",
          "data": {
            "text/plain": [
              "<Figure size 1000x1000 with 2 Axes>"
            ],
            "image/png": "[encoded data removed]"
          },
          "metadata": {}
        }
      ]
    },
    {
      "cell_type": "code",
      "source": [
        "fig, ax = plt.subplots(figsize=(10,10))\n",
        "fpr = dict()\n",
        "tpr = dict()\n",
        "roc_auc = dict()\n",
        "classes = list(CLASSES.values())\n",
        "labels = list(CLASSES.keys())\n",
        "label_test = label_binarize(result[0], classes=classes)\n",
        "n_classes = label_test.shape[1]\n",
        "y_score = result[2]\n",
        "\n",
        "for i in range(n_classes):\n",
        "    fpr[i], tpr[i], _ = roc_curve(label_test[:, i], y_score[:, i])\n",
        "    roc_auc[i] = auc(fpr[i], tpr[i])\n",
        "\n",
        "for i in range(n_classes):\n",
        "    plt.plot(fpr[i], tpr[i], lw=2,\n",
        "             label='ROC curve of class {0} (area = {1:0.2f})'\n",
        "             ''.format(labels[i], roc_auc[i]))\n",
        "\n",
        "\n",
        "plt.plot([0, 1], [0, 1], 'k--', lw=2)\n",
        "plt.xlim([-0.05, 1.0])\n",
        "plt.ylim([0.0, 1.05])\n",
        "plt.xlabel('False Positive Rate')\n",
        "plt.ylabel('True Positive Rate')\n",
        "plt.title('Receiver operating characteristic for different classes')\n",
        "plt.legend(loc=\"lower right\")\n",
        "plt.show()"
      ],
      "metadata": {
        "colab": {
          "base_uri": "https://localhost:8080/",
          "height": 886
        },
        "id": "FMTq1GcbpSs3",
        "outputId": "9eb4ca90-82ec-4d4c-a9d3-9932685fed9a"
      },
      "execution_count": 156,
      "outputs": [
        {
          "output_type": "display_data",
          "data": {
            "text/plain": [
              "<Figure size 1000x1000 with 1 Axes>"
            ],
            "image/png": "[encoded data removed]"
          },
          "metadata": {}
        }
      ]
    },
    {
      "cell_type": "markdown",
      "source": [
        "## 🐳 Результаты\n",
        "\n",
        "**Режим обучения**\n",
        "\n",
        "- 45 эпох\n",
        "- начальная скорость 0,0003\n",
        "- шедуллер 0,1 с шагом в 15 эпох\n",
        "\n",
        "|Модель|Используемые признаки|Количество слоев классификатора|Дропаут|Заморозка|Accuracy|ROC-AUC по классам|\n",
        "|-|-|-|-|-|-|-|\n",
        "|tiny-bert|текстовые описания|1|нет|нет|0,63|0,59/0,56/0,61|\n",
        "|tiny-bert|текстовые описания|2|нет|нет|0,60|0,54/0,50/0,58|\n",
        "|tiny-bert|текстовые описания|2|0,1|нет|0,65|0,55/0,59/0,44|\n",
        "|tiny-bert|текстовые описания|1|0,1|нет|0,63|0,58/0,56/0,53|\n",
        "|tiny-bert|текстовые описания|1|нет|да|--|обучения не происходит|\n",
        "|tiny-bert|текстовые описания + названия|1|нет|нет|0,63|0,58/0,51/0,66|\n",
        "|ru-bert-base|текстовые описания + названия|1|нет|нет|обучения не происходит|--|\n",
        "\n",
        "- 75 эпох\n",
        "- начальная скорость 0,0003\n",
        "- шедуллер 0,2 с шагом в 25 эпох\n",
        "\n",
        "|Модель|Используемые признаки|Количество слоев классификатора|Дропаут|Заморозка|Accuracy|ROC-AUC по классам|\n",
        "|-|-|-|-|-|-|-|\n",
        "|tiny-bert|текстовые описания + названия|2|0,2|нет|||\n",
        "\n"
      ],
      "metadata": {
        "id": "Mq-MnXJMLIpj"
      }
    },
    {
      "cell_type": "markdown",
      "source": [
        "## 🐋 CatBoost"
      ],
      "metadata": {
        "id": "PZFbDdriZT-3"
      }
    },
    {
      "cell_type": "code",
      "source": [
        "def baseline(data: pd.DataFrame, columns: list, cat_features: list, target: list, save=False):\n",
        "    x_train, x_val, y_train, y_val = train_test_split(data[columns], data[target], random_state=RANDOM_STATE)\n",
        "    pool_train = Pool(x_train, y_train, cat_features=cat_features)\n",
        "    pool_val = Pool(x_val, y_val, cat_features=cat_features)\n",
        "    model = CatBoostRegressor(loss_function='RMSE')\n",
        "    model.fit(pool_train, eval_set=pool_val, verbose=False, early_stopping_rounds=20)\n",
        "    res = model.predict(pool_val)\n",
        "    y_val[\"pr\"] = res\n",
        "    y_val[\"diff\"] = - y_val[\"pr\"] + y_val[\"target\"]\n",
        "    r2 = r2_score(y_val[\"target\"], y_val[\"pr\"])\n",
        "    rmse_score = np.sqrt(mean_squared_error(y_val[\"target\"], y_val[\"pr\"]))\n",
        "    mape_score = 100*mean_absolute_percentage_error(y_val[\"target\"], y_val[\"pr\"])\n",
        "    plt.plot(y_val[\"target\"], y_val[\"diff\"], \"x\")\n",
        "    plt.title(f'Residuals\\nR2 score: {r2:.3f}\\n'\n",
        "              f'RMSE score: {rmse_score:.2f}\\n'\n",
        "              f'RMSE to target median ratio: {rmse_score / y_val[\"target\"].median():.2f}\\n'\n",
        "              f'MAPE score: {mape_score:.2f} %')\n",
        "    plt.show()\n",
        "    importances = model.feature_importances_\n",
        "    importances = pd.Series(importances, index=columns).sort_values(ascending=False)\n",
        "    importances.plot.bar()\n",
        "    plt.title(\"Feature importances\")\n",
        "    plt.ylabel(\"Mean decrease in impurity\")\n",
        "    plt.show()\n",
        "    if save:\n",
        "        name = f'{str(data.shape[0] * data.shape[1])}_cat.joblib'\n",
        "        joblib.dump(model, name)"
      ],
      "metadata": {
        "id": "lppUz4sA4Z3T"
      },
      "execution_count": 64,
      "outputs": []
    },
    {
      "cell_type": "code",
      "source": [
        "columns = df.columns.drop(['target', 'description', 'classes', 'description_1', 'emp_brand', 'salary_min', 'salary_max'])\n",
        "target = ['target']\n",
        "cat_features = ['grade', 'profession', 'location']\n",
        "text = ['description', 'clean_description']"
      ],
      "metadata": {
        "id": "DrYYEIvu1YnF"
      },
      "execution_count": 71,
      "outputs": []
    },
    {
      "cell_type": "code",
      "source": [
        "baseline(df, columns, cat_features, target)"
      ],
      "metadata": {
        "colab": {
          "base_uri": "https://localhost:8080/",
          "height": 1000
        },
        "id": "XztNqRDf2LAg",
        "outputId": "081328ac-0682-4322-9a99-0b183455251f"
      },
      "execution_count": 72,
      "outputs": [
        {
          "output_type": "display_data",
          "data": {
            "text/plain": [
              "<Figure size 640x480 with 1 Axes>"
            ],
            "image/png": "[encoded data removed]"
          },
          "metadata": {}
        },
        {
          "output_type": "display_data",
          "data": {
            "text/plain": [
              "<Figure size 640x480 with 1 Axes>"
            ],
            "image/png": "[encoded data removed]"
          },
          "metadata": {}
        }
      ]
    },
    {
      "cell_type": "code",
      "source": [
        "# df2 = pd.concat([df.reset_index(drop=True), dfe], axis=1)\n",
        "# columns = df2.columns.drop(['target', 'description'])\n",
        "# target = ['target']\n",
        "# cat_features = ['grade', 'profession', 'location']\n",
        "# text = ['description']\n",
        "\n",
        "# baseline(df2, columns, cat_features, target)"
      ],
      "metadata": {
        "id": "_7WqXW1C34wo"
      },
      "execution_count": null,
      "outputs": []
    },
    {
      "cell_type": "code",
      "source": [
        "df2 = df.loc[df['location'] == 'MOW']\n",
        "columns = df2.columns.drop(['target', 'description', 'location'])\n",
        "target = ['target']\n",
        "cat_features = ['grade', 'profession', 'emp_brand']\n",
        "\n",
        "baseline(df2, columns, cat_features, target)"
      ],
      "metadata": {
        "colab": {
          "base_uri": "https://localhost:8080/",
          "height": 1000
        },
        "id": "MZb6flye5S6L",
        "outputId": "d884cc32-24f2-4130-b040-50a514f4c8c4"
      },
      "execution_count": null,
      "outputs": [
        {
          "output_type": "display_data",
          "data": {
            "text/plain": [
              "<Figure size 640x480 with 1 Axes>"
            ],
            "image/png": "[encoded data removed]"
          },
          "metadata": {}
        },
        {
          "output_type": "display_data",
          "data": {
            "text/plain": [
              "<Figure size 640x480 with 1 Axes>"
            ],
            "image/png": "[encoded data removed]"
          },
          "metadata": {}
        }
      ]
    },
    {
      "cell_type": "code",
      "source": [
        "# for p in df['profession'].unique():\n",
        "#    df1 = df.loc[df['profession'] == p]\n",
        "#    columns = df1.columns.drop(['target', 'description', 'salary_min', 'salary_max', 'profession', 'location', 'grade'])\n",
        "#    target = ['target']\n",
        "#    cat_features = ['emp_brand']\n",
        "#    print(p.upper(), '\\n')\n",
        "#    baseline(df1, columns, cat_features, target)"
      ],
      "metadata": {
        "id": "W1cokGuxGomg"
      },
      "execution_count": null,
      "outputs": []
    },
    {
      "cell_type": "code",
      "source": [
        "df.info()"
      ],
      "metadata": {
        "colab": {
          "base_uri": "https://localhost:8080/"
        },
        "id": "3ferBbXxMnoH",
        "outputId": "637beebb-607f-4a10-a168-0905fba05290"
      },
      "execution_count": null,
      "outputs": [
        {
          "output_type": "stream",
          "name": "stdout",
          "text": [
            "<class 'pandas.core.frame.DataFrame'>\n",
            "Index: 1170 entries, 0 to 1301\n",
            "Data columns (total 28 columns):\n",
            " #   Column        Non-Null Count  Dtype  \n",
            "---  ------        --------------  -----  \n",
            " 0   emp_brand     1170 non-null   object \n",
            " 1   salary_min    425 non-null    float64\n",
            " 2   salary_max    1170 non-null   float64\n",
            " 3   test_task     1170 non-null   int64  \n",
            " 4   target        1170 non-null   float64\n",
            " 5   grade         1170 non-null   object \n",
            " 6   profession    1170 non-null   object \n",
            " 7   location      1170 non-null   object \n",
            " 8   near_exp      1170 non-null   int64  \n",
            " 9   student_exp   1170 non-null   int64  \n",
            " 10  relevant_exp  1170 non-null   int64  \n",
            " 11  other_edu     1170 non-null   int64  \n",
            " 12  near_edu      1170 non-null   int64  \n",
            " 13  relevant_edu  1170 non-null   int64  \n",
            " 14  office        1170 non-null   int64  \n",
            " 15  remote        1170 non-null   int64  \n",
            " 16  hybrid        1170 non-null   int64  \n",
            " 17  permanent     1170 non-null   int64  \n",
            " 18  self_empl     1170 non-null   int64  \n",
            " 19  gph           1170 non-null   int64  \n",
            " 20  temporary     1170 non-null   int64  \n",
            " 21  ind_enterp    1170 non-null   int64  \n",
            " 22  part_time     1170 non-null   int64  \n",
            " 23  internship    1170 non-null   int64  \n",
            " 24  volunteering  1170 non-null   int64  \n",
            " 25  project       1170 non-null   int64  \n",
            " 26  full_time     1170 non-null   int64  \n",
            " 27  description   1170 non-null   object \n",
            "dtypes: float64(3), int64(20), object(5)\n",
            "memory usage: 265.1+ KB\n"
          ]
        }
      ]
    },
    {
      "cell_type": "code",
      "source": [
        "df['edu_opt'] = df['other_edu'] + df['near_edu'] + df['relevant_edu']\n",
        "df['exp_opt'] = df['student_exp'] + df['near_exp'] + df['relevant_exp']\n",
        "df['format_opt'] = df['office'] + df['remote'] + df['hybrid']\n",
        "df['contract_opt'] = df['permanent'] + df['gph'] + df['self_empl'] + df['temporary'] + df['ind_enterp']\n",
        "df['time_opt'] = df['part_time'] + df['full_time'] +df['internship'] + df['volunteering'] + df['project']"
      ],
      "metadata": {
        "id": "7Wnj5_2UMiMO"
      },
      "execution_count": null,
      "outputs": []
    },
    {
      "cell_type": "code",
      "source": [
        "columns = ['emp_brand', 'test_task',\n",
        "       'profession', 'location', 'edu_opt', 'exp_opt', 'format_opt', 'contract_opt', 'time_opt']\n",
        "target = ['target']\n",
        "cat_features = ['profession', 'emp_brand', 'location']\n",
        "\n",
        "baseline(df, columns, cat_features, target)"
      ],
      "metadata": {
        "colab": {
          "base_uri": "https://localhost:8080/",
          "height": 1000
        },
        "id": "mXFCBUohM2oi",
        "outputId": "c9de290f-6bb0-4a03-d28b-1bf6bdf9ef1f"
      },
      "execution_count": null,
      "outputs": [
        {
          "output_type": "display_data",
          "data": {
            "text/plain": [
              "<Figure size 640x480 with 1 Axes>"
            ],
            "image/png": "[encoded data removed]"
          },
          "metadata": {}
        },
        {
          "output_type": "display_data",
          "data": {
            "text/plain": [
              "<Figure size 640x480 with 1 Axes>"
            ],
            "image/png": "[encoded data removed]"
          },
          "metadata": {}
        }
      ]
    },
    {
      "cell_type": "markdown",
      "source": [
        "## 🐠 Выводы\n",
        "\n",
        "\n",
        "- R2-score низкий\n",
        "- график остатков неприятный\n",
        "- добавление эмбеддингов в катбуст картину не улучшает\n",
        "- рассмотрение только москвы тоже принципиально лучше не делает\n",
        "- предсказания bert-ом прироста в метрике не дают\n",
        "- кластеризация по профессиям - тоже"
      ],
      "metadata": {
        "id": "0YnRMtyNw3et"
      }
    },
    {
      "cell_type": "code",
      "source": [],
      "metadata": {
        "id": "-Vm8k-ZSKySz"
      },
      "execution_count": null,
      "outputs": []
    }
  ]
}