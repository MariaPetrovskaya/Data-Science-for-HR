{
  "nbformat": 4,
  "nbformat_minor": 0,
  "metadata": {
    "colab": {
      "provenance": [],
      "gpuType": "T4"
    },
    "kernelspec": {
      "name": "python3",
      "display_name": "Python 3"
    },
    "language_info": {
      "name": "python"
    },
    "widgets": {
      "application/vnd.jupyter.widget-state+json": {
        "1e5f009bfaea487fbefb7615189b5e66": {
          "model_module": "@jupyter-widgets/controls",
          "model_name": "HBoxModel",
          "model_module_version": "1.5.0",
          "state": {
            "_dom_classes": [],
            "_model_module": "@jupyter-widgets/controls",
            "_model_module_version": "1.5.0",
            "_model_name": "HBoxModel",
            "_view_count": null,
            "_view_module": "@jupyter-widgets/controls",
            "_view_module_version": "1.5.0",
            "_view_name": "HBoxView",
            "box_style": "",
            "children": [
              "IPY_MODEL_6e52191369444fcba86d8a0a49e4351d",
              "IPY_MODEL_f9f4185e52f64b1f9319f1b8b3dd8e11",
              "IPY_MODEL_25b0b7c9b99a4be28365190f4e555af4"
            ],
            "layout": "IPY_MODEL_dc83fc7f10ff42148ea9214bd1c1fec6"
          }
        },
        "6e52191369444fcba86d8a0a49e4351d": {
          "model_module": "@jupyter-widgets/controls",
          "model_name": "HTMLModel",
          "model_module_version": "1.5.0",
          "state": {
            "_dom_classes": [],
            "_model_module": "@jupyter-widgets/controls",
            "_model_module_version": "1.5.0",
            "_model_name": "HTMLModel",
            "_view_count": null,
            "_view_module": "@jupyter-widgets/controls",
            "_view_module_version": "1.5.0",
            "_view_name": "HTMLView",
            "description": "",
            "description_tooltip": null,
            "layout": "IPY_MODEL_62a3028e94a44e1690c47990e85c7bb0",
            "placeholder": "​",
            "style": "IPY_MODEL_9433eb40a8c64b18ab10a339ec1fd977",
            "value": "tokenizer_config.json: 100%"
          }
        },
        "f9f4185e52f64b1f9319f1b8b3dd8e11": {
          "model_module": "@jupyter-widgets/controls",
          "model_name": "FloatProgressModel",
          "model_module_version": "1.5.0",
          "state": {
            "_dom_classes": [],
            "_model_module": "@jupyter-widgets/controls",
            "_model_module_version": "1.5.0",
            "_model_name": "FloatProgressModel",
            "_view_count": null,
            "_view_module": "@jupyter-widgets/controls",
            "_view_module_version": "1.5.0",
            "_view_name": "ProgressView",
            "bar_style": "success",
            "description": "",
            "description_tooltip": null,
            "layout": "IPY_MODEL_25f9107f35484ffea193eb135032fe03",
            "max": 341,
            "min": 0,
            "orientation": "horizontal",
            "style": "IPY_MODEL_d44586397e174d8191c8fbd4b11b17bc",
            "value": 341
          }
        },
        "25b0b7c9b99a4be28365190f4e555af4": {
          "model_module": "@jupyter-widgets/controls",
          "model_name": "HTMLModel",
          "model_module_version": "1.5.0",
          "state": {
            "_dom_classes": [],
            "_model_module": "@jupyter-widgets/controls",
            "_model_module_version": "1.5.0",
            "_model_name": "HTMLModel",
            "_view_count": null,
            "_view_module": "@jupyter-widgets/controls",
            "_view_module_version": "1.5.0",
            "_view_name": "HTMLView",
            "description": "",
            "description_tooltip": null,
            "layout": "IPY_MODEL_defd38d75c324c40a18ef32bfccba801",
            "placeholder": "​",
            "style": "IPY_MODEL_8f5b1e80a89b4208ba2db9dddbf03eb4",
            "value": " 341/341 [00:00&lt;00:00, 16.6kB/s]"
          }
        },
        "dc83fc7f10ff42148ea9214bd1c1fec6": {
          "model_module": "@jupyter-widgets/base",
          "model_name": "LayoutModel",
          "model_module_version": "1.2.0",
          "state": {
            "_model_module": "@jupyter-widgets/base",
            "_model_module_version": "1.2.0",
            "_model_name": "LayoutModel",
            "_view_count": null,
            "_view_module": "@jupyter-widgets/base",
            "_view_module_version": "1.2.0",
            "_view_name": "LayoutView",
            "align_content": null,
            "align_items": null,
            "align_self": null,
            "border": null,
            "bottom": null,
            "display": null,
            "flex": null,
            "flex_flow": null,
            "grid_area": null,
            "grid_auto_columns": null,
            "grid_auto_flow": null,
            "grid_auto_rows": null,
            "grid_column": null,
            "grid_gap": null,
            "grid_row": null,
            "grid_template_areas": null,
            "grid_template_columns": null,
            "grid_template_rows": null,
            "height": null,
            "justify_content": null,
            "justify_items": null,
            "left": null,
            "margin": null,
            "max_height": null,
            "max_width": null,
            "min_height": null,
            "min_width": null,
            "object_fit": null,
            "object_position": null,
            "order": null,
            "overflow": null,
            "overflow_x": null,
            "overflow_y": null,
            "padding": null,
            "right": null,
            "top": null,
            "visibility": null,
            "width": null
          }
        },
        "62a3028e94a44e1690c47990e85c7bb0": {
          "model_module": "@jupyter-widgets/base",
          "model_name": "LayoutModel",
          "model_module_version": "1.2.0",
          "state": {
            "_model_module": "@jupyter-widgets/base",
            "_model_module_version": "1.2.0",
            "_model_name": "LayoutModel",
            "_view_count": null,
            "_view_module": "@jupyter-widgets/base",
            "_view_module_version": "1.2.0",
            "_view_name": "LayoutView",
            "align_content": null,
            "align_items": null,
            "align_self": null,
            "border": null,
            "bottom": null,
            "display": null,
            "flex": null,
            "flex_flow": null,
            "grid_area": null,
            "grid_auto_columns": null,
            "grid_auto_flow": null,
            "grid_auto_rows": null,
            "grid_column": null,
            "grid_gap": null,
            "grid_row": null,
            "grid_template_areas": null,
            "grid_template_columns": null,
            "grid_template_rows": null,
            "height": null,
            "justify_content": null,
            "justify_items": null,
            "left": null,
            "margin": null,
            "max_height": null,
            "max_width": null,
            "min_height": null,
            "min_width": null,
            "object_fit": null,
            "object_position": null,
            "order": null,
            "overflow": null,
            "overflow_x": null,
            "overflow_y": null,
            "padding": null,
            "right": null,
            "top": null,
            "visibility": null,
            "width": null
          }
        },
        "9433eb40a8c64b18ab10a339ec1fd977": {
          "model_module": "@jupyter-widgets/controls",
          "model_name": "DescriptionStyleModel",
          "model_module_version": "1.5.0",
          "state": {
            "_model_module": "@jupyter-widgets/controls",
            "_model_module_version": "1.5.0",
            "_model_name": "DescriptionStyleModel",
            "_view_count": null,
            "_view_module": "@jupyter-widgets/base",
            "_view_module_version": "1.2.0",
            "_view_name": "StyleView",
            "description_width": ""
          }
        },
        "25f9107f35484ffea193eb135032fe03": {
          "model_module": "@jupyter-widgets/base",
          "model_name": "LayoutModel",
          "model_module_version": "1.2.0",
          "state": {
            "_model_module": "@jupyter-widgets/base",
            "_model_module_version": "1.2.0",
            "_model_name": "LayoutModel",
            "_view_count": null,
            "_view_module": "@jupyter-widgets/base",
            "_view_module_version": "1.2.0",
            "_view_name": "LayoutView",
            "align_content": null,
            "align_items": null,
            "align_self": null,
            "border": null,
            "bottom": null,
            "display": null,
            "flex": null,
            "flex_flow": null,
            "grid_area": null,
            "grid_auto_columns": null,
            "grid_auto_flow": null,
            "grid_auto_rows": null,
            "grid_column": null,
            "grid_gap": null,
            "grid_row": null,
            "grid_template_areas": null,
            "grid_template_columns": null,
            "grid_template_rows": null,
            "height": null,
            "justify_content": null,
            "justify_items": null,
            "left": null,
            "margin": null,
            "max_height": null,
            "max_width": null,
            "min_height": null,
            "min_width": null,
            "object_fit": null,
            "object_position": null,
            "order": null,
            "overflow": null,
            "overflow_x": null,
            "overflow_y": null,
            "padding": null,
            "right": null,
            "top": null,
            "visibility": null,
            "width": null
          }
        },
        "d44586397e174d8191c8fbd4b11b17bc": {
          "model_module": "@jupyter-widgets/controls",
          "model_name": "ProgressStyleModel",
          "model_module_version": "1.5.0",
          "state": {
            "_model_module": "@jupyter-widgets/controls",
            "_model_module_version": "1.5.0",
            "_model_name": "ProgressStyleModel",
            "_view_count": null,
            "_view_module": "@jupyter-widgets/base",
            "_view_module_version": "1.2.0",
            "_view_name": "StyleView",
            "bar_color": null,
            "description_width": ""
          }
        },
        "defd38d75c324c40a18ef32bfccba801": {
          "model_module": "@jupyter-widgets/base",
          "model_name": "LayoutModel",
          "model_module_version": "1.2.0",
          "state": {
            "_model_module": "@jupyter-widgets/base",
            "_model_module_version": "1.2.0",
            "_model_name": "LayoutModel",
            "_view_count": null,
            "_view_module": "@jupyter-widgets/base",
            "_view_module_version": "1.2.0",
            "_view_name": "LayoutView",
            "align_content": null,
            "align_items": null,
            "align_self": null,
            "border": null,
            "bottom": null,
            "display": null,
            "flex": null,
            "flex_flow": null,
            "grid_area": null,
            "grid_auto_columns": null,
            "grid_auto_flow": null,
            "grid_auto_rows": null,
            "grid_column": null,
            "grid_gap": null,
            "grid_row": null,
            "grid_template_areas": null,
            "grid_template_columns": null,
            "grid_template_rows": null,
            "height": null,
            "justify_content": null,
            "justify_items": null,
            "left": null,
            "margin": null,
            "max_height": null,
            "max_width": null,
            "min_height": null,
            "min_width": null,
            "object_fit": null,
            "object_position": null,
            "order": null,
            "overflow": null,
            "overflow_x": null,
            "overflow_y": null,
            "padding": null,
            "right": null,
            "top": null,
            "visibility": null,
            "width": null
          }
        },
        "8f5b1e80a89b4208ba2db9dddbf03eb4": {
          "model_module": "@jupyter-widgets/controls",
          "model_name": "DescriptionStyleModel",
          "model_module_version": "1.5.0",
          "state": {
            "_model_module": "@jupyter-widgets/controls",
            "_model_module_version": "1.5.0",
            "_model_name": "DescriptionStyleModel",
            "_view_count": null,
            "_view_module": "@jupyter-widgets/base",
            "_view_module_version": "1.2.0",
            "_view_name": "StyleView",
            "description_width": ""
          }
        },
        "9023871f597844528f507998ced2f2fd": {
          "model_module": "@jupyter-widgets/controls",
          "model_name": "HBoxModel",
          "model_module_version": "1.5.0",
          "state": {
            "_dom_classes": [],
            "_model_module": "@jupyter-widgets/controls",
            "_model_module_version": "1.5.0",
            "_model_name": "HBoxModel",
            "_view_count": null,
            "_view_module": "@jupyter-widgets/controls",
            "_view_module_version": "1.5.0",
            "_view_name": "HBoxView",
            "box_style": "",
            "children": [
              "IPY_MODEL_6888fc5104b146d8a726fae894f562a4",
              "IPY_MODEL_a8d1096f8ba745c5a3fc0f7ed52d5a62",
              "IPY_MODEL_77d9f8d553cb421d8dc68ef879a8273e"
            ],
            "layout": "IPY_MODEL_dcacc4895f294813ba7c979f1042d303"
          }
        },
        "6888fc5104b146d8a726fae894f562a4": {
          "model_module": "@jupyter-widgets/controls",
          "model_name": "HTMLModel",
          "model_module_version": "1.5.0",
          "state": {
            "_dom_classes": [],
            "_model_module": "@jupyter-widgets/controls",
            "_model_module_version": "1.5.0",
            "_model_name": "HTMLModel",
            "_view_count": null,
            "_view_module": "@jupyter-widgets/controls",
            "_view_module_version": "1.5.0",
            "_view_name": "HTMLView",
            "description": "",
            "description_tooltip": null,
            "layout": "IPY_MODEL_f358ea476e4e4a579027561138aa4052",
            "placeholder": "​",
            "style": "IPY_MODEL_b26d50307a114174b958d5d1a01f64c2",
            "value": "config.json: 100%"
          }
        },
        "a8d1096f8ba745c5a3fc0f7ed52d5a62": {
          "model_module": "@jupyter-widgets/controls",
          "model_name": "FloatProgressModel",
          "model_module_version": "1.5.0",
          "state": {
            "_dom_classes": [],
            "_model_module": "@jupyter-widgets/controls",
            "_model_module_version": "1.5.0",
            "_model_name": "FloatProgressModel",
            "_view_count": null,
            "_view_module": "@jupyter-widgets/controls",
            "_view_module_version": "1.5.0",
            "_view_name": "ProgressView",
            "bar_style": "success",
            "description": "",
            "description_tooltip": null,
            "layout": "IPY_MODEL_25b6bd030e6f47d08a4be13076a71fca",
            "max": 632,
            "min": 0,
            "orientation": "horizontal",
            "style": "IPY_MODEL_9dcb6be6d25d4a4fa887e4aaaf611b42",
            "value": 632
          }
        },
        "77d9f8d553cb421d8dc68ef879a8273e": {
          "model_module": "@jupyter-widgets/controls",
          "model_name": "HTMLModel",
          "model_module_version": "1.5.0",
          "state": {
            "_dom_classes": [],
            "_model_module": "@jupyter-widgets/controls",
            "_model_module_version": "1.5.0",
            "_model_name": "HTMLModel",
            "_view_count": null,
            "_view_module": "@jupyter-widgets/controls",
            "_view_module_version": "1.5.0",
            "_view_name": "HTMLView",
            "description": "",
            "description_tooltip": null,
            "layout": "IPY_MODEL_f5715ffa6536449ea81500ac3ceaa8ae",
            "placeholder": "​",
            "style": "IPY_MODEL_413b0fd240c34429a2f6cf4129411a9d",
            "value": " 632/632 [00:00&lt;00:00, 48.1kB/s]"
          }
        },
        "dcacc4895f294813ba7c979f1042d303": {
          "model_module": "@jupyter-widgets/base",
          "model_name": "LayoutModel",
          "model_module_version": "1.2.0",
          "state": {
            "_model_module": "@jupyter-widgets/base",
            "_model_module_version": "1.2.0",
            "_model_name": "LayoutModel",
            "_view_count": null,
            "_view_module": "@jupyter-widgets/base",
            "_view_module_version": "1.2.0",
            "_view_name": "LayoutView",
            "align_content": null,
            "align_items": null,
            "align_self": null,
            "border": null,
            "bottom": null,
            "display": null,
            "flex": null,
            "flex_flow": null,
            "grid_area": null,
            "grid_auto_columns": null,
            "grid_auto_flow": null,
            "grid_auto_rows": null,
            "grid_column": null,
            "grid_gap": null,
            "grid_row": null,
            "grid_template_areas": null,
            "grid_template_columns": null,
            "grid_template_rows": null,
            "height": null,
            "justify_content": null,
            "justify_items": null,
            "left": null,
            "margin": null,
            "max_height": null,
            "max_width": null,
            "min_height": null,
            "min_width": null,
            "object_fit": null,
            "object_position": null,
            "order": null,
            "overflow": null,
            "overflow_x": null,
            "overflow_y": null,
            "padding": null,
            "right": null,
            "top": null,
            "visibility": null,
            "width": null
          }
        },
        "f358ea476e4e4a579027561138aa4052": {
          "model_module": "@jupyter-widgets/base",
          "model_name": "LayoutModel",
          "model_module_version": "1.2.0",
          "state": {
            "_model_module": "@jupyter-widgets/base",
            "_model_module_version": "1.2.0",
            "_model_name": "LayoutModel",
            "_view_count": null,
            "_view_module": "@jupyter-widgets/base",
            "_view_module_version": "1.2.0",
            "_view_name": "LayoutView",
            "align_content": null,
            "align_items": null,
            "align_self": null,
            "border": null,
            "bottom": null,
            "display": null,
            "flex": null,
            "flex_flow": null,
            "grid_area": null,
            "grid_auto_columns": null,
            "grid_auto_flow": null,
            "grid_auto_rows": null,
            "grid_column": null,
            "grid_gap": null,
            "grid_row": null,
            "grid_template_areas": null,
            "grid_template_columns": null,
            "grid_template_rows": null,
            "height": null,
            "justify_content": null,
            "justify_items": null,
            "left": null,
            "margin": null,
            "max_height": null,
            "max_width": null,
            "min_height": null,
            "min_width": null,
            "object_fit": null,
            "object_position": null,
            "order": null,
            "overflow": null,
            "overflow_x": null,
            "overflow_y": null,
            "padding": null,
            "right": null,
            "top": null,
            "visibility": null,
            "width": null
          }
        },
        "b26d50307a114174b958d5d1a01f64c2": {
          "model_module": "@jupyter-widgets/controls",
          "model_name": "DescriptionStyleModel",
          "model_module_version": "1.5.0",
          "state": {
            "_model_module": "@jupyter-widgets/controls",
            "_model_module_version": "1.5.0",
            "_model_name": "DescriptionStyleModel",
            "_view_count": null,
            "_view_module": "@jupyter-widgets/base",
            "_view_module_version": "1.2.0",
            "_view_name": "StyleView",
            "description_width": ""
          }
        },
        "25b6bd030e6f47d08a4be13076a71fca": {
          "model_module": "@jupyter-widgets/base",
          "model_name": "LayoutModel",
          "model_module_version": "1.2.0",
          "state": {
            "_model_module": "@jupyter-widgets/base",
            "_model_module_version": "1.2.0",
            "_model_name": "LayoutModel",
            "_view_count": null,
            "_view_module": "@jupyter-widgets/base",
            "_view_module_version": "1.2.0",
            "_view_name": "LayoutView",
            "align_content": null,
            "align_items": null,
            "align_self": null,
            "border": null,
            "bottom": null,
            "display": null,
            "flex": null,
            "flex_flow": null,
            "grid_area": null,
            "grid_auto_columns": null,
            "grid_auto_flow": null,
            "grid_auto_rows": null,
            "grid_column": null,
            "grid_gap": null,
            "grid_row": null,
            "grid_template_areas": null,
            "grid_template_columns": null,
            "grid_template_rows": null,
            "height": null,
            "justify_content": null,
            "justify_items": null,
            "left": null,
            "margin": null,
            "max_height": null,
            "max_width": null,
            "min_height": null,
            "min_width": null,
            "object_fit": null,
            "object_position": null,
            "order": null,
            "overflow": null,
            "overflow_x": null,
            "overflow_y": null,
            "padding": null,
            "right": null,
            "top": null,
            "visibility": null,
            "width": null
          }
        },
        "9dcb6be6d25d4a4fa887e4aaaf611b42": {
          "model_module": "@jupyter-widgets/controls",
          "model_name": "ProgressStyleModel",
          "model_module_version": "1.5.0",
          "state": {
            "_model_module": "@jupyter-widgets/controls",
            "_model_module_version": "1.5.0",
            "_model_name": "ProgressStyleModel",
            "_view_count": null,
            "_view_module": "@jupyter-widgets/base",
            "_view_module_version": "1.2.0",
            "_view_name": "StyleView",
            "bar_color": null,
            "description_width": ""
          }
        },
        "f5715ffa6536449ea81500ac3ceaa8ae": {
          "model_module": "@jupyter-widgets/base",
          "model_name": "LayoutModel",
          "model_module_version": "1.2.0",
          "state": {
            "_model_module": "@jupyter-widgets/base",
            "_model_module_version": "1.2.0",
            "_model_name": "LayoutModel",
            "_view_count": null,
            "_view_module": "@jupyter-widgets/base",
            "_view_module_version": "1.2.0",
            "_view_name": "LayoutView",
            "align_content": null,
            "align_items": null,
            "align_self": null,
            "border": null,
            "bottom": null,
            "display": null,
            "flex": null,
            "flex_flow": null,
            "grid_area": null,
            "grid_auto_columns": null,
            "grid_auto_flow": null,
            "grid_auto_rows": null,
            "grid_column": null,
            "grid_gap": null,
            "grid_row": null,
            "grid_template_areas": null,
            "grid_template_columns": null,
            "grid_template_rows": null,
            "height": null,
            "justify_content": null,
            "justify_items": null,
            "left": null,
            "margin": null,
            "max_height": null,
            "max_width": null,
            "min_height": null,
            "min_width": null,
            "object_fit": null,
            "object_position": null,
            "order": null,
            "overflow": null,
            "overflow_x": null,
            "overflow_y": null,
            "padding": null,
            "right": null,
            "top": null,
            "visibility": null,
            "width": null
          }
        },
        "413b0fd240c34429a2f6cf4129411a9d": {
          "model_module": "@jupyter-widgets/controls",
          "model_name": "DescriptionStyleModel",
          "model_module_version": "1.5.0",
          "state": {
            "_model_module": "@jupyter-widgets/controls",
            "_model_module_version": "1.5.0",
            "_model_name": "DescriptionStyleModel",
            "_view_count": null,
            "_view_module": "@jupyter-widgets/base",
            "_view_module_version": "1.2.0",
            "_view_name": "StyleView",
            "description_width": ""
          }
        },
        "ed0dd65e002b491484297502734da401": {
          "model_module": "@jupyter-widgets/controls",
          "model_name": "HBoxModel",
          "model_module_version": "1.5.0",
          "state": {
            "_dom_classes": [],
            "_model_module": "@jupyter-widgets/controls",
            "_model_module_version": "1.5.0",
            "_model_name": "HBoxModel",
            "_view_count": null,
            "_view_module": "@jupyter-widgets/controls",
            "_view_module_version": "1.5.0",
            "_view_name": "HBoxView",
            "box_style": "",
            "children": [
              "IPY_MODEL_b19169535fd84fabb3142e4810464410",
              "IPY_MODEL_4d8d25705cdc4c498e2bb4d7f6d4c3b9",
              "IPY_MODEL_4c5f6c5f13b5498a9a781e27d42bdb7a"
            ],
            "layout": "IPY_MODEL_41b9080d29484f1e877ac7c4f6706724"
          }
        },
        "b19169535fd84fabb3142e4810464410": {
          "model_module": "@jupyter-widgets/controls",
          "model_name": "HTMLModel",
          "model_module_version": "1.5.0",
          "state": {
            "_dom_classes": [],
            "_model_module": "@jupyter-widgets/controls",
            "_model_module_version": "1.5.0",
            "_model_name": "HTMLModel",
            "_view_count": null,
            "_view_module": "@jupyter-widgets/controls",
            "_view_module_version": "1.5.0",
            "_view_name": "HTMLView",
            "description": "",
            "description_tooltip": null,
            "layout": "IPY_MODEL_f9422c871eb0473db43f82426be90b1d",
            "placeholder": "​",
            "style": "IPY_MODEL_a78f8c05ee45462fb6999c70a8c2cec9",
            "value": "vocab.txt: 100%"
          }
        },
        "4d8d25705cdc4c498e2bb4d7f6d4c3b9": {
          "model_module": "@jupyter-widgets/controls",
          "model_name": "FloatProgressModel",
          "model_module_version": "1.5.0",
          "state": {
            "_dom_classes": [],
            "_model_module": "@jupyter-widgets/controls",
            "_model_module_version": "1.5.0",
            "_model_name": "FloatProgressModel",
            "_view_count": null,
            "_view_module": "@jupyter-widgets/controls",
            "_view_module_version": "1.5.0",
            "_view_name": "ProgressView",
            "bar_style": "success",
            "description": "",
            "description_tooltip": null,
            "layout": "IPY_MODEL_bee3bd607f1a47be91691d490e4a5f7a",
            "max": 241082,
            "min": 0,
            "orientation": "horizontal",
            "style": "IPY_MODEL_0669aa189145491aa4ebb62ec57b2613",
            "value": 241082
          }
        },
        "4c5f6c5f13b5498a9a781e27d42bdb7a": {
          "model_module": "@jupyter-widgets/controls",
          "model_name": "HTMLModel",
          "model_module_version": "1.5.0",
          "state": {
            "_dom_classes": [],
            "_model_module": "@jupyter-widgets/controls",
            "_model_module_version": "1.5.0",
            "_model_name": "HTMLModel",
            "_view_count": null,
            "_view_module": "@jupyter-widgets/controls",
            "_view_module_version": "1.5.0",
            "_view_name": "HTMLView",
            "description": "",
            "description_tooltip": null,
            "layout": "IPY_MODEL_4146677a60304ea9a0a463f8b7cb8f73",
            "placeholder": "​",
            "style": "IPY_MODEL_4fcddb4395a741ff8d45d280ce983df6",
            "value": " 241k/241k [00:00&lt;00:00, 3.70MB/s]"
          }
        },
        "41b9080d29484f1e877ac7c4f6706724": {
          "model_module": "@jupyter-widgets/base",
          "model_name": "LayoutModel",
          "model_module_version": "1.2.0",
          "state": {
            "_model_module": "@jupyter-widgets/base",
            "_model_module_version": "1.2.0",
            "_model_name": "LayoutModel",
            "_view_count": null,
            "_view_module": "@jupyter-widgets/base",
            "_view_module_version": "1.2.0",
            "_view_name": "LayoutView",
            "align_content": null,
            "align_items": null,
            "align_self": null,
            "border": null,
            "bottom": null,
            "display": null,
            "flex": null,
            "flex_flow": null,
            "grid_area": null,
            "grid_auto_columns": null,
            "grid_auto_flow": null,
            "grid_auto_rows": null,
            "grid_column": null,
            "grid_gap": null,
            "grid_row": null,
            "grid_template_areas": null,
            "grid_template_columns": null,
            "grid_template_rows": null,
            "height": null,
            "justify_content": null,
            "justify_items": null,
            "left": null,
            "margin": null,
            "max_height": null,
            "max_width": null,
            "min_height": null,
            "min_width": null,
            "object_fit": null,
            "object_position": null,
            "order": null,
            "overflow": null,
            "overflow_x": null,
            "overflow_y": null,
            "padding": null,
            "right": null,
            "top": null,
            "visibility": null,
            "width": null
          }
        },
        "f9422c871eb0473db43f82426be90b1d": {
          "model_module": "@jupyter-widgets/base",
          "model_name": "LayoutModel",
          "model_module_version": "1.2.0",
          "state": {
            "_model_module": "@jupyter-widgets/base",
            "_model_module_version": "1.2.0",
            "_model_name": "LayoutModel",
            "_view_count": null,
            "_view_module": "@jupyter-widgets/base",
            "_view_module_version": "1.2.0",
            "_view_name": "LayoutView",
            "align_content": null,
            "align_items": null,
            "align_self": null,
            "border": null,
            "bottom": null,
            "display": null,
            "flex": null,
            "flex_flow": null,
            "grid_area": null,
            "grid_auto_columns": null,
            "grid_auto_flow": null,
            "grid_auto_rows": null,
            "grid_column": null,
            "grid_gap": null,
            "grid_row": null,
            "grid_template_areas": null,
            "grid_template_columns": null,
            "grid_template_rows": null,
            "height": null,
            "justify_content": null,
            "justify_items": null,
            "left": null,
            "margin": null,
            "max_height": null,
            "max_width": null,
            "min_height": null,
            "min_width": null,
            "object_fit": null,
            "object_position": null,
            "order": null,
            "overflow": null,
            "overflow_x": null,
            "overflow_y": null,
            "padding": null,
            "right": null,
            "top": null,
            "visibility": null,
            "width": null
          }
        },
        "a78f8c05ee45462fb6999c70a8c2cec9": {
          "model_module": "@jupyter-widgets/controls",
          "model_name": "DescriptionStyleModel",
          "model_module_version": "1.5.0",
          "state": {
            "_model_module": "@jupyter-widgets/controls",
            "_model_module_version": "1.5.0",
            "_model_name": "DescriptionStyleModel",
            "_view_count": null,
            "_view_module": "@jupyter-widgets/base",
            "_view_module_version": "1.2.0",
            "_view_name": "StyleView",
            "description_width": ""
          }
        },
        "bee3bd607f1a47be91691d490e4a5f7a": {
          "model_module": "@jupyter-widgets/base",
          "model_name": "LayoutModel",
          "model_module_version": "1.2.0",
          "state": {
            "_model_module": "@jupyter-widgets/base",
            "_model_module_version": "1.2.0",
            "_model_name": "LayoutModel",
            "_view_count": null,
            "_view_module": "@jupyter-widgets/base",
            "_view_module_version": "1.2.0",
            "_view_name": "LayoutView",
            "align_content": null,
            "align_items": null,
            "align_self": null,
            "border": null,
            "bottom": null,
            "display": null,
            "flex": null,
            "flex_flow": null,
            "grid_area": null,
            "grid_auto_columns": null,
            "grid_auto_flow": null,
            "grid_auto_rows": null,
            "grid_column": null,
            "grid_gap": null,
            "grid_row": null,
            "grid_template_areas": null,
            "grid_template_columns": null,
            "grid_template_rows": null,
            "height": null,
            "justify_content": null,
            "justify_items": null,
            "left": null,
            "margin": null,
            "max_height": null,
            "max_width": null,
            "min_height": null,
            "min_width": null,
            "object_fit": null,
            "object_position": null,
            "order": null,
            "overflow": null,
            "overflow_x": null,
            "overflow_y": null,
            "padding": null,
            "right": null,
            "top": null,
            "visibility": null,
            "width": null
          }
        },
        "0669aa189145491aa4ebb62ec57b2613": {
          "model_module": "@jupyter-widgets/controls",
          "model_name": "ProgressStyleModel",
          "model_module_version": "1.5.0",
          "state": {
            "_model_module": "@jupyter-widgets/controls",
            "_model_module_version": "1.5.0",
            "_model_name": "ProgressStyleModel",
            "_view_count": null,
            "_view_module": "@jupyter-widgets/base",
            "_view_module_version": "1.2.0",
            "_view_name": "StyleView",
            "bar_color": null,
            "description_width": ""
          }
        },
        "4146677a60304ea9a0a463f8b7cb8f73": {
          "model_module": "@jupyter-widgets/base",
          "model_name": "LayoutModel",
          "model_module_version": "1.2.0",
          "state": {
            "_model_module": "@jupyter-widgets/base",
            "_model_module_version": "1.2.0",
            "_model_name": "LayoutModel",
            "_view_count": null,
            "_view_module": "@jupyter-widgets/base",
            "_view_module_version": "1.2.0",
            "_view_name": "LayoutView",
            "align_content": null,
            "align_items": null,
            "align_self": null,
            "border": null,
            "bottom": null,
            "display": null,
            "flex": null,
            "flex_flow": null,
            "grid_area": null,
            "grid_auto_columns": null,
            "grid_auto_flow": null,
            "grid_auto_rows": null,
            "grid_column": null,
            "grid_gap": null,
            "grid_row": null,
            "grid_template_areas": null,
            "grid_template_columns": null,
            "grid_template_rows": null,
            "height": null,
            "justify_content": null,
            "justify_items": null,
            "left": null,
            "margin": null,
            "max_height": null,
            "max_width": null,
            "min_height": null,
            "min_width": null,
            "object_fit": null,
            "object_position": null,
            "order": null,
            "overflow": null,
            "overflow_x": null,
            "overflow_y": null,
            "padding": null,
            "right": null,
            "top": null,
            "visibility": null,
            "width": null
          }
        },
        "4fcddb4395a741ff8d45d280ce983df6": {
          "model_module": "@jupyter-widgets/controls",
          "model_name": "DescriptionStyleModel",
          "model_module_version": "1.5.0",
          "state": {
            "_model_module": "@jupyter-widgets/controls",
            "_model_module_version": "1.5.0",
            "_model_name": "DescriptionStyleModel",
            "_view_count": null,
            "_view_module": "@jupyter-widgets/base",
            "_view_module_version": "1.2.0",
            "_view_name": "StyleView",
            "description_width": ""
          }
        },
        "929be33c97e34fa0847b67f56f785adb": {
          "model_module": "@jupyter-widgets/controls",
          "model_name": "HBoxModel",
          "model_module_version": "1.5.0",
          "state": {
            "_dom_classes": [],
            "_model_module": "@jupyter-widgets/controls",
            "_model_module_version": "1.5.0",
            "_model_name": "HBoxModel",
            "_view_count": null,
            "_view_module": "@jupyter-widgets/controls",
            "_view_module_version": "1.5.0",
            "_view_name": "HBoxView",
            "box_style": "",
            "children": [
              "IPY_MODEL_b913304d0aa84ca690f913e2d10f5205",
              "IPY_MODEL_c6a04faa35834def86af0773383b9cae",
              "IPY_MODEL_e84c9876312b4aaf9f8bf5cdb32549c6"
            ],
            "layout": "IPY_MODEL_4ac7e7f5cf4d4f008d999b87e87b1cf6"
          }
        },
        "b913304d0aa84ca690f913e2d10f5205": {
          "model_module": "@jupyter-widgets/controls",
          "model_name": "HTMLModel",
          "model_module_version": "1.5.0",
          "state": {
            "_dom_classes": [],
            "_model_module": "@jupyter-widgets/controls",
            "_model_module_version": "1.5.0",
            "_model_name": "HTMLModel",
            "_view_count": null,
            "_view_module": "@jupyter-widgets/controls",
            "_view_module_version": "1.5.0",
            "_view_name": "HTMLView",
            "description": "",
            "description_tooltip": null,
            "layout": "IPY_MODEL_42196e00fda5420bb5bc607ba57635a8",
            "placeholder": "​",
            "style": "IPY_MODEL_58349510ad604b4db9c8fc248fdc3e3a",
            "value": "tokenizer.json: 100%"
          }
        },
        "c6a04faa35834def86af0773383b9cae": {
          "model_module": "@jupyter-widgets/controls",
          "model_name": "FloatProgressModel",
          "model_module_version": "1.5.0",
          "state": {
            "_dom_classes": [],
            "_model_module": "@jupyter-widgets/controls",
            "_model_module_version": "1.5.0",
            "_model_name": "FloatProgressModel",
            "_view_count": null,
            "_view_module": "@jupyter-widgets/controls",
            "_view_module_version": "1.5.0",
            "_view_name": "ProgressView",
            "bar_style": "success",
            "description": "",
            "description_tooltip": null,
            "layout": "IPY_MODEL_09e76a8ce0e94090998d79d42ecb6b08",
            "max": 468145,
            "min": 0,
            "orientation": "horizontal",
            "style": "IPY_MODEL_16b81ae07ec441548067341cee073242",
            "value": 468145
          }
        },
        "e84c9876312b4aaf9f8bf5cdb32549c6": {
          "model_module": "@jupyter-widgets/controls",
          "model_name": "HTMLModel",
          "model_module_version": "1.5.0",
          "state": {
            "_dom_classes": [],
            "_model_module": "@jupyter-widgets/controls",
            "_model_module_version": "1.5.0",
            "_model_name": "HTMLModel",
            "_view_count": null,
            "_view_module": "@jupyter-widgets/controls",
            "_view_module_version": "1.5.0",
            "_view_name": "HTMLView",
            "description": "",
            "description_tooltip": null,
            "layout": "IPY_MODEL_91478d351eff46059fa56448fb6fc93b",
            "placeholder": "​",
            "style": "IPY_MODEL_e3fdfd62d903446fb5aa1a7efe7023c8",
            "value": " 468k/468k [00:00&lt;00:00, 3.55MB/s]"
          }
        },
        "4ac7e7f5cf4d4f008d999b87e87b1cf6": {
          "model_module": "@jupyter-widgets/base",
          "model_name": "LayoutModel",
          "model_module_version": "1.2.0",
          "state": {
            "_model_module": "@jupyter-widgets/base",
            "_model_module_version": "1.2.0",
            "_model_name": "LayoutModel",
            "_view_count": null,
            "_view_module": "@jupyter-widgets/base",
            "_view_module_version": "1.2.0",
            "_view_name": "LayoutView",
            "align_content": null,
            "align_items": null,
            "align_self": null,
            "border": null,
            "bottom": null,
            "display": null,
            "flex": null,
            "flex_flow": null,
            "grid_area": null,
            "grid_auto_columns": null,
            "grid_auto_flow": null,
            "grid_auto_rows": null,
            "grid_column": null,
            "grid_gap": null,
            "grid_row": null,
            "grid_template_areas": null,
            "grid_template_columns": null,
            "grid_template_rows": null,
            "height": null,
            "justify_content": null,
            "justify_items": null,
            "left": null,
            "margin": null,
            "max_height": null,
            "max_width": null,
            "min_height": null,
            "min_width": null,
            "object_fit": null,
            "object_position": null,
            "order": null,
            "overflow": null,
            "overflow_x": null,
            "overflow_y": null,
            "padding": null,
            "right": null,
            "top": null,
            "visibility": null,
            "width": null
          }
        },
        "42196e00fda5420bb5bc607ba57635a8": {
          "model_module": "@jupyter-widgets/base",
          "model_name": "LayoutModel",
          "model_module_version": "1.2.0",
          "state": {
            "_model_module": "@jupyter-widgets/base",
            "_model_module_version": "1.2.0",
            "_model_name": "LayoutModel",
            "_view_count": null,
            "_view_module": "@jupyter-widgets/base",
            "_view_module_version": "1.2.0",
            "_view_name": "LayoutView",
            "align_content": null,
            "align_items": null,
            "align_self": null,
            "border": null,
            "bottom": null,
            "display": null,
            "flex": null,
            "flex_flow": null,
            "grid_area": null,
            "grid_auto_columns": null,
            "grid_auto_flow": null,
            "grid_auto_rows": null,
            "grid_column": null,
            "grid_gap": null,
            "grid_row": null,
            "grid_template_areas": null,
            "grid_template_columns": null,
            "grid_template_rows": null,
            "height": null,
            "justify_content": null,
            "justify_items": null,
            "left": null,
            "margin": null,
            "max_height": null,
            "max_width": null,
            "min_height": null,
            "min_width": null,
            "object_fit": null,
            "object_position": null,
            "order": null,
            "overflow": null,
            "overflow_x": null,
            "overflow_y": null,
            "padding": null,
            "right": null,
            "top": null,
            "visibility": null,
            "width": null
          }
        },
        "58349510ad604b4db9c8fc248fdc3e3a": {
          "model_module": "@jupyter-widgets/controls",
          "model_name": "DescriptionStyleModel",
          "model_module_version": "1.5.0",
          "state": {
            "_model_module": "@jupyter-widgets/controls",
            "_model_module_version": "1.5.0",
            "_model_name": "DescriptionStyleModel",
            "_view_count": null,
            "_view_module": "@jupyter-widgets/base",
            "_view_module_version": "1.2.0",
            "_view_name": "StyleView",
            "description_width": ""
          }
        },
        "09e76a8ce0e94090998d79d42ecb6b08": {
          "model_module": "@jupyter-widgets/base",
          "model_name": "LayoutModel",
          "model_module_version": "1.2.0",
          "state": {
            "_model_module": "@jupyter-widgets/base",
            "_model_module_version": "1.2.0",
            "_model_name": "LayoutModel",
            "_view_count": null,
            "_view_module": "@jupyter-widgets/base",
            "_view_module_version": "1.2.0",
            "_view_name": "LayoutView",
            "align_content": null,
            "align_items": null,
            "align_self": null,
            "border": null,
            "bottom": null,
            "display": null,
            "flex": null,
            "flex_flow": null,
            "grid_area": null,
            "grid_auto_columns": null,
            "grid_auto_flow": null,
            "grid_auto_rows": null,
            "grid_column": null,
            "grid_gap": null,
            "grid_row": null,
            "grid_template_areas": null,
            "grid_template_columns": null,
            "grid_template_rows": null,
            "height": null,
            "justify_content": null,
            "justify_items": null,
            "left": null,
            "margin": null,
            "max_height": null,
            "max_width": null,
            "min_height": null,
            "min_width": null,
            "object_fit": null,
            "object_position": null,
            "order": null,
            "overflow": null,
            "overflow_x": null,
            "overflow_y": null,
            "padding": null,
            "right": null,
            "top": null,
            "visibility": null,
            "width": null
          }
        },
        "16b81ae07ec441548067341cee073242": {
          "model_module": "@jupyter-widgets/controls",
          "model_name": "ProgressStyleModel",
          "model_module_version": "1.5.0",
          "state": {
            "_model_module": "@jupyter-widgets/controls",
            "_model_module_version": "1.5.0",
            "_model_name": "ProgressStyleModel",
            "_view_count": null,
            "_view_module": "@jupyter-widgets/base",
            "_view_module_version": "1.2.0",
            "_view_name": "StyleView",
            "bar_color": null,
            "description_width": ""
          }
        },
        "91478d351eff46059fa56448fb6fc93b": {
          "model_module": "@jupyter-widgets/base",
          "model_name": "LayoutModel",
          "model_module_version": "1.2.0",
          "state": {
            "_model_module": "@jupyter-widgets/base",
            "_model_module_version": "1.2.0",
            "_model_name": "LayoutModel",
            "_view_count": null,
            "_view_module": "@jupyter-widgets/base",
            "_view_module_version": "1.2.0",
            "_view_name": "LayoutView",
            "align_content": null,
            "align_items": null,
            "align_self": null,
            "border": null,
            "bottom": null,
            "display": null,
            "flex": null,
            "flex_flow": null,
            "grid_area": null,
            "grid_auto_columns": null,
            "grid_auto_flow": null,
            "grid_auto_rows": null,
            "grid_column": null,
            "grid_gap": null,
            "grid_row": null,
            "grid_template_areas": null,
            "grid_template_columns": null,
            "grid_template_rows": null,
            "height": null,
            "justify_content": null,
            "justify_items": null,
            "left": null,
            "margin": null,
            "max_height": null,
            "max_width": null,
            "min_height": null,
            "min_width": null,
            "object_fit": null,
            "object_position": null,
            "order": null,
            "overflow": null,
            "overflow_x": null,
            "overflow_y": null,
            "padding": null,
            "right": null,
            "top": null,
            "visibility": null,
            "width": null
          }
        },
        "e3fdfd62d903446fb5aa1a7efe7023c8": {
          "model_module": "@jupyter-widgets/controls",
          "model_name": "DescriptionStyleModel",
          "model_module_version": "1.5.0",
          "state": {
            "_model_module": "@jupyter-widgets/controls",
            "_model_module_version": "1.5.0",
            "_model_name": "DescriptionStyleModel",
            "_view_count": null,
            "_view_module": "@jupyter-widgets/base",
            "_view_module_version": "1.2.0",
            "_view_name": "StyleView",
            "description_width": ""
          }
        },
        "dbf14380c3824c50b59d09959a3791c8": {
          "model_module": "@jupyter-widgets/controls",
          "model_name": "HBoxModel",
          "model_module_version": "1.5.0",
          "state": {
            "_dom_classes": [],
            "_model_module": "@jupyter-widgets/controls",
            "_model_module_version": "1.5.0",
            "_model_name": "HBoxModel",
            "_view_count": null,
            "_view_module": "@jupyter-widgets/controls",
            "_view_module_version": "1.5.0",
            "_view_name": "HBoxView",
            "box_style": "",
            "children": [
              "IPY_MODEL_346b34f765d2462899df980efe68ade5",
              "IPY_MODEL_9c8bd22e8cf54d9d8c4d738cc0b8e751",
              "IPY_MODEL_2916595981f441d8b38c4793221998a2"
            ],
            "layout": "IPY_MODEL_37c00f68d3f34c4d8508435a0d40cc63"
          }
        },
        "346b34f765d2462899df980efe68ade5": {
          "model_module": "@jupyter-widgets/controls",
          "model_name": "HTMLModel",
          "model_module_version": "1.5.0",
          "state": {
            "_dom_classes": [],
            "_model_module": "@jupyter-widgets/controls",
            "_model_module_version": "1.5.0",
            "_model_name": "HTMLModel",
            "_view_count": null,
            "_view_module": "@jupyter-widgets/controls",
            "_view_module_version": "1.5.0",
            "_view_name": "HTMLView",
            "description": "",
            "description_tooltip": null,
            "layout": "IPY_MODEL_6178645307344ba981b0630b91f839d8",
            "placeholder": "​",
            "style": "IPY_MODEL_546090102cbb4227bbc03daee243cf62",
            "value": "special_tokens_map.json: 100%"
          }
        },
        "9c8bd22e8cf54d9d8c4d738cc0b8e751": {
          "model_module": "@jupyter-widgets/controls",
          "model_name": "FloatProgressModel",
          "model_module_version": "1.5.0",
          "state": {
            "_dom_classes": [],
            "_model_module": "@jupyter-widgets/controls",
            "_model_module_version": "1.5.0",
            "_model_name": "FloatProgressModel",
            "_view_count": null,
            "_view_module": "@jupyter-widgets/controls",
            "_view_module_version": "1.5.0",
            "_view_name": "ProgressView",
            "bar_style": "success",
            "description": "",
            "description_tooltip": null,
            "layout": "IPY_MODEL_309ead16f9184183b921716990a3f9f5",
            "max": 112,
            "min": 0,
            "orientation": "horizontal",
            "style": "IPY_MODEL_da7215157a7e4dbdbbb9ad9c8fa6b175",
            "value": 112
          }
        },
        "2916595981f441d8b38c4793221998a2": {
          "model_module": "@jupyter-widgets/controls",
          "model_name": "HTMLModel",
          "model_module_version": "1.5.0",
          "state": {
            "_dom_classes": [],
            "_model_module": "@jupyter-widgets/controls",
            "_model_module_version": "1.5.0",
            "_model_name": "HTMLModel",
            "_view_count": null,
            "_view_module": "@jupyter-widgets/controls",
            "_view_module_version": "1.5.0",
            "_view_name": "HTMLView",
            "description": "",
            "description_tooltip": null,
            "layout": "IPY_MODEL_044dfc896e0945e18d75307f698c17c8",
            "placeholder": "​",
            "style": "IPY_MODEL_6ccd9db8b6a84f23b44bc6a69436ec01",
            "value": " 112/112 [00:00&lt;00:00, 5.63kB/s]"
          }
        },
        "37c00f68d3f34c4d8508435a0d40cc63": {
          "model_module": "@jupyter-widgets/base",
          "model_name": "LayoutModel",
          "model_module_version": "1.2.0",
          "state": {
            "_model_module": "@jupyter-widgets/base",
            "_model_module_version": "1.2.0",
            "_model_name": "LayoutModel",
            "_view_count": null,
            "_view_module": "@jupyter-widgets/base",
            "_view_module_version": "1.2.0",
            "_view_name": "LayoutView",
            "align_content": null,
            "align_items": null,
            "align_self": null,
            "border": null,
            "bottom": null,
            "display": null,
            "flex": null,
            "flex_flow": null,
            "grid_area": null,
            "grid_auto_columns": null,
            "grid_auto_flow": null,
            "grid_auto_rows": null,
            "grid_column": null,
            "grid_gap": null,
            "grid_row": null,
            "grid_template_areas": null,
            "grid_template_columns": null,
            "grid_template_rows": null,
            "height": null,
            "justify_content": null,
            "justify_items": null,
            "left": null,
            "margin": null,
            "max_height": null,
            "max_width": null,
            "min_height": null,
            "min_width": null,
            "object_fit": null,
            "object_position": null,
            "order": null,
            "overflow": null,
            "overflow_x": null,
            "overflow_y": null,
            "padding": null,
            "right": null,
            "top": null,
            "visibility": null,
            "width": null
          }
        },
        "6178645307344ba981b0630b91f839d8": {
          "model_module": "@jupyter-widgets/base",
          "model_name": "LayoutModel",
          "model_module_version": "1.2.0",
          "state": {
            "_model_module": "@jupyter-widgets/base",
            "_model_module_version": "1.2.0",
            "_model_name": "LayoutModel",
            "_view_count": null,
            "_view_module": "@jupyter-widgets/base",
            "_view_module_version": "1.2.0",
            "_view_name": "LayoutView",
            "align_content": null,
            "align_items": null,
            "align_self": null,
            "border": null,
            "bottom": null,
            "display": null,
            "flex": null,
            "flex_flow": null,
            "grid_area": null,
            "grid_auto_columns": null,
            "grid_auto_flow": null,
            "grid_auto_rows": null,
            "grid_column": null,
            "grid_gap": null,
            "grid_row": null,
            "grid_template_areas": null,
            "grid_template_columns": null,
            "grid_template_rows": null,
            "height": null,
            "justify_content": null,
            "justify_items": null,
            "left": null,
            "margin": null,
            "max_height": null,
            "max_width": null,
            "min_height": null,
            "min_width": null,
            "object_fit": null,
            "object_position": null,
            "order": null,
            "overflow": null,
            "overflow_x": null,
            "overflow_y": null,
            "padding": null,
            "right": null,
            "top": null,
            "visibility": null,
            "width": null
          }
        },
        "546090102cbb4227bbc03daee243cf62": {
          "model_module": "@jupyter-widgets/controls",
          "model_name": "DescriptionStyleModel",
          "model_module_version": "1.5.0",
          "state": {
            "_model_module": "@jupyter-widgets/controls",
            "_model_module_version": "1.5.0",
            "_model_name": "DescriptionStyleModel",
            "_view_count": null,
            "_view_module": "@jupyter-widgets/base",
            "_view_module_version": "1.2.0",
            "_view_name": "StyleView",
            "description_width": ""
          }
        },
        "309ead16f9184183b921716990a3f9f5": {
          "model_module": "@jupyter-widgets/base",
          "model_name": "LayoutModel",
          "model_module_version": "1.2.0",
          "state": {
            "_model_module": "@jupyter-widgets/base",
            "_model_module_version": "1.2.0",
            "_model_name": "LayoutModel",
            "_view_count": null,
            "_view_module": "@jupyter-widgets/base",
            "_view_module_version": "1.2.0",
            "_view_name": "LayoutView",
            "align_content": null,
            "align_items": null,
            "align_self": null,
            "border": null,
            "bottom": null,
            "display": null,
            "flex": null,
            "flex_flow": null,
            "grid_area": null,
            "grid_auto_columns": null,
            "grid_auto_flow": null,
            "grid_auto_rows": null,
            "grid_column": null,
            "grid_gap": null,
            "grid_row": null,
            "grid_template_areas": null,
            "grid_template_columns": null,
            "grid_template_rows": null,
            "height": null,
            "justify_content": null,
            "justify_items": null,
            "left": null,
            "margin": null,
            "max_height": null,
            "max_width": null,
            "min_height": null,
            "min_width": null,
            "object_fit": null,
            "object_position": null,
            "order": null,
            "overflow": null,
            "overflow_x": null,
            "overflow_y": null,
            "padding": null,
            "right": null,
            "top": null,
            "visibility": null,
            "width": null
          }
        },
        "da7215157a7e4dbdbbb9ad9c8fa6b175": {
          "model_module": "@jupyter-widgets/controls",
          "model_name": "ProgressStyleModel",
          "model_module_version": "1.5.0",
          "state": {
            "_model_module": "@jupyter-widgets/controls",
            "_model_module_version": "1.5.0",
            "_model_name": "ProgressStyleModel",
            "_view_count": null,
            "_view_module": "@jupyter-widgets/base",
            "_view_module_version": "1.2.0",
            "_view_name": "StyleView",
            "bar_color": null,
            "description_width": ""
          }
        },
        "044dfc896e0945e18d75307f698c17c8": {
          "model_module": "@jupyter-widgets/base",
          "model_name": "LayoutModel",
          "model_module_version": "1.2.0",
          "state": {
            "_model_module": "@jupyter-widgets/base",
            "_model_module_version": "1.2.0",
            "_model_name": "LayoutModel",
            "_view_count": null,
            "_view_module": "@jupyter-widgets/base",
            "_view_module_version": "1.2.0",
            "_view_name": "LayoutView",
            "align_content": null,
            "align_items": null,
            "align_self": null,
            "border": null,
            "bottom": null,
            "display": null,
            "flex": null,
            "flex_flow": null,
            "grid_area": null,
            "grid_auto_columns": null,
            "grid_auto_flow": null,
            "grid_auto_rows": null,
            "grid_column": null,
            "grid_gap": null,
            "grid_row": null,
            "grid_template_areas": null,
            "grid_template_columns": null,
            "grid_template_rows": null,
            "height": null,
            "justify_content": null,
            "justify_items": null,
            "left": null,
            "margin": null,
            "max_height": null,
            "max_width": null,
            "min_height": null,
            "min_width": null,
            "object_fit": null,
            "object_position": null,
            "order": null,
            "overflow": null,
            "overflow_x": null,
            "overflow_y": null,
            "padding": null,
            "right": null,
            "top": null,
            "visibility": null,
            "width": null
          }
        },
        "6ccd9db8b6a84f23b44bc6a69436ec01": {
          "model_module": "@jupyter-widgets/controls",
          "model_name": "DescriptionStyleModel",
          "model_module_version": "1.5.0",
          "state": {
            "_model_module": "@jupyter-widgets/controls",
            "_model_module_version": "1.5.0",
            "_model_name": "DescriptionStyleModel",
            "_view_count": null,
            "_view_module": "@jupyter-widgets/base",
            "_view_module_version": "1.2.0",
            "_view_name": "StyleView",
            "description_width": ""
          }
        },
        "7baf37254e29476ca4bea3ca071ae1fe": {
          "model_module": "@jupyter-widgets/controls",
          "model_name": "HBoxModel",
          "model_module_version": "1.5.0",
          "state": {
            "_dom_classes": [],
            "_model_module": "@jupyter-widgets/controls",
            "_model_module_version": "1.5.0",
            "_model_name": "HBoxModel",
            "_view_count": null,
            "_view_module": "@jupyter-widgets/controls",
            "_view_module_version": "1.5.0",
            "_view_name": "HBoxView",
            "box_style": "",
            "children": [
              "IPY_MODEL_7da4eeec53ef4477a15cfb22a278bfe9",
              "IPY_MODEL_44f52781f14b45749760cf42eecb4394",
              "IPY_MODEL_763bd00e350d4329b34748e49576ca7f"
            ],
            "layout": "IPY_MODEL_92a4416aff6f4cecb2799a08bc52ec9e"
          }
        },
        "7da4eeec53ef4477a15cfb22a278bfe9": {
          "model_module": "@jupyter-widgets/controls",
          "model_name": "HTMLModel",
          "model_module_version": "1.5.0",
          "state": {
            "_dom_classes": [],
            "_model_module": "@jupyter-widgets/controls",
            "_model_module_version": "1.5.0",
            "_model_name": "HTMLModel",
            "_view_count": null,
            "_view_module": "@jupyter-widgets/controls",
            "_view_module_version": "1.5.0",
            "_view_name": "HTMLView",
            "description": "",
            "description_tooltip": null,
            "layout": "IPY_MODEL_2624a065123940c58e7a091b3d7ed0e6",
            "placeholder": "​",
            "style": "IPY_MODEL_44dd2da626a34adb83efc72c88e330b0",
            "value": "model.safetensors: 100%"
          }
        },
        "44f52781f14b45749760cf42eecb4394": {
          "model_module": "@jupyter-widgets/controls",
          "model_name": "FloatProgressModel",
          "model_module_version": "1.5.0",
          "state": {
            "_dom_classes": [],
            "_model_module": "@jupyter-widgets/controls",
            "_model_module_version": "1.5.0",
            "_model_name": "FloatProgressModel",
            "_view_count": null,
            "_view_module": "@jupyter-widgets/controls",
            "_view_module_version": "1.5.0",
            "_view_name": "ProgressView",
            "bar_style": "success",
            "description": "",
            "description_tooltip": null,
            "layout": "IPY_MODEL_ae411a50e1d14b9ca600cf97b4214881",
            "max": 47661730,
            "min": 0,
            "orientation": "horizontal",
            "style": "IPY_MODEL_e8283a48b4574f98883c56c97758cd1a",
            "value": 47661730
          }
        },
        "763bd00e350d4329b34748e49576ca7f": {
          "model_module": "@jupyter-widgets/controls",
          "model_name": "HTMLModel",
          "model_module_version": "1.5.0",
          "state": {
            "_dom_classes": [],
            "_model_module": "@jupyter-widgets/controls",
            "_model_module_version": "1.5.0",
            "_model_name": "HTMLModel",
            "_view_count": null,
            "_view_module": "@jupyter-widgets/controls",
            "_view_module_version": "1.5.0",
            "_view_name": "HTMLView",
            "description": "",
            "description_tooltip": null,
            "layout": "IPY_MODEL_8f25840f95ed4c468e278bca9537f38a",
            "placeholder": "​",
            "style": "IPY_MODEL_1957cb8aab224e5f87f50ddd2ae23e61",
            "value": " 47.7M/47.7M [00:00&lt;00:00, 217MB/s]"
          }
        },
        "92a4416aff6f4cecb2799a08bc52ec9e": {
          "model_module": "@jupyter-widgets/base",
          "model_name": "LayoutModel",
          "model_module_version": "1.2.0",
          "state": {
            "_model_module": "@jupyter-widgets/base",
            "_model_module_version": "1.2.0",
            "_model_name": "LayoutModel",
            "_view_count": null,
            "_view_module": "@jupyter-widgets/base",
            "_view_module_version": "1.2.0",
            "_view_name": "LayoutView",
            "align_content": null,
            "align_items": null,
            "align_self": null,
            "border": null,
            "bottom": null,
            "display": null,
            "flex": null,
            "flex_flow": null,
            "grid_area": null,
            "grid_auto_columns": null,
            "grid_auto_flow": null,
            "grid_auto_rows": null,
            "grid_column": null,
            "grid_gap": null,
            "grid_row": null,
            "grid_template_areas": null,
            "grid_template_columns": null,
            "grid_template_rows": null,
            "height": null,
            "justify_content": null,
            "justify_items": null,
            "left": null,
            "margin": null,
            "max_height": null,
            "max_width": null,
            "min_height": null,
            "min_width": null,
            "object_fit": null,
            "object_position": null,
            "order": null,
            "overflow": null,
            "overflow_x": null,
            "overflow_y": null,
            "padding": null,
            "right": null,
            "top": null,
            "visibility": null,
            "width": null
          }
        },
        "2624a065123940c58e7a091b3d7ed0e6": {
          "model_module": "@jupyter-widgets/base",
          "model_name": "LayoutModel",
          "model_module_version": "1.2.0",
          "state": {
            "_model_module": "@jupyter-widgets/base",
            "_model_module_version": "1.2.0",
            "_model_name": "LayoutModel",
            "_view_count": null,
            "_view_module": "@jupyter-widgets/base",
            "_view_module_version": "1.2.0",
            "_view_name": "LayoutView",
            "align_content": null,
            "align_items": null,
            "align_self": null,
            "border": null,
            "bottom": null,
            "display": null,
            "flex": null,
            "flex_flow": null,
            "grid_area": null,
            "grid_auto_columns": null,
            "grid_auto_flow": null,
            "grid_auto_rows": null,
            "grid_column": null,
            "grid_gap": null,
            "grid_row": null,
            "grid_template_areas": null,
            "grid_template_columns": null,
            "grid_template_rows": null,
            "height": null,
            "justify_content": null,
            "justify_items": null,
            "left": null,
            "margin": null,
            "max_height": null,
            "max_width": null,
            "min_height": null,
            "min_width": null,
            "object_fit": null,
            "object_position": null,
            "order": null,
            "overflow": null,
            "overflow_x": null,
            "overflow_y": null,
            "padding": null,
            "right": null,
            "top": null,
            "visibility": null,
            "width": null
          }
        },
        "44dd2da626a34adb83efc72c88e330b0": {
          "model_module": "@jupyter-widgets/controls",
          "model_name": "DescriptionStyleModel",
          "model_module_version": "1.5.0",
          "state": {
            "_model_module": "@jupyter-widgets/controls",
            "_model_module_version": "1.5.0",
            "_model_name": "DescriptionStyleModel",
            "_view_count": null,
            "_view_module": "@jupyter-widgets/base",
            "_view_module_version": "1.2.0",
            "_view_name": "StyleView",
            "description_width": ""
          }
        },
        "ae411a50e1d14b9ca600cf97b4214881": {
          "model_module": "@jupyter-widgets/base",
          "model_name": "LayoutModel",
          "model_module_version": "1.2.0",
          "state": {
            "_model_module": "@jupyter-widgets/base",
            "_model_module_version": "1.2.0",
            "_model_name": "LayoutModel",
            "_view_count": null,
            "_view_module": "@jupyter-widgets/base",
            "_view_module_version": "1.2.0",
            "_view_name": "LayoutView",
            "align_content": null,
            "align_items": null,
            "align_self": null,
            "border": null,
            "bottom": null,
            "display": null,
            "flex": null,
            "flex_flow": null,
            "grid_area": null,
            "grid_auto_columns": null,
            "grid_auto_flow": null,
            "grid_auto_rows": null,
            "grid_column": null,
            "grid_gap": null,
            "grid_row": null,
            "grid_template_areas": null,
            "grid_template_columns": null,
            "grid_template_rows": null,
            "height": null,
            "justify_content": null,
            "justify_items": null,
            "left": null,
            "margin": null,
            "max_height": null,
            "max_width": null,
            "min_height": null,
            "min_width": null,
            "object_fit": null,
            "object_position": null,
            "order": null,
            "overflow": null,
            "overflow_x": null,
            "overflow_y": null,
            "padding": null,
            "right": null,
            "top": null,
            "visibility": null,
            "width": null
          }
        },
        "e8283a48b4574f98883c56c97758cd1a": {
          "model_module": "@jupyter-widgets/controls",
          "model_name": "ProgressStyleModel",
          "model_module_version": "1.5.0",
          "state": {
            "_model_module": "@jupyter-widgets/controls",
            "_model_module_version": "1.5.0",
            "_model_name": "ProgressStyleModel",
            "_view_count": null,
            "_view_module": "@jupyter-widgets/base",
            "_view_module_version": "1.2.0",
            "_view_name": "StyleView",
            "bar_color": null,
            "description_width": ""
          }
        },
        "8f25840f95ed4c468e278bca9537f38a": {
          "model_module": "@jupyter-widgets/base",
          "model_name": "LayoutModel",
          "model_module_version": "1.2.0",
          "state": {
            "_model_module": "@jupyter-widgets/base",
            "_model_module_version": "1.2.0",
            "_model_name": "LayoutModel",
            "_view_count": null,
            "_view_module": "@jupyter-widgets/base",
            "_view_module_version": "1.2.0",
            "_view_name": "LayoutView",
            "align_content": null,
            "align_items": null,
            "align_self": null,
            "border": null,
            "bottom": null,
            "display": null,
            "flex": null,
            "flex_flow": null,
            "grid_area": null,
            "grid_auto_columns": null,
            "grid_auto_flow": null,
            "grid_auto_rows": null,
            "grid_column": null,
            "grid_gap": null,
            "grid_row": null,
            "grid_template_areas": null,
            "grid_template_columns": null,
            "grid_template_rows": null,
            "height": null,
            "justify_content": null,
            "justify_items": null,
            "left": null,
            "margin": null,
            "max_height": null,
            "max_width": null,
            "min_height": null,
            "min_width": null,
            "object_fit": null,
            "object_position": null,
            "order": null,
            "overflow": null,
            "overflow_x": null,
            "overflow_y": null,
            "padding": null,
            "right": null,
            "top": null,
            "visibility": null,
            "width": null
          }
        },
        "1957cb8aab224e5f87f50ddd2ae23e61": {
          "model_module": "@jupyter-widgets/controls",
          "model_name": "DescriptionStyleModel",
          "model_module_version": "1.5.0",
          "state": {
            "_model_module": "@jupyter-widgets/controls",
            "_model_module_version": "1.5.0",
            "_model_name": "DescriptionStyleModel",
            "_view_count": null,
            "_view_module": "@jupyter-widgets/base",
            "_view_module_version": "1.2.0",
            "_view_name": "StyleView",
            "description_width": ""
          }
        }
      }
    },
    "accelerator": "GPU"
  },
  "cells": [
    {
      "cell_type": "markdown",
      "source": [
        "## 🐬 Описание проекта"
      ],
      "metadata": {
        "id": "6tA89UxDgnqc"
      }
    },
    {
      "cell_type": "markdown",
      "source": [
        "\n",
        "*   Исследование проводилось для кадрового агентства, предоставившего данные по закрытию вакансий за период 2023 - начало 2024 года.\n",
        "*   Цель (формулировка в ТЗ)\n",
        "Выявить признаки вакансий, привлекающих наибольшее внимание кандидатов и успешно закрывающихся силами агентства. В рамках выполнения данной задачи можно использовать любые методы и средства, даже если они не описаны в ТЗ.\n",
        "\n",
        "\n",
        "\n",
        "\n",
        "\n"
      ],
      "metadata": {
        "id": "pfazyor3gwXq"
      }
    },
    {
      "cell_type": "markdown",
      "source": [
        "## 🪼В этом ноутбуке продолжение [исследований](https://docs.google.com/spreadsheets/d/1HjNH6JRjQz9TJ_6DcXCofrh4xAIzBE84/edit?usp=drive_link&ouid=108036727568364940970&rtpof=true&sd=true), проведенных Марией и попытка немного по-другому обработать категориальные и текстовые признаки\n",
        "\n",
        "Основные отличия:\n",
        "- мультилейбл для типа занятости, образования, опыта и формата работы\n",
        "- уменьшение числа уникальных значений для городов\n",
        "- убрать курсы из признаков (насколько можно понять - это служебная информация, которую кандидат не видит)\n",
        "- tiny bert  вместо bert. В дальнейшем можно попробовать прикрутить суммаризацию, чтобы исключить повторы\n",
        "- тестовое задание - есть/нет\n",
        "- для названия позиции введена дополнительная фича - грейд\n",
        "- метод кластеризации по профессиям -  оставлен ручной с небольшими модификациями\n",
        "- города - разделены на наиболее крупные и все остальные, исключены неявные дубликаты"
      ],
      "metadata": {
        "id": "FXpJ_EJE25DQ"
      }
    },
    {
      "cell_type": "code",
      "source": [
        "from google.colab import drive\n",
        "drive.mount('/content/drive')"
      ],
      "metadata": {
        "colab": {
          "base_uri": "https://localhost:8080/"
        },
        "id": "cfoSmDGuzVZk",
        "outputId": "2ba06339-0ea1-4070-fc02-806ef2d83f2c"
      },
      "execution_count": 1,
      "outputs": [
        {
          "output_type": "stream",
          "name": "stdout",
          "text": [
            "Mounted at /content/drive\n"
          ]
        }
      ]
    },
    {
      "cell_type": "code",
      "source": [
        "!pip -q install catboost"
      ],
      "metadata": {
        "colab": {
          "base_uri": "https://localhost:8080/"
        },
        "id": "wMLc0px8KBrI",
        "outputId": "3c24c002-2353-4a18-9047-84d833775d4f"
      },
      "execution_count": 2,
      "outputs": [
        {
          "output_type": "stream",
          "name": "stdout",
          "text": [
            "\u001b[2K     \u001b[90m━━━━━━━━━━━━━━━━━━━━━━━━━━━━━━━━━━━━━━━━\u001b[0m \u001b[32m98.2/98.2 MB\u001b[0m \u001b[31m6.6 MB/s\u001b[0m eta \u001b[36m0:00:00\u001b[0m\n",
            "\u001b[?25h"
          ]
        }
      ]
    },
    {
      "cell_type": "code",
      "source": [
        "# !pip -q install pymorphy2"
      ],
      "metadata": {
        "id": "AslyxK_60IEN"
      },
      "execution_count": 3,
      "outputs": []
    },
    {
      "cell_type": "code",
      "execution_count": 4,
      "metadata": {
        "id": "e96e7632"
      },
      "outputs": [],
      "source": [
        "import pandas as pd\n",
        "import warnings\n",
        "import copy\n",
        "import re\n",
        "import os\n",
        "import numpy as np\n",
        "import torch\n",
        "from tqdm import tqdm\n",
        "import plotly.express as px\n",
        "import seaborn as sns\n",
        "import matplotlib.pyplot as plt\n",
        "from datetime import datetime, timedelta, date\n",
        "# import pymorphy2\n",
        "# from pymorphy2 import MorphAnalyzer\n",
        "from transformers import AutoTokenizer, AutoModelForSequenceClassification, AutoModel, BertConfig\n",
        "from sklearn.model_selection import train_test_split\n",
        "from sklearn.metrics import r2_score, mean_squared_error, mean_absolute_percentage_error\n",
        "from sklearn.metrics import confusion_matrix\n",
        "from sklearn.preprocessing import label_binarize\n",
        "from sklearn.metrics import roc_auc_score\n",
        "from sklearn.metrics import roc_curve, auc\n",
        "\n",
        "import joblib\n",
        "from catboost import CatBoostRegressor, Pool\n",
        "from sklearn.preprocessing import StandardScaler\n",
        "from sklearn.feature_extraction.text import TfidfVectorizer\n",
        "from sklearn.cluster import KMeans\n",
        "from pymystem3 import Mystem\n",
        "\n",
        "\n",
        "import torch.nn as nn\n",
        "from torch.utils.data import DataLoader, Dataset\n",
        "import torch.optim as optim\n",
        "from torch.optim.lr_scheduler import StepLR\n",
        "\n",
        "\n",
        "RANDOM_STATE = 2004\n",
        "pd.options.mode.chained_assignment = None\n",
        "pd.set_option('display.max_columns', None)\n",
        "warnings.simplefilter('ignore')\n",
        "\n",
        "sns.set(style='darkgrid', font_scale=1.2)"
      ]
    },
    {
      "cell_type": "code",
      "source": [
        "# import nltk\n",
        "# nltk.download('punkt')\n",
        "# from nltk.tokenize import word_tokenize\n",
        "\n",
        "# nltk.download('stopwords')\n",
        "# from nltk.corpus import names, stopwords, words\n",
        "# from wordcloud import WordCloud, STOPWORDS\n",
        "# STOPWORDS = set(stopwords.words('russian'))\n",
        "# nltk.download('wordnet')\n",
        "# from nltk.stem import WordNetLemmatizer"
      ],
      "metadata": {
        "id": "PwR9l8jMZFjT"
      },
      "execution_count": null,
      "outputs": []
    },
    {
      "cell_type": "markdown",
      "source": [
        "## 🐚 Загрузка данных"
      ],
      "metadata": {
        "id": "yk8jOFf63vXL"
      }
    },
    {
      "cell_type": "code",
      "source": [
        "df = pd.read_excel('/content/drive/MyDrive/Colab Notebooks/vacancies/vacancy_statistics_2023.xlsx', index_col=False)"
      ],
      "metadata": {
        "id": "J_bhd4j80AnI"
      },
      "execution_count": 5,
      "outputs": []
    },
    {
      "cell_type": "code",
      "execution_count": 6,
      "metadata": {
        "id": "c716fe94",
        "outputId": "dbbb4852-c92b-41a1-e084-4cdce6f898b8",
        "colab": {
          "base_uri": "https://localhost:8080/",
          "height": 695
        }
      },
      "outputs": [
        {
          "output_type": "execute_result",
          "data": {
            "text/plain": [
              "        id        Статус Источник лида   Менеджер Дата публикации  \\\n",
              "72     368  Закрыта нами     Повторная   Кариаули      2023-01-27   \n",
              "1014  1687  Закрыта нами     Повторная  Фаткуллин      2023-09-19   \n",
              "1226  1974  Закрыта нами     Повторная  Фаткуллин      2023-11-26   \n",
              "904   1532         Архив   Реферальная  Фаткуллин      2023-08-24   \n",
              "18     297  Закрыта нами     Повторная   Кариаули      2023-01-13   \n",
              "\n",
              "     Дата закрытия  Количество просмотров  Количество откликов  \\\n",
              "72      2023-02-06                     31                   20   \n",
              "1014    2023-09-27                     42                   11   \n",
              "1226    2023-12-21                     44                   10   \n",
              "904     2023-10-19                      8                    1   \n",
              "18      2023-01-30                     19                    6   \n",
              "\n",
              "                          Компания                    Позиция  \\\n",
              "72    Atsearch - Crowd Recruitment                IT рисерчер   \n",
              "1014                    YouCreator      Тестировщик на проект   \n",
              "1226    Re-Action.Online (стартап)             Data Scientist   \n",
              "904                        YouTool            Product Manager   \n",
              "18                        Гиперион  Junior Python разработчик   \n",
              "\n",
              "                                               Курсы ЯП  Зарплата от  \\\n",
              "72                                          IT-рекрутер      35000.0   \n",
              "1014               QA Bootcamp, Инженер по тестированию          NaN   \n",
              "1226  Специалист по Data Science плюс, Data Science ...          NaN   \n",
              "904    Продакт-менеджер, Junior Продакт, Middle Продакт      60000.0   \n",
              "18          Python-разработчик плюс, Python-Разработчик          NaN   \n",
              "\n",
              "      Зарплата до   Город                                  Формат оформления  \\\n",
              "72        40000.0  Москва  ИП, ГПХ, Самозанятость, Контракт, Трудовой дог...   \n",
              "1014          NaN  Москва                   Самозанятость, Контракт, ИП, ГПХ   \n",
              "1226          NaN  Москва                                  Самозанятость, ИП   \n",
              "904       80000.0  Москва                    Самозанятость, Трудовой договор   \n",
              "18            NaN  Москва  ИП, ГПХ, Самозанятость, Контракт, Трудовой дог...   \n",
              "\n",
              "         Формат работы                                               Опыт  \\\n",
              "72    Гибрид, Удаленка  Около-релевантный (Pet-проекты, open-source, в...   \n",
              "1014          Удаленка  Около-релевантный (Pet-проекты, open-source, в...   \n",
              "1226          Удаленка  Около-релевантный (Pet-проекты, open-source, в...   \n",
              "904             Гибрид  Около-релевантный (Pet-проекты, open-source, в...   \n",
              "18        Офис, Гибрид  Около-релевантный (Pet-проекты, open-source, в...   \n",
              "\n",
              "                                            Образование Ссылка на тестовое  \\\n",
              "72    Другое, Около-релевантное (например, техническ...                NaN   \n",
              "1014  Другое, Около-релевантное (например, техническ...                NaN   \n",
              "1226  Другое, Около-релевантное (например, техническ...                NaN   \n",
              "904   Другое, Около-релевантное (например, техническ...                NaN   \n",
              "18    Другое, Около-релевантное (например, техническ...                NaN   \n",
              "\n",
              "                  Занятость  \\\n",
              "72                   Полная   \n",
              "1014  Стажировка, Проектная   \n",
              "1226  Стажировка, Проектная   \n",
              "904                  Полная   \n",
              "18                   Полная   \n",
              "\n",
              "                                Обязательные требования  \\\n",
              "72    - Знание IT рекрутмента (понимание языков разр...   \n",
              "1014  Основы тестирования_x000D_\\nREST API_x000D_\\nБ...   \n",
              "1226  • Знание Python и его библиотек (numpy, pandas...   \n",
              "904   Инструменты для командной работы, умение работ...   \n",
              "18    ⁃ программирование на Python _x000D_\\n ⁃ знани...   \n",
              "\n",
              "                              Дополнительный требования  \\\n",
              "72    Если у вас есть опыт работы с людьми или опыт,...   \n",
              "1014                                                NaN   \n",
              "1226                                                NaN   \n",
              "904                                                 NaN   \n",
              "18                                                  NaN   \n",
              "\n",
              "                                           Этапы отбора  \\\n",
              "72    1. Скрининг резюме_x000D_\\n2. Интервью №1_x000...   \n",
              "1014        1. Скрининг резюме_x000D_\\n2. Собеседование   \n",
              "1226       1. Скрининг резюме _x000D_\\n2. Собеседование   \n",
              "904   1. Скрининг резюме _x000D_\\n2. Собеседование с...   \n",
              "18                      1. Скрининг_x000D_\\n2. Интервью   \n",
              "\n",
              "                                                Условия  \n",
              "72    100% удалёнка или гибридная занятость в офисе ...  \n",
              "1014  Проектная работа со стартапом_x000D_\\nСрок раб...  \n",
              "1226  • Создавай сервис, с помощью которого сам буде...  \n",
              "904   -Очень желательно 2-3 раза в неделю работать в...  \n",
              "18    Офисная работа в _x000D_\\n_x000D_\\n-гибкий гра...  "
            ],
            "text/html": [
              "\n",
              "  <div id=\"df-53871f3d-04e0-4e3c-aa1d-94160e7b97e2\" class=\"colab-df-container\">\n",
              "    <div>\n",
              "<style scoped>\n",
              "    .dataframe tbody tr th:only-of-type {\n",
              "        vertical-align: middle;\n",
              "    }\n",
              "\n",
              "    .dataframe tbody tr th {\n",
              "        vertical-align: top;\n",
              "    }\n",
              "\n",
              "    .dataframe thead th {\n",
              "        text-align: right;\n",
              "    }\n",
              "</style>\n",
              "<table border=\"1\" class=\"dataframe\">\n",
              "  <thead>\n",
              "    <tr style=\"text-align: right;\">\n",
              "      <th></th>\n",
              "      <th>id</th>\n",
              "      <th>Статус</th>\n",
              "      <th>Источник лида</th>\n",
              "      <th>Менеджер</th>\n",
              "      <th>Дата публикации</th>\n",
              "      <th>Дата закрытия</th>\n",
              "      <th>Количество просмотров</th>\n",
              "      <th>Количество откликов</th>\n",
              "      <th>Компания</th>\n",
              "      <th>Позиция</th>\n",
              "      <th>Курсы ЯП</th>\n",
              "      <th>Зарплата от</th>\n",
              "      <th>Зарплата до</th>\n",
              "      <th>Город</th>\n",
              "      <th>Формат оформления</th>\n",
              "      <th>Формат работы</th>\n",
              "      <th>Опыт</th>\n",
              "      <th>Образование</th>\n",
              "      <th>Ссылка на тестовое</th>\n",
              "      <th>Занятость</th>\n",
              "      <th>Обязательные требования</th>\n",
              "      <th>Дополнительный требования</th>\n",
              "      <th>Этапы отбора</th>\n",
              "      <th>Условия</th>\n",
              "    </tr>\n",
              "  </thead>\n",
              "  <tbody>\n",
              "    <tr>\n",
              "      <th>72</th>\n",
              "      <td>368</td>\n",
              "      <td>Закрыта нами</td>\n",
              "      <td>Повторная</td>\n",
              "      <td>Кариаули</td>\n",
              "      <td>2023-01-27</td>\n",
              "      <td>2023-02-06</td>\n",
              "      <td>31</td>\n",
              "      <td>20</td>\n",
              "      <td>Atsearch - Crowd Recruitment</td>\n",
              "      <td>IT рисерчер</td>\n",
              "      <td>IT-рекрутер</td>\n",
              "      <td>35000.0</td>\n",
              "      <td>40000.0</td>\n",
              "      <td>Москва</td>\n",
              "      <td>ИП, ГПХ, Самозанятость, Контракт, Трудовой дог...</td>\n",
              "      <td>Гибрид, Удаленка</td>\n",
              "      <td>Около-релевантный (Pet-проекты, open-source, в...</td>\n",
              "      <td>Другое, Около-релевантное (например, техническ...</td>\n",
              "      <td>NaN</td>\n",
              "      <td>Полная</td>\n",
              "      <td>- Знание IT рекрутмента (понимание языков разр...</td>\n",
              "      <td>Если у вас есть опыт работы с людьми или опыт,...</td>\n",
              "      <td>1. Скрининг резюме_x000D_\\n2. Интервью №1_x000...</td>\n",
              "      <td>100% удалёнка или гибридная занятость в офисе ...</td>\n",
              "    </tr>\n",
              "    <tr>\n",
              "      <th>1014</th>\n",
              "      <td>1687</td>\n",
              "      <td>Закрыта нами</td>\n",
              "      <td>Повторная</td>\n",
              "      <td>Фаткуллин</td>\n",
              "      <td>2023-09-19</td>\n",
              "      <td>2023-09-27</td>\n",
              "      <td>42</td>\n",
              "      <td>11</td>\n",
              "      <td>YouCreator</td>\n",
              "      <td>Тестировщик на проект</td>\n",
              "      <td>QA Bootcamp, Инженер по тестированию</td>\n",
              "      <td>NaN</td>\n",
              "      <td>NaN</td>\n",
              "      <td>Москва</td>\n",
              "      <td>Самозанятость, Контракт, ИП, ГПХ</td>\n",
              "      <td>Удаленка</td>\n",
              "      <td>Около-релевантный (Pet-проекты, open-source, в...</td>\n",
              "      <td>Другое, Около-релевантное (например, техническ...</td>\n",
              "      <td>NaN</td>\n",
              "      <td>Стажировка, Проектная</td>\n",
              "      <td>Основы тестирования_x000D_\\nREST API_x000D_\\nБ...</td>\n",
              "      <td>NaN</td>\n",
              "      <td>1. Скрининг резюме_x000D_\\n2. Собеседование</td>\n",
              "      <td>Проектная работа со стартапом_x000D_\\nСрок раб...</td>\n",
              "    </tr>\n",
              "    <tr>\n",
              "      <th>1226</th>\n",
              "      <td>1974</td>\n",
              "      <td>Закрыта нами</td>\n",
              "      <td>Повторная</td>\n",
              "      <td>Фаткуллин</td>\n",
              "      <td>2023-11-26</td>\n",
              "      <td>2023-12-21</td>\n",
              "      <td>44</td>\n",
              "      <td>10</td>\n",
              "      <td>Re-Action.Online (стартап)</td>\n",
              "      <td>Data Scientist</td>\n",
              "      <td>Специалист по Data Science плюс, Data Science ...</td>\n",
              "      <td>NaN</td>\n",
              "      <td>NaN</td>\n",
              "      <td>Москва</td>\n",
              "      <td>Самозанятость, ИП</td>\n",
              "      <td>Удаленка</td>\n",
              "      <td>Около-релевантный (Pet-проекты, open-source, в...</td>\n",
              "      <td>Другое, Около-релевантное (например, техническ...</td>\n",
              "      <td>NaN</td>\n",
              "      <td>Стажировка, Проектная</td>\n",
              "      <td>• Знание Python и его библиотек (numpy, pandas...</td>\n",
              "      <td>NaN</td>\n",
              "      <td>1. Скрининг резюме _x000D_\\n2. Собеседование</td>\n",
              "      <td>• Создавай сервис, с помощью которого сам буде...</td>\n",
              "    </tr>\n",
              "    <tr>\n",
              "      <th>904</th>\n",
              "      <td>1532</td>\n",
              "      <td>Архив</td>\n",
              "      <td>Реферальная</td>\n",
              "      <td>Фаткуллин</td>\n",
              "      <td>2023-08-24</td>\n",
              "      <td>2023-10-19</td>\n",
              "      <td>8</td>\n",
              "      <td>1</td>\n",
              "      <td>YouTool</td>\n",
              "      <td>Product Manager</td>\n",
              "      <td>Продакт-менеджер, Junior Продакт, Middle Продакт</td>\n",
              "      <td>60000.0</td>\n",
              "      <td>80000.0</td>\n",
              "      <td>Москва</td>\n",
              "      <td>Самозанятость, Трудовой договор</td>\n",
              "      <td>Гибрид</td>\n",
              "      <td>Около-релевантный (Pet-проекты, open-source, в...</td>\n",
              "      <td>Другое, Около-релевантное (например, техническ...</td>\n",
              "      <td>NaN</td>\n",
              "      <td>Полная</td>\n",
              "      <td>Инструменты для командной работы, умение работ...</td>\n",
              "      <td>NaN</td>\n",
              "      <td>1. Скрининг резюме _x000D_\\n2. Собеседование с...</td>\n",
              "      <td>-Очень желательно 2-3 раза в неделю работать в...</td>\n",
              "    </tr>\n",
              "    <tr>\n",
              "      <th>18</th>\n",
              "      <td>297</td>\n",
              "      <td>Закрыта нами</td>\n",
              "      <td>Повторная</td>\n",
              "      <td>Кариаули</td>\n",
              "      <td>2023-01-13</td>\n",
              "      <td>2023-01-30</td>\n",
              "      <td>19</td>\n",
              "      <td>6</td>\n",
              "      <td>Гиперион</td>\n",
              "      <td>Junior Python разработчик</td>\n",
              "      <td>Python-разработчик плюс, Python-Разработчик</td>\n",
              "      <td>NaN</td>\n",
              "      <td>NaN</td>\n",
              "      <td>Москва</td>\n",
              "      <td>ИП, ГПХ, Самозанятость, Контракт, Трудовой дог...</td>\n",
              "      <td>Офис, Гибрид</td>\n",
              "      <td>Около-релевантный (Pet-проекты, open-source, в...</td>\n",
              "      <td>Другое, Около-релевантное (например, техническ...</td>\n",
              "      <td>NaN</td>\n",
              "      <td>Полная</td>\n",
              "      <td>⁃ программирование на Python _x000D_\\n ⁃ знани...</td>\n",
              "      <td>NaN</td>\n",
              "      <td>1. Скрининг_x000D_\\n2. Интервью</td>\n",
              "      <td>Офисная работа в _x000D_\\n_x000D_\\n-гибкий гра...</td>\n",
              "    </tr>\n",
              "  </tbody>\n",
              "</table>\n",
              "</div>\n",
              "    <div class=\"colab-df-buttons\">\n",
              "\n",
              "  <div class=\"colab-df-container\">\n",
              "    <button class=\"colab-df-convert\" onclick=\"convertToInteractive('df-53871f3d-04e0-4e3c-aa1d-94160e7b97e2')\"\n",
              "            title=\"Convert this dataframe to an interactive table.\"\n",
              "            style=\"display:none;\">\n",
              "\n",
              "  <svg xmlns=\"http://www.w3.org/2000/svg\" height=\"24px\" viewBox=\"0 -960 960 960\">\n",
              "    <path d=\"M120-120v-720h720v720H120Zm60-500h600v-160H180v160Zm220 220h160v-160H400v160Zm0 220h160v-160H400v160ZM180-400h160v-160H180v160Zm440 0h160v-160H620v160ZM180-180h160v-160H180v160Zm440 0h160v-160H620v160Z\"/>\n",
              "  </svg>\n",
              "    </button>\n",
              "\n",
              "  <style>\n",
              "    .colab-df-container {\n",
              "      display:flex;\n",
              "      gap: 12px;\n",
              "    }\n",
              "\n",
              "    .colab-df-convert {\n",
              "      background-color: #E8F0FE;\n",
              "      border: none;\n",
              "      border-radius: 50%;\n",
              "      cursor: pointer;\n",
              "      display: none;\n",
              "      fill: #1967D2;\n",
              "      height: 32px;\n",
              "      padding: 0 0 0 0;\n",
              "      width: 32px;\n",
              "    }\n",
              "\n",
              "    .colab-df-convert:hover {\n",
              "      background-color: #E2EBFA;\n",
              "      box-shadow: 0px 1px 2px rgba(60, 64, 67, 0.3), 0px 1px 3px 1px rgba(60, 64, 67, 0.15);\n",
              "      fill: #174EA6;\n",
              "    }\n",
              "\n",
              "    .colab-df-buttons div {\n",
              "      margin-bottom: 4px;\n",
              "    }\n",
              "\n",
              "    [theme=dark] .colab-df-convert {\n",
              "      background-color: #3B4455;\n",
              "      fill: #D2E3FC;\n",
              "    }\n",
              "\n",
              "    [theme=dark] .colab-df-convert:hover {\n",
              "      background-color: #434B5C;\n",
              "      box-shadow: 0px 1px 3px 1px rgba(0, 0, 0, 0.15);\n",
              "      filter: drop-shadow(0px 1px 2px rgba(0, 0, 0, 0.3));\n",
              "      fill: #FFFFFF;\n",
              "    }\n",
              "  </style>\n",
              "\n",
              "    <script>\n",
              "      const buttonEl =\n",
              "        document.querySelector('#df-53871f3d-04e0-4e3c-aa1d-94160e7b97e2 button.colab-df-convert');\n",
              "      buttonEl.style.display =\n",
              "        google.colab.kernel.accessAllowed ? 'block' : 'none';\n",
              "\n",
              "      async function convertToInteractive(key) {\n",
              "        const element = document.querySelector('#df-53871f3d-04e0-4e3c-aa1d-94160e7b97e2');\n",
              "        const dataTable =\n",
              "          await google.colab.kernel.invokeFunction('convertToInteractive',\n",
              "                                                    [key], {});\n",
              "        if (!dataTable) return;\n",
              "\n",
              "        const docLinkHtml = 'Like what you see? Visit the ' +\n",
              "          '<a target=\"_blank\" href=https://colab.research.google.com/notebooks/data_table.ipynb>data table notebook</a>'\n",
              "          + ' to learn more about interactive tables.';\n",
              "        element.innerHTML = '';\n",
              "        dataTable['output_type'] = 'display_data';\n",
              "        await google.colab.output.renderOutput(dataTable, element);\n",
              "        const docLink = document.createElement('div');\n",
              "        docLink.innerHTML = docLinkHtml;\n",
              "        element.appendChild(docLink);\n",
              "      }\n",
              "    </script>\n",
              "  </div>\n",
              "\n",
              "\n",
              "<div id=\"df-6f320163-7c7e-49a1-ad28-7fb10531bb66\">\n",
              "  <button class=\"colab-df-quickchart\" onclick=\"quickchart('df-6f320163-7c7e-49a1-ad28-7fb10531bb66')\"\n",
              "            title=\"Suggest charts\"\n",
              "            style=\"display:none;\">\n",
              "\n",
              "<svg xmlns=\"http://www.w3.org/2000/svg\" height=\"24px\"viewBox=\"0 0 24 24\"\n",
              "     width=\"24px\">\n",
              "    <g>\n",
              "        <path d=\"M19 3H5c-1.1 0-2 .9-2 2v14c0 1.1.9 2 2 2h14c1.1 0 2-.9 2-2V5c0-1.1-.9-2-2-2zM9 17H7v-7h2v7zm4 0h-2V7h2v10zm4 0h-2v-4h2v4z\"/>\n",
              "    </g>\n",
              "</svg>\n",
              "  </button>\n",
              "\n",
              "<style>\n",
              "  .colab-df-quickchart {\n",
              "      --bg-color: #E8F0FE;\n",
              "      --fill-color: #1967D2;\n",
              "      --hover-bg-color: #E2EBFA;\n",
              "      --hover-fill-color: #174EA6;\n",
              "      --disabled-fill-color: #AAA;\n",
              "      --disabled-bg-color: #DDD;\n",
              "  }\n",
              "\n",
              "  [theme=dark] .colab-df-quickchart {\n",
              "      --bg-color: #3B4455;\n",
              "      --fill-color: #D2E3FC;\n",
              "      --hover-bg-color: #434B5C;\n",
              "      --hover-fill-color: #FFFFFF;\n",
              "      --disabled-bg-color: #3B4455;\n",
              "      --disabled-fill-color: #666;\n",
              "  }\n",
              "\n",
              "  .colab-df-quickchart {\n",
              "    background-color: var(--bg-color);\n",
              "    border: none;\n",
              "    border-radius: 50%;\n",
              "    cursor: pointer;\n",
              "    display: none;\n",
              "    fill: var(--fill-color);\n",
              "    height: 32px;\n",
              "    padding: 0;\n",
              "    width: 32px;\n",
              "  }\n",
              "\n",
              "  .colab-df-quickchart:hover {\n",
              "    background-color: var(--hover-bg-color);\n",
              "    box-shadow: 0 1px 2px rgba(60, 64, 67, 0.3), 0 1px 3px 1px rgba(60, 64, 67, 0.15);\n",
              "    fill: var(--button-hover-fill-color);\n",
              "  }\n",
              "\n",
              "  .colab-df-quickchart-complete:disabled,\n",
              "  .colab-df-quickchart-complete:disabled:hover {\n",
              "    background-color: var(--disabled-bg-color);\n",
              "    fill: var(--disabled-fill-color);\n",
              "    box-shadow: none;\n",
              "  }\n",
              "\n",
              "  .colab-df-spinner {\n",
              "    border: 2px solid var(--fill-color);\n",
              "    border-color: transparent;\n",
              "    border-bottom-color: var(--fill-color);\n",
              "    animation:\n",
              "      spin 1s steps(1) infinite;\n",
              "  }\n",
              "\n",
              "  @keyframes spin {\n",
              "    0% {\n",
              "      border-color: transparent;\n",
              "      border-bottom-color: var(--fill-color);\n",
              "      border-left-color: var(--fill-color);\n",
              "    }\n",
              "    20% {\n",
              "      border-color: transparent;\n",
              "      border-left-color: var(--fill-color);\n",
              "      border-top-color: var(--fill-color);\n",
              "    }\n",
              "    30% {\n",
              "      border-color: transparent;\n",
              "      border-left-color: var(--fill-color);\n",
              "      border-top-color: var(--fill-color);\n",
              "      border-right-color: var(--fill-color);\n",
              "    }\n",
              "    40% {\n",
              "      border-color: transparent;\n",
              "      border-right-color: var(--fill-color);\n",
              "      border-top-color: var(--fill-color);\n",
              "    }\n",
              "    60% {\n",
              "      border-color: transparent;\n",
              "      border-right-color: var(--fill-color);\n",
              "    }\n",
              "    80% {\n",
              "      border-color: transparent;\n",
              "      border-right-color: var(--fill-color);\n",
              "      border-bottom-color: var(--fill-color);\n",
              "    }\n",
              "    90% {\n",
              "      border-color: transparent;\n",
              "      border-bottom-color: var(--fill-color);\n",
              "    }\n",
              "  }\n",
              "</style>\n",
              "\n",
              "  <script>\n",
              "    async function quickchart(key) {\n",
              "      const quickchartButtonEl =\n",
              "        document.querySelector('#' + key + ' button');\n",
              "      quickchartButtonEl.disabled = true;  // To prevent multiple clicks.\n",
              "      quickchartButtonEl.classList.add('colab-df-spinner');\n",
              "      try {\n",
              "        const charts = await google.colab.kernel.invokeFunction(\n",
              "            'suggestCharts', [key], {});\n",
              "      } catch (error) {\n",
              "        console.error('Error during call to suggestCharts:', error);\n",
              "      }\n",
              "      quickchartButtonEl.classList.remove('colab-df-spinner');\n",
              "      quickchartButtonEl.classList.add('colab-df-quickchart-complete');\n",
              "    }\n",
              "    (() => {\n",
              "      let quickchartButtonEl =\n",
              "        document.querySelector('#df-6f320163-7c7e-49a1-ad28-7fb10531bb66 button');\n",
              "      quickchartButtonEl.style.display =\n",
              "        google.colab.kernel.accessAllowed ? 'block' : 'none';\n",
              "    })();\n",
              "  </script>\n",
              "</div>\n",
              "    </div>\n",
              "  </div>\n"
            ],
            "application/vnd.google.colaboratory.intrinsic+json": {
              "type": "dataframe"
            }
          },
          "metadata": {},
          "execution_count": 6
        }
      ],
      "source": [
        "df.sample(5)"
      ]
    },
    {
      "cell_type": "code",
      "source": [
        "df.info()"
      ],
      "metadata": {
        "colab": {
          "base_uri": "https://localhost:8080/"
        },
        "id": "Uajb7cuneIDT",
        "outputId": "8f69256d-5a57-43bd-a6f2-559ba0094bdc"
      },
      "execution_count": 7,
      "outputs": [
        {
          "output_type": "stream",
          "name": "stdout",
          "text": [
            "<class 'pandas.core.frame.DataFrame'>\n",
            "RangeIndex: 1302 entries, 0 to 1301\n",
            "Data columns (total 24 columns):\n",
            " #   Column                     Non-Null Count  Dtype  \n",
            "---  ------                     --------------  -----  \n",
            " 0   id                         1302 non-null   int64  \n",
            " 1   Статус                     1302 non-null   object \n",
            " 2   Источник лида              1292 non-null   object \n",
            " 3   Менеджер                   1209 non-null   object \n",
            " 4   Дата публикации            1302 non-null   object \n",
            " 5   Дата закрытия              1144 non-null   object \n",
            " 6   Количество просмотров      1302 non-null   int64  \n",
            " 7   Количество откликов        1302 non-null   int64  \n",
            " 8   Компания                   1302 non-null   object \n",
            " 9   Позиция                    1302 non-null   object \n",
            " 10  Курсы ЯП                   1302 non-null   object \n",
            " 11  Зарплата от                476 non-null    float64\n",
            " 12  Зарплата до                377 non-null    float64\n",
            " 13  Город                      1302 non-null   object \n",
            " 14  Формат оформления          1302 non-null   object \n",
            " 15  Формат работы              1302 non-null   object \n",
            " 16  Опыт                       1302 non-null   object \n",
            " 17  Образование                1302 non-null   object \n",
            " 18  Ссылка на тестовое         107 non-null    object \n",
            " 19  Занятость                  1302 non-null   object \n",
            " 20  Обязательные требования    1302 non-null   object \n",
            " 21  Дополнительный требования  674 non-null    object \n",
            " 22  Этапы отбора               1302 non-null   object \n",
            " 23  Условия                    1302 non-null   object \n",
            "dtypes: float64(2), int64(3), object(19)\n",
            "memory usage: 244.2+ KB\n"
          ]
        }
      ]
    },
    {
      "cell_type": "code",
      "execution_count": 8,
      "metadata": {
        "id": "RbDU4rLc0QvQ"
      },
      "outputs": [],
      "source": [
        "df=df.rename(columns={'Статус':'status', 'Источник лида':'lead_source', 'Менеджер':'manager', 'Дата публикации':'start_date', 'Дата закрытия':'end_date', 'Количество просмотров':'views',\n",
        "'Количество откликов':'responses', 'Компания':'emp_brand',  'Позиция':'job_title', 'Курсы ЯП':'courses','Зарплата от':'salary_min', 'Зарплата до':'salary_max', 'Город':'city', 'Формат оформления':'contract', 'Формат работы':'format', 'Опыт':'experience', 'Образование':'education', 'Занятость':'employment', 'Ссылка на тестовое':'test_task', 'Обязательные требования':'mandatory', 'Дополнительный требования':'additional', 'Этапы отбора':'comр_stages', 'Условия':'work_conditions'\n",
        "})"
      ]
    },
    {
      "cell_type": "code",
      "source": [
        "df['target'] = df['responses'] / df['views']"
      ],
      "metadata": {
        "id": "xENy0o9G3XKW"
      },
      "execution_count": 9,
      "outputs": []
    },
    {
      "cell_type": "code",
      "source": [
        "df['test_task'] = df['test_task'].apply(lambda x: 1 if (x is not None) else 0)"
      ],
      "metadata": {
        "id": "A_eSOEw4U_YX"
      },
      "execution_count": 10,
      "outputs": []
    },
    {
      "cell_type": "code",
      "source": [
        "df = df.drop(columns=['id','status','lead_source','manager', 'start_date', 'end_date', 'views', 'responses', 'courses'], axis=1)"
      ],
      "metadata": {
        "id": "xS9NQHTL14xU"
      },
      "execution_count": 11,
      "outputs": []
    },
    {
      "cell_type": "code",
      "source": [
        "df['emp_brand'] = df['emp_brand'].apply(lambda x: x.lower().strip())"
      ],
      "metadata": {
        "id": "pzroC3r8FDMa"
      },
      "execution_count": 12,
      "outputs": []
    },
    {
      "cell_type": "code",
      "source": [
        "df.info()"
      ],
      "metadata": {
        "colab": {
          "base_uri": "https://localhost:8080/"
        },
        "id": "LrtkxbU-7o0i",
        "outputId": "f8aef99f-d15c-4a45-87a3-ea276ea82888"
      },
      "execution_count": 13,
      "outputs": [
        {
          "output_type": "stream",
          "name": "stdout",
          "text": [
            "<class 'pandas.core.frame.DataFrame'>\n",
            "RangeIndex: 1302 entries, 0 to 1301\n",
            "Data columns (total 16 columns):\n",
            " #   Column           Non-Null Count  Dtype  \n",
            "---  ------           --------------  -----  \n",
            " 0   emp_brand        1302 non-null   object \n",
            " 1   job_title        1302 non-null   object \n",
            " 2   salary_min       476 non-null    float64\n",
            " 3   salary_max       377 non-null    float64\n",
            " 4   city             1302 non-null   object \n",
            " 5   contract         1302 non-null   object \n",
            " 6   format           1302 non-null   object \n",
            " 7   experience       1302 non-null   object \n",
            " 8   education        1302 non-null   object \n",
            " 9   test_task        1302 non-null   int64  \n",
            " 10  employment       1302 non-null   object \n",
            " 11  mandatory        1302 non-null   object \n",
            " 12  additional       674 non-null    object \n",
            " 13  comр_stages      1302 non-null   object \n",
            " 14  work_conditions  1302 non-null   object \n",
            " 15  target           1302 non-null   float64\n",
            "dtypes: float64(3), int64(1), object(12)\n",
            "memory usage: 162.9+ KB\n"
          ]
        }
      ]
    },
    {
      "cell_type": "markdown",
      "source": [
        "## 🦈 Профессии и грейды"
      ],
      "metadata": {
        "id": "FD2_u_u8WM5f"
      }
    },
    {
      "cell_type": "code",
      "source": [
        "def grade(txt: str) -> str:\n",
        "    grds = ['intern', 'junior', 'middle', 'senior', 'lead']\n",
        "    patterns = [['intern', 'интерн', 'стаж', 'ассист', 'помощ'],\n",
        "                ['juni', 'младш', 'джун'],\n",
        "                 ['middle', 'мидл', 'средн'],\n",
        "                 ['senior', 'сеньор', 'старш'],\n",
        "                  ['lead', 'ведущ', 'тимлид']]\n",
        "    result = 'unknown'\n",
        "    for g, p in zip(grds, patterns):\n",
        "        matches = [x for x in p if x in txt.lower()]\n",
        "        if len(matches) != 0:\n",
        "            result = g\n",
        "            pass # first match\n",
        "    return result"
      ],
      "metadata": {
        "id": "4a-dWDK39n5v"
      },
      "execution_count": 14,
      "outputs": []
    },
    {
      "cell_type": "code",
      "source": [
        "df['grade'] = df['job_title'].apply(grade)"
      ],
      "metadata": {
        "id": "tlMS_vmA9npD"
      },
      "execution_count": 15,
      "outputs": []
    },
    {
      "cell_type": "code",
      "source": [
        "df['grade'].hist()"
      ],
      "metadata": {
        "colab": {
          "base_uri": "https://localhost:8080/",
          "height": 454
        },
        "id": "XY9scRHdA1mG",
        "outputId": "bdf36592-5a51-434b-ca30-683d664bdf27"
      },
      "execution_count": 16,
      "outputs": [
        {
          "output_type": "execute_result",
          "data": {
            "text/plain": [
              "<Axes: >"
            ]
          },
          "metadata": {},
          "execution_count": 16
        },
        {
          "output_type": "display_data",
          "data": {
            "text/plain": [
              "<Figure size 640x480 with 1 Axes>"
            ],
            "image/png": "[encoded data removed]"
          },
          "metadata": {}
        }
      ]
    },
    {
      "cell_type": "code",
      "source": [
        "def prof(txt: str) -> str:\n",
        "    profs = ['developer', 'devops', 'ds', 'analyst', 'manager',\n",
        "             'tester', 'designer', 'marketolog', 'support', 'hr']\n",
        "    patterns = [['develop', 'разработ', 'программист'],\n",
        "                ['devops', 'ops'],\n",
        "                 ['ds', 'scien', 'саен', 'сайен', 'ml', 'nlp', 'машин'],\n",
        "                 ['аналит', 'analyst', 'данны'],\n",
        "                  ['pm', 'менеджер', 'руководитель', 'manager', 'куратор', 'администр'],\n",
        "                ['качеств', 'тест', 'test', 'qa'],\n",
        "                ['design', 'ux', 'ui', 'дизайн'],\n",
        "                ['таргет', 'market', 'маркет', 'контекст', 'smm', 'seo'],\n",
        "                ['support', 'техподдер', 'поддерж', 'забот'],\n",
        "                ['recruit', 'hr', 'сорсер', 'рекрут', 'ресечер', 'рисерчер']]\n",
        "    result = 'other'\n",
        "    for pr, pt in zip(profs, patterns):\n",
        "        matches = [x for x in pt if x in txt.lower()]\n",
        "        if len(matches) != 0:\n",
        "            result = pr\n",
        "            pass\n",
        "    return result"
      ],
      "metadata": {
        "id": "LanIA9WQLKnt"
      },
      "execution_count": 17,
      "outputs": []
    },
    {
      "cell_type": "code",
      "source": [
        "df['profession'] = df['job_title'].apply(prof)"
      ],
      "metadata": {
        "id": "469UgxamO8HH"
      },
      "execution_count": 18,
      "outputs": []
    },
    {
      "cell_type": "code",
      "source": [
        "df = df.drop(['job_title'], axis=1)"
      ],
      "metadata": {
        "id": "9bc9epu9Pdne"
      },
      "execution_count": 19,
      "outputs": []
    },
    {
      "cell_type": "markdown",
      "source": [
        "## 🐙 Города\n",
        "\n",
        "Строго говоря, сюда надо подтягивать geopandas и geonames. Пока что в качестве временной меры сделаем категории Москва, СПб, Екб и все остальное"
      ],
      "metadata": {
        "id": "1FOf3SzfP4ez"
      }
    },
    {
      "cell_type": "code",
      "source": [
        "def outside_the_mkad(txt: str) -> str:\n",
        "    patterns = [['москв', 'маскв', 'москов'],\n",
        "                ['петерб', 'санкт', 'спб', 'питер'],\n",
        "                ['екб', 'екатеринб']]\n",
        "    cities = ['Moscow', 'Saint-Petersburg', 'Yekaterinburg']\n",
        "    result = 'Other'\n",
        "    for c, pt in zip(cities, patterns):\n",
        "        matches = [x for x in pt if x in txt.lower()]\n",
        "        if len(matches) != 0:\n",
        "            result = c\n",
        "            pass\n",
        "    return result"
      ],
      "metadata": {
        "id": "5Va1edjkP13A"
      },
      "execution_count": 20,
      "outputs": []
    },
    {
      "cell_type": "code",
      "source": [
        "\n",
        "df['location'] = df['city'].apply(outside_the_mkad)"
      ],
      "metadata": {
        "id": "-8bCQB2APlYt"
      },
      "execution_count": 21,
      "outputs": []
    },
    {
      "cell_type": "code",
      "source": [
        "df['location'].hist()"
      ],
      "metadata": {
        "colab": {
          "base_uri": "https://localhost:8080/",
          "height": 454
        },
        "id": "aU1PMS-mRxMv",
        "outputId": "155a1802-84b8-45fc-b2ac-e42b7e55bed3"
      },
      "execution_count": 22,
      "outputs": [
        {
          "output_type": "execute_result",
          "data": {
            "text/plain": [
              "<Axes: >"
            ]
          },
          "metadata": {},
          "execution_count": 22
        },
        {
          "output_type": "display_data",
          "data": {
            "text/plain": [
              "<Figure size 640x480 with 1 Axes>"
            ],
            "image/png": "[encoded data removed]"
          },
          "metadata": {}
        }
      ]
    },
    {
      "cell_type": "code",
      "source": [
        "df = df.drop(['city'], axis=1)"
      ],
      "metadata": {
        "id": "T3LKwLdpSEf1"
      },
      "execution_count": 23,
      "outputs": []
    },
    {
      "cell_type": "markdown",
      "source": [
        "## 🪸 Опыт, образования, условия работы"
      ],
      "metadata": {
        "id": "hRjmOMJJWX_u"
      }
    },
    {
      "cell_type": "code",
      "source": [
        "def labels(data: pd.DataFrame, column: str):\n",
        "    vals = data[column].unique()\n",
        "    all_vals = ','.join(list(vals))\n",
        "    all_vals = re.sub(r'\\((.*?)\\)', r'', all_vals).split(',')\n",
        "    all_vals = list(map(lambda x: x.strip(), all_vals))\n",
        "    un_vals = list(set(all_vals))\n",
        "    for u in un_vals:\n",
        "        data[u] = data[column].apply(lambda x: 1 if u in x else 0)"
      ],
      "metadata": {
        "id": "N6I-WxFUWXXS"
      },
      "execution_count": 24,
      "outputs": []
    },
    {
      "cell_type": "code",
      "source": [
        "labels(df, 'experience')"
      ],
      "metadata": {
        "id": "2zxGYN4OX_V_"
      },
      "execution_count": 25,
      "outputs": []
    },
    {
      "cell_type": "code",
      "source": [
        "df = df.rename(columns={'Релевантный': 'relevant_exp',\n",
        "                   'Около-релевантный': 'near_exp',\n",
        "                   'Есть только учебный опыт в Практикуме': 'student_exp'})\n",
        "df = df.drop(['experience'], axis=1)"
      ],
      "metadata": {
        "id": "Q5VvxhrIgbHw"
      },
      "execution_count": 26,
      "outputs": []
    },
    {
      "cell_type": "code",
      "source": [
        "labels(df, 'education')"
      ],
      "metadata": {
        "id": "xmn9jMuXhp5n"
      },
      "execution_count": 27,
      "outputs": []
    },
    {
      "cell_type": "code",
      "source": [
        "df = df.rename(columns={'Профильное': 'relevant_edu',\n",
        "                   'Около-релевантное': 'near_edu',\n",
        "                   'Другое': 'other_edu'})\n",
        "df = df.drop(['education'], axis=1)"
      ],
      "metadata": {
        "id": "AUj4D-A1iNJt"
      },
      "execution_count": 28,
      "outputs": []
    },
    {
      "cell_type": "code",
      "source": [
        "labels(df, 'format')"
      ],
      "metadata": {
        "id": "d7JU9BEIjD5w"
      },
      "execution_count": 29,
      "outputs": []
    },
    {
      "cell_type": "code",
      "source": [
        "labels(df, 'contract')"
      ],
      "metadata": {
        "id": "89nWjjq1jQnm"
      },
      "execution_count": 30,
      "outputs": []
    },
    {
      "cell_type": "code",
      "source": [
        "df = df.rename(columns={'Удаленка': 'remote',\n",
        "                   'Офис': 'office',\n",
        "                   'Гибрид': 'hybrid',\n",
        "                        'ГПХ': 'gph',\n",
        "                        'Контракт': 'temporary',\n",
        "                        'Трудовой договор': 'permanent',\n",
        "                        'Самозанятость': 'self_empl',\n",
        "                        'ИП': 'ind_enterp'})\n",
        "df = df.drop(['format', 'contract'], axis=1)"
      ],
      "metadata": {
        "id": "0FFKXbYcjkIx"
      },
      "execution_count": 31,
      "outputs": []
    },
    {
      "cell_type": "code",
      "source": [
        "labels(df, 'employment')"
      ],
      "metadata": {
        "id": "eD1LdaHcr-EY"
      },
      "execution_count": 32,
      "outputs": []
    },
    {
      "cell_type": "code",
      "source": [
        "df = df.rename(columns={'Проектная': 'project',\n",
        "                   'Частичная': 'part_time',\n",
        "                   'Полная': 'full_time',\n",
        "                        'Стажировка': 'internship',\n",
        "                        'Волонтерство': 'volunteering'})\n",
        "df = df.drop(['employment'], axis=1)"
      ],
      "metadata": {
        "id": "GFAJM0oGsFOU"
      },
      "execution_count": 33,
      "outputs": []
    },
    {
      "cell_type": "markdown",
      "source": [
        "## 🐡 Заполнение пропусков"
      ],
      "metadata": {
        "id": "DIvPb4xNlzFO"
      }
    },
    {
      "cell_type": "code",
      "source": [
        "df['additional']= df['additional'].fillna(' или ')"
      ],
      "metadata": {
        "id": "TW0RN8lYl139"
      },
      "execution_count": 34,
      "outputs": []
    },
    {
      "cell_type": "code",
      "source": [
        "# df['salary_min'] = df.groupby(\"profession\")['salary_min'].transform(lambda x: x.fillna(x.median()))\n",
        "# df['salary_max'] = df.groupby(\"profession\")['salary_max'].transform(lambda x: x.fillna(x.median()))"
      ],
      "metadata": {
        "id": "afQaeWluns3O"
      },
      "execution_count": 35,
      "outputs": []
    },
    {
      "cell_type": "code",
      "source": [
        "df['description'] = df['mandatory'] + df['additional'] + df['comр_stages'] + df['work_conditions']\n",
        "df['emp_brand'] = df['emp_brand'] + ' '\n",
        "df['description_1'] = df['emp_brand'] + df['mandatory'] + df['additional'] + df['comр_stages'] + df['work_conditions']\n",
        "df = df.drop(['mandatory', 'additional', 'comр_stages', 'work_conditions'], axis=1)"
      ],
      "metadata": {
        "id": "D51FrW8PmpB6"
      },
      "execution_count": 36,
      "outputs": []
    },
    {
      "cell_type": "code",
      "source": [
        "df.info()"
      ],
      "metadata": {
        "id": "kh0RN5T2mZUe",
        "colab": {
          "base_uri": "https://localhost:8080/"
        },
        "outputId": "4af54cca-9441-4047-a039-758659318bf5"
      },
      "execution_count": 37,
      "outputs": [
        {
          "output_type": "stream",
          "name": "stdout",
          "text": [
            "<class 'pandas.core.frame.DataFrame'>\n",
            "RangeIndex: 1302 entries, 0 to 1301\n",
            "Data columns (total 29 columns):\n",
            " #   Column         Non-Null Count  Dtype  \n",
            "---  ------         --------------  -----  \n",
            " 0   emp_brand      1302 non-null   object \n",
            " 1   salary_min     476 non-null    float64\n",
            " 2   salary_max     377 non-null    float64\n",
            " 3   test_task      1302 non-null   int64  \n",
            " 4   target         1302 non-null   float64\n",
            " 5   grade          1302 non-null   object \n",
            " 6   profession     1302 non-null   object \n",
            " 7   location       1302 non-null   object \n",
            " 8   near_exp       1302 non-null   int64  \n",
            " 9   student_exp    1302 non-null   int64  \n",
            " 10  relevant_exp   1302 non-null   int64  \n",
            " 11  relevant_edu   1302 non-null   int64  \n",
            " 12  other_edu      1302 non-null   int64  \n",
            " 13  near_edu       1302 non-null   int64  \n",
            " 14  remote         1302 non-null   int64  \n",
            " 15  office         1302 non-null   int64  \n",
            " 16  hybrid         1302 non-null   int64  \n",
            " 17  ind_enterp     1302 non-null   int64  \n",
            " 18  gph            1302 non-null   int64  \n",
            " 19  self_empl      1302 non-null   int64  \n",
            " 20  temporary      1302 non-null   int64  \n",
            " 21  permanent      1302 non-null   int64  \n",
            " 22  full_time      1302 non-null   int64  \n",
            " 23  project        1302 non-null   int64  \n",
            " 24  volunteering   1302 non-null   int64  \n",
            " 25  part_time      1302 non-null   int64  \n",
            " 26  internship     1302 non-null   int64  \n",
            " 27  description    1302 non-null   object \n",
            " 28  description_1  1302 non-null   object \n",
            "dtypes: float64(3), int64(20), object(6)\n",
            "memory usage: 295.1+ KB\n"
          ]
        }
      ]
    },
    {
      "cell_type": "markdown",
      "source": [
        "## 🦭 Text Processing (Tiny Bert)\n",
        "\n",
        "---\n",
        "\n"
      ],
      "metadata": {
        "id": "F7K7B1sQbPG8"
      }
    },
    {
      "cell_type": "code",
      "source": [
        "def cleaner(txt: str) -> str:\n",
        "    txt = re.sub(r'\\_(.*?)\\_', r'', txt)\n",
        "    txt = re.sub(r'([\\n\\t]*)', r'', txt)\n",
        "    return txt"
      ],
      "metadata": {
        "id": "huxoBrVxq8Zb"
      },
      "execution_count": 38,
      "outputs": []
    },
    {
      "cell_type": "code",
      "source": [
        "example = df['description'][154]\n",
        "print(example)\n",
        "print('_'*50)\n",
        "cleaner(example)"
      ],
      "metadata": {
        "colab": {
          "base_uri": "https://localhost:8080/",
          "height": 405
        },
        "id": "gsc3tOqRs2GN",
        "outputId": "19564beb-71bf-40bf-a2d8-3911f17b5c9a"
      },
      "execution_count": 39,
      "outputs": [
        {
          "output_type": "stream",
          "name": "stdout",
          "text": [
            "Кого мы ищем:_x000D_\n",
            "_x000D_\n",
            "- Мистера или Мисс Обаяние, самого очаровательного рекрутера;_x000D_\n",
            "- Настойчивого, но ненавязчивого, любящего людей человека;_x000D_\n",
            "- Рекрутера с опытом в подборе ИЛИ кандидата без опыта, жаждущего влиться в новый увлекательный мир IT-подбора;_x000D_\n",
            "- Разговорный английский от B1-B2 обязателен. или - Телефонный созвон с HRD _x000D_\n",
            "- Интервью в zoom с командой_x000D_\n",
            "Если тебя заинтересовала наша вакансия, пожалуйста, расскажи о своем самом большом профессиональном достижении в сопроводительном письме.- Мы не берем в работу неконкурентоспособные вакансии. - Никаких зарплат ниже рынка, скучных задач и мертвых стеков. _x000D_\n",
            "- Удаленка, оплата в долларах, релокейт - мы выбираем только такие позиции;_x000D_\n",
            "- Возможность познакомиться с системами подбора лучших компаний мира;_x000D_\n",
            "- Мы обучаем сами и привлекаем спикеров со стороны, чтобы усилить скиллы наших рекрутеров;_x000D_\n",
            "- Мы достойно оплачиваем работу: рекрутер получает оклад, а также от 10 до 25% от оклада нанятого разработчика;_x000D_\n",
            "- Полностью удаленная работа;_x000D_\n",
            "- Мы веселые и экологичные, притягивающие таких же приятных людей, клиентов и соискателей.\n",
            "__________________________________________________\n"
          ]
        },
        {
          "output_type": "execute_result",
          "data": {
            "text/plain": [
              "'Кого мы ищем:- Мистера или Мисс Обаяние, самого очаровательного рекрутера;- Настойчивого, но ненавязчивого, любящего людей человека;- Рекрутера с опытом в подборе ИЛИ кандидата без опыта, жаждущего влиться в новый увлекательный мир IT-подбора;- Разговорный английский от B1-B2 обязателен. или - Телефонный созвон с HRD - Интервью в zoom с командойЕсли тебя заинтересовала наша вакансия, пожалуйста, расскажи о своем самом большом профессиональном достижении в сопроводительном письме.- Мы не берем в работу неконкурентоспособные вакансии. - Никаких зарплат ниже рынка, скучных задач и мертвых стеков. - Удаленка, оплата в долларах, релокейт - мы выбираем только такие позиции;- Возможность познакомиться с системами подбора лучших компаний мира;- Мы обучаем сами и привлекаем спикеров со стороны, чтобы усилить скиллы наших рекрутеров;- Мы достойно оплачиваем работу: рекрутер получает оклад, а также от 10 до 25% от оклада нанятого разработчика;- Полностью удаленная работа;- Мы веселые и экологичные, притягивающие таких же приятных людей, клиентов и соискателей.'"
            ],
            "application/vnd.google.colaboratory.intrinsic+json": {
              "type": "string"
            }
          },
          "metadata": {},
          "execution_count": 39
        }
      ]
    },
    {
      "cell_type": "code",
      "source": [
        "df['description'] = df['description'].apply(cleaner)"
      ],
      "metadata": {
        "id": "TixF6hV9t2VO"
      },
      "execution_count": 40,
      "outputs": []
    },
    {
      "cell_type": "code",
      "source": [
        "df['description_1'] = df['description_1'].apply(cleaner)"
      ],
      "metadata": {
        "id": "a_EZ8mGfQHcP"
      },
      "execution_count": 41,
      "outputs": []
    },
    {
      "cell_type": "code",
      "source": [
        "df['seqlen'] = df['description'].apply(lambda x: len(x))\n",
        "q1 = df['seqlen'].quantile(.05)\n",
        "q2 = df['seqlen'].quantile(.95)\n",
        "df = df.loc[(df['seqlen'] > q1) & (df['seqlen'] < q2)]\n",
        "df['seqlen'].describe()"
      ],
      "metadata": {
        "colab": {
          "base_uri": "https://localhost:8080/"
        },
        "id": "W9YTtS8Kt99e",
        "outputId": "103e9d3a-cfe5-4620-df0c-84b8912d1c85"
      },
      "execution_count": 42,
      "outputs": [
        {
          "output_type": "execute_result",
          "data": {
            "text/plain": [
              "count    1170.000000\n",
              "mean      823.358974\n",
              "std       297.216041\n",
              "min       307.000000\n",
              "25%       583.000000\n",
              "50%       796.000000\n",
              "75%      1054.000000\n",
              "max      1488.000000\n",
              "Name: seqlen, dtype: float64"
            ]
          },
          "metadata": {},
          "execution_count": 42
        }
      ]
    },
    {
      "cell_type": "code",
      "source": [
        "df = df.drop(['seqlen'], axis=1)\n",
        "df.info()"
      ],
      "metadata": {
        "colab": {
          "base_uri": "https://localhost:8080/"
        },
        "id": "LpW8ABbDuKo5",
        "outputId": "82cbe055-4694-4bd2-eae9-3ed4de5e30e3"
      },
      "execution_count": 43,
      "outputs": [
        {
          "output_type": "stream",
          "name": "stdout",
          "text": [
            "<class 'pandas.core.frame.DataFrame'>\n",
            "Index: 1170 entries, 0 to 1301\n",
            "Data columns (total 29 columns):\n",
            " #   Column         Non-Null Count  Dtype  \n",
            "---  ------         --------------  -----  \n",
            " 0   emp_brand      1170 non-null   object \n",
            " 1   salary_min     425 non-null    float64\n",
            " 2   salary_max     337 non-null    float64\n",
            " 3   test_task      1170 non-null   int64  \n",
            " 4   target         1170 non-null   float64\n",
            " 5   grade          1170 non-null   object \n",
            " 6   profession     1170 non-null   object \n",
            " 7   location       1170 non-null   object \n",
            " 8   near_exp       1170 non-null   int64  \n",
            " 9   student_exp    1170 non-null   int64  \n",
            " 10  relevant_exp   1170 non-null   int64  \n",
            " 11  relevant_edu   1170 non-null   int64  \n",
            " 12  other_edu      1170 non-null   int64  \n",
            " 13  near_edu       1170 non-null   int64  \n",
            " 14  remote         1170 non-null   int64  \n",
            " 15  office         1170 non-null   int64  \n",
            " 16  hybrid         1170 non-null   int64  \n",
            " 17  ind_enterp     1170 non-null   int64  \n",
            " 18  gph            1170 non-null   int64  \n",
            " 19  self_empl      1170 non-null   int64  \n",
            " 20  temporary      1170 non-null   int64  \n",
            " 21  permanent      1170 non-null   int64  \n",
            " 22  full_time      1170 non-null   int64  \n",
            " 23  project        1170 non-null   int64  \n",
            " 24  volunteering   1170 non-null   int64  \n",
            " 25  part_time      1170 non-null   int64  \n",
            " 26  internship     1170 non-null   int64  \n",
            " 27  description    1170 non-null   object \n",
            " 28  description_1  1170 non-null   object \n",
            "dtypes: float64(3), int64(20), object(6)\n",
            "memory usage: 274.2+ KB\n"
          ]
        }
      ]
    },
    {
      "cell_type": "code",
      "source": [
        "tokenizer = AutoTokenizer.from_pretrained(\"cointegrated/rubert-tiny\")\n",
        "model = AutoModel.from_pretrained(\"cointegrated/rubert-tiny\")\n",
        "\n",
        "def embed_bert_cls(text):\n",
        "    t = tokenizer(text, padding=True, truncation=True, return_tensors='pt')\n",
        "    with torch.no_grad():\n",
        "        model_output = model(**{k: v.to(model.device) for k, v in t.items()})\n",
        "    embeddings = model_output.last_hidden_state[:, 0, :]\n",
        "    embeddings = torch.nn.functional.normalize(embeddings)\n",
        "    return embeddings[0].cpu().numpy()\n",
        "\n",
        "print(embed_bert_cls(example).shape)"
      ],
      "metadata": {
        "colab": {
          "base_uri": "https://localhost:8080/",
          "height": 226,
          "referenced_widgets": [
            "1e5f009bfaea487fbefb7615189b5e66",
            "6e52191369444fcba86d8a0a49e4351d",
            "f9f4185e52f64b1f9319f1b8b3dd8e11",
            "25b0b7c9b99a4be28365190f4e555af4",
            "dc83fc7f10ff42148ea9214bd1c1fec6",
            "62a3028e94a44e1690c47990e85c7bb0",
            "9433eb40a8c64b18ab10a339ec1fd977",
            "25f9107f35484ffea193eb135032fe03",
            "d44586397e174d8191c8fbd4b11b17bc",
            "defd38d75c324c40a18ef32bfccba801",
            "8f5b1e80a89b4208ba2db9dddbf03eb4",
            "9023871f597844528f507998ced2f2fd",
            "6888fc5104b146d8a726fae894f562a4",
            "a8d1096f8ba745c5a3fc0f7ed52d5a62",
            "77d9f8d553cb421d8dc68ef879a8273e",
            "dcacc4895f294813ba7c979f1042d303",
            "f358ea476e4e4a579027561138aa4052",
            "b26d50307a114174b958d5d1a01f64c2",
            "25b6bd030e6f47d08a4be13076a71fca",
            "9dcb6be6d25d4a4fa887e4aaaf611b42",
            "f5715ffa6536449ea81500ac3ceaa8ae",
            "413b0fd240c34429a2f6cf4129411a9d",
            "ed0dd65e002b491484297502734da401",
            "b19169535fd84fabb3142e4810464410",
            "4d8d25705cdc4c498e2bb4d7f6d4c3b9",
            "4c5f6c5f13b5498a9a781e27d42bdb7a",
            "41b9080d29484f1e877ac7c4f6706724",
            "f9422c871eb0473db43f82426be90b1d",
            "a78f8c05ee45462fb6999c70a8c2cec9",
            "bee3bd607f1a47be91691d490e4a5f7a",
            "0669aa189145491aa4ebb62ec57b2613",
            "4146677a60304ea9a0a463f8b7cb8f73",
            "4fcddb4395a741ff8d45d280ce983df6",
            "929be33c97e34fa0847b67f56f785adb",
            "b913304d0aa84ca690f913e2d10f5205",
            "c6a04faa35834def86af0773383b9cae",
            "e84c9876312b4aaf9f8bf5cdb32549c6",
            "4ac7e7f5cf4d4f008d999b87e87b1cf6",
            "42196e00fda5420bb5bc607ba57635a8",
            "58349510ad604b4db9c8fc248fdc3e3a",
            "09e76a8ce0e94090998d79d42ecb6b08",
            "16b81ae07ec441548067341cee073242",
            "91478d351eff46059fa56448fb6fc93b",
            "e3fdfd62d903446fb5aa1a7efe7023c8",
            "dbf14380c3824c50b59d09959a3791c8",
            "346b34f765d2462899df980efe68ade5",
            "9c8bd22e8cf54d9d8c4d738cc0b8e751",
            "2916595981f441d8b38c4793221998a2",
            "37c00f68d3f34c4d8508435a0d40cc63",
            "6178645307344ba981b0630b91f839d8",
            "546090102cbb4227bbc03daee243cf62",
            "309ead16f9184183b921716990a3f9f5",
            "da7215157a7e4dbdbbb9ad9c8fa6b175",
            "044dfc896e0945e18d75307f698c17c8",
            "6ccd9db8b6a84f23b44bc6a69436ec01",
            "7baf37254e29476ca4bea3ca071ae1fe",
            "7da4eeec53ef4477a15cfb22a278bfe9",
            "44f52781f14b45749760cf42eecb4394",
            "763bd00e350d4329b34748e49576ca7f",
            "92a4416aff6f4cecb2799a08bc52ec9e",
            "2624a065123940c58e7a091b3d7ed0e6",
            "44dd2da626a34adb83efc72c88e330b0",
            "ae411a50e1d14b9ca600cf97b4214881",
            "e8283a48b4574f98883c56c97758cd1a",
            "8f25840f95ed4c468e278bca9537f38a",
            "1957cb8aab224e5f87f50ddd2ae23e61"
          ]
        },
        "id": "4J5yFYHJvC52",
        "outputId": "04607949-8ee9-44cb-9abf-cbcc93662e92"
      },
      "execution_count": 44,
      "outputs": [
        {
          "output_type": "display_data",
          "data": {
            "text/plain": [
              "tokenizer_config.json:   0%|          | 0.00/341 [00:00<?, ?B/s]"
            ],
            "application/vnd.jupyter.widget-view+json": {
              "version_major": 2,
              "version_minor": 0,
              "model_id": "1e5f009bfaea487fbefb7615189b5e66"
            }
          },
          "metadata": {}
        },
        {
          "output_type": "display_data",
          "data": {
            "text/plain": [
              "config.json:   0%|          | 0.00/632 [00:00<?, ?B/s]"
            ],
            "application/vnd.jupyter.widget-view+json": {
              "version_major": 2,
              "version_minor": 0,
              "model_id": "9023871f597844528f507998ced2f2fd"
            }
          },
          "metadata": {}
        },
        {
          "output_type": "display_data",
          "data": {
            "text/plain": [
              "vocab.txt:   0%|          | 0.00/241k [00:00<?, ?B/s]"
            ],
            "application/vnd.jupyter.widget-view+json": {
              "version_major": 2,
              "version_minor": 0,
              "model_id": "ed0dd65e002b491484297502734da401"
            }
          },
          "metadata": {}
        },
        {
          "output_type": "display_data",
          "data": {
            "text/plain": [
              "tokenizer.json:   0%|          | 0.00/468k [00:00<?, ?B/s]"
            ],
            "application/vnd.jupyter.widget-view+json": {
              "version_major": 2,
              "version_minor": 0,
              "model_id": "929be33c97e34fa0847b67f56f785adb"
            }
          },
          "metadata": {}
        },
        {
          "output_type": "display_data",
          "data": {
            "text/plain": [
              "special_tokens_map.json:   0%|          | 0.00/112 [00:00<?, ?B/s]"
            ],
            "application/vnd.jupyter.widget-view+json": {
              "version_major": 2,
              "version_minor": 0,
              "model_id": "dbf14380c3824c50b59d09959a3791c8"
            }
          },
          "metadata": {}
        },
        {
          "output_type": "display_data",
          "data": {
            "text/plain": [
              "model.safetensors:   0%|          | 0.00/47.7M [00:00<?, ?B/s]"
            ],
            "application/vnd.jupyter.widget-view+json": {
              "version_major": 2,
              "version_minor": 0,
              "model_id": "7baf37254e29476ca4bea3ca071ae1fe"
            }
          },
          "metadata": {}
        },
        {
          "output_type": "stream",
          "name": "stdout",
          "text": [
            "(312,)\n"
          ]
        }
      ]
    },
    {
      "cell_type": "code",
      "source": [
        "# emb_result = np.array(list(map(lambda x: 'emb_' + str(x), range(312))))\n",
        "# emb_result = np.expand_dims(emb_result, axis=0)\n",
        "# for data in tqdm(df['description'].values, desc='Creating embeddings'):\n",
        "#     res = np.expand_dims(embed_bert_cls(data), axis=0)\n",
        "#     emb_result = np.concatenate((emb_result, res), axis=0)"
      ],
      "metadata": {
        "id": "439SAgPjviZr"
      },
      "execution_count": 45,
      "outputs": []
    },
    {
      "cell_type": "code",
      "source": [
        "# emb_result.shape"
      ],
      "metadata": {
        "id": "8xAefA9ozKv3"
      },
      "execution_count": 46,
      "outputs": []
    },
    {
      "cell_type": "code",
      "source": [
        "# dfe = pd.DataFrame(data=emb_result[1:,:], columns=emb_result[0,:])\n",
        "# dfe.head()"
      ],
      "metadata": {
        "id": "OfvQx0KMyueV"
      },
      "execution_count": 47,
      "outputs": []
    },
    {
      "cell_type": "code",
      "source": [
        "class VacClass(Dataset):\n",
        "    def __init__(self, annotations, thr: list):\n",
        "        self.annotations = annotations\n",
        "        self.threshold = thr\n",
        "\n",
        "    def __getitem__(self, idx):\n",
        "        txt_ = self.annotations['description_1'].values[idx]\n",
        "        target = self.annotations['target'].values[idx]\n",
        "        if target < self.threshold[0]:\n",
        "            target = 0\n",
        "        elif self.threshold[0] < target < self.threshold[1]:\n",
        "            target = 1\n",
        "        else:\n",
        "            target = 2\n",
        "        return [txt_], torch.tensor(target)\n",
        "\n",
        "    def __len__(self):\n",
        "        return len(self.annotations)"
      ],
      "metadata": {
        "id": "iSYA2DBQ65vI"
      },
      "execution_count": 48,
      "outputs": []
    },
    {
      "cell_type": "code",
      "source": [
        "df['target'].hist(bins=50)"
      ],
      "metadata": {
        "colab": {
          "base_uri": "https://localhost:8080/",
          "height": 454
        },
        "id": "UGfrfnsL4OEK",
        "outputId": "5ae7d75e-c6ff-4951-919a-295c09905727"
      },
      "execution_count": 49,
      "outputs": [
        {
          "output_type": "execute_result",
          "data": {
            "text/plain": [
              "<Axes: >"
            ]
          },
          "metadata": {},
          "execution_count": 49
        },
        {
          "output_type": "display_data",
          "data": {
            "text/plain": [
              "<Figure size 640x480 with 1 Axes>"
            ],
            "image/png": "[encoded data removed]"
          },
          "metadata": {}
        }
      ]
    },
    {
      "cell_type": "code",
      "source": [
        "def cl(score: float):\n",
        "    if score < .22:\n",
        "        return 0\n",
        "    elif .22 < score < .44:\n",
        "        return 1\n",
        "    else:\n",
        "        return 2\n",
        "df['classes'] = df['target'].apply(cl)\n",
        "w = []\n",
        "for c in df['classes'].unique():\n",
        "    w.append(len(df.loc[df['classes'] == c]) / len(df))\n",
        "\n",
        "weights = torch.FloatTensor(w)\n",
        "weights"
      ],
      "metadata": {
        "colab": {
          "base_uri": "https://localhost:8080/"
        },
        "id": "Q3TixGthErfY",
        "outputId": "b3b22a8c-b68c-472a-db1d-bbdb09dff6b1"
      },
      "execution_count": 52,
      "outputs": [
        {
          "output_type": "execute_result",
          "data": {
            "text/plain": [
              "tensor([0.3966, 0.3111, 0.2923])"
            ]
          },
          "metadata": {},
          "execution_count": 52
        }
      ]
    },
    {
      "cell_type": "code",
      "source": [
        "device = torch.device('cuda') if torch.cuda.is_available() else torch.device('cpu')\n",
        "print('device:', device)\n",
        "SEED = torch.Generator().manual_seed(RANDOM_STATE)\n",
        "BATCH_SIZE = 32"
      ],
      "metadata": {
        "colab": {
          "base_uri": "https://localhost:8080/"
        },
        "id": "81mFH7Dj77uB",
        "outputId": "0a620f01-09ca-4266-9db8-adf3395bc5d1"
      },
      "execution_count": 53,
      "outputs": [
        {
          "output_type": "stream",
          "name": "stdout",
          "text": [
            "device: cuda\n"
          ]
        }
      ]
    },
    {
      "cell_type": "code",
      "source": [
        "vac = VacClass(df, [.22, .44])\n",
        "train_ru, valid_ru = torch.utils.data.random_split(vac, [.8, .2], generator=SEED)\n",
        "train_dataloader_ru = torch.utils.data.DataLoader(train_ru, batch_size=BATCH_SIZE, shuffle=True, num_workers=0)\n",
        "valid_dataloader_ru = torch.utils.data.DataLoader(valid_ru, batch_size=BATCH_SIZE, shuffle=False, num_workers=0)"
      ],
      "metadata": {
        "id": "VLK3UWzy7pjB"
      },
      "execution_count": 54,
      "outputs": []
    },
    {
      "cell_type": "code",
      "source": [
        "class TransformerRegrModel(nn.Module):\n",
        "    def __init__(self, base_transformer_model: str, num_classes: int):\n",
        "        super().__init__()\n",
        "        self.tr_model = base_transformer_model\n",
        "        self.num = num_classes\n",
        "\n",
        "        if self.tr_model not in  ['rubert', 'base']:\n",
        "            raise Exception('unknown model')\n",
        "        elif self.tr_model == 'rubert':\n",
        "            self.tokenizer = AutoTokenizer.from_pretrained(\"cointegrated/rubert-tiny2\")\n",
        "            self.config = BertConfig.from_pretrained(\"cointegrated/rubert-tiny2\", output_hidden_states=True, output_attentions=True)\n",
        "        elif self.tr_model == 'base':\n",
        "            self.tokenizer = AutoTokenizer.from_pretrained(\"ai-forever/ruBert-base\", model_max_length=512)\n",
        "            self.config = BertConfig.from_pretrained(\"ai-forever/ruBert-base\", output_hidden_states=True, output_attentions=True)\n",
        "        self.model = AutoModel.from_config(self.config)\n",
        "        self.a1 = nn.ReLU()\n",
        "        self.classifier_1 = nn.Linear(self.model.pooler.dense.out_features, self.num)\n",
        "        # self.classifier_dropout = nn.Dropout(p=0.2)\n",
        "        # self.classifier_2 = nn.Linear(128, self.num)\n",
        "\n",
        "    def forward(self, inputs):\n",
        "        t = self.tokenizer(inputs, padding=True, truncation=True, return_tensors='pt')\n",
        "        tokens = self.tokenizer.convert_ids_to_tokens(t['input_ids'][0])\n",
        "        model_output = self.model(**{k: v.to(device) for k, v in t.items()})\n",
        "        attentions = torch.cat(model_output['attentions']).to('cpu')\n",
        "        embeddings = model_output.last_hidden_state[:, 0, :]\n",
        "        embeddings = torch.nn.functional.normalize(embeddings)\n",
        "        outputs = self.a1(embeddings)\n",
        "        outputs = self.classifier_1(outputs)\n",
        "        # outputs = self.classifier_dropout(outputs)\n",
        "        # outputs = self.a1(outputs)\n",
        "        # outputs = self.classifier_dropout(outputs)\n",
        "        # outputs = self.classifier_2(outputs)\n",
        "\n",
        "        return outputs, tokens, attentions"
      ],
      "metadata": {
        "id": "jJ_Avqv18Tqt"
      },
      "execution_count": 74,
      "outputs": []
    },
    {
      "cell_type": "code",
      "source": [
        "rubert = TransformerRegrModel('rubert', 3)"
      ],
      "metadata": {
        "id": "nr2-Xs5D9v-c"
      },
      "execution_count": 75,
      "outputs": []
    },
    {
      "cell_type": "code",
      "source": [
        "txts, labels = next(iter(train_dataloader_ru))\n",
        "rubert.to(device)\n",
        "rubert.eval()\n",
        "res, tokens, attentions = rubert(txts[0])\n",
        "res"
      ],
      "metadata": {
        "colab": {
          "base_uri": "https://localhost:8080/"
        },
        "id": "DJUulE8y9_Dn",
        "outputId": "48e6c7d0-da43-46b4-f747-a7299f062870"
      },
      "execution_count": 76,
      "outputs": [
        {
          "output_type": "execute_result",
          "data": {
            "text/plain": [
              "tensor([[0.0124, 0.0008, 0.0711],\n",
              "        [0.0129, 0.0009, 0.0716],\n",
              "        [0.0125, 0.0008, 0.0719],\n",
              "        [0.0123, 0.0010, 0.0716],\n",
              "        [0.0131, 0.0007, 0.0717],\n",
              "        [0.0122, 0.0014, 0.0716],\n",
              "        [0.0128, 0.0012, 0.0716],\n",
              "        [0.0126, 0.0010, 0.0716],\n",
              "        [0.0122, 0.0010, 0.0715],\n",
              "        [0.0133, 0.0009, 0.0711],\n",
              "        [0.0121, 0.0006, 0.0717],\n",
              "        [0.0124, 0.0006, 0.0718],\n",
              "        [0.0122, 0.0011, 0.0708],\n",
              "        [0.0124, 0.0011, 0.0716],\n",
              "        [0.0126, 0.0015, 0.0716],\n",
              "        [0.0124, 0.0011, 0.0713],\n",
              "        [0.0118, 0.0011, 0.0716],\n",
              "        [0.0133, 0.0012, 0.0714],\n",
              "        [0.0125, 0.0008, 0.0717],\n",
              "        [0.0127, 0.0012, 0.0716],\n",
              "        [0.0131, 0.0009, 0.0717],\n",
              "        [0.0124, 0.0008, 0.0718],\n",
              "        [0.0125, 0.0008, 0.0716],\n",
              "        [0.0124, 0.0013, 0.0715],\n",
              "        [0.0131, 0.0011, 0.0716],\n",
              "        [0.0127, 0.0012, 0.0713],\n",
              "        [0.0123, 0.0010, 0.0715],\n",
              "        [0.0130, 0.0011, 0.0717],\n",
              "        [0.0126, 0.0011, 0.0712],\n",
              "        [0.0129, 0.0008, 0.0716],\n",
              "        [0.0127, 0.0006, 0.0715],\n",
              "        [0.0132, 0.0011, 0.0711]], device='cuda:0', grad_fn=<AddmmBackward0>)"
            ]
          },
          "metadata": {},
          "execution_count": 76
        }
      ]
    },
    {
      "cell_type": "code",
      "source": [
        "def fit_epoch(model, train_loader, criterion, optimizer, scheduler_down, scheduler_up):\n",
        "    model.train()\n",
        "    running_loss = 0.0\n",
        "    running_corrects = 0\n",
        "    processed_data = 0\n",
        "\n",
        "    for inputs, labels in train_loader:\n",
        "\n",
        "        # inputs = inputs[0].to(device)\n",
        "        labels = labels.to(device)\n",
        "        optimizer.zero_grad()\n",
        "\n",
        "        outputs, _, _ = model(inputs[0])\n",
        "        loss = criterion(outputs, labels)\n",
        "        loss.backward()\n",
        "        optimizer.step()\n",
        "        preds = torch.argmax(outputs, 1)\n",
        "        running_loss += loss.item() * len(inputs[0])\n",
        "        running_corrects += torch.sum(preds == labels.data)\n",
        "        processed_data += len(inputs[0])\n",
        "\n",
        "    scheduler_down.step()\n",
        "    # scheduler_up.step()\n",
        "    train_loss = running_loss / processed_data\n",
        "    train_acc = running_corrects.cpu().numpy() / processed_data\n",
        "    rate = optimizer.param_groups[0][\"lr\"]\n",
        "    return train_loss, train_acc, rate\n"
      ],
      "metadata": {
        "id": "gdbvIO-q8ES5"
      },
      "execution_count": 77,
      "outputs": []
    },
    {
      "cell_type": "code",
      "source": [
        "def eval_epoch(model, val_loader, criterion):\n",
        "    model.eval()\n",
        "    running_loss = 0.0\n",
        "    running_corrects = 0\n",
        "    processed_size = 0\n",
        "\n",
        "    for inputs, labels in val_loader:\n",
        "        # inputs = inputs[0].to(device)\n",
        "        labels = labels.to(device)\n",
        "\n",
        "        with torch.set_grad_enabled(False):\n",
        "            outputs, _, _ = model(inputs[0])\n",
        "            loss = criterion(outputs, labels)\n",
        "            preds = torch.argmax(outputs, 1)\n",
        "\n",
        "        running_loss += loss.item() * len(inputs[0])\n",
        "        running_corrects += torch.sum(preds == labels.data)\n",
        "        processed_size += len(inputs[0])\n",
        "    val_loss = running_loss / processed_size\n",
        "    val_acc = running_corrects.cpu().numpy() / processed_size\n",
        "    return val_loss, val_acc"
      ],
      "metadata": {
        "id": "eSGW6OMc-e_J"
      },
      "execution_count": 78,
      "outputs": []
    },
    {
      "cell_type": "code",
      "source": [
        "def predict(model, test_loader):\n",
        "    running_corrects = 0\n",
        "    processed_size = 0\n",
        "    with torch.no_grad():\n",
        "        logits = []\n",
        "        preds = []\n",
        "        answers = []\n",
        "\n",
        "        for inputs, labels in test_loader:\n",
        "            labels = labels.to(device)\n",
        "            model.eval()\n",
        "            outputs, _, _ = model(inputs[0])\n",
        "            logits.append(outputs.cpu())\n",
        "            preds.append(torch.argmax(outputs, 1).cpu())\n",
        "            answers.append(labels.cpu())\n",
        "            running_corrects += torch.sum(torch.argmax(outputs, 1) == labels.data)\n",
        "            processed_size += len(inputs[0])\n",
        "\n",
        "    probs = nn.functional.softmax(torch.cat(logits), dim=-1).numpy()\n",
        "    preds = torch.cat(preds, dim=-1).numpy()\n",
        "    answers = torch.cat(answers, dim=-1).numpy()\n",
        "    test_acc = running_corrects.cpu().numpy() / processed_size\n",
        "    return answers, preds, probs, test_acc"
      ],
      "metadata": {
        "id": "buD7EJ24oa06"
      },
      "execution_count": 79,
      "outputs": []
    },
    {
      "cell_type": "code",
      "source": [
        "def vizualize(h, model):\n",
        "    loss, acc, val_loss, val_acc, rate = zip(*h)\n",
        "    plt.figure(figsize=(15, 9))\n",
        "    plt.plot(loss, label=\"train_loss\")\n",
        "    plt.plot(val_loss, label=\"val_loss\")\n",
        "    plt.legend(loc='best')\n",
        "    plt.xlabel(\"epochs\")\n",
        "    plt.ylabel(\"loss\")\n",
        "    plt.show()\n",
        "    plt.plot(acc, label=\"train_accuracy\")\n",
        "    plt.plot(val_acc, label=\"validation_accuracy\")\n",
        "    plt.legend(loc='best')\n",
        "    plt.xlabel(\"epochs\")\n",
        "    plt.ylabel(\"accuracy\")\n",
        "    plt.show()\n",
        "    plt.plot(np.log(rate), label=\"learning_rate\", color='green')\n",
        "    plt.legend(loc='best')\n",
        "    plt.xlabel(\"epochs\")\n",
        "    plt.ylabel(\"learning rate (log scale)\")\n",
        "    plt.show()"
      ],
      "metadata": {
        "id": "KC2F6Ftr-o0U"
      },
      "execution_count": 80,
      "outputs": []
    },
    {
      "cell_type": "code",
      "source": [
        "def freeze_model(model):\n",
        "    for name, param in model.named_parameters():\n",
        "        if 'classifier' not in name:\n",
        "            param.requires_grad = False\n",
        "    return model"
      ],
      "metadata": {
        "id": "jw-V4cY8VKzA"
      },
      "execution_count": 81,
      "outputs": []
    },
    {
      "cell_type": "code",
      "source": [
        "def train_transformer(train, val, model, epochs, rate, criterion, freeze):\n",
        "    model_ = copy.copy(model)\n",
        "    if freeze:\n",
        "        model_ = freeze_model(model_)\n",
        "    history = []\n",
        "    log_template = \"\\nEpoch {ep:03d} train_loss: {t_loss:0.4f} \\\n",
        "    val_loss {v_loss:0.4f} train_acc {t_acc:0.4f} val_acc {v_acc:0.4f}, learning rate {r}\"\n",
        "\n",
        "    with tqdm(desc=\"epoch\", total=epochs) as pbar_outer:\n",
        "        opt = torch.optim.Adam(model_.parameters(), lr=rate)\n",
        "        # sch = StepLR(opt, step_size=5, gamma=0.1)\n",
        "        sch_down = StepLR(opt, step_size=25, gamma=0.2)\n",
        "        sch_up = StepLR(opt, step_size=10, gamma=200)\n",
        "\n",
        "        val_acc_p = 0\n",
        "\n",
        "        for epoch in range(epochs):\n",
        "            train_loss, train_acc, rate = fit_epoch(model_, train, criterion, opt, sch_down, sch_up)\n",
        "\n",
        "            val_loss, val_acc = eval_epoch(model_, val, criterion)\n",
        "            if val_acc > val_acc_p and epoch != 0:\n",
        "                torch.save(model_.state_dict(), \"/content/drive/MyDrive/Colab Notebooks/vacancies/tiny.pt\")\n",
        "                print(f'save best model for {epoch} epoch')\n",
        "                val_acc_p = val_acc\n",
        "            history.append((train_loss, train_acc, val_loss, val_acc, rate))\n",
        "\n",
        "            pbar_outer.update(1)\n",
        "            tqdm.write(log_template.format(ep=epoch+1, t_loss=train_loss,\\\n",
        "                                           v_loss=val_loss, t_acc=train_acc, v_acc=val_acc, r=rate))\n",
        "\n",
        "    return history, model_"
      ],
      "metadata": {
        "id": "4KszFUrE-wUN"
      },
      "execution_count": 82,
      "outputs": []
    },
    {
      "cell_type": "code",
      "source": [
        "bce = nn.CrossEntropyLoss(weight=weights.to(device))\n",
        "lr = 3e-4"
      ],
      "metadata": {
        "id": "umwRxP5C-_s5"
      },
      "execution_count": 83,
      "outputs": []
    },
    {
      "cell_type": "code",
      "source": [
        "rubert = rubert.to(device)\n",
        "graphs, trained_model = train_transformer(train_dataloader_ru, valid_dataloader_ru,\n",
        "                                                                rubert, epochs=50,\n",
        "                                                                rate=lr, criterion=bce, freeze=False)"
      ],
      "metadata": {
        "colab": {
          "base_uri": "https://localhost:8080/"
        },
        "id": "kCFvlrrS_md2",
        "outputId": "e41b0cf8-59ea-4934-8f19-26b400b467fc"
      },
      "execution_count": 85,
      "outputs": [
        {
          "output_type": "stream",
          "name": "stderr",
          "text": [
            "epoch:   2%|▏         | 1/50 [00:21<17:50, 21.84s/it]"
          ]
        },
        {
          "output_type": "stream",
          "name": "stdout",
          "text": [
            "\n",
            "Epoch 001 train_loss: 1.0889     val_loss 1.0898 train_acc 0.3376 val_acc 0.3846, learning rate 0.0003\n"
          ]
        },
        {
          "output_type": "stream",
          "name": "stderr",
          "text": [
            "epoch:   4%|▍         | 2/50 [00:42<16:58, 21.21s/it]"
          ]
        },
        {
          "output_type": "stream",
          "name": "stdout",
          "text": [
            "save best model for 1 epoch\n",
            "\n",
            "Epoch 002 train_loss: 1.0856     val_loss 1.0896 train_acc 0.3312 val_acc 0.3846, learning rate 0.0003\n"
          ]
        },
        {
          "output_type": "stream",
          "name": "stderr",
          "text": [
            "epoch:   6%|▌         | 3/50 [01:01<15:57, 20.37s/it]"
          ]
        },
        {
          "output_type": "stream",
          "name": "stdout",
          "text": [
            "\n",
            "Epoch 003 train_loss: 1.0853     val_loss 1.0893 train_acc 0.4006 val_acc 0.3120, learning rate 0.0003\n"
          ]
        },
        {
          "output_type": "stream",
          "name": "stderr",
          "text": [
            "epoch:   8%|▊         | 4/50 [01:21<15:25, 20.11s/it]"
          ]
        },
        {
          "output_type": "stream",
          "name": "stdout",
          "text": [
            "save best model for 3 epoch\n",
            "\n",
            "Epoch 004 train_loss: 1.0850     val_loss 1.0890 train_acc 0.3643 val_acc 0.3932, learning rate 0.0003\n"
          ]
        },
        {
          "output_type": "stream",
          "name": "stderr",
          "text": [
            "epoch:  10%|█         | 5/50 [01:40<14:48, 19.74s/it]"
          ]
        },
        {
          "output_type": "stream",
          "name": "stdout",
          "text": [
            "\n",
            "Epoch 005 train_loss: 1.0337     val_loss 1.1048 train_acc 0.5524 val_acc 0.3761, learning rate 0.0003\n"
          ]
        },
        {
          "output_type": "stream",
          "name": "stderr",
          "text": [
            "epoch:  12%|█▏        | 6/50 [01:59<14:10, 19.32s/it]"
          ]
        },
        {
          "output_type": "stream",
          "name": "stdout",
          "text": [
            "\n",
            "Epoch 006 train_loss: 0.9044     val_loss 1.1224 train_acc 0.6635 val_acc 0.3248, learning rate 0.0003\n"
          ]
        },
        {
          "output_type": "stream",
          "name": "stderr",
          "text": [
            "epoch:  14%|█▍        | 7/50 [02:18<13:45, 19.20s/it]"
          ]
        },
        {
          "output_type": "stream",
          "name": "stdout",
          "text": [
            "\n",
            "Epoch 007 train_loss: 0.7954     val_loss 1.1197 train_acc 0.7949 val_acc 0.3846, learning rate 0.0003\n"
          ]
        },
        {
          "output_type": "stream",
          "name": "stderr",
          "text": [
            "epoch:  16%|█▌        | 8/50 [02:37<13:27, 19.23s/it]"
          ]
        },
        {
          "output_type": "stream",
          "name": "stdout",
          "text": [
            "\n",
            "Epoch 008 train_loss: 0.6875     val_loss 1.1781 train_acc 0.8921 val_acc 0.3803, learning rate 0.0003\n"
          ]
        },
        {
          "output_type": "stream",
          "name": "stderr",
          "text": [
            "epoch:  18%|█▊        | 9/50 [02:55<12:56, 18.94s/it]"
          ]
        },
        {
          "output_type": "stream",
          "name": "stdout",
          "text": [
            "\n",
            "Epoch 009 train_loss: 0.7430     val_loss 1.2146 train_acc 0.6923 val_acc 0.3718, learning rate 0.0003\n"
          ]
        },
        {
          "output_type": "stream",
          "name": "stderr",
          "text": [
            "epoch:  20%|██        | 10/50 [03:18<13:20, 20.00s/it]"
          ]
        },
        {
          "output_type": "stream",
          "name": "stdout",
          "text": [
            "save best model for 9 epoch\n",
            "\n",
            "Epoch 010 train_loss: 0.6921     val_loss 1.1922 train_acc 0.7244 val_acc 0.4017, learning rate 0.0003\n"
          ]
        },
        {
          "output_type": "stream",
          "name": "stderr",
          "text": [
            "epoch:  22%|██▏       | 11/50 [03:37<12:46, 19.67s/it]"
          ]
        },
        {
          "output_type": "stream",
          "name": "stdout",
          "text": [
            "\n",
            "Epoch 011 train_loss: 0.6039     val_loss 1.2368 train_acc 0.8675 val_acc 0.3974, learning rate 0.0003\n"
          ]
        },
        {
          "output_type": "stream",
          "name": "stderr",
          "text": [
            "epoch:  24%|██▍       | 12/50 [03:57<12:38, 19.96s/it]"
          ]
        },
        {
          "output_type": "stream",
          "name": "stdout",
          "text": [
            "save best model for 11 epoch\n",
            "\n",
            "Epoch 012 train_loss: 0.4744     val_loss 1.2338 train_acc 0.9498 val_acc 0.4231, learning rate 0.0003\n"
          ]
        },
        {
          "output_type": "stream",
          "name": "stderr",
          "text": [
            "epoch:  26%|██▌       | 13/50 [04:16<12:05, 19.60s/it]"
          ]
        },
        {
          "output_type": "stream",
          "name": "stdout",
          "text": [
            "\n",
            "Epoch 013 train_loss: 0.4043     val_loss 1.3371 train_acc 0.9712 val_acc 0.4017, learning rate 0.0003\n"
          ]
        },
        {
          "output_type": "stream",
          "name": "stderr",
          "text": [
            "epoch:  28%|██▊       | 14/50 [04:36<11:44, 19.57s/it]"
          ]
        },
        {
          "output_type": "stream",
          "name": "stdout",
          "text": [
            "\n",
            "Epoch 014 train_loss: 0.3620     val_loss 1.3358 train_acc 0.9701 val_acc 0.4060, learning rate 0.0003\n"
          ]
        },
        {
          "output_type": "stream",
          "name": "stderr",
          "text": [
            "epoch:  30%|███       | 15/50 [04:54<11:12, 19.20s/it]"
          ]
        },
        {
          "output_type": "stream",
          "name": "stdout",
          "text": [
            "\n",
            "Epoch 015 train_loss: 0.3294     val_loss 1.4596 train_acc 0.9701 val_acc 0.3761, learning rate 0.0003\n"
          ]
        },
        {
          "output_type": "stream",
          "name": "stderr",
          "text": [
            "epoch:  32%|███▏      | 16/50 [05:13<10:50, 19.14s/it]"
          ]
        },
        {
          "output_type": "stream",
          "name": "stdout",
          "text": [
            "\n",
            "Epoch 016 train_loss: 0.3000     val_loss 1.4028 train_acc 0.9690 val_acc 0.4103, learning rate 0.0003\n"
          ]
        },
        {
          "output_type": "stream",
          "name": "stderr",
          "text": [
            "epoch:  34%|███▍      | 17/50 [05:32<10:26, 19.00s/it]"
          ]
        },
        {
          "output_type": "stream",
          "name": "stdout",
          "text": [
            "\n",
            "Epoch 017 train_loss: 0.2688     val_loss 1.4446 train_acc 0.9776 val_acc 0.4145, learning rate 0.0003\n"
          ]
        },
        {
          "output_type": "stream",
          "name": "stderr",
          "text": [
            "epoch:  36%|███▌      | 18/50 [05:51<10:11, 19.12s/it]"
          ]
        },
        {
          "output_type": "stream",
          "name": "stdout",
          "text": [
            "\n",
            "Epoch 018 train_loss: 0.2638     val_loss 1.5658 train_acc 0.9679 val_acc 0.4017, learning rate 0.0003\n"
          ]
        },
        {
          "output_type": "stream",
          "name": "stderr",
          "text": [
            "epoch:  38%|███▊      | 19/50 [06:09<09:46, 18.92s/it]"
          ]
        },
        {
          "output_type": "stream",
          "name": "stdout",
          "text": [
            "\n",
            "Epoch 019 train_loss: 0.2919     val_loss 1.5671 train_acc 0.9476 val_acc 0.3803, learning rate 0.0003\n"
          ]
        },
        {
          "output_type": "stream",
          "name": "stderr",
          "text": [
            "epoch:  40%|████      | 20/50 [06:29<09:29, 18.99s/it]"
          ]
        },
        {
          "output_type": "stream",
          "name": "stdout",
          "text": [
            "\n",
            "Epoch 020 train_loss: 0.2502     val_loss 1.5894 train_acc 0.9626 val_acc 0.4017, learning rate 0.0003\n"
          ]
        },
        {
          "output_type": "stream",
          "name": "stderr",
          "text": [
            "epoch:  42%|████▏     | 21/50 [06:47<09:09, 18.94s/it]"
          ]
        },
        {
          "output_type": "stream",
          "name": "stdout",
          "text": [
            "\n",
            "Epoch 021 train_loss: 0.2185     val_loss 1.6970 train_acc 0.9733 val_acc 0.3675, learning rate 0.0003\n"
          ]
        },
        {
          "output_type": "stream",
          "name": "stderr",
          "text": [
            "epoch:  44%|████▍     | 22/50 [07:06<08:47, 18.86s/it]"
          ]
        },
        {
          "output_type": "stream",
          "name": "stdout",
          "text": [
            "\n",
            "Epoch 022 train_loss: 0.2053     val_loss 1.7543 train_acc 0.9754 val_acc 0.3632, learning rate 0.0003\n"
          ]
        },
        {
          "output_type": "stream",
          "name": "stderr",
          "text": [
            "epoch:  46%|████▌     | 23/50 [07:26<08:38, 19.22s/it]"
          ]
        },
        {
          "output_type": "stream",
          "name": "stdout",
          "text": [
            "\n",
            "Epoch 023 train_loss: 0.1888     val_loss 1.7194 train_acc 0.9786 val_acc 0.3761, learning rate 0.0003\n"
          ]
        },
        {
          "output_type": "stream",
          "name": "stderr",
          "text": [
            "epoch:  48%|████▊     | 24/50 [07:45<08:13, 18.97s/it]"
          ]
        },
        {
          "output_type": "stream",
          "name": "stdout",
          "text": [
            "\n",
            "Epoch 024 train_loss: 0.2207     val_loss 1.7510 train_acc 0.9583 val_acc 0.3718, learning rate 0.0003\n"
          ]
        },
        {
          "output_type": "stream",
          "name": "stderr",
          "text": [
            "epoch:  50%|█████     | 25/50 [08:04<07:58, 19.14s/it]"
          ]
        },
        {
          "output_type": "stream",
          "name": "stdout",
          "text": [
            "\n",
            "Epoch 025 train_loss: 0.1778     val_loss 1.8140 train_acc 0.9776 val_acc 0.3846, learning rate 5.9999999999999995e-05\n"
          ]
        },
        {
          "output_type": "stream",
          "name": "stderr",
          "text": [
            "epoch:  52%|█████▏    | 26/50 [08:22<07:33, 18.88s/it]"
          ]
        },
        {
          "output_type": "stream",
          "name": "stdout",
          "text": [
            "\n",
            "Epoch 026 train_loss: 0.1568     val_loss 1.8510 train_acc 0.9829 val_acc 0.3547, learning rate 5.9999999999999995e-05\n"
          ]
        },
        {
          "output_type": "stream",
          "name": "stderr",
          "text": [
            "epoch:  54%|█████▍    | 27/50 [08:42<07:17, 19.01s/it]"
          ]
        },
        {
          "output_type": "stream",
          "name": "stdout",
          "text": [
            "\n",
            "Epoch 027 train_loss: 0.1517     val_loss 1.8521 train_acc 0.9840 val_acc 0.3504, learning rate 5.9999999999999995e-05\n"
          ]
        },
        {
          "output_type": "stream",
          "name": "stderr",
          "text": [
            "epoch:  56%|█████▌    | 28/50 [09:00<06:56, 18.94s/it]"
          ]
        },
        {
          "output_type": "stream",
          "name": "stdout",
          "text": [
            "\n",
            "Epoch 028 train_loss: 0.1452     val_loss 1.8802 train_acc 0.9861 val_acc 0.3718, learning rate 5.9999999999999995e-05\n"
          ]
        },
        {
          "output_type": "stream",
          "name": "stderr",
          "text": [
            "epoch:  58%|█████▊    | 29/50 [09:20<06:40, 19.05s/it]"
          ]
        },
        {
          "output_type": "stream",
          "name": "stdout",
          "text": [
            "\n",
            "Epoch 029 train_loss: 0.1445     val_loss 1.8901 train_acc 0.9861 val_acc 0.3718, learning rate 5.9999999999999995e-05\n"
          ]
        },
        {
          "output_type": "stream",
          "name": "stderr",
          "text": [
            "epoch:  60%|██████    | 30/50 [09:38<06:18, 18.93s/it]"
          ]
        },
        {
          "output_type": "stream",
          "name": "stdout",
          "text": [
            "\n",
            "Epoch 030 train_loss: 0.1438     val_loss 1.8932 train_acc 0.9850 val_acc 0.3718, learning rate 5.9999999999999995e-05\n"
          ]
        },
        {
          "output_type": "stream",
          "name": "stderr",
          "text": [
            "epoch:  62%|██████▏   | 31/50 [09:57<05:58, 18.85s/it]"
          ]
        },
        {
          "output_type": "stream",
          "name": "stdout",
          "text": [
            "\n",
            "Epoch 031 train_loss: 0.1377     val_loss 1.8675 train_acc 0.9861 val_acc 0.3547, learning rate 5.9999999999999995e-05\n"
          ]
        },
        {
          "output_type": "stream",
          "name": "stderr",
          "text": [
            "epoch:  64%|██████▍   | 32/50 [10:16<05:40, 18.91s/it]"
          ]
        },
        {
          "output_type": "stream",
          "name": "stdout",
          "text": [
            "\n",
            "Epoch 032 train_loss: 0.1371     val_loss 1.8843 train_acc 0.9872 val_acc 0.3632, learning rate 5.9999999999999995e-05\n"
          ]
        },
        {
          "output_type": "stream",
          "name": "stderr",
          "text": [
            "epoch:  66%|██████▌   | 33/50 [10:34<05:18, 18.72s/it]"
          ]
        },
        {
          "output_type": "stream",
          "name": "stdout",
          "text": [
            "\n",
            "Epoch 033 train_loss: 0.1337     val_loss 1.9019 train_acc 0.9882 val_acc 0.3761, learning rate 5.9999999999999995e-05\n"
          ]
        },
        {
          "output_type": "stream",
          "name": "stderr",
          "text": [
            "epoch:  68%|██████▊   | 34/50 [10:54<05:04, 19.06s/it]"
          ]
        },
        {
          "output_type": "stream",
          "name": "stdout",
          "text": [
            "\n",
            "Epoch 034 train_loss: 0.1355     val_loss 1.8867 train_acc 0.9840 val_acc 0.3590, learning rate 5.9999999999999995e-05\n"
          ]
        },
        {
          "output_type": "stream",
          "name": "stderr",
          "text": [
            "epoch:  70%|███████   | 35/50 [11:13<04:42, 18.84s/it]"
          ]
        },
        {
          "output_type": "stream",
          "name": "stdout",
          "text": [
            "\n",
            "Epoch 035 train_loss: 0.1362     val_loss 1.8948 train_acc 0.9840 val_acc 0.3675, learning rate 5.9999999999999995e-05\n"
          ]
        },
        {
          "output_type": "stream",
          "name": "stderr",
          "text": [
            "epoch:  72%|███████▏  | 36/50 [11:32<04:25, 18.97s/it]"
          ]
        },
        {
          "output_type": "stream",
          "name": "stdout",
          "text": [
            "\n",
            "Epoch 036 train_loss: 0.1316     val_loss 1.8691 train_acc 0.9872 val_acc 0.3632, learning rate 5.9999999999999995e-05\n"
          ]
        },
        {
          "output_type": "stream",
          "name": "stderr",
          "text": [
            "epoch:  74%|███████▍  | 37/50 [11:50<04:05, 18.86s/it]"
          ]
        },
        {
          "output_type": "stream",
          "name": "stdout",
          "text": [
            "\n",
            "Epoch 037 train_loss: 0.1295     val_loss 1.9044 train_acc 0.9872 val_acc 0.3718, learning rate 5.9999999999999995e-05\n"
          ]
        },
        {
          "output_type": "stream",
          "name": "stderr",
          "text": [
            "epoch:  76%|███████▌  | 38/50 [12:10<03:48, 19.05s/it]"
          ]
        },
        {
          "output_type": "stream",
          "name": "stdout",
          "text": [
            "\n",
            "Epoch 038 train_loss: 0.1277     val_loss 1.8972 train_acc 0.9861 val_acc 0.3632, learning rate 5.9999999999999995e-05\n"
          ]
        },
        {
          "output_type": "stream",
          "name": "stderr",
          "text": [
            "epoch:  78%|███████▊  | 39/50 [12:28<03:26, 18.82s/it]"
          ]
        },
        {
          "output_type": "stream",
          "name": "stdout",
          "text": [
            "\n",
            "Epoch 039 train_loss: 0.1250     val_loss 1.9199 train_acc 0.9861 val_acc 0.3675, learning rate 5.9999999999999995e-05\n"
          ]
        },
        {
          "output_type": "stream",
          "name": "stderr",
          "text": [
            "epoch:  80%|████████  | 40/50 [12:47<03:07, 18.75s/it]"
          ]
        },
        {
          "output_type": "stream",
          "name": "stdout",
          "text": [
            "\n",
            "Epoch 040 train_loss: 0.1228     val_loss 1.8953 train_acc 0.9882 val_acc 0.3632, learning rate 5.9999999999999995e-05\n"
          ]
        },
        {
          "output_type": "stream",
          "name": "stderr",
          "text": [
            "epoch:  82%|████████▏ | 41/50 [13:06<02:49, 18.87s/it]"
          ]
        },
        {
          "output_type": "stream",
          "name": "stdout",
          "text": [
            "\n",
            "Epoch 041 train_loss: 0.1207     val_loss 1.9119 train_acc 0.9882 val_acc 0.3675, learning rate 5.9999999999999995e-05\n"
          ]
        },
        {
          "output_type": "stream",
          "name": "stderr",
          "text": [
            "epoch:  84%|████████▍ | 42/50 [13:24<02:30, 18.77s/it]"
          ]
        },
        {
          "output_type": "stream",
          "name": "stdout",
          "text": [
            "\n",
            "Epoch 042 train_loss: 0.1181     val_loss 1.9165 train_acc 0.9872 val_acc 0.3632, learning rate 5.9999999999999995e-05\n"
          ]
        },
        {
          "output_type": "stream",
          "name": "stderr",
          "text": [
            "epoch:  86%|████████▌ | 43/50 [13:44<02:12, 18.92s/it]"
          ]
        },
        {
          "output_type": "stream",
          "name": "stdout",
          "text": [
            "\n",
            "Epoch 043 train_loss: 0.1173     val_loss 1.9237 train_acc 0.9872 val_acc 0.3632, learning rate 5.9999999999999995e-05\n"
          ]
        },
        {
          "output_type": "stream",
          "name": "stderr",
          "text": [
            "epoch:  88%|████████▊ | 44/50 [14:02<01:52, 18.72s/it]"
          ]
        },
        {
          "output_type": "stream",
          "name": "stdout",
          "text": [
            "\n",
            "Epoch 044 train_loss: 0.1158     val_loss 1.9274 train_acc 0.9872 val_acc 0.3632, learning rate 5.9999999999999995e-05\n"
          ]
        },
        {
          "output_type": "stream",
          "name": "stderr",
          "text": [
            "epoch:  90%|█████████ | 45/50 [14:22<01:35, 19.12s/it]"
          ]
        },
        {
          "output_type": "stream",
          "name": "stdout",
          "text": [
            "\n",
            "Epoch 045 train_loss: 0.1157     val_loss 1.9433 train_acc 0.9872 val_acc 0.3718, learning rate 5.9999999999999995e-05\n"
          ]
        },
        {
          "output_type": "stream",
          "name": "stderr",
          "text": [
            "epoch:  92%|█████████▏| 46/50 [14:41<01:16, 19.07s/it]"
          ]
        },
        {
          "output_type": "stream",
          "name": "stdout",
          "text": [
            "\n",
            "Epoch 046 train_loss: 0.1146     val_loss 1.9500 train_acc 0.9872 val_acc 0.3632, learning rate 5.9999999999999995e-05\n"
          ]
        },
        {
          "output_type": "stream",
          "name": "stderr",
          "text": [
            "epoch:  94%|█████████▍| 47/50 [15:00<00:57, 19.13s/it]"
          ]
        },
        {
          "output_type": "stream",
          "name": "stdout",
          "text": [
            "\n",
            "Epoch 047 train_loss: 0.1123     val_loss 1.9699 train_acc 0.9882 val_acc 0.3632, learning rate 5.9999999999999995e-05\n"
          ]
        },
        {
          "output_type": "stream",
          "name": "stderr",
          "text": [
            "epoch:  96%|█████████▌| 48/50 [15:19<00:38, 19.03s/it]"
          ]
        },
        {
          "output_type": "stream",
          "name": "stdout",
          "text": [
            "\n",
            "Epoch 048 train_loss: 0.1126     val_loss 2.0078 train_acc 0.9882 val_acc 0.3675, learning rate 5.9999999999999995e-05\n"
          ]
        },
        {
          "output_type": "stream",
          "name": "stderr",
          "text": [
            "epoch:  98%|█████████▊| 49/50 [15:38<00:18, 18.92s/it]"
          ]
        },
        {
          "output_type": "stream",
          "name": "stdout",
          "text": [
            "\n",
            "Epoch 049 train_loss: 0.1114     val_loss 1.9894 train_acc 0.9872 val_acc 0.3718, learning rate 5.9999999999999995e-05\n"
          ]
        },
        {
          "output_type": "stream",
          "name": "stderr",
          "text": [
            "epoch: 100%|██████████| 50/50 [15:56<00:00, 19.14s/it]"
          ]
        },
        {
          "output_type": "stream",
          "name": "stdout",
          "text": [
            "\n",
            "Epoch 050 train_loss: 0.1101     val_loss 2.0198 train_acc 0.9893 val_acc 0.3504, learning rate 1.2e-05\n"
          ]
        },
        {
          "output_type": "stream",
          "name": "stderr",
          "text": [
            "\n"
          ]
        }
      ]
    },
    {
      "cell_type": "code",
      "source": [
        "vizualize(graphs, 'RuBert')"
      ],
      "metadata": {
        "colab": {
          "base_uri": "https://localhost:8080/",
          "height": 1000
        },
        "id": "d_Cfre6ECLf4",
        "outputId": "bd64bd65-eefa-4c8d-b245-c22217dfc4cf"
      },
      "execution_count": 86,
      "outputs": [
        {
          "output_type": "display_data",
          "data": {
            "text/plain": [
              "<Figure size 1500x900 with 1 Axes>"
            ],
            "image/png": "[encoded data removed]"
          },
          "metadata": {}
        },
        {
          "output_type": "display_data",
          "data": {
            "text/plain": [
              "<Figure size 640x480 with 1 Axes>"
            ],
            "image/png": "[encoded data removed]"
          },
          "metadata": {}
        },
        {
          "output_type": "display_data",
          "data": {
            "text/plain": [
              "<Figure size 640x480 with 1 Axes>"
            ],
            "image/png": "[encoded data removed]"
          },
          "metadata": {}
        }
      ]
    },
    {
      "cell_type": "code",
      "source": [
        "tbert = TransformerRegrModel('rubert', 3)\n",
        "model_path = \"/content/drive/MyDrive/Colab Notebooks/vacancies/tiny.pt\"\n",
        "tbert.load_state_dict(torch.load(model_path, map_location=torch.device(device)))\n",
        "tbert.to(device)\n",
        "tbert.eval()\n",
        "result = predict(tbert, valid_dataloader_ru)"
      ],
      "metadata": {
        "id": "Ao-TXeAj3zQ5"
      },
      "execution_count": 87,
      "outputs": []
    },
    {
      "cell_type": "code",
      "source": [
        "CLASSES = {'low': 0,\n",
        "           'middle': 1,\n",
        "           'high': 2\n",
        "}"
      ],
      "metadata": {
        "id": "V_GHCjUxpbXA"
      },
      "execution_count": 88,
      "outputs": []
    },
    {
      "cell_type": "code",
      "source": [
        "conf_mx = pd.DataFrame(confusion_matrix(result[1], result[0]))\n",
        "\n",
        "fig, ax = plt.subplots(figsize=(10,10))\n",
        "ax = sns.heatmap(conf_mx, annot= True , fmt=\"d\",  cmap='YlGnBu', ax=ax)\n",
        "\n",
        "ax.set_title('Confusion Matrix');\n",
        "ax.set_xlabel('Predicted Values')\n",
        "ax.set_ylabel('Actual Values ');\n",
        "\n",
        "ax.xaxis.set_ticklabels(list(CLASSES.keys()))\n",
        "ax.yaxis.set_ticklabels(list(CLASSES.keys()))\n",
        "plt.show()"
      ],
      "metadata": {
        "colab": {
          "base_uri": "https://localhost:8080/",
          "height": 886
        },
        "id": "mux30Nl4pE3V",
        "outputId": "b05fd957-ad95-4dca-9e7d-66b8489e5879"
      },
      "execution_count": 89,
      "outputs": [
        {
          "output_type": "display_data",
          "data": {
            "text/plain": [
              "<Figure size 1000x1000 with 2 Axes>"
            ],
            "image/png": "[encoded data removed]"
          },
          "metadata": {}
        }
      ]
    },
    {
      "cell_type": "code",
      "source": [
        "fig, ax = plt.subplots(figsize=(10,10))\n",
        "fpr = dict()\n",
        "tpr = dict()\n",
        "roc_auc = dict()\n",
        "classes = list(CLASSES.values())\n",
        "labels = list(CLASSES.keys())\n",
        "label_test = label_binarize(result[0], classes=classes)\n",
        "n_classes = label_test.shape[1]\n",
        "y_score = result[2]\n",
        "\n",
        "for i in range(n_classes):\n",
        "    fpr[i], tpr[i], _ = roc_curve(label_test[:, i], y_score[:, i])\n",
        "    roc_auc[i] = auc(fpr[i], tpr[i])\n",
        "\n",
        "for i in range(n_classes):\n",
        "    plt.plot(fpr[i], tpr[i], lw=2,\n",
        "             label='ROC curve of class {0} (area = {1:0.2f})'\n",
        "             ''.format(labels[i], roc_auc[i]))\n",
        "\n",
        "\n",
        "plt.plot([0, 1], [0, 1], 'k--', lw=2)\n",
        "plt.xlim([-0.05, 1.0])\n",
        "plt.ylim([0.0, 1.05])\n",
        "plt.xlabel('False Positive Rate')\n",
        "plt.ylabel('True Positive Rate')\n",
        "plt.title('Receiver operating characteristic for different classes')\n",
        "plt.legend(loc=\"lower right\")\n",
        "plt.show()"
      ],
      "metadata": {
        "colab": {
          "base_uri": "https://localhost:8080/",
          "height": 886
        },
        "id": "FMTq1GcbpSs3",
        "outputId": "769d807a-8fef-46e7-f4b6-d48432189805"
      },
      "execution_count": 90,
      "outputs": [
        {
          "output_type": "display_data",
          "data": {
            "text/plain": [
              "<Figure size 1000x1000 with 1 Axes>"
            ],
            "image/png": "[encoded data removed]"
          },
          "metadata": {}
        }
      ]
    },
    {
      "cell_type": "markdown",
      "source": [
        "## 🐳 Результаты\n",
        "\n",
        "**Режим обучения**\n",
        "\n",
        "- 45 эпох\n",
        "- начальная скорость 0,0003\n",
        "- шедуллер 0,1 с шагом в 15 эпох\n",
        "- пороги: 0,22-0,66\n",
        "\n",
        "|Модель|Используемые признаки|Количество слоев классификатора|Дропаут|Заморозка|Accuracy|ROC-AUC по классам|\n",
        "|-|-|-|-|-|-|-|\n",
        "|tiny-bert|текстовые описания|1|нет|нет|0,63|0,59/0,56/0,61|\n",
        "|tiny-bert|текстовые описания|2|нет|нет|0,60|0,54/0,50/0,58|\n",
        "|tiny-bert|текстовые описания|2|0,1|нет|0,65|0,55/0,59/0,44|\n",
        "|tiny-bert|текстовые описания|1|0,1|нет|0,63|0,58/0,56/0,53|\n",
        "|tiny-bert|текстовые описания|1|нет|да|--|обучения не происходит|\n",
        "|tiny-bert|текстовые описания + названия|1|нет|нет|0,63|0,58/0,51/0,66|\n",
        "|ru-bert-base|текстовые описания + названия|1|нет|нет|обучения не происходит|--|\n",
        "\n",
        "- 75 эпох\n",
        "- начальная скорость 0,0003\n",
        "- шедуллер 0,2 с шагом в 25 эпох\n",
        "- пороги 0,22-0,44\n",
        "\n",
        "\n",
        "|Модель|Используемые признаки|Количество слоев классификатора|Дропаут|Заморозка|Accuracy|ROC-AUC по классам|\n",
        "|-|-|-|-|-|-|-|\n",
        "|tiny-bert|текстовые описания + названия|2|0,2|нет|0,41|0,55/0,53/0,59|\n",
        "|**tiny-bert**|**текстовые описания + названия**|**1**|**нет**|**нет**|**0,42**|**0,57/0,47/0,69**|\n",
        "\n"
      ],
      "metadata": {
        "id": "Mq-MnXJMLIpj"
      }
    },
    {
      "cell_type": "markdown",
      "source": [
        "## 🐋 CatBoost"
      ],
      "metadata": {
        "id": "PZFbDdriZT-3"
      }
    },
    {
      "cell_type": "code",
      "source": [
        "def baseline(data: pd.DataFrame, columns: list, cat_features: list, target: list, save=False):\n",
        "    x_train, x_val, y_train, y_val = train_test_split(data[columns], data[target], random_state=RANDOM_STATE)\n",
        "    pool_train = Pool(x_train, y_train, cat_features=cat_features)\n",
        "    pool_val = Pool(x_val, y_val, cat_features=cat_features)\n",
        "    model = CatBoostRegressor(loss_function='RMSE')\n",
        "    model.fit(pool_train, eval_set=pool_val, verbose=False, early_stopping_rounds=20)\n",
        "    res = model.predict(pool_val)\n",
        "    y_val[\"pr\"] = res\n",
        "    y_val[\"diff\"] = - y_val[\"pr\"] + y_val[\"target\"]\n",
        "    r2 = r2_score(y_val[\"target\"], y_val[\"pr\"])\n",
        "    rmse_score = np.sqrt(mean_squared_error(y_val[\"target\"], y_val[\"pr\"]))\n",
        "    mape_score = 100*mean_absolute_percentage_error(y_val[\"target\"], y_val[\"pr\"])\n",
        "    plt.plot(y_val[\"target\"], y_val[\"diff\"], \"x\")\n",
        "    plt.title(f'Residuals\\nR2 score: {r2:.3f}\\n'\n",
        "              f'RMSE score: {rmse_score:.2f}\\n'\n",
        "              f'RMSE to target median ratio: {rmse_score / y_val[\"target\"].median():.2f}\\n'\n",
        "              f'MAPE score: {mape_score:.2f} %')\n",
        "    plt.show()\n",
        "    importances = model.feature_importances_\n",
        "    importances = pd.Series(importances, index=columns).sort_values(ascending=False)\n",
        "    importances.plot.bar()\n",
        "    plt.title(\"Feature importances\")\n",
        "    plt.ylabel(\"Mean decrease in impurity\")\n",
        "    plt.show()\n",
        "    if save:\n",
        "        name = f'/content/{str(data.shape[0] * data.shape[1])}_cat.joblib'\n",
        "        joblib.dump(model, name)"
      ],
      "metadata": {
        "id": "lppUz4sA4Z3T"
      },
      "execution_count": 92,
      "outputs": []
    },
    {
      "cell_type": "code",
      "source": [
        "columns = df.columns.drop(['target', 'description', 'classes', 'description_1', 'emp_brand', 'salary_min', 'salary_max'])\n",
        "target = ['target']\n",
        "cat_features = ['grade', 'profession', 'location']\n",
        "text = ['description', 'clean_description']"
      ],
      "metadata": {
        "id": "DrYYEIvu1YnF"
      },
      "execution_count": 93,
      "outputs": []
    },
    {
      "cell_type": "code",
      "source": [
        "baseline(df, columns, cat_features, target, save=True)"
      ],
      "metadata": {
        "colab": {
          "base_uri": "https://localhost:8080/",
          "height": 1000
        },
        "id": "XztNqRDf2LAg",
        "outputId": "5659dfe4-8891-46bc-adca-9ece77b18344"
      },
      "execution_count": 94,
      "outputs": [
        {
          "output_type": "display_data",
          "data": {
            "text/plain": [
              "<Figure size 640x480 with 1 Axes>"
            ],
            "image/png": "[encoded data removed]"
          },
          "metadata": {}
        },
        {
          "output_type": "display_data",
          "data": {
            "text/plain": [
              "<Figure size 640x480 with 1 Axes>"
            ],
            "image/png": "[encoded data removed]"
          },
          "metadata": {}
        }
      ]
    },
    {
      "cell_type": "code",
      "source": [
        "# df2 = pd.concat([df.reset_index(drop=True), dfe], axis=1)\n",
        "# columns = df2.columns.drop(['target', 'description'])\n",
        "# target = ['target']\n",
        "# cat_features = ['grade', 'profession', 'location']\n",
        "# text = ['description']\n",
        "\n",
        "# baseline(df2, columns, cat_features, target)"
      ],
      "metadata": {
        "id": "_7WqXW1C34wo"
      },
      "execution_count": null,
      "outputs": []
    },
    {
      "cell_type": "code",
      "source": [
        "df2 = df.loc[df['location'] == 'MOW']\n",
        "columns = df2.columns.drop(['target', 'description', 'location'])\n",
        "target = ['target']\n",
        "cat_features = ['grade', 'profession', 'emp_brand']\n",
        "\n",
        "baseline(df2, columns, cat_features, target)"
      ],
      "metadata": {
        "colab": {
          "base_uri": "https://localhost:8080/",
          "height": 1000
        },
        "id": "MZb6flye5S6L",
        "outputId": "d884cc32-24f2-4130-b040-50a514f4c8c4"
      },
      "execution_count": null,
      "outputs": [
        {
          "output_type": "display_data",
          "data": {
            "text/plain": [
              "<Figure size 640x480 with 1 Axes>"
            ],
            "image/png": "[encoded data removed]"
          },
          "metadata": {}
        },
        {
          "output_type": "display_data",
          "data": {
            "text/plain": [
              "<Figure size 640x480 with 1 Axes>"
            ],
            "image/png": "[encoded data removed]"
          },
          "metadata": {}
        }
      ]
    },
    {
      "cell_type": "code",
      "source": [
        "# for p in df['profession'].unique():\n",
        "#    df1 = df.loc[df['profession'] == p]\n",
        "#    columns = df1.columns.drop(['target', 'description', 'salary_min', 'salary_max', 'profession', 'location', 'grade'])\n",
        "#    target = ['target']\n",
        "#    cat_features = ['emp_brand']\n",
        "#    print(p.upper(), '\\n')\n",
        "#    baseline(df1, columns, cat_features, target)"
      ],
      "metadata": {
        "id": "W1cokGuxGomg"
      },
      "execution_count": null,
      "outputs": []
    },
    {
      "cell_type": "code",
      "source": [
        "df.info()"
      ],
      "metadata": {
        "colab": {
          "base_uri": "https://localhost:8080/"
        },
        "id": "3ferBbXxMnoH",
        "outputId": "637beebb-607f-4a10-a168-0905fba05290"
      },
      "execution_count": null,
      "outputs": [
        {
          "output_type": "stream",
          "name": "stdout",
          "text": [
            "<class 'pandas.core.frame.DataFrame'>\n",
            "Index: 1170 entries, 0 to 1301\n",
            "Data columns (total 28 columns):\n",
            " #   Column        Non-Null Count  Dtype  \n",
            "---  ------        --------------  -----  \n",
            " 0   emp_brand     1170 non-null   object \n",
            " 1   salary_min    425 non-null    float64\n",
            " 2   salary_max    1170 non-null   float64\n",
            " 3   test_task     1170 non-null   int64  \n",
            " 4   target        1170 non-null   float64\n",
            " 5   grade         1170 non-null   object \n",
            " 6   profession    1170 non-null   object \n",
            " 7   location      1170 non-null   object \n",
            " 8   near_exp      1170 non-null   int64  \n",
            " 9   student_exp   1170 non-null   int64  \n",
            " 10  relevant_exp  1170 non-null   int64  \n",
            " 11  other_edu     1170 non-null   int64  \n",
            " 12  near_edu      1170 non-null   int64  \n",
            " 13  relevant_edu  1170 non-null   int64  \n",
            " 14  office        1170 non-null   int64  \n",
            " 15  remote        1170 non-null   int64  \n",
            " 16  hybrid        1170 non-null   int64  \n",
            " 17  permanent     1170 non-null   int64  \n",
            " 18  self_empl     1170 non-null   int64  \n",
            " 19  gph           1170 non-null   int64  \n",
            " 20  temporary     1170 non-null   int64  \n",
            " 21  ind_enterp    1170 non-null   int64  \n",
            " 22  part_time     1170 non-null   int64  \n",
            " 23  internship    1170 non-null   int64  \n",
            " 24  volunteering  1170 non-null   int64  \n",
            " 25  project       1170 non-null   int64  \n",
            " 26  full_time     1170 non-null   int64  \n",
            " 27  description   1170 non-null   object \n",
            "dtypes: float64(3), int64(20), object(5)\n",
            "memory usage: 265.1+ KB\n"
          ]
        }
      ]
    },
    {
      "cell_type": "code",
      "source": [
        "df['edu_opt'] = df['other_edu'] + df['near_edu'] + df['relevant_edu']\n",
        "df['exp_opt'] = df['student_exp'] + df['near_exp'] + df['relevant_exp']\n",
        "df['format_opt'] = df['office'] + df['remote'] + df['hybrid']\n",
        "df['contract_opt'] = df['permanent'] + df['gph'] + df['self_empl'] + df['temporary'] + df['ind_enterp']\n",
        "df['time_opt'] = df['part_time'] + df['full_time'] +df['internship'] + df['volunteering'] + df['project']"
      ],
      "metadata": {
        "id": "7Wnj5_2UMiMO"
      },
      "execution_count": null,
      "outputs": []
    },
    {
      "cell_type": "code",
      "source": [
        "columns = ['emp_brand', 'test_task',\n",
        "       'profession', 'location', 'edu_opt', 'exp_opt', 'format_opt', 'contract_opt', 'time_opt']\n",
        "target = ['target']\n",
        "cat_features = ['profession', 'emp_brand', 'location']\n",
        "\n",
        "baseline(df, columns, cat_features, target)"
      ],
      "metadata": {
        "colab": {
          "base_uri": "https://localhost:8080/",
          "height": 1000
        },
        "id": "mXFCBUohM2oi",
        "outputId": "c9de290f-6bb0-4a03-d28b-1bf6bdf9ef1f"
      },
      "execution_count": null,
      "outputs": [
        {
          "output_type": "display_data",
          "data": {
            "text/plain": [
              "<Figure size 640x480 with 1 Axes>"
            ],
            "image/png": "[encoded data removed]"
          },
          "metadata": {}
        },
        {
          "output_type": "display_data",
          "data": {
            "text/plain": [
              "<Figure size 640x480 with 1 Axes>"
            ],
            "image/png": "[encoded data removed]"
          },
          "metadata": {}
        }
      ]
    },
    {
      "cell_type": "markdown",
      "source": [
        "## 🐠 Выводы\n",
        "\n",
        "\n",
        "- R2-score низкий\n",
        "- график остатков неприятный\n",
        "- добавление эмбеддингов в катбуст картину не улучшает\n",
        "- рассмотрение только москвы тоже принципиально лучше не делает\n",
        "- предсказания bert-ом прироста в метрике не дают\n",
        "- кластеризация по профессиям - тоже"
      ],
      "metadata": {
        "id": "0YnRMtyNw3et"
      }
    },
    {
      "cell_type": "code",
      "source": [],
      "metadata": {
        "id": "-Vm8k-ZSKySz"
      },
      "execution_count": null,
      "outputs": []
    }
  ]
}