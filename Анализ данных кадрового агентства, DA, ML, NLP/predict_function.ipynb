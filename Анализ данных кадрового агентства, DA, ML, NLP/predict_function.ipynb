{
  "nbformat": 4,
  "nbformat_minor": 0,
  "metadata": {
    "colab": {
      "provenance": []
    },
    "kernelspec": {
      "name": "python3",
      "display_name": "Python 3"
    },
    "language_info": {
      "name": "python"
    }
  },
  "cells": [
    {
      "cell_type": "code",
      "execution_count": null,
      "metadata": {
        "colab": {
          "base_uri": "https://localhost:8080/"
        },
        "outputId": "9043ba24-256e-4bc3-f611-f139b2e3c0f6",
        "id": "vSdVGi7-zdMY"
      },
      "outputs": [
        {
          "output_type": "stream",
          "name": "stdout",
          "text": [
            "CPU times: user 148 µs, sys: 21 µs, total: 169 µs\n",
            "Wall time: 175 µs\n"
          ]
        }
      ],
      "source": [
        "%%time\n",
        "\n",
        "CAT_COLS = ['format', 'city', 'contract','experience','education','employment', 'emp_brand','courses', 'test_task'] #,'test_task'\n",
        "model = CatBoostRegressor(iterations=3000,\n",
        "                          early_stopping_rounds=100,\n",
        "                          grow_policy = 'Depthwise',\n",
        "                          depth=8,\n",
        "                          loss_function=\"MAE\",\n",
        "                          cat_features= CAT_COLS,\n",
        "                          random_state=12345,\n",
        "                          l2_leaf_reg = 1,\n",
        "                          learning_rate=0.03,\n",
        "                          verbose=10)\n",
        "\n",
        "# model = CatBoostRegressor(loss_function=\"RMSE\", iterations=150)\n",
        "\n",
        "# model.fit(features_train_cat, target_train_cat, cat_features=cat_features)\n",
        "\n",
        "#print('время обучения модели')"
      ]
    },
    {
      "cell_type": "code",
      "execution_count": null,
      "metadata": {
        "id": "tJzXQmbyHwvI",
        "colab": {
          "base_uri": "https://localhost:8080/"
        },
        "outputId": "7189771e-345d-4e8c-9e5b-dcfc3c9cebb5"
      },
      "outputs": [
        {
          "output_type": "stream",
          "name": "stdout",
          "text": [
            "время предсказания\n",
            "MAE cat на валидационной выборке: 0.14119206507333884\n",
            "CPU times: user 101 ms, sys: 898 µs, total: 102 ms\n",
            "Wall time: 98.1 ms\n"
          ]
        }
      ],
      "source": [
        "%%time\n",
        "pred_valid = model.predict(features_valid_cat)\n",
        "print('время предсказания')\n",
        "result_cat2 = mean_absolute_error(target_valid_cat, pred_valid)\n",
        "print(\"MAE cat на валидационной выборке:\", result_cat2)"
      ]
    }
  ]
}