{
  "nbformat": 4,
  "nbformat_minor": 0,
  "metadata": {
    "colab": {
      "provenance": []
    },
    "kernelspec": {
      "name": "python3",
      "display_name": "Python 3"
    },
    "language_info": {
      "name": "python"
    }
  },
  "cells": [
    {
      "cell_type": "markdown",
      "source": [
        "Cписок признаков на входе в датасет\n",
        "\n",
        "*   emp_brand\n",
        "*   courses\n",
        "*   city\n",
        "*   contract\n",
        "*   format\n",
        "*   experience\n",
        "*   education\n",
        "*   test task\n",
        "*   employment\n",
        "\n",
        "\n",
        "*   +1024 embedding from BERT\n",
        "\n",
        "\n",
        "\n",
        "\n",
        "\n",
        "\n",
        "\n"
      ],
      "metadata": {
        "id": "Pro_1CBdN2yt"
      }
    },
    {
      "cell_type": "code",
      "source": [
        "def tags_clean(x, nan_value= None):\n",
        "    for column in x:\n",
        "        txt = re.sub(r'(https?://[\\S]+)', 'есть', x) # html tags change to spaces\n",
        "        #txt = re.sub(COMMENTS, ' ', txt) # comments in parentheses change to spaces\n",
        "        # txt = ' '.join(txt.split())\n",
        "    return txt"
      ],
      "metadata": {
        "id": "nd7dUNue3yHw"
      },
      "execution_count": null,
      "outputs": []
    },
    {
      "cell_type": "code",
      "source": [
        "data_good_cat['test_task']= data_good_cat['test_task'].fillna('нет')\n",
        "#датасет и так невелик, поэтому нашла выход чем нейтральным заполнить пропуски"
      ],
      "metadata": {
        "id": "lMNfYOB6vQ7P"
      },
      "execution_count": null,
      "outputs": []
    },
    {
      "cell_type": "code",
      "source": [
        "data_good_cat['test_task'] = data_good_cat['test_task'].apply(tags_clean)"
      ],
      "metadata": {
        "id": "FOk4qwaO4bho"
      },
      "execution_count": null,
      "outputs": []
    },
    {
      "cell_type": "code",
      "source": [
        "data_cat = pd.concat([data_good_cat, df_features], axis=1)\n",
        "#добавление эмбеддингов\n"
      ],
      "metadata": {
        "id": "1ExO16UE6iiU"
      },
      "execution_count": null,
      "outputs": []
    },
    {
      "cell_type": "code",
      "execution_count": null,
      "metadata": {
        "id": "Cwx17Y_pN1bH"
      },
      "outputs": [],
      "source": []
    },
    {
      "cell_type": "code",
      "source": [],
      "metadata": {
        "id": "Mda37_NBN3LS"
      },
      "execution_count": null,
      "outputs": []
    },
    {
      "cell_type": "markdown",
      "source": [],
      "metadata": {
        "id": "a74TkkzUN3nT"
      }
    },
    {
      "cell_type": "markdown",
      "source": [],
      "metadata": {
        "id": "YdtxRZajN4c_"
      }
    },
    {
      "cell_type": "code",
      "source": [],
      "metadata": {
        "id": "Q9j5RYIkN4Fx"
      },
      "execution_count": null,
      "outputs": []
    }
  ]
}